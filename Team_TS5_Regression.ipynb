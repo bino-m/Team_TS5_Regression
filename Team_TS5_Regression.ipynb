{
 "cells": [
  {
   "cell_type": "markdown",
   "metadata": {},
   "source": [
    "# EDSA Apple Price Challenge\n",
    "#### Team TS5 Regression"
   ]
  },
  {
   "cell_type": "markdown",
   "metadata": {},
   "source": [
    "## Challenge description\n",
    "\n",
    "Imagine you are in the Fresh Produce Industry. How much stock do you have on hand? Not too little that you run out of stock when customers want to buy more. And not too much that food waste occurs. How do you set your prices? Yields from farms fluctuate by season. Should your prices then also fluctuate by season?\n",
    "\n",
    "  Providing an accurate and robust solution to this challenge has immense economic potential, with users of the system being able to accurately determine how much stock to have on hand and what price to set the Golden Delicious Apples to.\n",
    "  \n",
    "  With this context, we are challenged to construct a regression algorithm, by EDSA, capable of accurately predicting how much a kilogram of Golden Delicious Apples will cost, given certain parameters.\n"
   ]
  },
  {
   "cell_type": "markdown",
   "metadata": {},
   "source": [
    "## Outline"
   ]
  },
  {
   "cell_type": "markdown",
   "metadata": {},
   "source": [
    "## Introduction"
   ]
  },
  {
   "cell_type": "markdown",
   "metadata": {},
   "source": [
    "In this report, the aim is to construct a regression algorithm, capable of accurately predicting how much a kilogram of Golden Delicious Apples will cost, given certain parameters. \n",
    "\n",
    "  To achieve this, we will Goal perform a pre-modeling/modeling of work, exploratory data, and investigate the importance of data preprocessing, feature exploration, and feature engineering on model performace.\n",
    "  \n",
    "  Python libraries used:\n",
    "* Numpy\n",
    "* Pandas\n",
    "* Sci-kit learn\n",
    "* Matplotlib\n",
    "* Almost entire workflow is covered by these four libraries"
   ]
  },
  {
   "cell_type": "markdown",
   "metadata": {},
   "source": [
    "# Importing Libraries\n",
    "\n",
    "We will be importing a few python libraries."
   ]
  },
  {
   "cell_type": "code",
   "execution_count": 75,
   "metadata": {},
   "outputs": [
    {
     "ename": "ModuleNotFoundError",
     "evalue": "No module named 'plotly'",
     "output_type": "error",
     "traceback": [
      "\u001b[1;31m---------------------------------------------------------------------------\u001b[0m",
      "\u001b[1;31mModuleNotFoundError\u001b[0m                       Traceback (most recent call last)",
      "\u001b[1;32m<ipython-input-75-4fbddb6fb6ed>\u001b[0m in \u001b[0;36m<module>\u001b[1;34m\u001b[0m\n\u001b[0;32m      1\u001b[0m \u001b[1;31m# Visualisations  ''''''''''''''''testing testing!!!!!!!!!!!!!!!!!!!!!!ppppdddd\u001b[0m\u001b[1;33m\u001b[0m\u001b[1;33m\u001b[0m\u001b[1;33m\u001b[0m\u001b[0m\n\u001b[0;32m      2\u001b[0m \u001b[1;31m#import missingno\u001b[0m\u001b[1;33m\u001b[0m\u001b[1;33m\u001b[0m\u001b[1;33m\u001b[0m\u001b[0m\n\u001b[1;32m----> 3\u001b[1;33m \u001b[1;32mimport\u001b[0m \u001b[0mplotly\u001b[0m\u001b[1;33m.\u001b[0m\u001b[0mgraph_objects\u001b[0m \u001b[1;32mas\u001b[0m \u001b[0mgo\u001b[0m\u001b[1;33m\u001b[0m\u001b[1;33m\u001b[0m\u001b[0m\n\u001b[0m\u001b[0;32m      4\u001b[0m \u001b[1;32mimport\u001b[0m \u001b[0mplotly\u001b[0m\u001b[1;33m.\u001b[0m\u001b[0mexpress\u001b[0m \u001b[1;32mas\u001b[0m \u001b[0mpx\u001b[0m\u001b[1;33m\u001b[0m\u001b[1;33m\u001b[0m\u001b[0m\n\u001b[0;32m      5\u001b[0m \u001b[1;32mimport\u001b[0m \u001b[0mseaborn\u001b[0m \u001b[1;32mas\u001b[0m \u001b[0msns\u001b[0m\u001b[1;33m\u001b[0m\u001b[1;33m\u001b[0m\u001b[0m\n",
      "\u001b[1;31mModuleNotFoundError\u001b[0m: No module named 'plotly'"
     ]
    }
   ],
   "source": [
    "\n",
    "\n",
    "\n",
    "\n",
    "\n",
    "# Visualisations  ''''''''''''''''testing testing!!!!!!!!!!!!!!!!!!!!!!ppppdddd\n",
    "#import missingno\n",
    "\n",
    "import seaborn as sns\n",
    "import matplotlib.pyplot as plt\n",
    "#%matplotlib inline\n",
    "\n",
    "# Other\n",
    "from scipy import stats\n",
    "import math\n",
    "import pickle\n",
    "import pandas as pd\n",
    "import numpy as np"
   ]
  },
  {
   "cell_type": "markdown",
   "metadata": {},
   "source": [
    "We will be loading our data as a Pandas Dataframe. For this challenge we will be using `EDSA Apple Price Challenge` dataset."
   ]
  },
  {
   "cell_type": "code",
   "execution_count": 54,
   "metadata": {},
   "outputs": [],
   "source": [
    "train = pd.read_csv(r'https://raw.githubusercontent.com/CPNMorgan/sharing-github/main/df-train_set.csv')"
   ]
  },
  {
   "cell_type": "code",
   "execution_count": 15,
   "metadata": {},
   "outputs": [
    {
     "data": {
      "text/html": [
       "<div>\n",
       "<style scoped>\n",
       "    .dataframe tbody tr th:only-of-type {\n",
       "        vertical-align: middle;\n",
       "    }\n",
       "\n",
       "    .dataframe tbody tr th {\n",
       "        vertical-align: top;\n",
       "    }\n",
       "\n",
       "    .dataframe thead th {\n",
       "        text-align: right;\n",
       "    }\n",
       "</style>\n",
       "<table border=\"1\" class=\"dataframe\">\n",
       "  <thead>\n",
       "    <tr style=\"text-align: right;\">\n",
       "      <th></th>\n",
       "      <th>Province</th>\n",
       "      <th>Container</th>\n",
       "      <th>Size_Grade</th>\n",
       "      <th>Weight_Kg</th>\n",
       "      <th>Commodities</th>\n",
       "      <th>Date</th>\n",
       "      <th>Low_Price</th>\n",
       "      <th>High_Price</th>\n",
       "      <th>Sales_Total</th>\n",
       "      <th>Total_Qty_Sold</th>\n",
       "      <th>Total_Kg_Sold</th>\n",
       "      <th>Stock_On_Hand</th>\n",
       "      <th>avg_price_per_kg</th>\n",
       "    </tr>\n",
       "  </thead>\n",
       "  <tbody>\n",
       "    <tr>\n",
       "      <th>0</th>\n",
       "      <td>CAPE</td>\n",
       "      <td>EC120</td>\n",
       "      <td>1L</td>\n",
       "      <td>12.0</td>\n",
       "      <td>APPLE GRANNY SMITH</td>\n",
       "      <td>2020-03-10</td>\n",
       "      <td>108.0</td>\n",
       "      <td>112.0</td>\n",
       "      <td>3236.0</td>\n",
       "      <td>29</td>\n",
       "      <td>348.0</td>\n",
       "      <td>0</td>\n",
       "      <td>9.30</td>\n",
       "    </tr>\n",
       "    <tr>\n",
       "      <th>1</th>\n",
       "      <td>CAPE</td>\n",
       "      <td>M4183</td>\n",
       "      <td>1L</td>\n",
       "      <td>18.3</td>\n",
       "      <td>APPLE GOLDEN DELICIOUS</td>\n",
       "      <td>2020-09-09</td>\n",
       "      <td>150.0</td>\n",
       "      <td>170.0</td>\n",
       "      <td>51710.0</td>\n",
       "      <td>332</td>\n",
       "      <td>6075.6</td>\n",
       "      <td>822</td>\n",
       "      <td>8.51</td>\n",
       "    </tr>\n",
       "    <tr>\n",
       "      <th>2</th>\n",
       "      <td>GAUTENG</td>\n",
       "      <td>AT200</td>\n",
       "      <td>1L</td>\n",
       "      <td>20.0</td>\n",
       "      <td>AVOCADO PINKERTON</td>\n",
       "      <td>2020-05-05</td>\n",
       "      <td>70.0</td>\n",
       "      <td>80.0</td>\n",
       "      <td>4860.0</td>\n",
       "      <td>66</td>\n",
       "      <td>1320.0</td>\n",
       "      <td>50</td>\n",
       "      <td>3.68</td>\n",
       "    </tr>\n",
       "    <tr>\n",
       "      <th>3</th>\n",
       "      <td>TRANSVAAL</td>\n",
       "      <td>BJ090</td>\n",
       "      <td>1L</td>\n",
       "      <td>9.0</td>\n",
       "      <td>TOMATOES-LONG LIFE</td>\n",
       "      <td>2020-01-20</td>\n",
       "      <td>60.0</td>\n",
       "      <td>60.0</td>\n",
       "      <td>600.0</td>\n",
       "      <td>10</td>\n",
       "      <td>90.0</td>\n",
       "      <td>0</td>\n",
       "      <td>6.67</td>\n",
       "    </tr>\n",
       "    <tr>\n",
       "      <th>4</th>\n",
       "      <td>WESTERN FREESTATE</td>\n",
       "      <td>PP100</td>\n",
       "      <td>1R</td>\n",
       "      <td>10.0</td>\n",
       "      <td>POTATO SIFRA (WASHED)</td>\n",
       "      <td>2020-07-14</td>\n",
       "      <td>40.0</td>\n",
       "      <td>45.0</td>\n",
       "      <td>41530.0</td>\n",
       "      <td>927</td>\n",
       "      <td>9270.0</td>\n",
       "      <td>393</td>\n",
       "      <td>4.48</td>\n",
       "    </tr>\n",
       "  </tbody>\n",
       "</table>\n",
       "</div>"
      ],
      "text/plain": [
       "            Province Container Size_Grade  Weight_Kg             Commodities  \\\n",
       "0               CAPE     EC120         1L       12.0      APPLE GRANNY SMITH   \n",
       "1               CAPE     M4183         1L       18.3  APPLE GOLDEN DELICIOUS   \n",
       "2            GAUTENG     AT200         1L       20.0       AVOCADO PINKERTON   \n",
       "3          TRANSVAAL     BJ090         1L        9.0      TOMATOES-LONG LIFE   \n",
       "4  WESTERN FREESTATE     PP100         1R       10.0   POTATO SIFRA (WASHED)   \n",
       "\n",
       "         Date  Low_Price  High_Price  Sales_Total  Total_Qty_Sold  \\\n",
       "0  2020-03-10      108.0       112.0       3236.0              29   \n",
       "1  2020-09-09      150.0       170.0      51710.0             332   \n",
       "2  2020-05-05       70.0        80.0       4860.0              66   \n",
       "3  2020-01-20       60.0        60.0        600.0              10   \n",
       "4  2020-07-14       40.0        45.0      41530.0             927   \n",
       "\n",
       "   Total_Kg_Sold  Stock_On_Hand  avg_price_per_kg  \n",
       "0          348.0              0              9.30  \n",
       "1         6075.6            822              8.51  \n",
       "2         1320.0             50              3.68  \n",
       "3           90.0              0              6.67  \n",
       "4         9270.0            393              4.48  "
      ]
     },
     "execution_count": 15,
     "metadata": {},
     "output_type": "execute_result"
    }
   ],
   "source": [
    "train.head()"
   ]
  },
  {
   "cell_type": "markdown",
   "metadata": {},
   "source": [
    "We look at the top rows of our data in order to see the features as well as the types of data we are working with.\n",
    "\n"
   ]
  },
  {
   "cell_type": "markdown",
   "metadata": {},
   "source": [
    "# Data Cleaning\n",
    "\n",
    "If we want to build some relationship between variables that are likely to indicate the average price per kg of Golden Delicious Apples, we really only want to consider the sales which involved Golden Delicious Apples to build this relationship:"
   ]
  },
  {
   "cell_type": "code",
   "execution_count": 55,
   "metadata": {},
   "outputs": [
    {
     "data": {
      "text/html": [
       "<div>\n",
       "<style scoped>\n",
       "    .dataframe tbody tr th:only-of-type {\n",
       "        vertical-align: middle;\n",
       "    }\n",
       "\n",
       "    .dataframe tbody tr th {\n",
       "        vertical-align: top;\n",
       "    }\n",
       "\n",
       "    .dataframe thead th {\n",
       "        text-align: right;\n",
       "    }\n",
       "</style>\n",
       "<table border=\"1\" class=\"dataframe\">\n",
       "  <thead>\n",
       "    <tr style=\"text-align: right;\">\n",
       "      <th></th>\n",
       "      <th>Province</th>\n",
       "      <th>Container</th>\n",
       "      <th>Size_Grade</th>\n",
       "      <th>Weight_Kg</th>\n",
       "      <th>Commodities</th>\n",
       "      <th>Date</th>\n",
       "      <th>Low_Price</th>\n",
       "      <th>High_Price</th>\n",
       "      <th>Sales_Total</th>\n",
       "      <th>Total_Qty_Sold</th>\n",
       "      <th>Total_Kg_Sold</th>\n",
       "      <th>Stock_On_Hand</th>\n",
       "      <th>avg_price_per_kg</th>\n",
       "    </tr>\n",
       "  </thead>\n",
       "  <tbody>\n",
       "    <tr>\n",
       "      <th>1</th>\n",
       "      <td>CAPE</td>\n",
       "      <td>M4183</td>\n",
       "      <td>1L</td>\n",
       "      <td>18.3</td>\n",
       "      <td>APPLE GOLDEN DELICIOUS</td>\n",
       "      <td>2020-09-09</td>\n",
       "      <td>150.0</td>\n",
       "      <td>170.0</td>\n",
       "      <td>51710.0</td>\n",
       "      <td>332</td>\n",
       "      <td>6075.6</td>\n",
       "      <td>822</td>\n",
       "      <td>8.51</td>\n",
       "    </tr>\n",
       "    <tr>\n",
       "      <th>7</th>\n",
       "      <td>CAPE</td>\n",
       "      <td>JG110</td>\n",
       "      <td>2M</td>\n",
       "      <td>11.0</td>\n",
       "      <td>APPLE GOLDEN DELICIOUS</td>\n",
       "      <td>2020-04-14</td>\n",
       "      <td>50.0</td>\n",
       "      <td>50.0</td>\n",
       "      <td>16000.0</td>\n",
       "      <td>320</td>\n",
       "      <td>3520.0</td>\n",
       "      <td>0</td>\n",
       "      <td>4.55</td>\n",
       "    </tr>\n",
       "    <tr>\n",
       "      <th>24</th>\n",
       "      <td>W.CAPE-BERGRIVER ETC</td>\n",
       "      <td>JE090</td>\n",
       "      <td>2S</td>\n",
       "      <td>9.0</td>\n",
       "      <td>APPLE GOLDEN DELICIOUS</td>\n",
       "      <td>2020-04-16</td>\n",
       "      <td>55.0</td>\n",
       "      <td>55.0</td>\n",
       "      <td>990.0</td>\n",
       "      <td>18</td>\n",
       "      <td>162.0</td>\n",
       "      <td>1506</td>\n",
       "      <td>6.11</td>\n",
       "    </tr>\n",
       "    <tr>\n",
       "      <th>40</th>\n",
       "      <td>CAPE</td>\n",
       "      <td>M4183</td>\n",
       "      <td>1S</td>\n",
       "      <td>18.3</td>\n",
       "      <td>APPLE GOLDEN DELICIOUS</td>\n",
       "      <td>2020-05-04</td>\n",
       "      <td>80.0</td>\n",
       "      <td>120.0</td>\n",
       "      <td>32020.0</td>\n",
       "      <td>388</td>\n",
       "      <td>7100.4</td>\n",
       "      <td>443</td>\n",
       "      <td>4.51</td>\n",
       "    </tr>\n",
       "    <tr>\n",
       "      <th>69</th>\n",
       "      <td>EASTERN CAPE</td>\n",
       "      <td>IA400</td>\n",
       "      <td>1S</td>\n",
       "      <td>400.0</td>\n",
       "      <td>APPLE GOLDEN DELICIOUS</td>\n",
       "      <td>2020-09-28</td>\n",
       "      <td>1800.0</td>\n",
       "      <td>1800.0</td>\n",
       "      <td>1800.0</td>\n",
       "      <td>1</td>\n",
       "      <td>400.0</td>\n",
       "      <td>2</td>\n",
       "      <td>4.50</td>\n",
       "    </tr>\n",
       "  </tbody>\n",
       "</table>\n",
       "</div>"
      ],
      "text/plain": [
       "                Province Container Size_Grade  Weight_Kg  \\\n",
       "1                   CAPE     M4183         1L       18.3   \n",
       "7                   CAPE     JG110         2M       11.0   \n",
       "24  W.CAPE-BERGRIVER ETC     JE090         2S        9.0   \n",
       "40                  CAPE     M4183         1S       18.3   \n",
       "69          EASTERN CAPE     IA400         1S      400.0   \n",
       "\n",
       "               Commodities        Date  Low_Price  High_Price  Sales_Total  \\\n",
       "1   APPLE GOLDEN DELICIOUS  2020-09-09      150.0       170.0      51710.0   \n",
       "7   APPLE GOLDEN DELICIOUS  2020-04-14       50.0        50.0      16000.0   \n",
       "24  APPLE GOLDEN DELICIOUS  2020-04-16       55.0        55.0        990.0   \n",
       "40  APPLE GOLDEN DELICIOUS  2020-05-04       80.0       120.0      32020.0   \n",
       "69  APPLE GOLDEN DELICIOUS  2020-09-28     1800.0      1800.0       1800.0   \n",
       "\n",
       "    Total_Qty_Sold  Total_Kg_Sold  Stock_On_Hand  avg_price_per_kg  \n",
       "1              332         6075.6            822              8.51  \n",
       "7              320         3520.0              0              4.55  \n",
       "24              18          162.0           1506              6.11  \n",
       "40             388         7100.4            443              4.51  \n",
       "69               1          400.0              2              4.50  "
      ]
     },
     "execution_count": 55,
     "metadata": {},
     "output_type": "execute_result"
    }
   ],
   "source": [
    "train_data = train.copy()\n",
    "train_data = train_data[train_data['Commodities']=='APPLE GOLDEN DELICIOUS']\n",
    "train_data.head()"
   ]
  },
  {
   "cell_type": "code",
   "execution_count": 56,
   "metadata": {},
   "outputs": [
    {
     "data": {
      "text/plain": [
       "(1952, 13)"
      ]
     },
     "execution_count": 56,
     "metadata": {},
     "output_type": "execute_result"
    }
   ],
   "source": [
    "train_data.shape"
   ]
  },
  {
   "cell_type": "markdown",
   "metadata": {},
   "source": [
    "The shape command shows us we have 1952 rows and 13 columns.\n",
    "\n",
    "Let's check if we have any unique values in our columns."
   ]
  },
  {
   "cell_type": "code",
   "execution_count": 57,
   "metadata": {},
   "outputs": [
    {
     "data": {
      "text/plain": [
       "Province               7\n",
       "Container             11\n",
       "Size_Grade            10\n",
       "Weight_Kg              9\n",
       "Commodities            1\n",
       "Date                 147\n",
       "Low_Price             94\n",
       "High_Price            88\n",
       "Sales_Total         1324\n",
       "Total_Qty_Sold       505\n",
       "Total_Kg_Sold        850\n",
       "Stock_On_Hand        735\n",
       "avg_price_per_kg     601\n",
       "dtype: int64"
      ]
     },
     "execution_count": 57,
     "metadata": {},
     "output_type": "execute_result"
    }
   ],
   "source": [
    "train_data.nunique()"
   ]
  },
  {
   "cell_type": "markdown",
   "metadata": {},
   "source": [
    "We do not need columns with cardinality of 1. We can remove the column with an iterator."
   ]
  },
  {
   "cell_type": "code",
   "execution_count": 58,
   "metadata": {},
   "outputs": [],
   "source": [
    "train_data = train_data.drop('Commodities', axis=1) "
   ]
  },
  {
   "cell_type": "markdown",
   "metadata": {},
   "source": [
    "### Summary Statistics\n",
    "\n",
    "Let's explore the data types and the summary statistics of our variables.\n",
    "\n",
    "We'll start by looking at the data types and number of entries of each column."
   ]
  },
  {
   "cell_type": "code",
   "execution_count": 59,
   "metadata": {},
   "outputs": [
    {
     "name": "stdout",
     "output_type": "stream",
     "text": [
      "<class 'pandas.core.frame.DataFrame'>\n",
      "Int64Index: 1952 entries, 1 to 64310\n",
      "Data columns (total 12 columns):\n",
      "Province            1952 non-null object\n",
      "Container           1952 non-null object\n",
      "Size_Grade          1952 non-null object\n",
      "Weight_Kg           1952 non-null float64\n",
      "Date                1952 non-null object\n",
      "Low_Price           1952 non-null float64\n",
      "High_Price          1952 non-null float64\n",
      "Sales_Total         1952 non-null float64\n",
      "Total_Qty_Sold      1952 non-null int64\n",
      "Total_Kg_Sold       1952 non-null float64\n",
      "Stock_On_Hand       1952 non-null int64\n",
      "avg_price_per_kg    1952 non-null float64\n",
      "dtypes: float64(6), int64(2), object(4)\n",
      "memory usage: 198.2+ KB\n"
     ]
    }
   ],
   "source": [
    "# Checking basis information about column types and null values\n",
    "train_data.info()"
   ]
  },
  {
   "cell_type": "markdown",
   "metadata": {},
   "source": [
    "The info command confirms our categorial and numerial features. We have 1952 samples in our dataset. Data is organized in 12 columns. From this, we can see that there are no null values in our data."
   ]
  },
  {
   "cell_type": "markdown",
   "metadata": {},
   "source": [
    "Now let's look at a table showcasing the summary statistics of the numeric data."
   ]
  },
  {
   "cell_type": "code",
   "execution_count": 60,
   "metadata": {},
   "outputs": [
    {
     "data": {
      "text/html": [
       "<div>\n",
       "<style scoped>\n",
       "    .dataframe tbody tr th:only-of-type {\n",
       "        vertical-align: middle;\n",
       "    }\n",
       "\n",
       "    .dataframe tbody tr th {\n",
       "        vertical-align: top;\n",
       "    }\n",
       "\n",
       "    .dataframe thead th {\n",
       "        text-align: right;\n",
       "    }\n",
       "</style>\n",
       "<table border=\"1\" class=\"dataframe\">\n",
       "  <thead>\n",
       "    <tr style=\"text-align: right;\">\n",
       "      <th></th>\n",
       "      <th>Weight_Kg</th>\n",
       "      <th>Low_Price</th>\n",
       "      <th>High_Price</th>\n",
       "      <th>Sales_Total</th>\n",
       "      <th>Total_Qty_Sold</th>\n",
       "      <th>Total_Kg_Sold</th>\n",
       "      <th>Stock_On_Hand</th>\n",
       "      <th>avg_price_per_kg</th>\n",
       "    </tr>\n",
       "  </thead>\n",
       "  <tbody>\n",
       "    <tr>\n",
       "      <th>count</th>\n",
       "      <td>1952.000000</td>\n",
       "      <td>1952.000000</td>\n",
       "      <td>1952.000000</td>\n",
       "      <td>1952.000000</td>\n",
       "      <td>1952.000000</td>\n",
       "      <td>1952.000000</td>\n",
       "      <td>1952.000000</td>\n",
       "      <td>1952.000000</td>\n",
       "    </tr>\n",
       "    <tr>\n",
       "      <th>mean</th>\n",
       "      <td>40.460912</td>\n",
       "      <td>174.307377</td>\n",
       "      <td>215.648053</td>\n",
       "      <td>20053.533811</td>\n",
       "      <td>174.510758</td>\n",
       "      <td>2960.176332</td>\n",
       "      <td>408.393955</td>\n",
       "      <td>6.778893</td>\n",
       "    </tr>\n",
       "    <tr>\n",
       "      <th>std</th>\n",
       "      <td>99.655169</td>\n",
       "      <td>373.553578</td>\n",
       "      <td>433.546159</td>\n",
       "      <td>39005.069445</td>\n",
       "      <td>308.810797</td>\n",
       "      <td>6097.416527</td>\n",
       "      <td>724.450582</td>\n",
       "      <td>2.248744</td>\n",
       "    </tr>\n",
       "    <tr>\n",
       "      <th>min</th>\n",
       "      <td>3.000000</td>\n",
       "      <td>2.000000</td>\n",
       "      <td>5.000000</td>\n",
       "      <td>5.000000</td>\n",
       "      <td>1.000000</td>\n",
       "      <td>3.000000</td>\n",
       "      <td>0.000000</td>\n",
       "      <td>0.250000</td>\n",
       "    </tr>\n",
       "    <tr>\n",
       "      <th>25%</th>\n",
       "      <td>9.000000</td>\n",
       "      <td>50.000000</td>\n",
       "      <td>60.000000</td>\n",
       "      <td>1325.000000</td>\n",
       "      <td>12.000000</td>\n",
       "      <td>219.600000</td>\n",
       "      <td>9.000000</td>\n",
       "      <td>5.460000</td>\n",
       "    </tr>\n",
       "    <tr>\n",
       "      <th>50%</th>\n",
       "      <td>12.000000</td>\n",
       "      <td>80.000000</td>\n",
       "      <td>108.000000</td>\n",
       "      <td>5495.000000</td>\n",
       "      <td>64.000000</td>\n",
       "      <td>853.500000</td>\n",
       "      <td>126.500000</td>\n",
       "      <td>6.670000</td>\n",
       "    </tr>\n",
       "    <tr>\n",
       "      <th>75%</th>\n",
       "      <td>18.300000</td>\n",
       "      <td>127.250000</td>\n",
       "      <td>160.000000</td>\n",
       "      <td>21082.500000</td>\n",
       "      <td>200.000000</td>\n",
       "      <td>3093.525000</td>\n",
       "      <td>468.000000</td>\n",
       "      <td>8.280000</td>\n",
       "    </tr>\n",
       "    <tr>\n",
       "      <th>max</th>\n",
       "      <td>400.000000</td>\n",
       "      <td>2300.000000</td>\n",
       "      <td>3300.000000</td>\n",
       "      <td>369464.000000</td>\n",
       "      <td>4237.000000</td>\n",
       "      <td>74000.000000</td>\n",
       "      <td>6400.000000</td>\n",
       "      <td>21.240000</td>\n",
       "    </tr>\n",
       "  </tbody>\n",
       "</table>\n",
       "</div>"
      ],
      "text/plain": [
       "         Weight_Kg    Low_Price   High_Price    Sales_Total  Total_Qty_Sold  \\\n",
       "count  1952.000000  1952.000000  1952.000000    1952.000000     1952.000000   \n",
       "mean     40.460912   174.307377   215.648053   20053.533811      174.510758   \n",
       "std      99.655169   373.553578   433.546159   39005.069445      308.810797   \n",
       "min       3.000000     2.000000     5.000000       5.000000        1.000000   \n",
       "25%       9.000000    50.000000    60.000000    1325.000000       12.000000   \n",
       "50%      12.000000    80.000000   108.000000    5495.000000       64.000000   \n",
       "75%      18.300000   127.250000   160.000000   21082.500000      200.000000   \n",
       "max     400.000000  2300.000000  3300.000000  369464.000000     4237.000000   \n",
       "\n",
       "       Total_Kg_Sold  Stock_On_Hand  avg_price_per_kg  \n",
       "count    1952.000000    1952.000000       1952.000000  \n",
       "mean     2960.176332     408.393955          6.778893  \n",
       "std      6097.416527     724.450582          2.248744  \n",
       "min         3.000000       0.000000          0.250000  \n",
       "25%       219.600000       9.000000          5.460000  \n",
       "50%       853.500000     126.500000          6.670000  \n",
       "75%      3093.525000     468.000000          8.280000  \n",
       "max     74000.000000    6400.000000         21.240000  "
      ]
     },
     "execution_count": 60,
     "metadata": {},
     "output_type": "execute_result"
    }
   ],
   "source": [
    "train_data.describe()"
   ]
  },
  {
   "cell_type": "markdown",
   "metadata": {},
   "source": [
    "Now it's time to remove further missing data and outliers. We will use quantiles of 1% or/and 99% for outliers detection. We consider this method more appropriate than IQR score this time as IQR method would not work well for data concerning apple products. 25% and 75% quantiles differ only by one unit."
   ]
  },
  {
   "cell_type": "code",
   "execution_count": 62,
   "metadata": {},
   "outputs": [
    {
     "name": "stdout",
     "output_type": "stream",
     "text": [
      "99% of observations in Low_Price are lower than 2000.0\n"
     ]
    }
   ],
   "source": [
    "print(f'99% of observations in Low_Price are lower than {train_data[\"Low_Price\"].quantile(0.99)}')"
   ]
  },
  {
   "cell_type": "code",
   "execution_count": 63,
   "metadata": {},
   "outputs": [],
   "source": [
    "# Removing outliers\n",
    "train_data = train_data.query('Low_Price < 2000')"
   ]
  },
  {
   "cell_type": "code",
   "execution_count": 64,
   "metadata": {},
   "outputs": [
    {
     "name": "stdout",
     "output_type": "stream",
     "text": [
      "99% of observations in Sales_Total are higher than 20.0 and lower than 194376.8\n"
     ]
    }
   ],
   "source": [
    "print(f'99% of observations in Sales_Total are higher than {train_data[\"Sales_Total\"].quantile(0.01)} \\\n",
    "and lower than {train_data[\"Sales_Total\"].quantile(0.99)}')"
   ]
  },
  {
   "cell_type": "code",
   "execution_count": 65,
   "metadata": {},
   "outputs": [],
   "source": [
    "# Removing outliers\n",
    "train_data = train_data.query('(Sales_Total > 20.0) & (Sales_Total < 194376.8)')"
   ]
  },
  {
   "cell_type": "code",
   "execution_count": 66,
   "metadata": {},
   "outputs": [
    {
     "name": "stdout",
     "output_type": "stream",
     "text": [
      "99% of observations in Total_Kg_Sold are higher than 9.0 and lower than 19668.787999999993\n"
     ]
    }
   ],
   "source": [
    "print(f'99% of observations in Total_Kg_Sold are higher than {train_data[\"Total_Kg_Sold\"].quantile(0.01)} \\\n",
    "and lower than {train_data[\"Total_Kg_Sold\"].quantile(0.99)}')"
   ]
  },
  {
   "cell_type": "code",
   "execution_count": 68,
   "metadata": {},
   "outputs": [],
   "source": [
    "# Removing outliers\n",
    "train_data = train_data.query('(Total_Kg_Sold > 9.0) & (Total_Kg_Sold < 19668.787999999993)')"
   ]
  },
  {
   "cell_type": "code",
   "execution_count": 70,
   "metadata": {},
   "outputs": [
    {
     "name": "stdout",
     "output_type": "stream",
     "text": [
      "99% of observations in Stock_On_Hand are higher than 0.0 and lower than 3535.1999999999994\n"
     ]
    }
   ],
   "source": [
    "print(f'99% of observations in Stock_On_Hand are higher than {train_data[\"Stock_On_Hand\"].quantile(0.01)} \\\n",
    "and lower than {train_data[\"Stock_On_Hand\"].quantile(0.99)}')"
   ]
  },
  {
   "cell_type": "code",
   "execution_count": 71,
   "metadata": {},
   "outputs": [],
   "source": [
    "# Removing outliers\n",
    "train_data = train_data.query('(Stock_On_Hand > 0.0) & (Stock_On_Hand < 3535.1999999999994)')"
   ]
  },
  {
   "cell_type": "code",
   "execution_count": 72,
   "metadata": {},
   "outputs": [
    {
     "name": "stdout",
     "output_type": "stream",
     "text": [
      "<class 'pandas.core.frame.DataFrame'>\n",
      "Int64Index: 1453 entries, 1 to 64310\n",
      "Data columns (total 12 columns):\n",
      "Province            1453 non-null object\n",
      "Container           1453 non-null object\n",
      "Size_Grade          1453 non-null object\n",
      "Weight_Kg           1453 non-null float64\n",
      "Date                1453 non-null object\n",
      "Low_Price           1453 non-null float64\n",
      "High_Price          1453 non-null float64\n",
      "Sales_Total         1453 non-null float64\n",
      "Total_Qty_Sold      1453 non-null int64\n",
      "Total_Kg_Sold       1453 non-null float64\n",
      "Stock_On_Hand       1453 non-null int64\n",
      "avg_price_per_kg    1453 non-null float64\n",
      "dtypes: float64(6), int64(2), object(4)\n",
      "memory usage: 147.6+ KB\n"
     ]
    }
   ],
   "source": [
    "train_data.info()"
   ]
  },
  {
   "cell_type": "markdown",
   "metadata": {},
   "source": [
    "Our dataset has been signifincatly reduced, however it was necessary for purpose of the data cleaning. "
   ]
  },
  {
   "cell_type": "code",
   "execution_count": 73,
   "metadata": {},
   "outputs": [
    {
     "data": {
      "text/html": [
       "<div>\n",
       "<style scoped>\n",
       "    .dataframe tbody tr th:only-of-type {\n",
       "        vertical-align: middle;\n",
       "    }\n",
       "\n",
       "    .dataframe tbody tr th {\n",
       "        vertical-align: top;\n",
       "    }\n",
       "\n",
       "    .dataframe thead th {\n",
       "        text-align: right;\n",
       "    }\n",
       "</style>\n",
       "<table border=\"1\" class=\"dataframe\">\n",
       "  <thead>\n",
       "    <tr style=\"text-align: right;\">\n",
       "      <th></th>\n",
       "      <th>Weight_Kg</th>\n",
       "      <th>Low_Price</th>\n",
       "      <th>High_Price</th>\n",
       "      <th>Sales_Total</th>\n",
       "      <th>Total_Qty_Sold</th>\n",
       "      <th>Total_Kg_Sold</th>\n",
       "      <th>Stock_On_Hand</th>\n",
       "      <th>avg_price_per_kg</th>\n",
       "    </tr>\n",
       "  </thead>\n",
       "  <tbody>\n",
       "    <tr>\n",
       "      <th>count</th>\n",
       "      <td>1453.000000</td>\n",
       "      <td>1453.000000</td>\n",
       "      <td>1453.000000</td>\n",
       "      <td>1453.000000</td>\n",
       "      <td>1453.000000</td>\n",
       "      <td>1453.000000</td>\n",
       "      <td>1453.000000</td>\n",
       "      <td>1453.000000</td>\n",
       "    </tr>\n",
       "    <tr>\n",
       "      <th>mean</th>\n",
       "      <td>26.893187</td>\n",
       "      <td>131.516173</td>\n",
       "      <td>165.011012</td>\n",
       "      <td>16375.093599</td>\n",
       "      <td>157.451480</td>\n",
       "      <td>2265.323469</td>\n",
       "      <td>450.147970</td>\n",
       "      <td>7.156930</td>\n",
       "    </tr>\n",
       "    <tr>\n",
       "      <th>std</th>\n",
       "      <td>71.294077</td>\n",
       "      <td>241.321424</td>\n",
       "      <td>298.088254</td>\n",
       "      <td>25520.151918</td>\n",
       "      <td>231.130358</td>\n",
       "      <td>3332.848610</td>\n",
       "      <td>593.672381</td>\n",
       "      <td>2.089546</td>\n",
       "    </tr>\n",
       "    <tr>\n",
       "      <th>min</th>\n",
       "      <td>3.000000</td>\n",
       "      <td>2.000000</td>\n",
       "      <td>10.000000</td>\n",
       "      <td>30.000000</td>\n",
       "      <td>1.000000</td>\n",
       "      <td>11.000000</td>\n",
       "      <td>1.000000</td>\n",
       "      <td>1.110000</td>\n",
       "    </tr>\n",
       "    <tr>\n",
       "      <th>25%</th>\n",
       "      <td>9.000000</td>\n",
       "      <td>55.000000</td>\n",
       "      <td>65.000000</td>\n",
       "      <td>1362.000000</td>\n",
       "      <td>14.000000</td>\n",
       "      <td>204.000000</td>\n",
       "      <td>70.000000</td>\n",
       "      <td>5.710000</td>\n",
       "    </tr>\n",
       "    <tr>\n",
       "      <th>50%</th>\n",
       "      <td>12.000000</td>\n",
       "      <td>84.000000</td>\n",
       "      <td>112.000000</td>\n",
       "      <td>5680.000000</td>\n",
       "      <td>64.000000</td>\n",
       "      <td>852.000000</td>\n",
       "      <td>222.000000</td>\n",
       "      <td>7.050000</td>\n",
       "    </tr>\n",
       "    <tr>\n",
       "      <th>75%</th>\n",
       "      <td>18.300000</td>\n",
       "      <td>120.000000</td>\n",
       "      <td>160.000000</td>\n",
       "      <td>20440.000000</td>\n",
       "      <td>202.000000</td>\n",
       "      <td>2940.000000</td>\n",
       "      <td>569.000000</td>\n",
       "      <td>8.610000</td>\n",
       "    </tr>\n",
       "    <tr>\n",
       "      <th>max</th>\n",
       "      <td>400.000000</td>\n",
       "      <td>1900.000000</td>\n",
       "      <td>2200.000000</td>\n",
       "      <td>183066.000000</td>\n",
       "      <td>1616.000000</td>\n",
       "      <td>19600.000000</td>\n",
       "      <td>3482.000000</td>\n",
       "      <td>21.240000</td>\n",
       "    </tr>\n",
       "  </tbody>\n",
       "</table>\n",
       "</div>"
      ],
      "text/plain": [
       "         Weight_Kg    Low_Price   High_Price    Sales_Total  Total_Qty_Sold  \\\n",
       "count  1453.000000  1453.000000  1453.000000    1453.000000     1453.000000   \n",
       "mean     26.893187   131.516173   165.011012   16375.093599      157.451480   \n",
       "std      71.294077   241.321424   298.088254   25520.151918      231.130358   \n",
       "min       3.000000     2.000000    10.000000      30.000000        1.000000   \n",
       "25%       9.000000    55.000000    65.000000    1362.000000       14.000000   \n",
       "50%      12.000000    84.000000   112.000000    5680.000000       64.000000   \n",
       "75%      18.300000   120.000000   160.000000   20440.000000      202.000000   \n",
       "max     400.000000  1900.000000  2200.000000  183066.000000     1616.000000   \n",
       "\n",
       "       Total_Kg_Sold  Stock_On_Hand  avg_price_per_kg  \n",
       "count    1453.000000    1453.000000       1453.000000  \n",
       "mean     2265.323469     450.147970          7.156930  \n",
       "std      3332.848610     593.672381          2.089546  \n",
       "min        11.000000       1.000000          1.110000  \n",
       "25%       204.000000      70.000000          5.710000  \n",
       "50%       852.000000     222.000000          7.050000  \n",
       "75%      2940.000000     569.000000          8.610000  \n",
       "max     19600.000000    3482.000000         21.240000  "
      ]
     },
     "execution_count": 73,
     "metadata": {},
     "output_type": "execute_result"
    }
   ],
   "source": [
    "train_data.describe()"
   ]
  },
  {
   "cell_type": "code",
   "execution_count": 77,
   "metadata": {},
   "outputs": [
    {
     "data": {
      "image/png": "[encoded data removed]",
      "text/plain": [
       "<Figure size 432x288 with 1 Axes>"
      ]
     },
     "metadata": {
      "needs_background": "light"
     },
     "output_type": "display_data"
    }
   ],
   "source": [
    "_ = sns.boxplot(data=train_data, y='Stock_On_Hand', showfliers=False)"
   ]
  },
  {
   "cell_type": "code",
   "execution_count": 80,
   "metadata": {},
   "outputs": [
    {
     "data": {
      "image/png": "[encoded data removed]",
      "text/plain": [
       "<Figure size 432x288 with 1 Axes>"
      ]
     },
     "metadata": {
      "needs_background": "light"
     },
     "output_type": "display_data"
    }
   ],
   "source": [
    "_ = sns.distplot(train_data['avg_price_per_kg'], kde=True)"
   ]
  },
  {
   "cell_type": "markdown",
   "metadata": {},
   "source": [
    "Now, let's take a look at the categorical data."
   ]
  },
  {
   "cell_type": "code",
   "execution_count": 81,
   "metadata": {},
   "outputs": [
    {
     "data": {
      "text/html": [
       "<div>\n",
       "<style scoped>\n",
       "    .dataframe tbody tr th:only-of-type {\n",
       "        vertical-align: middle;\n",
       "    }\n",
       "\n",
       "    .dataframe tbody tr th {\n",
       "        vertical-align: top;\n",
       "    }\n",
       "\n",
       "    .dataframe thead th {\n",
       "        text-align: right;\n",
       "    }\n",
       "</style>\n",
       "<table border=\"1\" class=\"dataframe\">\n",
       "  <thead>\n",
       "    <tr style=\"text-align: right;\">\n",
       "      <th></th>\n",
       "      <th>Province</th>\n",
       "      <th>Container</th>\n",
       "      <th>Size_Grade</th>\n",
       "      <th>Date</th>\n",
       "    </tr>\n",
       "  </thead>\n",
       "  <tbody>\n",
       "    <tr>\n",
       "      <th>count</th>\n",
       "      <td>1453</td>\n",
       "      <td>1453</td>\n",
       "      <td>1453</td>\n",
       "      <td>1453</td>\n",
       "    </tr>\n",
       "    <tr>\n",
       "      <th>unique</th>\n",
       "      <td>7</td>\n",
       "      <td>9</td>\n",
       "      <td>10</td>\n",
       "      <td>147</td>\n",
       "    </tr>\n",
       "    <tr>\n",
       "      <th>top</th>\n",
       "      <td>CAPE</td>\n",
       "      <td>M4183</td>\n",
       "      <td>1S</td>\n",
       "      <td>2020-04-22</td>\n",
       "    </tr>\n",
       "    <tr>\n",
       "      <th>freq</th>\n",
       "      <td>867</td>\n",
       "      <td>510</td>\n",
       "      <td>354</td>\n",
       "      <td>17</td>\n",
       "    </tr>\n",
       "  </tbody>\n",
       "</table>\n",
       "</div>"
      ],
      "text/plain": [
       "       Province Container Size_Grade        Date\n",
       "count      1453      1453       1453        1453\n",
       "unique        7         9         10         147\n",
       "top        CAPE     M4183         1S  2020-04-22\n",
       "freq        867       510        354          17"
      ]
     },
     "execution_count": 81,
     "metadata": {},
     "output_type": "execute_result"
    }
   ],
   "source": [
    "train_data.describe(include='object')"
   ]
  },
  {
   "cell_type": "markdown",
   "metadata": {},
   "source": [
    "Cape is the province where most properties were sold. We have 9 different container categories, however almost a third of the containers belong to 'M4183' category. By far the most common size grade was 1S."
   ]
  },
  {
   "cell_type": "code",
   "execution_count": 83,
   "metadata": {},
   "outputs": [
    {
     "data": {
      "image/png": "[encoded data removed]",
      "text/plain": [
       "<Figure size 432x288 with 1 Axes>"
      ]
     },
     "metadata": {
      "needs_background": "light"
     },
     "output_type": "display_data"
    }
   ],
   "source": [
    "_ = sns.barplot(data=train_data.groupby('Date').agg({'avg_price_per_kg':'median'}).sort_values(by='avg_price_per_kg').reset_index(),\\\n",
    "                x='Date', y='avg_price_per_kg')\n"
   ]
  },
  {
   "cell_type": "markdown",
   "metadata": {},
   "source": [
    "Apples in the country are becoming more expensive."
   ]
  },
  {
   "cell_type": "code",
   "execution_count": 84,
   "metadata": {},
   "outputs": [
    {
     "data": {
      "image/png": "[encoded data removed]",
      "text/plain": [
       "<Figure size 432x288 with 1 Axes>"
      ]
     },
     "metadata": {
      "needs_background": "light"
     },
     "output_type": "display_data"
    }
   ],
   "source": [
    "_ = train_data.groupby('Size_Grade').agg({'avg_price_per_kg':'median'}).sort_values(by='Size_Grade').plot(kind='bar')"
   ]
  },
  {
   "cell_type": "code",
   "execution_count": null,
   "metadata": {},
   "outputs": [],
   "source": []
  },
  {
   "cell_type": "markdown",
   "metadata": {},
   "source": [
    "## Dummy Variable Encoding\n",
    "\n",
    "All input data for regression model building purposes needs to be numerical. We therefore have to transform the text data (found within columns such as 'Province','Container', 'Size_Grade', 'Commodities' and 'Date') into numbers before we can train our machine learning model.\n",
    "\n",
    "To facilitate this transformation from textual-categorical data to numerical equivalents, we use a pandas method called get_dummies. The text data are categorical variables, and ***get_dummies*** will transform all the categorical text data into numbers by adding a column for each distinct category. The new column has a 1 for observations which were in this category, and a 0 for observations that were not."
   ]
  },
  {
   "cell_type": "code",
   "execution_count": 85,
   "metadata": {},
   "outputs": [
    {
     "data": {
      "text/html": [
       "<div>\n",
       "<style scoped>\n",
       "    .dataframe tbody tr th:only-of-type {\n",
       "        vertical-align: middle;\n",
       "    }\n",
       "\n",
       "    .dataframe tbody tr th {\n",
       "        vertical-align: top;\n",
       "    }\n",
       "\n",
       "    .dataframe thead th {\n",
       "        text-align: right;\n",
       "    }\n",
       "</style>\n",
       "<table border=\"1\" class=\"dataframe\">\n",
       "  <thead>\n",
       "    <tr style=\"text-align: right;\">\n",
       "      <th></th>\n",
       "      <th>Weight_Kg</th>\n",
       "      <th>Low_Price</th>\n",
       "      <th>High_Price</th>\n",
       "      <th>Sales_Total</th>\n",
       "      <th>Total_Qty_Sold</th>\n",
       "      <th>Total_Kg_Sold</th>\n",
       "      <th>Stock_On_Hand</th>\n",
       "      <th>avg_price_per_kg</th>\n",
       "      <th>Province_EASTERN CAPE</th>\n",
       "      <th>Province_NATAL</th>\n",
       "      <th>...</th>\n",
       "      <th>Date_2020-09-07</th>\n",
       "      <th>Date_2020-09-09</th>\n",
       "      <th>Date_2020-09-16</th>\n",
       "      <th>Date_2020-09-17</th>\n",
       "      <th>Date_2020-09-19</th>\n",
       "      <th>Date_2020-09-21</th>\n",
       "      <th>Date_2020-09-23</th>\n",
       "      <th>Date_2020-09-28</th>\n",
       "      <th>Date_2020-10-01</th>\n",
       "      <th>Date_2020-10-03</th>\n",
       "    </tr>\n",
       "  </thead>\n",
       "  <tbody>\n",
       "    <tr>\n",
       "      <th>1</th>\n",
       "      <td>18.3</td>\n",
       "      <td>150.0</td>\n",
       "      <td>170.0</td>\n",
       "      <td>51710.0</td>\n",
       "      <td>332</td>\n",
       "      <td>6075.6</td>\n",
       "      <td>822</td>\n",
       "      <td>8.51</td>\n",
       "      <td>0</td>\n",
       "      <td>0</td>\n",
       "      <td>...</td>\n",
       "      <td>0</td>\n",
       "      <td>1</td>\n",
       "      <td>0</td>\n",
       "      <td>0</td>\n",
       "      <td>0</td>\n",
       "      <td>0</td>\n",
       "      <td>0</td>\n",
       "      <td>0</td>\n",
       "      <td>0</td>\n",
       "      <td>0</td>\n",
       "    </tr>\n",
       "    <tr>\n",
       "      <th>24</th>\n",
       "      <td>9.0</td>\n",
       "      <td>55.0</td>\n",
       "      <td>55.0</td>\n",
       "      <td>990.0</td>\n",
       "      <td>18</td>\n",
       "      <td>162.0</td>\n",
       "      <td>1506</td>\n",
       "      <td>6.11</td>\n",
       "      <td>0</td>\n",
       "      <td>0</td>\n",
       "      <td>...</td>\n",
       "      <td>0</td>\n",
       "      <td>0</td>\n",
       "      <td>0</td>\n",
       "      <td>0</td>\n",
       "      <td>0</td>\n",
       "      <td>0</td>\n",
       "      <td>0</td>\n",
       "      <td>0</td>\n",
       "      <td>0</td>\n",
       "      <td>0</td>\n",
       "    </tr>\n",
       "    <tr>\n",
       "      <th>40</th>\n",
       "      <td>18.3</td>\n",
       "      <td>80.0</td>\n",
       "      <td>120.0</td>\n",
       "      <td>32020.0</td>\n",
       "      <td>388</td>\n",
       "      <td>7100.4</td>\n",
       "      <td>443</td>\n",
       "      <td>4.51</td>\n",
       "      <td>0</td>\n",
       "      <td>0</td>\n",
       "      <td>...</td>\n",
       "      <td>0</td>\n",
       "      <td>0</td>\n",
       "      <td>0</td>\n",
       "      <td>0</td>\n",
       "      <td>0</td>\n",
       "      <td>0</td>\n",
       "      <td>0</td>\n",
       "      <td>0</td>\n",
       "      <td>0</td>\n",
       "      <td>0</td>\n",
       "    </tr>\n",
       "    <tr>\n",
       "      <th>69</th>\n",
       "      <td>400.0</td>\n",
       "      <td>1800.0</td>\n",
       "      <td>1800.0</td>\n",
       "      <td>1800.0</td>\n",
       "      <td>1</td>\n",
       "      <td>400.0</td>\n",
       "      <td>2</td>\n",
       "      <td>4.50</td>\n",
       "      <td>1</td>\n",
       "      <td>0</td>\n",
       "      <td>...</td>\n",
       "      <td>0</td>\n",
       "      <td>0</td>\n",
       "      <td>0</td>\n",
       "      <td>0</td>\n",
       "      <td>0</td>\n",
       "      <td>0</td>\n",
       "      <td>0</td>\n",
       "      <td>1</td>\n",
       "      <td>0</td>\n",
       "      <td>0</td>\n",
       "    </tr>\n",
       "    <tr>\n",
       "      <th>80</th>\n",
       "      <td>9.0</td>\n",
       "      <td>55.0</td>\n",
       "      <td>55.0</td>\n",
       "      <td>4840.0</td>\n",
       "      <td>88</td>\n",
       "      <td>792.0</td>\n",
       "      <td>181</td>\n",
       "      <td>6.11</td>\n",
       "      <td>0</td>\n",
       "      <td>0</td>\n",
       "      <td>...</td>\n",
       "      <td>0</td>\n",
       "      <td>0</td>\n",
       "      <td>0</td>\n",
       "      <td>0</td>\n",
       "      <td>0</td>\n",
       "      <td>0</td>\n",
       "      <td>0</td>\n",
       "      <td>0</td>\n",
       "      <td>0</td>\n",
       "      <td>0</td>\n",
       "    </tr>\n",
       "  </tbody>\n",
       "</table>\n",
       "<p>5 rows × 177 columns</p>\n",
       "</div>"
      ],
      "text/plain": [
       "    Weight_Kg  Low_Price  High_Price  Sales_Total  Total_Qty_Sold  \\\n",
       "1        18.3      150.0       170.0      51710.0             332   \n",
       "24        9.0       55.0        55.0        990.0              18   \n",
       "40       18.3       80.0       120.0      32020.0             388   \n",
       "69      400.0     1800.0      1800.0       1800.0               1   \n",
       "80        9.0       55.0        55.0       4840.0              88   \n",
       "\n",
       "    Total_Kg_Sold  Stock_On_Hand  avg_price_per_kg  Province_EASTERN CAPE  \\\n",
       "1          6075.6            822              8.51                      0   \n",
       "24          162.0           1506              6.11                      0   \n",
       "40         7100.4            443              4.51                      0   \n",
       "69          400.0              2              4.50                      1   \n",
       "80          792.0            181              6.11                      0   \n",
       "\n",
       "    Province_NATAL  ...  Date_2020-09-07  Date_2020-09-09  Date_2020-09-16  \\\n",
       "1                0  ...                0                1                0   \n",
       "24               0  ...                0                0                0   \n",
       "40               0  ...                0                0                0   \n",
       "69               0  ...                0                0                0   \n",
       "80               0  ...                0                0                0   \n",
       "\n",
       "    Date_2020-09-17  Date_2020-09-19  Date_2020-09-21  Date_2020-09-23  \\\n",
       "1                 0                0                0                0   \n",
       "24                0                0                0                0   \n",
       "40                0                0                0                0   \n",
       "69                0                0                0                0   \n",
       "80                0                0                0                0   \n",
       "\n",
       "    Date_2020-09-28  Date_2020-10-01  Date_2020-10-03  \n",
       "1                 0                0                0  \n",
       "24                0                0                0  \n",
       "40                0                0                0  \n",
       "69                1                0                0  \n",
       "80                0                0                0  \n",
       "\n",
       "[5 rows x 177 columns]"
      ]
     },
     "execution_count": 85,
     "metadata": {},
     "output_type": "execute_result"
    }
   ],
   "source": [
    "dummy_df = pd.get_dummies(train_data, drop_first = True)\n",
    "dummy_df.head()"
   ]
  },
  {
   "cell_type": "code",
   "execution_count": 86,
   "metadata": {},
   "outputs": [
    {
     "data": {
      "text/plain": [
       "(1453, 177)"
      ]
     },
     "execution_count": 86,
     "metadata": {},
     "output_type": "execute_result"
    }
   ],
   "source": [
    "dummy_df.shape"
   ]
  },
  {
   "cell_type": "markdown",
   "metadata": {},
   "source": [
    "Suddenly we have many more variable columns (our original 12 variable columns are now 177 given the dummy variable encoding). "
   ]
  },
  {
   "cell_type": "markdown",
   "metadata": {},
   "source": [
    "## Correlations and Model Structure\n",
    "\n",
    "Using the dummy variable dataframe, we can build a model that predicts `avg_price_per_kg` (our dependent variable) as a function of 178 different independent variables (IVs)\n",
    "\n",
    "Before we do this, however, let's reorder columns so that our dependent variable is the last column of the dataframe. This will make a heatmap visualisation representing a correlation matrix of our data easier to interpret."
   ]
  },
  {
   "cell_type": "code",
   "execution_count": 87,
   "metadata": {},
   "outputs": [],
   "source": [
    "column_titles = [col for col in dummy_df.columns if col!= 'avg_price_per_kg'] + ['avg_price_per_kg']\n",
    "dummy_df = dummy_df.reindex(columns=column_titles)"
   ]
  },
  {
   "cell_type": "markdown",
   "metadata": {},
   "source": [
    "Now, lets create a dataframe where we can see the correlation between the predictor variables and the target variable."
   ]
  },
  {
   "cell_type": "code",
   "execution_count": 88,
   "metadata": {},
   "outputs": [
    {
     "data": {
      "text/html": [
       "<div>\n",
       "<style scoped>\n",
       "    .dataframe tbody tr th:only-of-type {\n",
       "        vertical-align: middle;\n",
       "    }\n",
       "\n",
       "    .dataframe tbody tr th {\n",
       "        vertical-align: top;\n",
       "    }\n",
       "\n",
       "    .dataframe thead th {\n",
       "        text-align: right;\n",
       "    }\n",
       "</style>\n",
       "<table border=\"1\" class=\"dataframe\">\n",
       "  <thead>\n",
       "    <tr style=\"text-align: right;\">\n",
       "      <th></th>\n",
       "      <th>Correlation</th>\n",
       "    </tr>\n",
       "  </thead>\n",
       "  <tbody>\n",
       "    <tr>\n",
       "      <th>avg_price_per_kg</th>\n",
       "      <td>1.000000</td>\n",
       "    </tr>\n",
       "    <tr>\n",
       "      <th>Container_M4183</th>\n",
       "      <td>0.361971</td>\n",
       "    </tr>\n",
       "    <tr>\n",
       "      <th>Size_Grade_1X</th>\n",
       "      <td>0.239230</td>\n",
       "    </tr>\n",
       "    <tr>\n",
       "      <th>Province_W.CAPE-BERGRIVER ETC</th>\n",
       "      <td>0.236143</td>\n",
       "    </tr>\n",
       "    <tr>\n",
       "      <th>Container_EC120</th>\n",
       "      <td>0.173693</td>\n",
       "    </tr>\n",
       "    <tr>\n",
       "      <th>Size_Grade_1M</th>\n",
       "      <td>0.163330</td>\n",
       "    </tr>\n",
       "    <tr>\n",
       "      <th>Sales_Total</th>\n",
       "      <td>0.156813</td>\n",
       "    </tr>\n",
       "    <tr>\n",
       "      <th>Container_EF120</th>\n",
       "      <td>0.124466</td>\n",
       "    </tr>\n",
       "    <tr>\n",
       "      <th>Date_2019-12-12</th>\n",
       "      <td>0.116064</td>\n",
       "    </tr>\n",
       "    <tr>\n",
       "      <th>Date_2019-12-14</th>\n",
       "      <td>0.115141</td>\n",
       "    </tr>\n",
       "    <tr>\n",
       "      <th>Date_2020-02-14</th>\n",
       "      <td>0.083864</td>\n",
       "    </tr>\n",
       "    <tr>\n",
       "      <th>Date_2020-02-05</th>\n",
       "      <td>0.077260</td>\n",
       "    </tr>\n",
       "    <tr>\n",
       "      <th>Date_2019-12-23</th>\n",
       "      <td>0.073979</td>\n",
       "    </tr>\n",
       "    <tr>\n",
       "      <th>Date_2020-01-13</th>\n",
       "      <td>0.069385</td>\n",
       "    </tr>\n",
       "    <tr>\n",
       "      <th>Date_2020-01-08</th>\n",
       "      <td>0.068433</td>\n",
       "    </tr>\n",
       "    <tr>\n",
       "      <th>Date_2020-02-03</th>\n",
       "      <td>0.066409</td>\n",
       "    </tr>\n",
       "    <tr>\n",
       "      <th>Date_2020-08-24</th>\n",
       "      <td>0.057549</td>\n",
       "    </tr>\n",
       "    <tr>\n",
       "      <th>Date_2020-01-20</th>\n",
       "      <td>0.053368</td>\n",
       "    </tr>\n",
       "    <tr>\n",
       "      <th>Date_2020-02-01</th>\n",
       "      <td>0.044630</td>\n",
       "    </tr>\n",
       "    <tr>\n",
       "      <th>Date_2020-01-24</th>\n",
       "      <td>0.042959</td>\n",
       "    </tr>\n",
       "    <tr>\n",
       "      <th>Date_2020-07-08</th>\n",
       "      <td>0.042894</td>\n",
       "    </tr>\n",
       "    <tr>\n",
       "      <th>Date_2020-06-17</th>\n",
       "      <td>0.038373</td>\n",
       "    </tr>\n",
       "    <tr>\n",
       "      <th>Date_2020-06-12</th>\n",
       "      <td>0.037115</td>\n",
       "    </tr>\n",
       "    <tr>\n",
       "      <th>Total_Qty_Sold</th>\n",
       "      <td>0.036419</td>\n",
       "    </tr>\n",
       "    <tr>\n",
       "      <th>Date_2020-06-13</th>\n",
       "      <td>0.035546</td>\n",
       "    </tr>\n",
       "    <tr>\n",
       "      <th>Date_2020-03-11</th>\n",
       "      <td>0.035403</td>\n",
       "    </tr>\n",
       "    <tr>\n",
       "      <th>Date_2020-09-17</th>\n",
       "      <td>0.034706</td>\n",
       "    </tr>\n",
       "    <tr>\n",
       "      <th>Date_2020-02-22</th>\n",
       "      <td>0.034258</td>\n",
       "    </tr>\n",
       "    <tr>\n",
       "      <th>Date_2020-07-17</th>\n",
       "      <td>0.032997</td>\n",
       "    </tr>\n",
       "    <tr>\n",
       "      <th>Date_2020-03-13</th>\n",
       "      <td>0.031603</td>\n",
       "    </tr>\n",
       "    <tr>\n",
       "      <th>...</th>\n",
       "      <td>...</td>\n",
       "    </tr>\n",
       "    <tr>\n",
       "      <th>Date_2020-04-01</th>\n",
       "      <td>-0.041814</td>\n",
       "    </tr>\n",
       "    <tr>\n",
       "      <th>Date_2020-06-02</th>\n",
       "      <td>-0.042486</td>\n",
       "    </tr>\n",
       "    <tr>\n",
       "      <th>Date_2020-02-19</th>\n",
       "      <td>-0.042819</td>\n",
       "    </tr>\n",
       "    <tr>\n",
       "      <th>Date_2020-04-29</th>\n",
       "      <td>-0.043180</td>\n",
       "    </tr>\n",
       "    <tr>\n",
       "      <th>Date_2020-05-05</th>\n",
       "      <td>-0.045071</td>\n",
       "    </tr>\n",
       "    <tr>\n",
       "      <th>Date_2020-04-15</th>\n",
       "      <td>-0.045665</td>\n",
       "    </tr>\n",
       "    <tr>\n",
       "      <th>Date_2020-06-09</th>\n",
       "      <td>-0.047254</td>\n",
       "    </tr>\n",
       "    <tr>\n",
       "      <th>Date_2020-04-22</th>\n",
       "      <td>-0.050305</td>\n",
       "    </tr>\n",
       "    <tr>\n",
       "      <th>Date_2020-05-04</th>\n",
       "      <td>-0.051336</td>\n",
       "    </tr>\n",
       "    <tr>\n",
       "      <th>Date_2020-04-07</th>\n",
       "      <td>-0.053150</td>\n",
       "    </tr>\n",
       "    <tr>\n",
       "      <th>Date_2020-04-21</th>\n",
       "      <td>-0.054244</td>\n",
       "    </tr>\n",
       "    <tr>\n",
       "      <th>Date_2020-05-13</th>\n",
       "      <td>-0.056190</td>\n",
       "    </tr>\n",
       "    <tr>\n",
       "      <th>Date_2020-04-17</th>\n",
       "      <td>-0.059863</td>\n",
       "    </tr>\n",
       "    <tr>\n",
       "      <th>Date_2020-04-23</th>\n",
       "      <td>-0.064176</td>\n",
       "    </tr>\n",
       "    <tr>\n",
       "      <th>Size_Grade_2X</th>\n",
       "      <td>-0.070512</td>\n",
       "    </tr>\n",
       "    <tr>\n",
       "      <th>Date_2020-03-10</th>\n",
       "      <td>-0.072512</td>\n",
       "    </tr>\n",
       "    <tr>\n",
       "      <th>Date_2020-04-28</th>\n",
       "      <td>-0.074921</td>\n",
       "    </tr>\n",
       "    <tr>\n",
       "      <th>Size_Grade_2U</th>\n",
       "      <td>-0.075808</td>\n",
       "    </tr>\n",
       "    <tr>\n",
       "      <th>Date_2020-05-07</th>\n",
       "      <td>-0.081939</td>\n",
       "    </tr>\n",
       "    <tr>\n",
       "      <th>Low_Price</th>\n",
       "      <td>-0.107018</td>\n",
       "    </tr>\n",
       "    <tr>\n",
       "      <th>Size_Grade_2L</th>\n",
       "      <td>-0.112861</td>\n",
       "    </tr>\n",
       "    <tr>\n",
       "      <th>High_Price</th>\n",
       "      <td>-0.130528</td>\n",
       "    </tr>\n",
       "    <tr>\n",
       "      <th>Container_JG110</th>\n",
       "      <td>-0.168687</td>\n",
       "    </tr>\n",
       "    <tr>\n",
       "      <th>Province_NATAL</th>\n",
       "      <td>-0.192799</td>\n",
       "    </tr>\n",
       "    <tr>\n",
       "      <th>Size_Grade_2M</th>\n",
       "      <td>-0.193070</td>\n",
       "    </tr>\n",
       "    <tr>\n",
       "      <th>Province_EASTERN CAPE</th>\n",
       "      <td>-0.206411</td>\n",
       "    </tr>\n",
       "    <tr>\n",
       "      <th>Weight_Kg</th>\n",
       "      <td>-0.283995</td>\n",
       "    </tr>\n",
       "    <tr>\n",
       "      <th>Container_IA400</th>\n",
       "      <td>-0.307231</td>\n",
       "    </tr>\n",
       "    <tr>\n",
       "      <th>Size_Grade_2S</th>\n",
       "      <td>-0.358262</td>\n",
       "    </tr>\n",
       "    <tr>\n",
       "      <th>Container_JE090</th>\n",
       "      <td>-0.403951</td>\n",
       "    </tr>\n",
       "  </tbody>\n",
       "</table>\n",
       "<p>177 rows × 1 columns</p>\n",
       "</div>"
      ],
      "text/plain": [
       "                               Correlation\n",
       "avg_price_per_kg                  1.000000\n",
       "Container_M4183                   0.361971\n",
       "Size_Grade_1X                     0.239230\n",
       "Province_W.CAPE-BERGRIVER ETC     0.236143\n",
       "Container_EC120                   0.173693\n",
       "Size_Grade_1M                     0.163330\n",
       "Sales_Total                       0.156813\n",
       "Container_EF120                   0.124466\n",
       "Date_2019-12-12                   0.116064\n",
       "Date_2019-12-14                   0.115141\n",
       "Date_2020-02-14                   0.083864\n",
       "Date_2020-02-05                   0.077260\n",
       "Date_2019-12-23                   0.073979\n",
       "Date_2020-01-13                   0.069385\n",
       "Date_2020-01-08                   0.068433\n",
       "Date_2020-02-03                   0.066409\n",
       "Date_2020-08-24                   0.057549\n",
       "Date_2020-01-20                   0.053368\n",
       "Date_2020-02-01                   0.044630\n",
       "Date_2020-01-24                   0.042959\n",
       "Date_2020-07-08                   0.042894\n",
       "Date_2020-06-17                   0.038373\n",
       "Date_2020-06-12                   0.037115\n",
       "Total_Qty_Sold                    0.036419\n",
       "Date_2020-06-13                   0.035546\n",
       "Date_2020-03-11                   0.035403\n",
       "Date_2020-09-17                   0.034706\n",
       "Date_2020-02-22                   0.034258\n",
       "Date_2020-07-17                   0.032997\n",
       "Date_2020-03-13                   0.031603\n",
       "...                                    ...\n",
       "Date_2020-04-01                  -0.041814\n",
       "Date_2020-06-02                  -0.042486\n",
       "Date_2020-02-19                  -0.042819\n",
       "Date_2020-04-29                  -0.043180\n",
       "Date_2020-05-05                  -0.045071\n",
       "Date_2020-04-15                  -0.045665\n",
       "Date_2020-06-09                  -0.047254\n",
       "Date_2020-04-22                  -0.050305\n",
       "Date_2020-05-04                  -0.051336\n",
       "Date_2020-04-07                  -0.053150\n",
       "Date_2020-04-21                  -0.054244\n",
       "Date_2020-05-13                  -0.056190\n",
       "Date_2020-04-17                  -0.059863\n",
       "Date_2020-04-23                  -0.064176\n",
       "Size_Grade_2X                    -0.070512\n",
       "Date_2020-03-10                  -0.072512\n",
       "Date_2020-04-28                  -0.074921\n",
       "Size_Grade_2U                    -0.075808\n",
       "Date_2020-05-07                  -0.081939\n",
       "Low_Price                        -0.107018\n",
       "Size_Grade_2L                    -0.112861\n",
       "High_Price                       -0.130528\n",
       "Container_JG110                  -0.168687\n",
       "Province_NATAL                   -0.192799\n",
       "Size_Grade_2M                    -0.193070\n",
       "Province_EASTERN CAPE            -0.206411\n",
       "Weight_Kg                        -0.283995\n",
       "Container_IA400                  -0.307231\n",
       "Size_Grade_2S                    -0.358262\n",
       "Container_JE090                  -0.403951\n",
       "\n",
       "[177 rows x 1 columns]"
      ]
     },
     "execution_count": 88,
     "metadata": {},
     "output_type": "execute_result"
    }
   ],
   "source": [
    "# Target correlations with features\n",
    "corrs = pd.DataFrame(dummy_df.corr()['avg_price_per_kg']).rename(columns = {'avg_price_per_kg':'Correlation'})\n",
    "corrs.sort_values(by='Correlation',ascending=False, inplace=True)\n",
    "corrs"
   ]
  },
  {
   "cell_type": "markdown",
   "metadata": {},
   "source": [
    "We can see from the correlations that it's not be the best idea to keep all of the dummy variables.\n",
    "\n",
    "If we use all of these variables, we're effectively working with redundant information."
   ]
  },
  {
   "cell_type": "code",
   "execution_count": 89,
   "metadata": {},
   "outputs": [
    {
     "data": {
      "image/png": "[encoded data removed]",
      "text/plain": [
       "<Figure size 432x288 with 2 Axes>"
      ]
     },
     "metadata": {
      "needs_background": "light"
     },
     "output_type": "display_data"
    }
   ],
   "source": [
    "heatmap = sns.heatmap(train.corr(), vmin=-1, vmax=1, annot=True)\n",
    "heatmap.set_title('Correlation Heatmap', fontdict={'fontsize':12}, pad=12);"
   ]
  },
  {
   "cell_type": "markdown",
   "metadata": {},
   "source": [
    "The heatmap above was generated using only the numberical columns before Dummy Variable Encoding is applied. This is because it will be difficult to analysis a heatmap with 179 columns. However, this heatmap will be suffice to show collinearity between predictor variables i.e. : \n",
    "\n",
    "- `Low_Price` and `High_Price` \n",
    "- `Weight_Kg` and `High_Price` \n",
    "- `Weight_Kg` and `Low_Price` \n"
   ]
  },
  {
   "cell_type": "markdown",
   "metadata": {},
   "source": [
    "In the following section, let's try building our model using Linear Regression."
   ]
  },
  {
   "cell_type": "markdown",
   "metadata": {},
   "source": [
    "## Create linear model"
   ]
  },
  {
   "cell_type": "markdown",
   "metadata": {},
   "source": [
    "Let us import some modules."
   ]
  },
  {
   "cell_type": "code",
   "execution_count": 90,
   "metadata": {},
   "outputs": [],
   "source": [
    "# Regression models\n",
    "from sklearn.linear_model import LinearRegression\n",
    "\n",
    "# Model selection\n",
    "from sklearn.model_selection import train_test_split\n",
    "\n",
    "# Metrics\n",
    "from sklearn.metrics import r2_score\n",
    "from sklearn.metrics import mean_squared_error"
   ]
  },
  {
   "cell_type": "code",
   "execution_count": 91,
   "metadata": {},
   "outputs": [],
   "source": [
    "X = dummy_df.drop('avg_price_per_kg',axis=1).values\n",
    "y = dummy_df['avg_price_per_kg']"
   ]
  },
  {
   "cell_type": "code",
   "execution_count": 92,
   "metadata": {},
   "outputs": [],
   "source": [
    "# Split the data into train and test sets\n",
    "X_train, X_test, y_train, y_test = train_test_split(X, y, test_size = 0.2,random_state=42)"
   ]
  },
  {
   "cell_type": "code",
   "execution_count": 93,
   "metadata": {},
   "outputs": [],
   "source": [
    "# define model\n",
    "linear_model = LinearRegression(n_jobs=-1)"
   ]
  },
  {
   "cell_type": "code",
   "execution_count": 94,
   "metadata": {},
   "outputs": [
    {
     "data": {
      "text/plain": [
       "LinearRegression(copy_X=True, fit_intercept=True, n_jobs=-1, normalize=False)"
      ]
     },
     "execution_count": 94,
     "metadata": {},
     "output_type": "execute_result"
    }
   ],
   "source": [
    "# Train the model\n",
    "linear_model.fit(X_train, y_train)"
   ]
  },
  {
   "cell_type": "code",
   "execution_count": 95,
   "metadata": {},
   "outputs": [],
   "source": [
    "# Make predictions\n",
    "train_pred = linear_model.predict(X_train)\n",
    "test_pred = linear_model.predict(X_test)"
   ]
  },
  {
   "cell_type": "code",
   "execution_count": 96,
   "metadata": {},
   "outputs": [],
   "source": [
    "train_rmse = np.sqrt(mean_squared_error(y_train, train_pred))\n",
    "test_rmse = np.sqrt(mean_squared_error(y_test, test_pred))\n",
    "    \n",
    "train_r2 = r2_score(y_train, train_pred)\n",
    "test_r2 = r2_score(y_test, test_pred)"
   ]
  },
  {
   "cell_type": "code",
   "execution_count": 97,
   "metadata": {},
   "outputs": [
    {
     "data": {
      "text/plain": [
       "{'Train RMSE': 1.0979816028994245,\n",
       " 'Train R^2': 0.7221199222008812,\n",
       " 'Test RMSE': 1.3526442154186065,\n",
       " 'Test R^2': 0.5892777511645462}"
      ]
     },
     "execution_count": 97,
     "metadata": {},
     "output_type": "execute_result"
    }
   ],
   "source": [
    "df = {'Train RMSE': train_rmse,'Train R^2':train_r2,'Test RMSE': test_rmse,'Test R^2':test_r2}\n",
    "df"
   ]
  },
  {
   "cell_type": "markdown",
   "metadata": {},
   "source": [
    "**Metrics used**\n",
    "  - Root Mean Square Error (RMSE) is the standard deviation of the residuals (prediction errors). Residuals are a measure of how far from the regression line data points are; RMSE is a measure of how spread out these residuals are. In other words, it tells you how concentrated the data is around the line of best fit. Root mean square error is commonly used in climatology, forecasting, and regression analysis to verify experimental results.\n",
    "  - R-squared is a statistical measure of how close the data are to the fitted regression line. It is also  known as the coefficient of determination, or the coefficient of multiple determination for multiple regression; it is the percentage of the response variable variation that is explained by a linear model."
   ]
  },
  {
   "cell_type": "markdown",
   "metadata": {},
   "source": [
    "The test set's $r^{2}$ value is significantly lower than that of the train's. The RMSE of the test set is also larger compared to the RMSE of the train set. This indicates that our model is slightly underfitting our data."
   ]
  },
  {
   "cell_type": "markdown",
   "metadata": {},
   "source": [
    "In the next section, we will try to improve our linear model by introducing regularisation techniques."
   ]
  },
  {
   "cell_type": "markdown",
   "metadata": {},
   "source": [
    "# Regularisation"
   ]
  },
  {
   "cell_type": "markdown",
   "metadata": {},
   "source": [
    "Regularisation is a method used to improve the predictive accuracy of a model while putting constraints on the predictor variables.\n",
    "\n",
    "Recall that the least squares method seeks to minimise the sum of the squares of the residuals:\n",
    "\n",
    "$$RSS = \\sum_{i=1}^n(y_i-\\hat{y}_i)^2$$   \n",
    "\n",
    "which can be written in terms of the predictor variable coefficients, [$b_1, b_2, b_p$], and slope, $a$:   \n",
    "\n",
    "$$RSS = \\sum_{i=1}^n(y_i-(a+\\sum_{j=1}^pb_jx_{ij}))^2$$\n",
    "\n",
    "where _n_ is the number of observations, and _p_ is the number of predictor variables. In the case of **ridge regression**, the regression coefficients are calculated as the values that minimise:\n",
    "\n",
    "$$\\sum_{i=1}^n(y_i-(a+\\sum_{j=1}^pb_jx_{ij}))^2 + \\alpha\\sum_{j=1}^pb_j^2$$\n",
    "\n",
    "which is rewritten simply as:\n",
    "\n",
    "$$\\min_{\\beta} (RSS + \\alpha\\sum_{j=1}^pb_j^2)$$\n",
    "\n",
    "In minimising _RSS_ , we improve the overall fit of the model. In the newly introduced term, $\\alpha\\sum_{j=1}^pb_j^2$, the intention is to penalise those individual coefficients that get too large (those that contribute the most to reducing the fit).\n",
    "\n",
    "In the new term, $\\alpha$ is a tuning parameter which controls the degree to which the regression coefficients are penalised. The effect of this penalty parameter is to create a tradeoff between how much a coefficient contributes to minimising RSS and the size of the coefficient. In other words: _training fit_ vs. _size of coefficients_. \n",
    "\n",
    "In the newly introduced term, we can see that the penalty parameter is applied to the sum of the squares of the coefficients. This means that as we increase the size of the coefficients, the penalty will increase too. And so, this has the effect of _shrinking_ the coefficients towards zero.\n"
   ]
  },
  {
   "cell_type": "markdown",
   "metadata": {},
   "source": [
    "Now let's apply ridge regression to our data."
   ]
  },
  {
   "cell_type": "markdown",
   "metadata": {},
   "source": [
    "## Ridge Regression"
   ]
  },
  {
   "cell_type": "markdown",
   "metadata": {},
   "source": [
    "Before we apply ridge regression, we will need to scale our data.\n",
    "\n",
    "Scaling data is a critical to regularisation as the penalty on particular coefficients in regularisation techniques depends largely on the scale associated with the variables. Regularisation puts constraints on the size of the coefficients related to each variable. Therefore, rescaling is very important for methods with regularisation because the size of the variables affects how much regularisation will be applied to that specific variable. So to make it fair, we need to get all the features on the same scale. "
   ]
  },
  {
   "cell_type": "markdown",
   "metadata": {},
   "source": [
    "### Data Scaling"
   ]
  },
  {
   "cell_type": "code",
   "execution_count": 98,
   "metadata": {},
   "outputs": [],
   "source": [
    "# Preprocessing\n",
    "from sklearn.preprocessing import StandardScaler"
   ]
  },
  {
   "cell_type": "code",
   "execution_count": 99,
   "metadata": {},
   "outputs": [],
   "source": [
    "# Split data into predictors and response\n",
    "X_ridge = dummy_df.drop('avg_price_per_kg', axis=1)\n",
    "y_ridge = dummy_df['avg_price_per_kg']"
   ]
  },
  {
   "cell_type": "code",
   "execution_count": 100,
   "metadata": {},
   "outputs": [],
   "source": [
    "# Create scaler object\n",
    "scaler = StandardScaler()"
   ]
  },
  {
   "cell_type": "code",
   "execution_count": 101,
   "metadata": {},
   "outputs": [],
   "source": [
    "# Create scaled version of the predictors (there is no need to scale the response)\n",
    "X_scaled = scaler.fit_transform(X_ridge)"
   ]
  },
  {
   "cell_type": "code",
   "execution_count": 102,
   "metadata": {},
   "outputs": [
    {
     "data": {
      "text/html": [
       "<div>\n",
       "<style scoped>\n",
       "    .dataframe tbody tr th:only-of-type {\n",
       "        vertical-align: middle;\n",
       "    }\n",
       "\n",
       "    .dataframe tbody tr th {\n",
       "        vertical-align: top;\n",
       "    }\n",
       "\n",
       "    .dataframe thead th {\n",
       "        text-align: right;\n",
       "    }\n",
       "</style>\n",
       "<table border=\"1\" class=\"dataframe\">\n",
       "  <thead>\n",
       "    <tr style=\"text-align: right;\">\n",
       "      <th></th>\n",
       "      <th>Weight_Kg</th>\n",
       "      <th>Low_Price</th>\n",
       "      <th>High_Price</th>\n",
       "      <th>Sales_Total</th>\n",
       "      <th>Total_Qty_Sold</th>\n",
       "      <th>Total_Kg_Sold</th>\n",
       "      <th>Stock_On_Hand</th>\n",
       "      <th>Province_EASTERN CAPE</th>\n",
       "      <th>Province_NATAL</th>\n",
       "      <th>Province_ORANGE FREE STATE</th>\n",
       "      <th>...</th>\n",
       "      <th>Date_2020-09-07</th>\n",
       "      <th>Date_2020-09-09</th>\n",
       "      <th>Date_2020-09-16</th>\n",
       "      <th>Date_2020-09-17</th>\n",
       "      <th>Date_2020-09-19</th>\n",
       "      <th>Date_2020-09-21</th>\n",
       "      <th>Date_2020-09-23</th>\n",
       "      <th>Date_2020-09-28</th>\n",
       "      <th>Date_2020-10-01</th>\n",
       "      <th>Date_2020-10-03</th>\n",
       "    </tr>\n",
       "  </thead>\n",
       "  <tbody>\n",
       "    <tr>\n",
       "      <th>0</th>\n",
       "      <td>-0.120573</td>\n",
       "      <td>0.076621</td>\n",
       "      <td>0.016742</td>\n",
       "      <td>1.385065</td>\n",
       "      <td>0.755455</td>\n",
       "      <td>1.143643</td>\n",
       "      <td>0.626575</td>\n",
       "      <td>-0.321349</td>\n",
       "      <td>-0.140175</td>\n",
       "      <td>-0.052541</td>\n",
       "      <td>...</td>\n",
       "      <td>-0.083247</td>\n",
       "      <td>10.524696</td>\n",
       "      <td>-0.078947</td>\n",
       "      <td>-0.074407</td>\n",
       "      <td>-0.069577</td>\n",
       "      <td>-0.095015</td>\n",
       "      <td>-0.102133</td>\n",
       "      <td>-0.083247</td>\n",
       "      <td>-0.108805</td>\n",
       "      <td>-0.074407</td>\n",
       "    </tr>\n",
       "    <tr>\n",
       "      <th>1</th>\n",
       "      <td>-0.251064</td>\n",
       "      <td>-0.317181</td>\n",
       "      <td>-0.369182</td>\n",
       "      <td>-0.603068</td>\n",
       "      <td>-0.603553</td>\n",
       "      <td>-0.631306</td>\n",
       "      <td>1.779122</td>\n",
       "      <td>-0.321349</td>\n",
       "      <td>-0.140175</td>\n",
       "      <td>-0.052541</td>\n",
       "      <td>...</td>\n",
       "      <td>-0.083247</td>\n",
       "      <td>-0.095015</td>\n",
       "      <td>-0.078947</td>\n",
       "      <td>-0.074407</td>\n",
       "      <td>-0.069577</td>\n",
       "      <td>-0.095015</td>\n",
       "      <td>-0.102133</td>\n",
       "      <td>-0.083247</td>\n",
       "      <td>-0.108805</td>\n",
       "      <td>-0.074407</td>\n",
       "    </tr>\n",
       "    <tr>\n",
       "      <th>2</th>\n",
       "      <td>-0.120573</td>\n",
       "      <td>-0.213549</td>\n",
       "      <td>-0.151051</td>\n",
       "      <td>0.613252</td>\n",
       "      <td>0.997826</td>\n",
       "      <td>1.451233</td>\n",
       "      <td>-0.012044</td>\n",
       "      <td>-0.321349</td>\n",
       "      <td>-0.140175</td>\n",
       "      <td>-0.052541</td>\n",
       "      <td>...</td>\n",
       "      <td>-0.083247</td>\n",
       "      <td>-0.095015</td>\n",
       "      <td>-0.078947</td>\n",
       "      <td>-0.074407</td>\n",
       "      <td>-0.069577</td>\n",
       "      <td>-0.095015</td>\n",
       "      <td>-0.102133</td>\n",
       "      <td>-0.083247</td>\n",
       "      <td>-0.108805</td>\n",
       "      <td>-0.074407</td>\n",
       "    </tr>\n",
       "    <tr>\n",
       "      <th>3</th>\n",
       "      <td>5.235151</td>\n",
       "      <td>6.916329</td>\n",
       "      <td>5.486804</td>\n",
       "      <td>-0.571318</td>\n",
       "      <td>-0.677130</td>\n",
       "      <td>-0.559871</td>\n",
       "      <td>-0.755134</td>\n",
       "      <td>3.111884</td>\n",
       "      <td>-0.140175</td>\n",
       "      <td>-0.052541</td>\n",
       "      <td>...</td>\n",
       "      <td>-0.083247</td>\n",
       "      <td>-0.095015</td>\n",
       "      <td>-0.078947</td>\n",
       "      <td>-0.074407</td>\n",
       "      <td>-0.069577</td>\n",
       "      <td>-0.095015</td>\n",
       "      <td>-0.102133</td>\n",
       "      <td>12.012493</td>\n",
       "      <td>-0.108805</td>\n",
       "      <td>-0.074407</td>\n",
       "    </tr>\n",
       "    <tr>\n",
       "      <th>4</th>\n",
       "      <td>-0.251064</td>\n",
       "      <td>-0.317181</td>\n",
       "      <td>-0.369182</td>\n",
       "      <td>-0.452155</td>\n",
       "      <td>-0.300590</td>\n",
       "      <td>-0.442214</td>\n",
       "      <td>-0.453517</td>\n",
       "      <td>-0.321349</td>\n",
       "      <td>-0.140175</td>\n",
       "      <td>-0.052541</td>\n",
       "      <td>...</td>\n",
       "      <td>-0.083247</td>\n",
       "      <td>-0.095015</td>\n",
       "      <td>-0.078947</td>\n",
       "      <td>-0.074407</td>\n",
       "      <td>-0.069577</td>\n",
       "      <td>-0.095015</td>\n",
       "      <td>-0.102133</td>\n",
       "      <td>-0.083247</td>\n",
       "      <td>-0.108805</td>\n",
       "      <td>-0.074407</td>\n",
       "    </tr>\n",
       "  </tbody>\n",
       "</table>\n",
       "<p>5 rows × 176 columns</p>\n",
       "</div>"
      ],
      "text/plain": [
       "   Weight_Kg  Low_Price  High_Price  Sales_Total  Total_Qty_Sold  \\\n",
       "0  -0.120573   0.076621    0.016742     1.385065        0.755455   \n",
       "1  -0.251064  -0.317181   -0.369182    -0.603068       -0.603553   \n",
       "2  -0.120573  -0.213549   -0.151051     0.613252        0.997826   \n",
       "3   5.235151   6.916329    5.486804    -0.571318       -0.677130   \n",
       "4  -0.251064  -0.317181   -0.369182    -0.452155       -0.300590   \n",
       "\n",
       "   Total_Kg_Sold  Stock_On_Hand  Province_EASTERN CAPE  Province_NATAL  \\\n",
       "0       1.143643       0.626575              -0.321349       -0.140175   \n",
       "1      -0.631306       1.779122              -0.321349       -0.140175   \n",
       "2       1.451233      -0.012044              -0.321349       -0.140175   \n",
       "3      -0.559871      -0.755134               3.111884       -0.140175   \n",
       "4      -0.442214      -0.453517              -0.321349       -0.140175   \n",
       "\n",
       "   Province_ORANGE FREE STATE  ...  Date_2020-09-07  Date_2020-09-09  \\\n",
       "0                   -0.052541  ...        -0.083247        10.524696   \n",
       "1                   -0.052541  ...        -0.083247        -0.095015   \n",
       "2                   -0.052541  ...        -0.083247        -0.095015   \n",
       "3                   -0.052541  ...        -0.083247        -0.095015   \n",
       "4                   -0.052541  ...        -0.083247        -0.095015   \n",
       "\n",
       "   Date_2020-09-16  Date_2020-09-17  Date_2020-09-19  Date_2020-09-21  \\\n",
       "0        -0.078947        -0.074407        -0.069577        -0.095015   \n",
       "1        -0.078947        -0.074407        -0.069577        -0.095015   \n",
       "2        -0.078947        -0.074407        -0.069577        -0.095015   \n",
       "3        -0.078947        -0.074407        -0.069577        -0.095015   \n",
       "4        -0.078947        -0.074407        -0.069577        -0.095015   \n",
       "\n",
       "   Date_2020-09-23  Date_2020-09-28  Date_2020-10-01  Date_2020-10-03  \n",
       "0        -0.102133        -0.083247        -0.108805        -0.074407  \n",
       "1        -0.102133        -0.083247        -0.108805        -0.074407  \n",
       "2        -0.102133        -0.083247        -0.108805        -0.074407  \n",
       "3        -0.102133        12.012493        -0.108805        -0.074407  \n",
       "4        -0.102133        -0.083247        -0.108805        -0.074407  \n",
       "\n",
       "[5 rows x 176 columns]"
      ]
     },
     "execution_count": 102,
     "metadata": {},
     "output_type": "execute_result"
    }
   ],
   "source": [
    "# Convert the scaled predictor values into a dataframe\n",
    "X_standardise = pd.DataFrame(X_scaled,columns=X_ridge.columns)\n",
    "X_standardise.head()"
   ]
  },
  {
   "cell_type": "markdown",
   "metadata": {},
   "source": [
    "### Ridge Regression"
   ]
  },
  {
   "cell_type": "markdown",
   "metadata": {},
   "source": [
    "Now that we've scaled our data, we can split it into a train and test set."
   ]
  },
  {
   "cell_type": "code",
   "execution_count": 103,
   "metadata": {},
   "outputs": [],
   "source": [
    "#Split the data into train and test, being sure to use the standardised predictors\n",
    "X_train_ridge, X_test_ridge, y_train_ridge, y_test_ridge = train_test_split(X_standardise, \n",
    "                                                    y_ridge, \n",
    "                                                    test_size=0.2, \n",
    "                                                    random_state=42)"
   ]
  },
  {
   "cell_type": "code",
   "execution_count": 104,
   "metadata": {},
   "outputs": [],
   "source": [
    "# Import the ridge regression module from sklearn\n",
    "from sklearn.linear_model import Ridge"
   ]
  },
  {
   "cell_type": "code",
   "execution_count": 105,
   "metadata": {},
   "outputs": [],
   "source": [
    "# Create ridge model\n",
    "ridge = Ridge()"
   ]
  },
  {
   "cell_type": "code",
   "execution_count": 106,
   "metadata": {},
   "outputs": [
    {
     "data": {
      "text/plain": [
       "Ridge(alpha=1.0, copy_X=True, fit_intercept=True, max_iter=None,\n",
       "      normalize=False, random_state=None, solver='auto', tol=0.001)"
      ]
     },
     "execution_count": 106,
     "metadata": {},
     "output_type": "execute_result"
    }
   ],
   "source": [
    "# Train the model\n",
    "ridge.fit(X_train_ridge, y_train_ridge)"
   ]
  },
  {
   "cell_type": "markdown",
   "metadata": {},
   "source": [
    "### Assess the predictive accuracy of the Ridge model \n",
    "We can make use of the `sklearn.metrics` library to assess the accuracy of our model. For comparison, we'll fit a linear model (without regularisation) to the data."
   ]
  },
  {
   "cell_type": "code",
   "execution_count": 107,
   "metadata": {},
   "outputs": [
    {
     "data": {
      "text/plain": [
       "LinearRegression(copy_X=True, fit_intercept=True, n_jobs=-1, normalize=False)"
      ]
     },
     "execution_count": 107,
     "metadata": {},
     "output_type": "execute_result"
    }
   ],
   "source": [
    "# Create linear model object\n",
    "lm = LinearRegression(n_jobs=-1)\n",
    "\n",
    "# Train linear model on scaled data\n",
    "lm.fit(X_train_ridge, y_train_ridge)"
   ]
  },
  {
   "cell_type": "code",
   "execution_count": 108,
   "metadata": {},
   "outputs": [
    {
     "name": "stdout",
     "output_type": "stream",
     "text": [
      "Training RMSE\n",
      "Linear: 1.0979938749515266\n",
      "Ridge : 1.0984122190519405\n"
     ]
    }
   ],
   "source": [
    "# Check training accuracy\n",
    "train_lm = lm.predict(X_train_ridge)\n",
    "train_ridge = ridge.predict(X_train_ridge)\n",
    "\n",
    "print('Training RMSE')\n",
    "print('Linear:', np.sqrt(mean_squared_error(y_train_ridge, train_lm)))\n",
    "print('Ridge :', np.sqrt(mean_squared_error(y_train_ridge, train_ridge)))"
   ]
  },
  {
   "cell_type": "code",
   "execution_count": 109,
   "metadata": {},
   "outputs": [
    {
     "name": "stdout",
     "output_type": "stream",
     "text": [
      "Testing RMSE\n",
      "Linear: 1.352292029817506\n",
      "Ridge : 1.3538910723753452\n"
     ]
    }
   ],
   "source": [
    "test_lm = lm.predict(X_test_ridge)\n",
    "test_ridge = ridge.predict(X_test_ridge)\n",
    "\n",
    "print('Testing RMSE')\n",
    "print('Linear:', np.sqrt(mean_squared_error(y_test_ridge, test_lm)))\n",
    "print('Ridge :', np.sqrt(mean_squared_error(y_test_ridge, test_ridge)))"
   ]
  },
  {
   "cell_type": "markdown",
   "metadata": {},
   "source": [
    "There is no significant improvement in the training MSE nor testing MSE when ridge regression is applied. \n",
    "\n",
    "Let us try **Lasso Regression** to improve our model."
   ]
  },
  {
   "cell_type": "markdown",
   "metadata": {},
   "source": [
    "## Lasso Regression\n",
    "\n",
    "Recall the optimisation expression for ridge regression:\n",
    "\n",
    "$$\\min_{\\beta} (RSS + \\alpha\\sum_{j=1}^pb_j^2)$$\n",
    "\n",
    "where we attempt to minimise the RSS and some penalty term. This can be rewritten:\n",
    "\n",
    "$$\\min_{\\beta} (RSS + \\alpha(L2\\_norm))$$\n",
    "\n",
    "where $L2\\_norm$ is the sum of the squares of the coefficients.\n",
    "\n",
    "In LASSO regularisation, we replace the $L2\\_norm$ with what is known as the $L1\\_norm$: the sum of the _absolute_ values of the coefficients.\n",
    "\n",
    "This is a relatively recent adaptation of ridge regression which is capable of shrinking predictors to exactly zero - effectively removing them from the model entirely and creating what we call a sparse model (one which uses some subset of all of the available predictors). In this way, LASSO achieves both shrinkage and subset selection.\n",
    "\n",
    "A LASSO model is fit under the constraint of minimizing the following equation:\n",
    "\n",
    "$$\\sum_{i=1}^n(y_i-(a+\\sum_{j=1}^pb_jx_{ij}))^2 + \\alpha\\sum_{j=1}^p|b_j|$$\n",
    "\n",
    "which can be rewritten as follows:\n",
    "\n",
    "$$\\min_{\\beta} (RSS + \\alpha\\sum_{j=1}^p|b_j|)$$\n",
    "\n",
    "or,\n",
    "\n",
    "$$\\min_{\\beta} (RSS + \\alpha(L1\\_norm))$$"
   ]
  },
  {
   "cell_type": "markdown",
   "metadata": {},
   "source": [
    "### Data Scaling\n",
    "\n",
    "Again, we will scale our data first."
   ]
  },
  {
   "cell_type": "code",
   "execution_count": 110,
   "metadata": {},
   "outputs": [],
   "source": [
    "# Split data into predictors and response\n",
    "X_feat = dummy_df.drop('avg_price_per_kg', axis=1)\n",
    "y_tar = dummy_df['avg_price_per_kg']"
   ]
  },
  {
   "cell_type": "code",
   "execution_count": 111,
   "metadata": {},
   "outputs": [],
   "source": [
    "# Save standardized features into new variable\n",
    "X_scaled2 = scaler.fit_transform(X_feat)"
   ]
  },
  {
   "cell_type": "code",
   "execution_count": 112,
   "metadata": {},
   "outputs": [],
   "source": [
    "# Split dataset into train and test sets\n",
    "X_train_lasso, X_test_lasso, y_train_lasso, y_test_lasso = train_test_split(X_scaled2, \n",
    "                                                    y_tar, \n",
    "                                                    test_size=0.20,\n",
    "                                                    random_state=42)"
   ]
  },
  {
   "cell_type": "code",
   "execution_count": 113,
   "metadata": {},
   "outputs": [],
   "source": [
    "# Import LASSO module\n",
    "from sklearn.linear_model import Lasso"
   ]
  },
  {
   "cell_type": "code",
   "execution_count": 114,
   "metadata": {},
   "outputs": [],
   "source": [
    "# Create LASSO model object (define model), setting alpha to 0.01\n",
    "lasso = Lasso(alpha=0.01)"
   ]
  },
  {
   "cell_type": "code",
   "execution_count": 115,
   "metadata": {},
   "outputs": [
    {
     "data": {
      "text/plain": [
       "Lasso(alpha=0.01, copy_X=True, fit_intercept=True, max_iter=1000,\n",
       "      normalize=False, positive=False, precompute=False, random_state=None,\n",
       "      selection='cyclic', tol=0.0001, warm_start=False)"
      ]
     },
     "execution_count": 115,
     "metadata": {},
     "output_type": "execute_result"
    }
   ],
   "source": [
    "# Train the LASSO model\n",
    "lasso.fit(X_train_lasso, y_train_lasso)"
   ]
  },
  {
   "cell_type": "code",
   "execution_count": 116,
   "metadata": {},
   "outputs": [],
   "source": [
    "# Extract coefficient from model\n",
    "coeff = pd.DataFrame(lasso.coef_, X_feat.columns, columns=['Coefficient'])"
   ]
  },
  {
   "cell_type": "markdown",
   "metadata": {},
   "source": [
    "Lets visualize the predictors that were shrunk to zero."
   ]
  },
  {
   "cell_type": "code",
   "execution_count": 117,
   "metadata": {},
   "outputs": [
    {
     "data": {
      "text/html": [
       "<div>\n",
       "<style scoped>\n",
       "    .dataframe tbody tr th:only-of-type {\n",
       "        vertical-align: middle;\n",
       "    }\n",
       "\n",
       "    .dataframe tbody tr th {\n",
       "        vertical-align: top;\n",
       "    }\n",
       "\n",
       "    .dataframe thead th {\n",
       "        text-align: right;\n",
       "    }\n",
       "</style>\n",
       "<table border=\"1\" class=\"dataframe\">\n",
       "  <thead>\n",
       "    <tr style=\"text-align: right;\">\n",
       "      <th></th>\n",
       "      <th>Coefficient</th>\n",
       "    </tr>\n",
       "  </thead>\n",
       "  <tbody>\n",
       "    <tr>\n",
       "      <th>Weight_Kg</th>\n",
       "      <td>-0.0</td>\n",
       "    </tr>\n",
       "    <tr>\n",
       "      <th>Date_2019-12-30</th>\n",
       "      <td>0.0</td>\n",
       "    </tr>\n",
       "    <tr>\n",
       "      <th>Date_2020-01-02</th>\n",
       "      <td>0.0</td>\n",
       "    </tr>\n",
       "    <tr>\n",
       "      <th>Date_2020-01-06</th>\n",
       "      <td>0.0</td>\n",
       "    </tr>\n",
       "    <tr>\n",
       "      <th>Date_2020-01-10</th>\n",
       "      <td>-0.0</td>\n",
       "    </tr>\n",
       "    <tr>\n",
       "      <th>Date_2020-01-11</th>\n",
       "      <td>0.0</td>\n",
       "    </tr>\n",
       "    <tr>\n",
       "      <th>Date_2020-02-12</th>\n",
       "      <td>-0.0</td>\n",
       "    </tr>\n",
       "    <tr>\n",
       "      <th>Date_2020-02-15</th>\n",
       "      <td>0.0</td>\n",
       "    </tr>\n",
       "    <tr>\n",
       "      <th>Date_2020-03-17</th>\n",
       "      <td>0.0</td>\n",
       "    </tr>\n",
       "    <tr>\n",
       "      <th>Date_2020-03-20</th>\n",
       "      <td>-0.0</td>\n",
       "    </tr>\n",
       "    <tr>\n",
       "      <th>Date_2020-05-25</th>\n",
       "      <td>0.0</td>\n",
       "    </tr>\n",
       "    <tr>\n",
       "      <th>Date_2020-05-27</th>\n",
       "      <td>-0.0</td>\n",
       "    </tr>\n",
       "    <tr>\n",
       "      <th>Date_2020-06-22</th>\n",
       "      <td>0.0</td>\n",
       "    </tr>\n",
       "    <tr>\n",
       "      <th>Date_2020-06-27</th>\n",
       "      <td>-0.0</td>\n",
       "    </tr>\n",
       "    <tr>\n",
       "      <th>Date_2020-07-01</th>\n",
       "      <td>-0.0</td>\n",
       "    </tr>\n",
       "    <tr>\n",
       "      <th>Date_2020-07-13</th>\n",
       "      <td>0.0</td>\n",
       "    </tr>\n",
       "    <tr>\n",
       "      <th>Date_2020-07-20</th>\n",
       "      <td>-0.0</td>\n",
       "    </tr>\n",
       "    <tr>\n",
       "      <th>Date_2020-07-30</th>\n",
       "      <td>0.0</td>\n",
       "    </tr>\n",
       "    <tr>\n",
       "      <th>Date_2020-07-31</th>\n",
       "      <td>0.0</td>\n",
       "    </tr>\n",
       "    <tr>\n",
       "      <th>Date_2020-08-13</th>\n",
       "      <td>0.0</td>\n",
       "    </tr>\n",
       "    <tr>\n",
       "      <th>Date_2020-08-20</th>\n",
       "      <td>0.0</td>\n",
       "    </tr>\n",
       "    <tr>\n",
       "      <th>Date_2020-08-25</th>\n",
       "      <td>-0.0</td>\n",
       "    </tr>\n",
       "    <tr>\n",
       "      <th>Date_2020-08-27</th>\n",
       "      <td>0.0</td>\n",
       "    </tr>\n",
       "    <tr>\n",
       "      <th>Date_2020-09-01</th>\n",
       "      <td>-0.0</td>\n",
       "    </tr>\n",
       "  </tbody>\n",
       "</table>\n",
       "</div>"
      ],
      "text/plain": [
       "                 Coefficient\n",
       "Weight_Kg               -0.0\n",
       "Date_2019-12-30          0.0\n",
       "Date_2020-01-02          0.0\n",
       "Date_2020-01-06          0.0\n",
       "Date_2020-01-10         -0.0\n",
       "Date_2020-01-11          0.0\n",
       "Date_2020-02-12         -0.0\n",
       "Date_2020-02-15          0.0\n",
       "Date_2020-03-17          0.0\n",
       "Date_2020-03-20         -0.0\n",
       "Date_2020-05-25          0.0\n",
       "Date_2020-05-27         -0.0\n",
       "Date_2020-06-22          0.0\n",
       "Date_2020-06-27         -0.0\n",
       "Date_2020-07-01         -0.0\n",
       "Date_2020-07-13          0.0\n",
       "Date_2020-07-20         -0.0\n",
       "Date_2020-07-30          0.0\n",
       "Date_2020-07-31          0.0\n",
       "Date_2020-08-13          0.0\n",
       "Date_2020-08-20          0.0\n",
       "Date_2020-08-25         -0.0\n",
       "Date_2020-08-27          0.0\n",
       "Date_2020-09-01         -0.0"
      ]
     },
     "execution_count": 117,
     "metadata": {},
     "output_type": "execute_result"
    }
   ],
   "source": [
    "no = coeff[coeff['Coefficient']==0]\n",
    "no"
   ]
  },
  {
   "cell_type": "code",
   "execution_count": 118,
   "metadata": {},
   "outputs": [
    {
     "data": {
      "text/plain": [
       "['Weight_Kg',\n",
       " 'Date_2019-12-30',\n",
       " 'Date_2020-01-02',\n",
       " 'Date_2020-01-06',\n",
       " 'Date_2020-01-10',\n",
       " 'Date_2020-01-11',\n",
       " 'Date_2020-02-12',\n",
       " 'Date_2020-02-15',\n",
       " 'Date_2020-03-17',\n",
       " 'Date_2020-03-20',\n",
       " 'Date_2020-05-25',\n",
       " 'Date_2020-05-27',\n",
       " 'Date_2020-06-22',\n",
       " 'Date_2020-06-27',\n",
       " 'Date_2020-07-01',\n",
       " 'Date_2020-07-13',\n",
       " 'Date_2020-07-20',\n",
       " 'Date_2020-07-30',\n",
       " 'Date_2020-07-31',\n",
       " 'Date_2020-08-13',\n",
       " 'Date_2020-08-20',\n",
       " 'Date_2020-08-25',\n",
       " 'Date_2020-08-27',\n",
       " 'Date_2020-09-01']"
      ]
     },
     "execution_count": 118,
     "metadata": {},
     "output_type": "execute_result"
    }
   ],
   "source": [
    "index_list = no.index.tolist()\n",
    "index_list"
   ]
  },
  {
   "cell_type": "markdown",
   "metadata": {},
   "source": [
    "### Assessment of predictive accuracy\n",
    "\n",
    "Again, we'll make use of the `sklearn.metrics` library to assess the accuracy of our model. We'll fit the following models as well, in order to compare the LASSO results thoroughly:\n",
    "\n",
    "- A least squares model using all available predictors;\n",
    "- A least squares model using the predictors with non-zero coefficients from LASSO;\n",
    "- A ridge regression model using all available predictors."
   ]
  },
  {
   "cell_type": "markdown",
   "metadata": {},
   "source": [
    "First, we'll create a subset of our data set, removing all predictor variables with a coefficient of zero."
   ]
  },
  {
   "cell_type": "code",
   "execution_count": 119,
   "metadata": {},
   "outputs": [
    {
     "data": {
      "text/plain": [
       "(1453, 152)"
      ]
     },
     "execution_count": 119,
     "metadata": {},
     "output_type": "execute_result"
    }
   ],
   "source": [
    "X_subset = X_feat.drop(['Weight_Kg',\n",
    " 'Date_2019-12-30',\n",
    " 'Date_2020-01-02',\n",
    " 'Date_2020-01-06',\n",
    " 'Date_2020-01-10',\n",
    " 'Date_2020-01-11',\n",
    " 'Date_2020-02-12',\n",
    " 'Date_2020-02-15',\n",
    " 'Date_2020-03-17',\n",
    " 'Date_2020-03-20',\n",
    " 'Date_2020-05-25',\n",
    " 'Date_2020-05-27',\n",
    " 'Date_2020-06-22',\n",
    " 'Date_2020-06-27',\n",
    " 'Date_2020-07-01',\n",
    " 'Date_2020-07-13',\n",
    " 'Date_2020-07-20',\n",
    " 'Date_2020-07-30',\n",
    " 'Date_2020-07-31',\n",
    " 'Date_2020-08-13',\n",
    " 'Date_2020-08-20',\n",
    " 'Date_2020-08-25',\n",
    " 'Date_2020-08-27',\n",
    " 'Date_2020-09-01'],axis=1)\n",
    "X_subset.shape"
   ]
  },
  {
   "cell_type": "code",
   "execution_count": 120,
   "metadata": {},
   "outputs": [],
   "source": [
    "# scale subset data\n",
    "X_subset_scaled = scaler.fit_transform(X_subset)\n",
    "\n",
    "# create train and test set of the subset data\n",
    "X_train2, X_test2, y_train2, y_test2 = train_test_split(X_subset_scaled, \n",
    "                                                        y_tar, \n",
    "                                                        test_size=0.20, \n",
    "                                                        random_state=1,\n",
    "                                                        shuffle=False)\n",
    "\n",
    "# Least squares using non-zero variables from LASSO\n",
    "lm_subset = LinearRegression()\n",
    "\n",
    "# Least squares using all predictors\n",
    "lm_all = LinearRegression()\n",
    "\n",
    "# Ridge using all predictors\n",
    "ridge = Ridge()"
   ]
  },
  {
   "cell_type": "code",
   "execution_count": 121,
   "metadata": {},
   "outputs": [
    {
     "data": {
      "text/plain": [
       "Ridge(alpha=1.0, copy_X=True, fit_intercept=True, max_iter=None,\n",
       "      normalize=False, random_state=None, solver='auto', tol=0.001)"
      ]
     },
     "execution_count": 121,
     "metadata": {},
     "output_type": "execute_result"
    }
   ],
   "source": [
    "# Train the models\n",
    "lm_subset.fit(X_train2, y_train2)\n",
    "lm_all.fit(X_train_lasso, y_train_lasso)\n",
    "ridge.fit(X_train_lasso, y_train_lasso)"
   ]
  },
  {
   "cell_type": "code",
   "execution_count": 122,
   "metadata": {},
   "outputs": [],
   "source": [
    "# Make training set predictions for each model\n",
    "train_lm_subset = lm_subset.predict(X_train2)\n",
    "train_lm_all = lm_all.predict(X_train_lasso)\n",
    "train_ridge = ridge.predict(X_train_lasso)\n",
    "train_lasso = lasso.predict(X_train_lasso)"
   ]
  },
  {
   "cell_type": "code",
   "execution_count": 123,
   "metadata": {},
   "outputs": [],
   "source": [
    "# Make test set predictions for each model\n",
    "test_lm_subset = lm_subset.predict(X_test2)\n",
    "test_lm_all = lm_all.predict(X_test_lasso)\n",
    "test_ridge = ridge.predict(X_test_lasso)\n",
    "test_lasso = lasso.predict(X_test_lasso)"
   ]
  },
  {
   "cell_type": "code",
   "execution_count": 124,
   "metadata": {},
   "outputs": [],
   "source": [
    "# Dictionary of results\n",
    "results_dict = {'Training RMSE':\n",
    "                    {\n",
    "                        \"Least Squares, Subset\": np.sqrt(mean_squared_error(y_train2, train_lm_subset)),\n",
    "                        \"Least Squares, All\": np.sqrt(mean_squared_error(y_train_lasso, train_lm_all)),\n",
    "                        \"Ridge\": np.sqrt(mean_squared_error(y_train_lasso, train_ridge)),\n",
    "                        \"LASSO\": np.sqrt(mean_squared_error(y_train_lasso, train_lasso))\n",
    "                    },\n",
    "                    'Test RMSE':\n",
    "                    {\n",
    "                        \"Least Squares, Subset\": np.sqrt(mean_squared_error(y_test2, test_lm_subset)),\n",
    "                        \"Least Squares, All\": np.sqrt(mean_squared_error(y_test_lasso, test_lm_all)),\n",
    "                        \"Ridge\": np.sqrt(mean_squared_error(y_test_lasso, test_ridge)),\n",
    "                        \"LASSO\": np.sqrt(mean_squared_error(y_test_lasso, test_lasso))\n",
    "                    }\n",
    "                }"
   ]
  },
  {
   "cell_type": "code",
   "execution_count": 125,
   "metadata": {},
   "outputs": [
    {
     "data": {
      "text/html": [
       "<div>\n",
       "<style scoped>\n",
       "    .dataframe tbody tr th:only-of-type {\n",
       "        vertical-align: middle;\n",
       "    }\n",
       "\n",
       "    .dataframe tbody tr th {\n",
       "        vertical-align: top;\n",
       "    }\n",
       "\n",
       "    .dataframe thead th {\n",
       "        text-align: right;\n",
       "    }\n",
       "</style>\n",
       "<table border=\"1\" class=\"dataframe\">\n",
       "  <thead>\n",
       "    <tr style=\"text-align: right;\">\n",
       "      <th></th>\n",
       "      <th>Training RMSE</th>\n",
       "      <th>Test RMSE</th>\n",
       "    </tr>\n",
       "  </thead>\n",
       "  <tbody>\n",
       "    <tr>\n",
       "      <th>LASSO</th>\n",
       "      <td>1.132566</td>\n",
       "      <td>1.356620</td>\n",
       "    </tr>\n",
       "    <tr>\n",
       "      <th>Least Squares, All</th>\n",
       "      <td>1.097984</td>\n",
       "      <td>1.352162</td>\n",
       "    </tr>\n",
       "    <tr>\n",
       "      <th>Least Squares, Subset</th>\n",
       "      <td>1.112167</td>\n",
       "      <td>1.418930</td>\n",
       "    </tr>\n",
       "    <tr>\n",
       "      <th>Ridge</th>\n",
       "      <td>1.098412</td>\n",
       "      <td>1.353891</td>\n",
       "    </tr>\n",
       "  </tbody>\n",
       "</table>\n",
       "</div>"
      ],
      "text/plain": [
       "                       Training RMSE  Test RMSE\n",
       "LASSO                       1.132566   1.356620\n",
       "Least Squares, All          1.097984   1.352162\n",
       "Least Squares, Subset       1.112167   1.418930\n",
       "Ridge                       1.098412   1.353891"
      ]
     },
     "execution_count": 125,
     "metadata": {},
     "output_type": "execute_result"
    }
   ],
   "source": [
    "# Create dataframe from dictionary\n",
    "results_df = pd.DataFrame(data=results_dict)\n",
    "results_df"
   ]
  },
  {
   "cell_type": "markdown",
   "metadata": {},
   "source": [
    "Training the linear model on the subset of data (predictor variables dropped with coefficient = 0) is not a good idea since the test RMSE is highest compared to all the other models.\n",
    "\n",
    "From the above table we can see that the training RMSE actually increased using Lasso regression, whilst the test RMSE decreased. This shows that our Lasso model is actually overfitting less on our training set.\n",
    "\n",
    "However, the test RMSE is still not what we desire. We will investigate more complex models in our quest to improve the predictive power of our model."
   ]
  },
  {
   "cell_type": "markdown",
   "metadata": {},
   "source": [
    "# Decision Trees"
   ]
  },
  {
   "cell_type": "markdown",
   "metadata": {},
   "source": [
    "Decision Trees are tree-like (upside down) machine learning models which represent data by partitioning it into different sections based on questions asked of predictive variables in the data. "
   ]
  },
  {
   "cell_type": "code",
   "execution_count": 154,
   "metadata": {},
   "outputs": [],
   "source": [
    "# set test size to 20 % of training data\n",
    "x_train, x_test, y_train, y_test = train_test_split(X_scaled2, y_tar, test_size=0.2, random_state=42)"
   ]
  },
  {
   "cell_type": "markdown",
   "metadata": {},
   "source": [
    "### Building the Decision Tree"
   ]
  },
  {
   "cell_type": "code",
   "execution_count": 127,
   "metadata": {},
   "outputs": [],
   "source": [
    "# import DecisionTreeRegressor\n",
    "from sklearn.tree import DecisionTreeRegressor"
   ]
  },
  {
   "cell_type": "markdown",
   "metadata": {},
   "source": [
    "#### Decision Tree model tuning"
   ]
  },
  {
   "cell_type": "markdown",
   "metadata": {},
   "source": [
    "Tuning the hyperparamaters of the Decision Tree model is important to obtain optimal performance. Let's create a dictionary that houses a lists of values where we will choose from to tune the hyperparamaters. We will be tuning `max_depth`, `min_samples_leaf` and `min_samples_split`."
   ]
  },
  {
   "cell_type": "code",
   "execution_count": 141,
   "metadata": {},
   "outputs": [],
   "source": [
    "param_dist = {'max_depth':list(range(3,24,3)),'min_samples_leaf':list(range(5,100,10)), 'min_samples_split': list(range(10,50,10))}"
   ]
  },
  {
   "cell_type": "markdown",
   "metadata": {},
   "source": [
    "In order to find the best combination of hyperparamaters, we will import `GridSearchCV`."
   ]
  },
  {
   "cell_type": "code",
   "execution_count": 132,
   "metadata": {},
   "outputs": [],
   "source": [
    "from sklearn.model_selection import GridSearchCV"
   ]
  },
  {
   "cell_type": "code",
   "execution_count": 142,
   "metadata": {},
   "outputs": [],
   "source": [
    "regr_tree = DecisionTreeRegressor()\n",
    "grid = GridSearchCV(regr_tree,param_grid=param_dist, cv=10, n_jobs=-1)"
   ]
  },
  {
   "cell_type": "code",
   "execution_count": 143,
   "metadata": {},
   "outputs": [
    {
     "name": "stderr",
     "output_type": "stream",
     "text": [
      "C:\\Users\\Hendri\\Anaconda3\\lib\\site-packages\\sklearn\\model_selection\\_search.py:813: DeprecationWarning: The default of the `iid` parameter will change from True to False in version 0.22 and will be removed in 0.24. This will change numeric results when test-set sizes are unequal.\n",
      "  DeprecationWarning)\n"
     ]
    },
    {
     "data": {
      "text/plain": [
       "GridSearchCV(cv=10, error_score='raise-deprecating',\n",
       "             estimator=DecisionTreeRegressor(criterion='mse', max_depth=None,\n",
       "                                             max_features=None,\n",
       "                                             max_leaf_nodes=None,\n",
       "                                             min_impurity_decrease=0.0,\n",
       "                                             min_impurity_split=None,\n",
       "                                             min_samples_leaf=1,\n",
       "                                             min_samples_split=2,\n",
       "                                             min_weight_fraction_leaf=0.0,\n",
       "                                             presort=False, random_state=None,\n",
       "                                             splitter='best'),\n",
       "             iid='warn', n_jobs=-1,\n",
       "             param_grid={'max_depth': [3, 6, 9, 12, 15, 18, 21],\n",
       "                         'min_samples_leaf': [5, 15, 25, 35, 45, 55, 65, 75, 85,\n",
       "                                              95],\n",
       "                         'min_samples_split': [10, 20, 30, 40]},\n",
       "             pre_dispatch='2*n_jobs', refit=True, return_train_score=False,\n",
       "             scoring=None, verbose=0)"
      ]
     },
     "execution_count": 143,
     "metadata": {},
     "output_type": "execute_result"
    }
   ],
   "source": [
    "# fit the grid to the train set in order to find best combination of hyperparamters\n",
    "grid.fit(x_train,y_train)"
   ]
  },
  {
   "cell_type": "code",
   "execution_count": 144,
   "metadata": {},
   "outputs": [
    {
     "data": {
      "text/plain": [
       "DecisionTreeRegressor(criterion='mse', max_depth=15, max_features=None,\n",
       "                      max_leaf_nodes=None, min_impurity_decrease=0.0,\n",
       "                      min_impurity_split=None, min_samples_leaf=5,\n",
       "                      min_samples_split=20, min_weight_fraction_leaf=0.0,\n",
       "                      presort=False, random_state=None, splitter='best')"
      ]
     },
     "execution_count": 144,
     "metadata": {},
     "output_type": "execute_result"
    }
   ],
   "source": [
    "# show hyperparamters of DecisionTreeRegressor\n",
    "grid.best_estimator_"
   ]
  },
  {
   "cell_type": "code",
   "execution_count": 145,
   "metadata": {},
   "outputs": [
    {
     "data": {
      "text/plain": [
       "0.8422271064619952"
      ]
     },
     "execution_count": 145,
     "metadata": {},
     "output_type": "execute_result"
    }
   ],
   "source": [
    "# show best r^2 value from combinations available\n",
    "grid.best_score_"
   ]
  },
  {
   "cell_type": "code",
   "execution_count": 146,
   "metadata": {},
   "outputs": [
    {
     "data": {
      "text/plain": [
       "{'max_depth': 15, 'min_samples_leaf': 5, 'min_samples_split': 20}"
      ]
     },
     "execution_count": 146,
     "metadata": {},
     "output_type": "execute_result"
    }
   ],
   "source": [
    "# show best combination of values for hyperparamaters that were investigated\n",
    "grid.best_params_"
   ]
  },
  {
   "cell_type": "markdown",
   "metadata": {},
   "source": [
    "Now, lets apply these optimal hyperparamaters to our **DecisionTreeRegressor**."
   ]
  },
  {
   "cell_type": "code",
   "execution_count": 155,
   "metadata": {},
   "outputs": [],
   "source": [
    "# Instantiate regression tree model\n",
    "regr_tree = DecisionTreeRegressor(max_depth=15,min_samples_leaf=5,min_samples_split=20,random_state=42)"
   ]
  },
  {
   "cell_type": "code",
   "execution_count": 156,
   "metadata": {},
   "outputs": [
    {
     "data": {
      "text/plain": [
       "DecisionTreeRegressor(criterion='mse', max_depth=15, max_features=None,\n",
       "                      max_leaf_nodes=None, min_impurity_decrease=0.0,\n",
       "                      min_impurity_split=None, min_samples_leaf=5,\n",
       "                      min_samples_split=20, min_weight_fraction_leaf=0.0,\n",
       "                      presort=False, random_state=42, splitter='best')"
      ]
     },
     "execution_count": 156,
     "metadata": {},
     "output_type": "execute_result"
    }
   ],
   "source": [
    "# fit and train model\n",
    "regr_tree.fit(x_train,y_train)"
   ]
  },
  {
   "cell_type": "code",
   "execution_count": 157,
   "metadata": {},
   "outputs": [
    {
     "name": "stdout",
     "output_type": "stream",
     "text": [
      "Regression Decision Tree model RMSE is: 0.7105806579948765\n"
     ]
    }
   ],
   "source": [
    "# get predictions for test data\n",
    "y_pred = regr_tree.predict(x_test)\n",
    "\n",
    "# calculate MSE\n",
    "MSE = mean_squared_error(y_pred,y_test)\n",
    "\n",
    "# Report RMSE\n",
    "print(\"Regression Decision Tree model RMSE is:\",np.sqrt(MSE))"
   ]
  },
  {
   "cell_type": "markdown",
   "metadata": {},
   "source": [
    "The RMSE for the test set improved significantly from 1.40 (Lasso) to 0.69 (Decision Tree), however we would like to improve the RMSE even further. Thus, let's enter the Random Forest... "
   ]
  },
  {
   "cell_type": "markdown",
   "metadata": {},
   "source": [
    "# Random Forests"
   ]
  },
  {
   "cell_type": "markdown",
   "metadata": {},
   "source": [
    "A random forest is a powerful non-parametric algorithm and as mentioned is an example of an **ensemble** method built on decision trees, meaning that it relies on aggregating the results of an ensemble of decision trees. The ensembled trees are randomized and the output is mean prediction of the individual trees."
   ]
  },
  {
   "cell_type": "code",
   "execution_count": 158,
   "metadata": {},
   "outputs": [],
   "source": [
    "# set test size to 20 % of training data\n",
    "x_train_random, x_test_random, y_train_random, y_test_random = train_test_split(X_scaled2, y_tar, test_size=0.2, random_state=42)"
   ]
  },
  {
   "cell_type": "code",
   "execution_count": 159,
   "metadata": {},
   "outputs": [],
   "source": [
    "# import RandomForesRegressor\n",
    "from sklearn.ensemble import RandomForestRegressor"
   ]
  },
  {
   "cell_type": "markdown",
   "metadata": {},
   "source": [
    "#### Model Tuning for Random Forest"
   ]
  },
  {
   "cell_type": "code",
   "execution_count": 163,
   "metadata": {},
   "outputs": [],
   "source": [
    "# dictionary containing list of values for getting optimal hyperparamaters\n",
    "param_dist_rf = {'n_estimators': list(range(20,140,20)),'max_depth': list(range(10,30,5)),'min_samples_split':list(range(5,50,10))}"
   ]
  },
  {
   "cell_type": "code",
   "execution_count": 164,
   "metadata": {},
   "outputs": [],
   "source": [
    "# define grid\n",
    "grid_rf = GridSearchCV(RF,param_grid=param_dist_rf, cv=10, n_jobs=-1)"
   ]
  },
  {
   "cell_type": "code",
   "execution_count": 165,
   "metadata": {},
   "outputs": [
    {
     "data": {
      "text/plain": [
       "GridSearchCV(cv=10, error_score='raise-deprecating',\n",
       "             estimator=RandomForestRegressor(bootstrap=True, criterion='mse',\n",
       "                                             max_depth=15, max_features='auto',\n",
       "                                             max_leaf_nodes=None,\n",
       "                                             min_impurity_decrease=0.0,\n",
       "                                             min_impurity_split=None,\n",
       "                                             min_samples_leaf=1,\n",
       "                                             min_samples_split=5,\n",
       "                                             min_weight_fraction_leaf=0.0,\n",
       "                                             n_estimators=120, n_jobs=None,\n",
       "                                             oob_score=False, random_state=1,\n",
       "                                             verbose=0, warm_start=False),\n",
       "             iid='warn', n_jobs=-1,\n",
       "             param_grid={'max_depth': [10, 15, 20, 25],\n",
       "                         'min_samples_split': [5, 15, 25, 35, 45],\n",
       "                         'n_estimators': [20, 40, 60, 80, 100, 120]},\n",
       "             pre_dispatch='2*n_jobs', refit=True, return_train_score=False,\n",
       "             scoring=None, verbose=0)"
      ]
     },
     "execution_count": 165,
     "metadata": {},
     "output_type": "execute_result"
    }
   ],
   "source": [
    "# fit and train grid\n",
    "grid_rf.fit(x_train_random,y_train_random)"
   ]
  },
  {
   "cell_type": "code",
   "execution_count": 166,
   "metadata": {},
   "outputs": [
    {
     "data": {
      "text/plain": [
       "0.8931248265653742"
      ]
     },
     "execution_count": 166,
     "metadata": {},
     "output_type": "execute_result"
    }
   ],
   "source": [
    "# return best r^2 value for optimal combination of hyperparamaters\n",
    "grid_rf.best_score_"
   ]
  },
  {
   "cell_type": "code",
   "execution_count": 167,
   "metadata": {},
   "outputs": [
    {
     "data": {
      "text/plain": [
       "{'max_depth': 25, 'min_samples_split': 5, 'n_estimators': 60}"
      ]
     },
     "execution_count": 167,
     "metadata": {},
     "output_type": "execute_result"
    }
   ],
   "source": [
    "# get best combination of hyperparamaters that was tuned\n",
    "grid_rf.best_params_"
   ]
  },
  {
   "cell_type": "markdown",
   "metadata": {},
   "source": [
    "Now, lets apply these optimal hyperparamaters to our **RandomForestRegressor**."
   ]
  },
  {
   "cell_type": "code",
   "execution_count": 168,
   "metadata": {},
   "outputs": [],
   "source": [
    "# Instantiate Random Forest model with optimal hyperparamters\n",
    "RF = RandomForestRegressor(n_estimators=120, max_depth=15, min_samples_split=5,random_state=1)"
   ]
  },
  {
   "cell_type": "code",
   "execution_count": 169,
   "metadata": {},
   "outputs": [
    {
     "data": {
      "text/plain": [
       "RandomForestRegressor(bootstrap=True, criterion='mse', max_depth=15,\n",
       "                      max_features='auto', max_leaf_nodes=None,\n",
       "                      min_impurity_decrease=0.0, min_impurity_split=None,\n",
       "                      min_samples_leaf=1, min_samples_split=5,\n",
       "                      min_weight_fraction_leaf=0.0, n_estimators=120,\n",
       "                      n_jobs=None, oob_score=False, random_state=1, verbose=0,\n",
       "                      warm_start=False)"
      ]
     },
     "execution_count": 169,
     "metadata": {},
     "output_type": "execute_result"
    }
   ],
   "source": [
    "# fit and train model\n",
    "RF.fit(x_train_random,y_train_random)"
   ]
  },
  {
   "cell_type": "code",
   "execution_count": 170,
   "metadata": {},
   "outputs": [
    {
     "name": "stdout",
     "output_type": "stream",
     "text": [
      "RMSE: 0.612020534211102\n"
     ]
    }
   ],
   "source": [
    "# Get predictions\n",
    "y_predictions = RF.predict(x_test_random)\n",
    "\n",
    "# Compute RMSE\n",
    "print(\"RMSE:\",np.sqrt(mean_squared_error(y_test_random,y_predictions)))"
   ]
  },
  {
   "cell_type": "markdown",
   "metadata": {},
   "source": [
    "# Feature Importance"
   ]
  },
  {
   "cell_type": "code",
   "execution_count": null,
   "metadata": {},
   "outputs": [],
   "source": []
  },
  {
   "cell_type": "code",
   "execution_count": 110,
   "metadata": {},
   "outputs": [
    {
     "data": {
      "text/html": [
       "<div>\n",
       "<style scoped>\n",
       "    .dataframe tbody tr th:only-of-type {\n",
       "        vertical-align: middle;\n",
       "    }\n",
       "\n",
       "    .dataframe tbody tr th {\n",
       "        vertical-align: top;\n",
       "    }\n",
       "\n",
       "    .dataframe thead th {\n",
       "        text-align: right;\n",
       "    }\n",
       "</style>\n",
       "<table border=\"1\" class=\"dataframe\">\n",
       "  <thead>\n",
       "    <tr style=\"text-align: right;\">\n",
       "      <th></th>\n",
       "      <th>Feature Importance</th>\n",
       "    </tr>\n",
       "  </thead>\n",
       "  <tbody>\n",
       "    <tr>\n",
       "      <th>Low_Price</th>\n",
       "      <td>0.445786</td>\n",
       "    </tr>\n",
       "    <tr>\n",
       "      <th>High_Price</th>\n",
       "      <td>0.251410</td>\n",
       "    </tr>\n",
       "    <tr>\n",
       "      <th>Weight_Kg</th>\n",
       "      <td>0.161601</td>\n",
       "    </tr>\n",
       "    <tr>\n",
       "      <th>Container_IA400</th>\n",
       "      <td>0.082890</td>\n",
       "    </tr>\n",
       "    <tr>\n",
       "      <th>Sales_Total</th>\n",
       "      <td>0.028154</td>\n",
       "    </tr>\n",
       "    <tr>\n",
       "      <th>Stock_On_Hand</th>\n",
       "      <td>0.007518</td>\n",
       "    </tr>\n",
       "    <tr>\n",
       "      <th>Container_M4183</th>\n",
       "      <td>0.005685</td>\n",
       "    </tr>\n",
       "    <tr>\n",
       "      <th>Total_Kg_Sold</th>\n",
       "      <td>0.005154</td>\n",
       "    </tr>\n",
       "    <tr>\n",
       "      <th>Total_Qty_Sold</th>\n",
       "      <td>0.004026</td>\n",
       "    </tr>\n",
       "    <tr>\n",
       "      <th>Container_EC120</th>\n",
       "      <td>0.002667</td>\n",
       "    </tr>\n",
       "    <tr>\n",
       "      <th>Container_JE090</th>\n",
       "      <td>0.002248</td>\n",
       "    </tr>\n",
       "    <tr>\n",
       "      <th>Size_Grade_1S</th>\n",
       "      <td>0.000526</td>\n",
       "    </tr>\n",
       "    <tr>\n",
       "      <th>Container_JG110</th>\n",
       "      <td>0.000466</td>\n",
       "    </tr>\n",
       "    <tr>\n",
       "      <th>Province_EASTERN CAPE</th>\n",
       "      <td>0.000418</td>\n",
       "    </tr>\n",
       "    <tr>\n",
       "      <th>Size_Grade_2S</th>\n",
       "      <td>0.000386</td>\n",
       "    </tr>\n",
       "    <tr>\n",
       "      <th>Size_Grade_1M</th>\n",
       "      <td>0.000365</td>\n",
       "    </tr>\n",
       "    <tr>\n",
       "      <th>Province_NATAL</th>\n",
       "      <td>0.000242</td>\n",
       "    </tr>\n",
       "    <tr>\n",
       "      <th>Province_W.CAPE-BERGRIVER ETC</th>\n",
       "      <td>0.000179</td>\n",
       "    </tr>\n",
       "    <tr>\n",
       "      <th>Size_Grade_2M</th>\n",
       "      <td>0.000137</td>\n",
       "    </tr>\n",
       "    <tr>\n",
       "      <th>Size_Grade_1X</th>\n",
       "      <td>0.000114</td>\n",
       "    </tr>\n",
       "    <tr>\n",
       "      <th>Size_Grade_2L</th>\n",
       "      <td>0.000022</td>\n",
       "    </tr>\n",
       "    <tr>\n",
       "      <th>Province_WEST COAST</th>\n",
       "      <td>0.000007</td>\n",
       "    </tr>\n",
       "    <tr>\n",
       "      <th>Date_2020-06-19</th>\n",
       "      <td>0.000000</td>\n",
       "    </tr>\n",
       "    <tr>\n",
       "      <th>Date_2020-06-22</th>\n",
       "      <td>0.000000</td>\n",
       "    </tr>\n",
       "    <tr>\n",
       "      <th>Date_2020-06-24</th>\n",
       "      <td>0.000000</td>\n",
       "    </tr>\n",
       "    <tr>\n",
       "      <th>Date_2020-06-25</th>\n",
       "      <td>0.000000</td>\n",
       "    </tr>\n",
       "    <tr>\n",
       "      <th>Date_2020-06-27</th>\n",
       "      <td>0.000000</td>\n",
       "    </tr>\n",
       "    <tr>\n",
       "      <th>Date_2020-07-01</th>\n",
       "      <td>0.000000</td>\n",
       "    </tr>\n",
       "    <tr>\n",
       "      <th>Date_2020-07-06</th>\n",
       "      <td>0.000000</td>\n",
       "    </tr>\n",
       "    <tr>\n",
       "      <th>Date_2020-07-07</th>\n",
       "      <td>0.000000</td>\n",
       "    </tr>\n",
       "    <tr>\n",
       "      <th>...</th>\n",
       "      <td>...</td>\n",
       "    </tr>\n",
       "    <tr>\n",
       "      <th>Date_2020-04-07</th>\n",
       "      <td>0.000000</td>\n",
       "    </tr>\n",
       "    <tr>\n",
       "      <th>Date_2020-04-15</th>\n",
       "      <td>0.000000</td>\n",
       "    </tr>\n",
       "    <tr>\n",
       "      <th>Date_2020-02-14</th>\n",
       "      <td>0.000000</td>\n",
       "    </tr>\n",
       "    <tr>\n",
       "      <th>Date_2020-04-16</th>\n",
       "      <td>0.000000</td>\n",
       "    </tr>\n",
       "    <tr>\n",
       "      <th>Date_2020-04-17</th>\n",
       "      <td>0.000000</td>\n",
       "    </tr>\n",
       "    <tr>\n",
       "      <th>Date_2020-04-21</th>\n",
       "      <td>0.000000</td>\n",
       "    </tr>\n",
       "    <tr>\n",
       "      <th>Date_2020-04-22</th>\n",
       "      <td>0.000000</td>\n",
       "    </tr>\n",
       "    <tr>\n",
       "      <th>Date_2020-04-23</th>\n",
       "      <td>0.000000</td>\n",
       "    </tr>\n",
       "    <tr>\n",
       "      <th>Date_2020-04-28</th>\n",
       "      <td>0.000000</td>\n",
       "    </tr>\n",
       "    <tr>\n",
       "      <th>Date_2020-04-29</th>\n",
       "      <td>0.000000</td>\n",
       "    </tr>\n",
       "    <tr>\n",
       "      <th>Date_2020-03-23</th>\n",
       "      <td>0.000000</td>\n",
       "    </tr>\n",
       "    <tr>\n",
       "      <th>Date_2020-03-20</th>\n",
       "      <td>0.000000</td>\n",
       "    </tr>\n",
       "    <tr>\n",
       "      <th>Date_2020-03-17</th>\n",
       "      <td>0.000000</td>\n",
       "    </tr>\n",
       "    <tr>\n",
       "      <th>Date_2020-03-16</th>\n",
       "      <td>0.000000</td>\n",
       "    </tr>\n",
       "    <tr>\n",
       "      <th>Date_2020-02-15</th>\n",
       "      <td>0.000000</td>\n",
       "    </tr>\n",
       "    <tr>\n",
       "      <th>Date_2020-02-19</th>\n",
       "      <td>0.000000</td>\n",
       "    </tr>\n",
       "    <tr>\n",
       "      <th>Date_2020-02-21</th>\n",
       "      <td>0.000000</td>\n",
       "    </tr>\n",
       "    <tr>\n",
       "      <th>Date_2020-02-22</th>\n",
       "      <td>0.000000</td>\n",
       "    </tr>\n",
       "    <tr>\n",
       "      <th>Date_2020-02-25</th>\n",
       "      <td>0.000000</td>\n",
       "    </tr>\n",
       "    <tr>\n",
       "      <th>Date_2020-02-26</th>\n",
       "      <td>0.000000</td>\n",
       "    </tr>\n",
       "    <tr>\n",
       "      <th>Date_2020-02-27</th>\n",
       "      <td>0.000000</td>\n",
       "    </tr>\n",
       "    <tr>\n",
       "      <th>Date_2020-03-04</th>\n",
       "      <td>0.000000</td>\n",
       "    </tr>\n",
       "    <tr>\n",
       "      <th>Date_2020-03-05</th>\n",
       "      <td>0.000000</td>\n",
       "    </tr>\n",
       "    <tr>\n",
       "      <th>Date_2020-03-09</th>\n",
       "      <td>0.000000</td>\n",
       "    </tr>\n",
       "    <tr>\n",
       "      <th>Date_2020-03-10</th>\n",
       "      <td>0.000000</td>\n",
       "    </tr>\n",
       "    <tr>\n",
       "      <th>Date_2020-03-11</th>\n",
       "      <td>0.000000</td>\n",
       "    </tr>\n",
       "    <tr>\n",
       "      <th>Date_2020-03-12</th>\n",
       "      <td>0.000000</td>\n",
       "    </tr>\n",
       "    <tr>\n",
       "      <th>Date_2020-03-13</th>\n",
       "      <td>0.000000</td>\n",
       "    </tr>\n",
       "    <tr>\n",
       "      <th>Date_2020-03-14</th>\n",
       "      <td>0.000000</td>\n",
       "    </tr>\n",
       "    <tr>\n",
       "      <th>Date_2020-10-03</th>\n",
       "      <td>0.000000</td>\n",
       "    </tr>\n",
       "  </tbody>\n",
       "</table>\n",
       "<p>178 rows × 1 columns</p>\n",
       "</div>"
      ],
      "text/plain": [
       "                               Feature Importance\n",
       "Low_Price                                0.445786\n",
       "High_Price                               0.251410\n",
       "Weight_Kg                                0.161601\n",
       "Container_IA400                          0.082890\n",
       "Sales_Total                              0.028154\n",
       "Stock_On_Hand                            0.007518\n",
       "Container_M4183                          0.005685\n",
       "Total_Kg_Sold                            0.005154\n",
       "Total_Qty_Sold                           0.004026\n",
       "Container_EC120                          0.002667\n",
       "Container_JE090                          0.002248\n",
       "Size_Grade_1S                            0.000526\n",
       "Container_JG110                          0.000466\n",
       "Province_EASTERN CAPE                    0.000418\n",
       "Size_Grade_2S                            0.000386\n",
       "Size_Grade_1M                            0.000365\n",
       "Province_NATAL                           0.000242\n",
       "Province_W.CAPE-BERGRIVER ETC            0.000179\n",
       "Size_Grade_2M                            0.000137\n",
       "Size_Grade_1X                            0.000114\n",
       "Size_Grade_2L                            0.000022\n",
       "Province_WEST COAST                      0.000007\n",
       "Date_2020-06-19                          0.000000\n",
       "Date_2020-06-22                          0.000000\n",
       "Date_2020-06-24                          0.000000\n",
       "Date_2020-06-25                          0.000000\n",
       "Date_2020-06-27                          0.000000\n",
       "Date_2020-07-01                          0.000000\n",
       "Date_2020-07-06                          0.000000\n",
       "Date_2020-07-07                          0.000000\n",
       "...                                           ...\n",
       "Date_2020-04-07                          0.000000\n",
       "Date_2020-04-15                          0.000000\n",
       "Date_2020-02-14                          0.000000\n",
       "Date_2020-04-16                          0.000000\n",
       "Date_2020-04-17                          0.000000\n",
       "Date_2020-04-21                          0.000000\n",
       "Date_2020-04-22                          0.000000\n",
       "Date_2020-04-23                          0.000000\n",
       "Date_2020-04-28                          0.000000\n",
       "Date_2020-04-29                          0.000000\n",
       "Date_2020-03-23                          0.000000\n",
       "Date_2020-03-20                          0.000000\n",
       "Date_2020-03-17                          0.000000\n",
       "Date_2020-03-16                          0.000000\n",
       "Date_2020-02-15                          0.000000\n",
       "Date_2020-02-19                          0.000000\n",
       "Date_2020-02-21                          0.000000\n",
       "Date_2020-02-22                          0.000000\n",
       "Date_2020-02-25                          0.000000\n",
       "Date_2020-02-26                          0.000000\n",
       "Date_2020-02-27                          0.000000\n",
       "Date_2020-03-04                          0.000000\n",
       "Date_2020-03-05                          0.000000\n",
       "Date_2020-03-09                          0.000000\n",
       "Date_2020-03-10                          0.000000\n",
       "Date_2020-03-11                          0.000000\n",
       "Date_2020-03-12                          0.000000\n",
       "Date_2020-03-13                          0.000000\n",
       "Date_2020-03-14                          0.000000\n",
       "Date_2020-10-03                          0.000000\n",
       "\n",
       "[178 rows x 1 columns]"
      ]
     },
     "execution_count": 110,
     "metadata": {},
     "output_type": "execute_result"
    }
   ],
   "source": [
    "feat_imp = RF.feature_importances_\n",
    "df = pd.DataFrame(feat_imp, index=[X_feat.columns], columns=['Feature Importance'])\n",
    "df.sort_values('Feature Importance',ascending=False)"
   ]
  },
  {
   "cell_type": "code",
   "execution_count": null,
   "metadata": {},
   "outputs": [],
   "source": []
  },
  {
   "cell_type": "code",
   "execution_count": null,
   "metadata": {},
   "outputs": [],
   "source": []
  },
  {
   "cell_type": "markdown",
   "metadata": {},
   "source": [
    "# Predicting on the test data"
   ]
  },
  {
   "cell_type": "markdown",
   "metadata": {},
   "source": [
    "### Preprocessing"
   ]
  },
  {
   "cell_type": "code",
   "execution_count": 37,
   "metadata": {},
   "outputs": [],
   "source": [
    "test = pd.read_csv(r'https://raw.githubusercontent.com/CPNMorgan/sharing-github/main/df-test_set.csv')"
   ]
  },
  {
   "cell_type": "code",
   "execution_count": 38,
   "metadata": {},
   "outputs": [
    {
     "data": {
      "text/html": [
       "<div>\n",
       "<style scoped>\n",
       "    .dataframe tbody tr th:only-of-type {\n",
       "        vertical-align: middle;\n",
       "    }\n",
       "\n",
       "    .dataframe tbody tr th {\n",
       "        vertical-align: top;\n",
       "    }\n",
       "\n",
       "    .dataframe thead th {\n",
       "        text-align: right;\n",
       "    }\n",
       "</style>\n",
       "<table border=\"1\" class=\"dataframe\">\n",
       "  <thead>\n",
       "    <tr style=\"text-align: right;\">\n",
       "      <th></th>\n",
       "      <th>Index</th>\n",
       "      <th>Province</th>\n",
       "      <th>Container</th>\n",
       "      <th>Size_Grade</th>\n",
       "      <th>Weight_Kg</th>\n",
       "      <th>Commodities</th>\n",
       "      <th>Date</th>\n",
       "      <th>Low_Price</th>\n",
       "      <th>High_Price</th>\n",
       "      <th>Sales_Total</th>\n",
       "      <th>Total_Qty_Sold</th>\n",
       "      <th>Total_Kg_Sold</th>\n",
       "      <th>Stock_On_Hand</th>\n",
       "    </tr>\n",
       "  </thead>\n",
       "  <tbody>\n",
       "    <tr>\n",
       "      <th>0</th>\n",
       "      <td>1</td>\n",
       "      <td>W.CAPE-BERGRIVER ETC</td>\n",
       "      <td>EC120</td>\n",
       "      <td>1M</td>\n",
       "      <td>12.0</td>\n",
       "      <td>APPLE GOLDEN DELICIOUS</td>\n",
       "      <td>2020-07-09</td>\n",
       "      <td>128.0</td>\n",
       "      <td>136.0</td>\n",
       "      <td>5008.0</td>\n",
       "      <td>38</td>\n",
       "      <td>456.0</td>\n",
       "      <td>0</td>\n",
       "    </tr>\n",
       "    <tr>\n",
       "      <th>1</th>\n",
       "      <td>2</td>\n",
       "      <td>W.CAPE-BERGRIVER ETC</td>\n",
       "      <td>M4183</td>\n",
       "      <td>1X</td>\n",
       "      <td>18.3</td>\n",
       "      <td>APPLE GOLDEN DELICIOUS</td>\n",
       "      <td>2020-01-20</td>\n",
       "      <td>220.0</td>\n",
       "      <td>220.0</td>\n",
       "      <td>1760.0</td>\n",
       "      <td>8</td>\n",
       "      <td>146.4</td>\n",
       "      <td>2</td>\n",
       "    </tr>\n",
       "    <tr>\n",
       "      <th>2</th>\n",
       "      <td>3</td>\n",
       "      <td>W.CAPE-BERGRIVER ETC</td>\n",
       "      <td>EC120</td>\n",
       "      <td>1S</td>\n",
       "      <td>12.0</td>\n",
       "      <td>APPLE GOLDEN DELICIOUS</td>\n",
       "      <td>2020-08-19</td>\n",
       "      <td>120.0</td>\n",
       "      <td>120.0</td>\n",
       "      <td>720.0</td>\n",
       "      <td>6</td>\n",
       "      <td>72.0</td>\n",
       "      <td>45</td>\n",
       "    </tr>\n",
       "    <tr>\n",
       "      <th>3</th>\n",
       "      <td>4</td>\n",
       "      <td>W.CAPE-BERGRIVER ETC</td>\n",
       "      <td>M4183</td>\n",
       "      <td>1M</td>\n",
       "      <td>18.3</td>\n",
       "      <td>APPLE GOLDEN DELICIOUS</td>\n",
       "      <td>2020-05-06</td>\n",
       "      <td>160.0</td>\n",
       "      <td>160.0</td>\n",
       "      <td>160.0</td>\n",
       "      <td>1</td>\n",
       "      <td>18.3</td>\n",
       "      <td>8</td>\n",
       "    </tr>\n",
       "    <tr>\n",
       "      <th>4</th>\n",
       "      <td>5</td>\n",
       "      <td>W.CAPE-BERGRIVER ETC</td>\n",
       "      <td>M4183</td>\n",
       "      <td>1L</td>\n",
       "      <td>18.3</td>\n",
       "      <td>APPLE GOLDEN DELICIOUS</td>\n",
       "      <td>2020-05-04</td>\n",
       "      <td>140.0</td>\n",
       "      <td>160.0</td>\n",
       "      <td>14140.0</td>\n",
       "      <td>100</td>\n",
       "      <td>1830.0</td>\n",
       "      <td>19</td>\n",
       "    </tr>\n",
       "  </tbody>\n",
       "</table>\n",
       "</div>"
      ],
      "text/plain": [
       "   Index              Province Container Size_Grade  Weight_Kg  \\\n",
       "0      1  W.CAPE-BERGRIVER ETC     EC120         1M       12.0   \n",
       "1      2  W.CAPE-BERGRIVER ETC     M4183         1X       18.3   \n",
       "2      3  W.CAPE-BERGRIVER ETC     EC120         1S       12.0   \n",
       "3      4  W.CAPE-BERGRIVER ETC     M4183         1M       18.3   \n",
       "4      5  W.CAPE-BERGRIVER ETC     M4183         1L       18.3   \n",
       "\n",
       "              Commodities        Date  Low_Price  High_Price  Sales_Total  \\\n",
       "0  APPLE GOLDEN DELICIOUS  2020-07-09      128.0       136.0       5008.0   \n",
       "1  APPLE GOLDEN DELICIOUS  2020-01-20      220.0       220.0       1760.0   \n",
       "2  APPLE GOLDEN DELICIOUS  2020-08-19      120.0       120.0        720.0   \n",
       "3  APPLE GOLDEN DELICIOUS  2020-05-06      160.0       160.0        160.0   \n",
       "4  APPLE GOLDEN DELICIOUS  2020-05-04      140.0       160.0      14140.0   \n",
       "\n",
       "   Total_Qty_Sold  Total_Kg_Sold  Stock_On_Hand  \n",
       "0              38          456.0              0  \n",
       "1               8          146.4              2  \n",
       "2               6           72.0             45  \n",
       "3               1           18.3              8  \n",
       "4             100         1830.0             19  "
      ]
     },
     "execution_count": 38,
     "metadata": {},
     "output_type": "execute_result"
    }
   ],
   "source": [
    "test.head()"
   ]
  },
  {
   "cell_type": "code",
   "execution_count": 39,
   "metadata": {},
   "outputs": [],
   "source": [
    "test_index = test['Index']\n",
    "test = test.drop(['Commodities','Index'], axis=1)"
   ]
  },
  {
   "cell_type": "code",
   "execution_count": 40,
   "metadata": {},
   "outputs": [
    {
     "data": {
      "text/html": [
       "<div>\n",
       "<style scoped>\n",
       "    .dataframe tbody tr th:only-of-type {\n",
       "        vertical-align: middle;\n",
       "    }\n",
       "\n",
       "    .dataframe tbody tr th {\n",
       "        vertical-align: top;\n",
       "    }\n",
       "\n",
       "    .dataframe thead th {\n",
       "        text-align: right;\n",
       "    }\n",
       "</style>\n",
       "<table border=\"1\" class=\"dataframe\">\n",
       "  <thead>\n",
       "    <tr style=\"text-align: right;\">\n",
       "      <th></th>\n",
       "      <th>Province</th>\n",
       "      <th>Container</th>\n",
       "      <th>Size_Grade</th>\n",
       "      <th>Weight_Kg</th>\n",
       "      <th>Date</th>\n",
       "      <th>Low_Price</th>\n",
       "      <th>High_Price</th>\n",
       "      <th>Sales_Total</th>\n",
       "      <th>Total_Qty_Sold</th>\n",
       "      <th>Total_Kg_Sold</th>\n",
       "      <th>Stock_On_Hand</th>\n",
       "    </tr>\n",
       "  </thead>\n",
       "  <tbody>\n",
       "    <tr>\n",
       "      <th>0</th>\n",
       "      <td>W.CAPE-BERGRIVER ETC</td>\n",
       "      <td>EC120</td>\n",
       "      <td>1M</td>\n",
       "      <td>12.0</td>\n",
       "      <td>2020-07-09</td>\n",
       "      <td>128.0</td>\n",
       "      <td>136.0</td>\n",
       "      <td>5008.0</td>\n",
       "      <td>38</td>\n",
       "      <td>456.0</td>\n",
       "      <td>0</td>\n",
       "    </tr>\n",
       "    <tr>\n",
       "      <th>1</th>\n",
       "      <td>W.CAPE-BERGRIVER ETC</td>\n",
       "      <td>M4183</td>\n",
       "      <td>1X</td>\n",
       "      <td>18.3</td>\n",
       "      <td>2020-01-20</td>\n",
       "      <td>220.0</td>\n",
       "      <td>220.0</td>\n",
       "      <td>1760.0</td>\n",
       "      <td>8</td>\n",
       "      <td>146.4</td>\n",
       "      <td>2</td>\n",
       "    </tr>\n",
       "    <tr>\n",
       "      <th>2</th>\n",
       "      <td>W.CAPE-BERGRIVER ETC</td>\n",
       "      <td>EC120</td>\n",
       "      <td>1S</td>\n",
       "      <td>12.0</td>\n",
       "      <td>2020-08-19</td>\n",
       "      <td>120.0</td>\n",
       "      <td>120.0</td>\n",
       "      <td>720.0</td>\n",
       "      <td>6</td>\n",
       "      <td>72.0</td>\n",
       "      <td>45</td>\n",
       "    </tr>\n",
       "    <tr>\n",
       "      <th>3</th>\n",
       "      <td>W.CAPE-BERGRIVER ETC</td>\n",
       "      <td>M4183</td>\n",
       "      <td>1M</td>\n",
       "      <td>18.3</td>\n",
       "      <td>2020-05-06</td>\n",
       "      <td>160.0</td>\n",
       "      <td>160.0</td>\n",
       "      <td>160.0</td>\n",
       "      <td>1</td>\n",
       "      <td>18.3</td>\n",
       "      <td>8</td>\n",
       "    </tr>\n",
       "    <tr>\n",
       "      <th>4</th>\n",
       "      <td>W.CAPE-BERGRIVER ETC</td>\n",
       "      <td>M4183</td>\n",
       "      <td>1L</td>\n",
       "      <td>18.3</td>\n",
       "      <td>2020-05-04</td>\n",
       "      <td>140.0</td>\n",
       "      <td>160.0</td>\n",
       "      <td>14140.0</td>\n",
       "      <td>100</td>\n",
       "      <td>1830.0</td>\n",
       "      <td>19</td>\n",
       "    </tr>\n",
       "  </tbody>\n",
       "</table>\n",
       "</div>"
      ],
      "text/plain": [
       "               Province Container Size_Grade  Weight_Kg        Date  \\\n",
       "0  W.CAPE-BERGRIVER ETC     EC120         1M       12.0  2020-07-09   \n",
       "1  W.CAPE-BERGRIVER ETC     M4183         1X       18.3  2020-01-20   \n",
       "2  W.CAPE-BERGRIVER ETC     EC120         1S       12.0  2020-08-19   \n",
       "3  W.CAPE-BERGRIVER ETC     M4183         1M       18.3  2020-05-06   \n",
       "4  W.CAPE-BERGRIVER ETC     M4183         1L       18.3  2020-05-04   \n",
       "\n",
       "   Low_Price  High_Price  Sales_Total  Total_Qty_Sold  Total_Kg_Sold  \\\n",
       "0      128.0       136.0       5008.0              38          456.0   \n",
       "1      220.0       220.0       1760.0               8          146.4   \n",
       "2      120.0       120.0        720.0               6           72.0   \n",
       "3      160.0       160.0        160.0               1           18.3   \n",
       "4      140.0       160.0      14140.0             100         1830.0   \n",
       "\n",
       "   Stock_On_Hand  \n",
       "0              0  \n",
       "1              2  \n",
       "2             45  \n",
       "3              8  \n",
       "4             19  "
      ]
     },
     "execution_count": 40,
     "metadata": {},
     "output_type": "execute_result"
    }
   ],
   "source": [
    "test.head()"
   ]
  },
  {
   "cell_type": "code",
   "execution_count": 41,
   "metadata": {},
   "outputs": [
    {
     "data": {
      "text/plain": [
       "(685, 11)"
      ]
     },
     "execution_count": 41,
     "metadata": {},
     "output_type": "execute_result"
    }
   ],
   "source": [
    "test.shape"
   ]
  },
  {
   "cell_type": "code",
   "execution_count": 75,
   "metadata": {},
   "outputs": [
    {
     "name": "stdout",
     "output_type": "stream",
     "text": [
      "<class 'pandas.core.frame.DataFrame'>\n",
      "RangeIndex: 685 entries, 0 to 684\n",
      "Data columns (total 11 columns):\n",
      "Province          685 non-null object\n",
      "Container         685 non-null object\n",
      "Size_Grade        685 non-null object\n",
      "Weight_Kg         685 non-null float64\n",
      "Date              685 non-null object\n",
      "Low_Price         685 non-null float64\n",
      "High_Price        685 non-null float64\n",
      "Sales_Total       685 non-null float64\n",
      "Total_Qty_Sold    685 non-null int64\n",
      "Total_Kg_Sold     685 non-null float64\n",
      "Stock_On_Hand     685 non-null int64\n",
      "dtypes: float64(5), int64(2), object(4)\n",
      "memory usage: 58.9+ KB\n"
     ]
    }
   ],
   "source": [
    "test.info()"
   ]
  },
  {
   "cell_type": "code",
   "execution_count": 42,
   "metadata": {},
   "outputs": [
    {
     "data": {
      "text/html": [
       "<div>\n",
       "<style scoped>\n",
       "    .dataframe tbody tr th:only-of-type {\n",
       "        vertical-align: middle;\n",
       "    }\n",
       "\n",
       "    .dataframe tbody tr th {\n",
       "        vertical-align: top;\n",
       "    }\n",
       "\n",
       "    .dataframe thead th {\n",
       "        text-align: right;\n",
       "    }\n",
       "</style>\n",
       "<table border=\"1\" class=\"dataframe\">\n",
       "  <thead>\n",
       "    <tr style=\"text-align: right;\">\n",
       "      <th></th>\n",
       "      <th>Province</th>\n",
       "      <th>Container</th>\n",
       "      <th>Size_Grade</th>\n",
       "      <th>Weight_Kg</th>\n",
       "      <th>Date</th>\n",
       "      <th>Low_Price</th>\n",
       "      <th>High_Price</th>\n",
       "      <th>Sales_Total</th>\n",
       "      <th>Total_Qty_Sold</th>\n",
       "      <th>Total_Kg_Sold</th>\n",
       "      <th>Stock_On_Hand</th>\n",
       "    </tr>\n",
       "  </thead>\n",
       "  <tbody>\n",
       "    <tr>\n",
       "      <th>1</th>\n",
       "      <td>CAPE</td>\n",
       "      <td>M4183</td>\n",
       "      <td>1L</td>\n",
       "      <td>18.3</td>\n",
       "      <td>2020-09-09</td>\n",
       "      <td>150.0</td>\n",
       "      <td>170.0</td>\n",
       "      <td>51710.0</td>\n",
       "      <td>332</td>\n",
       "      <td>6075.6</td>\n",
       "      <td>822</td>\n",
       "    </tr>\n",
       "    <tr>\n",
       "      <th>7</th>\n",
       "      <td>CAPE</td>\n",
       "      <td>JG110</td>\n",
       "      <td>2M</td>\n",
       "      <td>11.0</td>\n",
       "      <td>2020-04-14</td>\n",
       "      <td>50.0</td>\n",
       "      <td>50.0</td>\n",
       "      <td>16000.0</td>\n",
       "      <td>320</td>\n",
       "      <td>3520.0</td>\n",
       "      <td>0</td>\n",
       "    </tr>\n",
       "    <tr>\n",
       "      <th>24</th>\n",
       "      <td>W.CAPE-BERGRIVER ETC</td>\n",
       "      <td>JE090</td>\n",
       "      <td>2S</td>\n",
       "      <td>9.0</td>\n",
       "      <td>2020-04-16</td>\n",
       "      <td>55.0</td>\n",
       "      <td>55.0</td>\n",
       "      <td>990.0</td>\n",
       "      <td>18</td>\n",
       "      <td>162.0</td>\n",
       "      <td>1506</td>\n",
       "    </tr>\n",
       "    <tr>\n",
       "      <th>40</th>\n",
       "      <td>CAPE</td>\n",
       "      <td>M4183</td>\n",
       "      <td>1S</td>\n",
       "      <td>18.3</td>\n",
       "      <td>2020-05-04</td>\n",
       "      <td>80.0</td>\n",
       "      <td>120.0</td>\n",
       "      <td>32020.0</td>\n",
       "      <td>388</td>\n",
       "      <td>7100.4</td>\n",
       "      <td>443</td>\n",
       "    </tr>\n",
       "    <tr>\n",
       "      <th>69</th>\n",
       "      <td>EASTERN CAPE</td>\n",
       "      <td>IA400</td>\n",
       "      <td>1S</td>\n",
       "      <td>400.0</td>\n",
       "      <td>2020-09-28</td>\n",
       "      <td>1800.0</td>\n",
       "      <td>1800.0</td>\n",
       "      <td>1800.0</td>\n",
       "      <td>1</td>\n",
       "      <td>400.0</td>\n",
       "      <td>2</td>\n",
       "    </tr>\n",
       "  </tbody>\n",
       "</table>\n",
       "</div>"
      ],
      "text/plain": [
       "                Province Container Size_Grade  Weight_Kg        Date  \\\n",
       "1                   CAPE     M4183         1L       18.3  2020-09-09   \n",
       "7                   CAPE     JG110         2M       11.0  2020-04-14   \n",
       "24  W.CAPE-BERGRIVER ETC     JE090         2S        9.0  2020-04-16   \n",
       "40                  CAPE     M4183         1S       18.3  2020-05-04   \n",
       "69          EASTERN CAPE     IA400         1S      400.0  2020-09-28   \n",
       "\n",
       "    Low_Price  High_Price  Sales_Total  Total_Qty_Sold  Total_Kg_Sold  \\\n",
       "1       150.0       170.0      51710.0             332         6075.6   \n",
       "7        50.0        50.0      16000.0             320         3520.0   \n",
       "24       55.0        55.0        990.0              18          162.0   \n",
       "40       80.0       120.0      32020.0             388         7100.4   \n",
       "69     1800.0      1800.0       1800.0               1          400.0   \n",
       "\n",
       "    Stock_On_Hand  \n",
       "1             822  \n",
       "7               0  \n",
       "24           1506  \n",
       "40            443  \n",
       "69              2  "
      ]
     },
     "execution_count": 42,
     "metadata": {},
     "output_type": "execute_result"
    }
   ],
   "source": [
    "new_train = train_data.drop('avg_price_per_kg',axis=1)\n",
    "new_train.head()"
   ]
  },
  {
   "cell_type": "code",
   "execution_count": 84,
   "metadata": {},
   "outputs": [
    {
     "name": "stdout",
     "output_type": "stream",
     "text": [
      "<class 'pandas.core.frame.DataFrame'>\n",
      "Int64Index: 1952 entries, 1 to 64310\n",
      "Data columns (total 11 columns):\n",
      "Province          1952 non-null object\n",
      "Container         1952 non-null object\n",
      "Size_Grade        1952 non-null object\n",
      "Weight_Kg         1952 non-null float64\n",
      "Date              1952 non-null object\n",
      "Low_Price         1952 non-null float64\n",
      "High_Price        1952 non-null float64\n",
      "Sales_Total       1952 non-null float64\n",
      "Total_Qty_Sold    1952 non-null int64\n",
      "Total_Kg_Sold     1952 non-null float64\n",
      "Stock_On_Hand     1952 non-null int64\n",
      "dtypes: float64(5), int64(2), object(4)\n",
      "memory usage: 183.0+ KB\n"
     ]
    }
   ],
   "source": [
    "new_train.info()"
   ]
  },
  {
   "cell_type": "code",
   "execution_count": 43,
   "metadata": {},
   "outputs": [
    {
     "name": "stdout",
     "output_type": "stream",
     "text": [
      "<class 'pandas.core.frame.DataFrame'>\n",
      "Int64Index: 2637 entries, 1 to 684\n",
      "Data columns (total 11 columns):\n",
      "Province          2637 non-null object\n",
      "Container         2637 non-null object\n",
      "Size_Grade        2637 non-null object\n",
      "Weight_Kg         2637 non-null float64\n",
      "Date              2637 non-null object\n",
      "Low_Price         2637 non-null float64\n",
      "High_Price        2637 non-null float64\n",
      "Sales_Total       2637 non-null float64\n",
      "Total_Qty_Sold    2637 non-null int64\n",
      "Total_Kg_Sold     2637 non-null float64\n",
      "Stock_On_Hand     2637 non-null int64\n",
      "dtypes: float64(5), int64(2), object(4)\n",
      "memory usage: 247.2+ KB\n"
     ]
    }
   ],
   "source": [
    "vertical_stack = pd.concat([new_train,test],axis=0)\n",
    "vertical_stack.info()"
   ]
  },
  {
   "cell_type": "code",
   "execution_count": 44,
   "metadata": {},
   "outputs": [
    {
     "data": {
      "text/html": [
       "<div>\n",
       "<style scoped>\n",
       "    .dataframe tbody tr th:only-of-type {\n",
       "        vertical-align: middle;\n",
       "    }\n",
       "\n",
       "    .dataframe tbody tr th {\n",
       "        vertical-align: top;\n",
       "    }\n",
       "\n",
       "    .dataframe thead th {\n",
       "        text-align: right;\n",
       "    }\n",
       "</style>\n",
       "<table border=\"1\" class=\"dataframe\">\n",
       "  <thead>\n",
       "    <tr style=\"text-align: right;\">\n",
       "      <th></th>\n",
       "      <th>Province</th>\n",
       "      <th>Container</th>\n",
       "      <th>Size_Grade</th>\n",
       "      <th>Weight_Kg</th>\n",
       "      <th>Date</th>\n",
       "      <th>Low_Price</th>\n",
       "      <th>High_Price</th>\n",
       "      <th>Sales_Total</th>\n",
       "      <th>Total_Qty_Sold</th>\n",
       "      <th>Total_Kg_Sold</th>\n",
       "      <th>Stock_On_Hand</th>\n",
       "    </tr>\n",
       "  </thead>\n",
       "  <tbody>\n",
       "    <tr>\n",
       "      <th>1</th>\n",
       "      <td>CAPE</td>\n",
       "      <td>M4183</td>\n",
       "      <td>1L</td>\n",
       "      <td>18.3</td>\n",
       "      <td>2020-09-09</td>\n",
       "      <td>150.0</td>\n",
       "      <td>170.0</td>\n",
       "      <td>51710.0</td>\n",
       "      <td>332</td>\n",
       "      <td>6075.6</td>\n",
       "      <td>822</td>\n",
       "    </tr>\n",
       "    <tr>\n",
       "      <th>7</th>\n",
       "      <td>CAPE</td>\n",
       "      <td>JG110</td>\n",
       "      <td>2M</td>\n",
       "      <td>11.0</td>\n",
       "      <td>2020-04-14</td>\n",
       "      <td>50.0</td>\n",
       "      <td>50.0</td>\n",
       "      <td>16000.0</td>\n",
       "      <td>320</td>\n",
       "      <td>3520.0</td>\n",
       "      <td>0</td>\n",
       "    </tr>\n",
       "    <tr>\n",
       "      <th>24</th>\n",
       "      <td>W.CAPE-BERGRIVER ETC</td>\n",
       "      <td>JE090</td>\n",
       "      <td>2S</td>\n",
       "      <td>9.0</td>\n",
       "      <td>2020-04-16</td>\n",
       "      <td>55.0</td>\n",
       "      <td>55.0</td>\n",
       "      <td>990.0</td>\n",
       "      <td>18</td>\n",
       "      <td>162.0</td>\n",
       "      <td>1506</td>\n",
       "    </tr>\n",
       "    <tr>\n",
       "      <th>40</th>\n",
       "      <td>CAPE</td>\n",
       "      <td>M4183</td>\n",
       "      <td>1S</td>\n",
       "      <td>18.3</td>\n",
       "      <td>2020-05-04</td>\n",
       "      <td>80.0</td>\n",
       "      <td>120.0</td>\n",
       "      <td>32020.0</td>\n",
       "      <td>388</td>\n",
       "      <td>7100.4</td>\n",
       "      <td>443</td>\n",
       "    </tr>\n",
       "    <tr>\n",
       "      <th>69</th>\n",
       "      <td>EASTERN CAPE</td>\n",
       "      <td>IA400</td>\n",
       "      <td>1S</td>\n",
       "      <td>400.0</td>\n",
       "      <td>2020-09-28</td>\n",
       "      <td>1800.0</td>\n",
       "      <td>1800.0</td>\n",
       "      <td>1800.0</td>\n",
       "      <td>1</td>\n",
       "      <td>400.0</td>\n",
       "      <td>2</td>\n",
       "    </tr>\n",
       "  </tbody>\n",
       "</table>\n",
       "</div>"
      ],
      "text/plain": [
       "                Province Container Size_Grade  Weight_Kg        Date  \\\n",
       "1                   CAPE     M4183         1L       18.3  2020-09-09   \n",
       "7                   CAPE     JG110         2M       11.0  2020-04-14   \n",
       "24  W.CAPE-BERGRIVER ETC     JE090         2S        9.0  2020-04-16   \n",
       "40                  CAPE     M4183         1S       18.3  2020-05-04   \n",
       "69          EASTERN CAPE     IA400         1S      400.0  2020-09-28   \n",
       "\n",
       "    Low_Price  High_Price  Sales_Total  Total_Qty_Sold  Total_Kg_Sold  \\\n",
       "1       150.0       170.0      51710.0             332         6075.6   \n",
       "7        50.0        50.0      16000.0             320         3520.0   \n",
       "24       55.0        55.0        990.0              18          162.0   \n",
       "40       80.0       120.0      32020.0             388         7100.4   \n",
       "69     1800.0      1800.0       1800.0               1          400.0   \n",
       "\n",
       "    Stock_On_Hand  \n",
       "1             822  \n",
       "7               0  \n",
       "24           1506  \n",
       "40            443  \n",
       "69              2  "
      ]
     },
     "execution_count": 44,
     "metadata": {},
     "output_type": "execute_result"
    }
   ],
   "source": [
    "vertical_stack.head()"
   ]
  },
  {
   "cell_type": "code",
   "execution_count": 45,
   "metadata": {},
   "outputs": [
    {
     "data": {
      "text/plain": [
       "(2637, 178)"
      ]
     },
     "execution_count": 45,
     "metadata": {},
     "output_type": "execute_result"
    }
   ],
   "source": [
    "X_real = pd.get_dummies(vertical_stack,drop_first=True)\n",
    "X_real.shape"
   ]
  },
  {
   "cell_type": "code",
   "execution_count": 46,
   "metadata": {},
   "outputs": [
    {
     "data": {
      "text/plain": [
       "(685, 178)"
      ]
     },
     "execution_count": 46,
     "metadata": {},
     "output_type": "execute_result"
    }
   ],
   "source": [
    "df_test = X_real.iloc[1952:,:]\n",
    "df_test.shape"
   ]
  },
  {
   "cell_type": "code",
   "execution_count": 47,
   "metadata": {},
   "outputs": [
    {
     "data": {
      "text/html": [
       "<div>\n",
       "<style scoped>\n",
       "    .dataframe tbody tr th:only-of-type {\n",
       "        vertical-align: middle;\n",
       "    }\n",
       "\n",
       "    .dataframe tbody tr th {\n",
       "        vertical-align: top;\n",
       "    }\n",
       "\n",
       "    .dataframe thead th {\n",
       "        text-align: right;\n",
       "    }\n",
       "</style>\n",
       "<table border=\"1\" class=\"dataframe\">\n",
       "  <thead>\n",
       "    <tr style=\"text-align: right;\">\n",
       "      <th></th>\n",
       "      <th>Weight_Kg</th>\n",
       "      <th>Low_Price</th>\n",
       "      <th>High_Price</th>\n",
       "      <th>Sales_Total</th>\n",
       "      <th>Total_Qty_Sold</th>\n",
       "      <th>Total_Kg_Sold</th>\n",
       "      <th>Stock_On_Hand</th>\n",
       "      <th>Province_EASTERN CAPE</th>\n",
       "      <th>Province_NATAL</th>\n",
       "      <th>Province_ORANGE FREE STATE</th>\n",
       "      <th>...</th>\n",
       "      <th>Date_2020-09-07</th>\n",
       "      <th>Date_2020-09-09</th>\n",
       "      <th>Date_2020-09-16</th>\n",
       "      <th>Date_2020-09-17</th>\n",
       "      <th>Date_2020-09-19</th>\n",
       "      <th>Date_2020-09-21</th>\n",
       "      <th>Date_2020-09-23</th>\n",
       "      <th>Date_2020-09-28</th>\n",
       "      <th>Date_2020-10-01</th>\n",
       "      <th>Date_2020-10-03</th>\n",
       "    </tr>\n",
       "  </thead>\n",
       "  <tbody>\n",
       "    <tr>\n",
       "      <th>0</th>\n",
       "      <td>12.0</td>\n",
       "      <td>128.0</td>\n",
       "      <td>136.0</td>\n",
       "      <td>5008.0</td>\n",
       "      <td>38</td>\n",
       "      <td>456.0</td>\n",
       "      <td>0</td>\n",
       "      <td>0</td>\n",
       "      <td>0</td>\n",
       "      <td>0</td>\n",
       "      <td>...</td>\n",
       "      <td>0</td>\n",
       "      <td>0</td>\n",
       "      <td>0</td>\n",
       "      <td>0</td>\n",
       "      <td>0</td>\n",
       "      <td>0</td>\n",
       "      <td>0</td>\n",
       "      <td>0</td>\n",
       "      <td>0</td>\n",
       "      <td>0</td>\n",
       "    </tr>\n",
       "    <tr>\n",
       "      <th>1</th>\n",
       "      <td>18.3</td>\n",
       "      <td>220.0</td>\n",
       "      <td>220.0</td>\n",
       "      <td>1760.0</td>\n",
       "      <td>8</td>\n",
       "      <td>146.4</td>\n",
       "      <td>2</td>\n",
       "      <td>0</td>\n",
       "      <td>0</td>\n",
       "      <td>0</td>\n",
       "      <td>...</td>\n",
       "      <td>0</td>\n",
       "      <td>0</td>\n",
       "      <td>0</td>\n",
       "      <td>0</td>\n",
       "      <td>0</td>\n",
       "      <td>0</td>\n",
       "      <td>0</td>\n",
       "      <td>0</td>\n",
       "      <td>0</td>\n",
       "      <td>0</td>\n",
       "    </tr>\n",
       "    <tr>\n",
       "      <th>2</th>\n",
       "      <td>12.0</td>\n",
       "      <td>120.0</td>\n",
       "      <td>120.0</td>\n",
       "      <td>720.0</td>\n",
       "      <td>6</td>\n",
       "      <td>72.0</td>\n",
       "      <td>45</td>\n",
       "      <td>0</td>\n",
       "      <td>0</td>\n",
       "      <td>0</td>\n",
       "      <td>...</td>\n",
       "      <td>0</td>\n",
       "      <td>0</td>\n",
       "      <td>0</td>\n",
       "      <td>0</td>\n",
       "      <td>0</td>\n",
       "      <td>0</td>\n",
       "      <td>0</td>\n",
       "      <td>0</td>\n",
       "      <td>0</td>\n",
       "      <td>0</td>\n",
       "    </tr>\n",
       "    <tr>\n",
       "      <th>3</th>\n",
       "      <td>18.3</td>\n",
       "      <td>160.0</td>\n",
       "      <td>160.0</td>\n",
       "      <td>160.0</td>\n",
       "      <td>1</td>\n",
       "      <td>18.3</td>\n",
       "      <td>8</td>\n",
       "      <td>0</td>\n",
       "      <td>0</td>\n",
       "      <td>0</td>\n",
       "      <td>...</td>\n",
       "      <td>0</td>\n",
       "      <td>0</td>\n",
       "      <td>0</td>\n",
       "      <td>0</td>\n",
       "      <td>0</td>\n",
       "      <td>0</td>\n",
       "      <td>0</td>\n",
       "      <td>0</td>\n",
       "      <td>0</td>\n",
       "      <td>0</td>\n",
       "    </tr>\n",
       "    <tr>\n",
       "      <th>4</th>\n",
       "      <td>18.3</td>\n",
       "      <td>140.0</td>\n",
       "      <td>160.0</td>\n",
       "      <td>14140.0</td>\n",
       "      <td>100</td>\n",
       "      <td>1830.0</td>\n",
       "      <td>19</td>\n",
       "      <td>0</td>\n",
       "      <td>0</td>\n",
       "      <td>0</td>\n",
       "      <td>...</td>\n",
       "      <td>0</td>\n",
       "      <td>0</td>\n",
       "      <td>0</td>\n",
       "      <td>0</td>\n",
       "      <td>0</td>\n",
       "      <td>0</td>\n",
       "      <td>0</td>\n",
       "      <td>0</td>\n",
       "      <td>0</td>\n",
       "      <td>0</td>\n",
       "    </tr>\n",
       "  </tbody>\n",
       "</table>\n",
       "<p>5 rows × 178 columns</p>\n",
       "</div>"
      ],
      "text/plain": [
       "   Weight_Kg  Low_Price  High_Price  Sales_Total  Total_Qty_Sold  \\\n",
       "0       12.0      128.0       136.0       5008.0              38   \n",
       "1       18.3      220.0       220.0       1760.0               8   \n",
       "2       12.0      120.0       120.0        720.0               6   \n",
       "3       18.3      160.0       160.0        160.0               1   \n",
       "4       18.3      140.0       160.0      14140.0             100   \n",
       "\n",
       "   Total_Kg_Sold  Stock_On_Hand  Province_EASTERN CAPE  Province_NATAL  \\\n",
       "0          456.0              0                      0               0   \n",
       "1          146.4              2                      0               0   \n",
       "2           72.0             45                      0               0   \n",
       "3           18.3              8                      0               0   \n",
       "4         1830.0             19                      0               0   \n",
       "\n",
       "   Province_ORANGE FREE STATE  ...  Date_2020-09-07  Date_2020-09-09  \\\n",
       "0                           0  ...                0                0   \n",
       "1                           0  ...                0                0   \n",
       "2                           0  ...                0                0   \n",
       "3                           0  ...                0                0   \n",
       "4                           0  ...                0                0   \n",
       "\n",
       "   Date_2020-09-16  Date_2020-09-17  Date_2020-09-19  Date_2020-09-21  \\\n",
       "0                0                0                0                0   \n",
       "1                0                0                0                0   \n",
       "2                0                0                0                0   \n",
       "3                0                0                0                0   \n",
       "4                0                0                0                0   \n",
       "\n",
       "   Date_2020-09-23  Date_2020-09-28  Date_2020-10-01  Date_2020-10-03  \n",
       "0                0                0                0                0  \n",
       "1                0                0                0                0  \n",
       "2                0                0                0                0  \n",
       "3                0                0                0                0  \n",
       "4                0                0                0                0  \n",
       "\n",
       "[5 rows x 178 columns]"
      ]
     },
     "execution_count": 47,
     "metadata": {},
     "output_type": "execute_result"
    }
   ],
   "source": [
    "df_test.head()"
   ]
  },
  {
   "cell_type": "code",
   "execution_count": 81,
   "metadata": {},
   "outputs": [],
   "source": [
    "test_scaled = scaler.fit_transform(df_test)"
   ]
  },
  {
   "cell_type": "markdown",
   "metadata": {},
   "source": [
    "### Making predictions"
   ]
  },
  {
   "cell_type": "code",
   "execution_count": 50,
   "metadata": {},
   "outputs": [
    {
     "data": {
      "text/plain": [
       "array([ 9.18188366, 10.27494758,  8.57659107,  7.70483434,  7.25520315,\n",
       "        4.73481625,  4.75084397,  7.75576638,  8.67191653,  7.6346783 ,\n",
       "        5.12021273,  6.24736614,  8.73253505,  4.87500357,  2.95650265,\n",
       "        6.86708491,  8.00818715,  4.97764762, 10.70233681,  6.80091732,\n",
       "        5.57980254,  4.87359873,  7.36306879,  6.7817892 ,  4.02398791,\n",
       "        6.71001866,  6.85146333,  8.07958237,  7.86026045,  7.95531529,\n",
       "        7.95025626,  4.46977606,  9.30012759,  8.21603783,  3.9141331 ,\n",
       "        8.5906737 ,  9.39817007, 10.0576688 ,  6.60765402,  7.30634912,\n",
       "        9.58675795,  8.0274516 ,  9.14228551,  5.25170255,  6.57387417,\n",
       "        5.12105482,  4.5218955 ,  6.55902698,  6.22161871,  4.188634  ,\n",
       "        0.81827874,  5.31583893,  8.08320176, 10.5998903 ,  8.48057032,\n",
       "        6.2075658 ,  8.41673573,  9.24145861,  9.22038069,  8.45490494,\n",
       "        8.83662599,  9.75735454,  4.77552815,  8.40884832,  8.78434053,\n",
       "        6.14431373,  4.44437181,  4.31138071,  7.01033888,  7.01429597,\n",
       "        7.86145845,  5.3276889 ,  6.14940045,  7.08717573,  5.5963958 ,\n",
       "        5.70781194,  6.0123321 ,  8.9565279 ,  9.35381247,  6.95893728,\n",
       "        8.51520139,  4.48317901,  5.80299548,  5.0086238 ,  3.16398914,\n",
       "        6.91385197,  7.91094584,  9.94821186,  3.47989918,  5.98087324,\n",
       "        8.73747905,  9.31330809,  8.39763118,  6.13587372,  7.74901274,\n",
       "        7.13729345,  8.06474087,  7.80725321,  5.109166  ,  5.84381651,\n",
       "       10.24853433,  6.77456006,  4.07692672,  7.39009033,  7.6275901 ,\n",
       "        8.51692713,  8.08011423,  5.10633152,  8.94006806,  5.15551184,\n",
       "        4.58266473,  6.57870102,  4.99109174,  5.83020822,  7.58552167,\n",
       "        8.25013999,  6.10614621,  9.78008123,  5.40035662,  8.78065088,\n",
       "        5.50482537,  6.16860187,  8.47596051,  5.29171214,  9.19587502,\n",
       "        6.85582624,  5.74775422,  8.82260556,  8.68217235,  6.67406552,\n",
       "        7.01818941,  6.40476137,  9.02447721,  7.59385663,  0.69879605,\n",
       "        6.63790841,  5.51087753,  7.88903055,  8.22393772,  5.74819754,\n",
       "        8.44451284,  5.81046357,  8.8377266 ,  5.66489097,  9.5028166 ,\n",
       "        6.6192578 ,  7.0706006 ,  9.10470717,  6.36405052,  9.5217862 ,\n",
       "        7.70198609,  7.37456327,  5.70249122,  7.21863711,  7.74359649,\n",
       "        8.5247261 ,  6.13090718,  5.06887811,  7.05134202,  8.02385616,\n",
       "        8.0993481 ,  8.5930082 ,  6.46909314,  8.6389675 ,  6.56101135,\n",
       "        8.40533682,  6.95664821,  6.99293359,  6.54091041,  9.99942926,\n",
       "        8.12767754,  7.57365467,  6.42738072,  8.84238675,  4.69961311,\n",
       "        3.95323846,  8.52730139,  5.48469472,  6.21504655,  6.27643434,\n",
       "        6.70608832, -1.17133167, 10.95448198,  7.28542809,  5.67276012,\n",
       "       -1.34145895,  5.32626323,  7.78569608,  7.13502381,  6.36918124,\n",
       "        6.15337431,  7.94690283,  5.7031735 ,  2.5729642 ,  8.50017123,\n",
       "       10.53235934,  6.54252842,  5.74705814,  5.77025002,  7.12048621,\n",
       "        4.91132144,  5.77570366,  7.80016812,  3.13497536,  6.55870826,\n",
       "        4.37088116,  7.78640374,  6.91808098,  7.62152868,  7.29027843,\n",
       "        7.67253216, 10.66772582,  6.38717458,  7.59156854,  9.01197616,\n",
       "        5.61721234,  5.84758415,  6.50783608,  7.5208324 ,  7.26902826,\n",
       "        4.43261453,  4.09985409,  8.42121406,  8.92199119,  9.2957079 ,\n",
       "        6.65361544,  6.81807235,  4.39900019,  6.43487293,  5.30547376,\n",
       "        6.20962655,  8.4270337 ,  8.63948168,  4.25966464,  5.68799304,\n",
       "        5.42054271, 10.75045126,  8.55051704,  5.38784485,  5.68176806,\n",
       "        6.25787922,  5.49363433,  8.91336541,  8.43163607,  9.00924047,\n",
       "        7.22261844,  3.60226842,  6.82695322,  6.55161756,  8.12578326,\n",
       "        7.50152792,  8.92936463,  6.02290796,  6.45108648,  5.15169084,\n",
       "        4.89804306,  8.87615115,  8.0770257 ,  7.62131639,  8.20119211,\n",
       "        5.07399524,  7.76131118,  8.86017837,  4.84716069,  3.74655037,\n",
       "        6.05421379,  3.7134145 ,  5.27893307,  6.21510573,  5.7009183 ,\n",
       "        8.42784919,  6.22812312, 11.71764046,  3.08475944,  8.27221763,\n",
       "        8.65423794,  6.45854899,  5.84088014,  4.6219737 ,  7.71400442,\n",
       "        6.53929305,  9.01377271,  5.24309071,  3.31511677,  7.95561604,\n",
       "        3.11863409,  5.93502838,  8.22757725,  6.41802309,  8.90116678,\n",
       "        5.3734235 ,  5.60577659,  6.08277068,  1.74708234,  7.95950466,\n",
       "        8.0112539 ,  8.48528774,  7.88107801,  7.56998593,  8.20297426,\n",
       "        7.33622386,  4.75840231,  5.25397198,  7.09992123,  7.95534074,\n",
       "        8.78038331,  5.85959874,  4.90049622,  7.86296833,  6.38094166,\n",
       "        7.17111322,  6.84694789,  6.31710992,  8.0427763 ,  8.48531864,\n",
       "        6.9180891 ,  6.07988897,  9.34043068,  5.55417693,  6.05889835,\n",
       "        8.87028552,  5.11574537,  6.45426259,  7.8042887 ,  5.41486749,\n",
       "        4.91351929,  8.29572789,  5.6182962 ,  8.84107926,  6.10716953,\n",
       "        6.48506108,  5.1213622 ,  9.75334495,  6.96119962,  7.13343839,\n",
       "        8.04542623,  7.2987892 ,  4.54407924,  8.49895078,  5.36348952,\n",
       "        6.99239831,  6.45238503,  8.81925673,  6.1010458 ,  8.80364951,\n",
       "        8.2397459 ,  7.51582587,  4.55611319,  8.5723272 ,  7.82279068,\n",
       "        6.3643197 ,  8.71285587,  7.57011174,  7.6277684 ,  7.28834956,\n",
       "        6.85151475,  6.58559658, 10.29409154,  8.41104565,  8.02928407,\n",
       "        7.26279899,  6.06012711,  8.58297676,  7.98230627,  6.59500183,\n",
       "        6.83394145,  7.78959303,  8.04059817,  7.10172692,  7.96633635,\n",
       "        5.4535934 ,  4.53661477,  6.07262515,  7.81244452,  5.69021861,\n",
       "        7.33660417,  5.72835018,  5.65400765,  7.63869354,  4.71814898,\n",
       "        7.95271541,  5.78336287,  7.72959474,  8.3466007 ,  6.56524147,\n",
       "        7.90748391,  6.41257416,  7.19197481,  4.84200333,  9.24719583,\n",
       "        6.91839209,  5.04772405,  9.0860753 ,  7.383143  ,  1.32105026,\n",
       "        9.44472836,  4.38883364,  8.0824198 ,  7.97372804,  6.24385906,\n",
       "        6.30779487,  4.30700465,  8.48185965,  5.45547898,  6.63285424,\n",
       "        9.36552639,  5.90815795,  7.70157128,  3.35377884,  9.02722616,\n",
       "        9.09885519,  5.75598662,  6.1091852 ,  8.60954722,  8.03848299,\n",
       "        5.84433658,  6.7259513 ,  6.47952348,  9.10314291,  4.8602504 ,\n",
       "        7.22077338,  4.41442738,  7.47049112,  5.10357135,  5.57658208,\n",
       "        7.32077995,  8.48873148,  6.4503429 ,  6.68121004,  6.96201221,\n",
       "        8.50491501,  7.38300081,  7.26427587, 11.5692388 ,  6.43630087,\n",
       "        8.32562869,  4.81117773,  5.98871952,  6.76133691,  6.03405769,\n",
       "        8.86968273,  6.77748753,  9.06761646,  9.49951386,  8.77352229,\n",
       "        8.61729401,  6.53860052,  6.75924013,  8.50725622,  8.24882004,\n",
       "        8.26829152,  6.50199252,  8.20023656,  6.31861324,  6.46642258,\n",
       "        8.84876966,  7.97422879,  8.7148922 ,  3.92806837,  7.84466551,\n",
       "        4.82861323,  9.20244887,  4.8051247 ,  3.46036778,  9.04539807,\n",
       "        4.88180001,  4.01498483,  7.72991429,  4.6877769 ,  8.18652081,\n",
       "        7.37236915,  8.42335283,  5.86146318,  5.83430783,  4.48885014,\n",
       "        6.62176244,  8.36708208,  5.3549415 ,  6.29990526,  5.75200526,\n",
       "        5.08044289,  8.0790716 ,  8.91468937,  5.83343914,  8.48895004,\n",
       "        7.3456562 ,  9.33314906,  5.76290982,  8.09761506,  5.53975938,\n",
       "        4.85268692,  8.31508514,  6.66643772,  8.31801817,  9.72073667,\n",
       "        5.92407884,  6.32313107,  8.04394449,  9.18429654,  8.04710093,\n",
       "        9.1810918 ,  5.6370682 ,  8.23623035,  8.08074181,  8.74736801,\n",
       "       10.68773989,  7.89769621,  4.24128074,  8.46759454,  6.66330964,\n",
       "        8.29133631,  7.76852558,  5.24463052,  6.13529423,  7.79815862,\n",
       "        8.53573882,  8.10070513,  6.27152725,  6.96699002,  6.29296612,\n",
       "        6.77825609,  7.39851798,  6.14595177,  6.05712048,  7.0157641 ,\n",
       "        6.84699889,  8.44526321,  4.39751595,  3.72913949,  8.71967369,\n",
       "        8.57485004,  4.97336473,  8.75342801,  8.13701591,  8.5752466 ,\n",
       "        8.35832729,  7.57902993,  5.92541695,  5.33834444, 10.19369957,\n",
       "        8.3867939 ,  5.63905999,  6.80361798,  8.01447006,  6.8415269 ,\n",
       "        6.16374505,  8.05345052,  5.98719564,  8.63614664, 10.03651557,\n",
       "        4.9083055 ,  6.17535214,  5.31607954,  5.08954865,  5.47208899,\n",
       "        3.77464346,  8.99914272,  7.91966628,  4.25559573,  5.88421668,\n",
       "        9.47776223,  3.89755356,  4.30917718,  5.24271649,  8.14826639,\n",
       "        4.06715025,  6.80665646,  5.57801247,  8.4999862 ,  9.02545752,\n",
       "        3.28511559,  5.84992617,  8.66842028,  7.44393827,  5.56171779,\n",
       "        5.51989288,  6.07017673,  5.62788274,  6.92114119,  8.13817634,\n",
       "        5.84711247,  6.57807732,  6.63332596,  7.94134666,  7.75050034,\n",
       "        7.46321415,  7.43471411, 10.25991633,  6.26415419,  5.89601223,\n",
       "        8.21563135,  6.26320511,  5.5981728 ,  5.2325258 ,  7.72872149,\n",
       "        7.44872262,  5.31306603,  5.83954416,  6.81406844,  3.48762142,\n",
       "        6.30450262,  6.24134212,  8.82573115,  5.94092778,  8.50613329,\n",
       "        2.60692846,  7.68523401,  3.07061867,  8.24534471,  8.74223234,\n",
       "        8.13132613,  8.13315115,  8.05480107,  4.9066743 ,  8.76368354,\n",
       "        5.77746037,  8.87521237, 10.38791222,  3.91841009,  8.39543008,\n",
       "        7.80755633,  8.91769084,  8.48981526,  5.25532574,  6.79616455,\n",
       "        8.98368567,  5.71245165,  4.17821057,  7.71640831,  6.45968008,\n",
       "        5.96051982,  6.7204819 ,  5.10226432,  5.31388666,  5.75027632,\n",
       "        6.022709  ,  8.49271393,  6.36543141,  3.100492  ,  5.92280131,\n",
       "        5.64137944,  4.74317275,  8.79569145,  4.04250597,  9.41831924,\n",
       "        4.19592749,  7.13676012,  4.02621402,  9.13602614,  8.42358387,\n",
       "        5.17049979,  6.61652781,  7.00802746,  7.68019435,  3.82366447,\n",
       "        7.62311152,  5.55214808,  5.39664963,  6.49505073,  8.5737304 ,\n",
       "        6.37436796,  7.2975745 ,  6.72203096,  4.14558758, 11.61753687,\n",
       "        8.24889311,  7.2145216 ,  4.88563831, 11.08628375,  7.52679112,\n",
       "        8.958229  ,  4.9920445 ,  4.66814275,  6.44240645, 10.71343304,\n",
       "        8.511572  ,  2.65612045,  8.17813861,  6.88412891,  6.16039775,\n",
       "        5.70911369,  8.05255881,  5.50555607,  8.11052659,  7.58256334])"
      ]
     },
     "execution_count": 50,
     "metadata": {},
     "output_type": "execute_result"
    }
   ],
   "source": [
    "predictions = model.predict(df_test)\n",
    "predictions"
   ]
  },
  {
   "cell_type": "code",
   "execution_count": 91,
   "metadata": {},
   "outputs": [
    {
     "data": {
      "text/plain": [
       "array([ 9.10120741,  9.75501286,  8.32511965,  8.4044834 ,  7.79846321,\n",
       "        3.97443983,  4.95658089,  7.81805048,  8.21452398,  7.47487093,\n",
       "        4.88717618,  5.67819135,  9.12898803,  5.37421059,  2.04803718,\n",
       "        6.71996762,  7.85532089,  4.03623536, 10.1275658 ,  6.13006273,\n",
       "        5.42238169,  4.31523768,  7.0728233 ,  6.93262758,  4.81383525,\n",
       "        6.41112188,  7.24508268,  8.30857072,  7.72777641,  7.77151864,\n",
       "        7.6004233 ,  4.93616582,  8.79064466,  8.29878216,  3.21607243,\n",
       "        7.96351612,  8.58734748, 11.74456138,  6.50903177,  7.13138279,\n",
       "        9.11046874,  8.34350676,  9.18894735,  5.2347237 ,  6.28214607,\n",
       "        4.61495614,  3.62211272,  6.4199652 ,  6.20102619,  2.95049371,\n",
       "       -0.37776704,  5.76236624,  8.13702176, 11.13496763,  7.86377242,\n",
       "        6.40244739,  8.19724527,  8.81668121,  9.07374091,  8.50073596,\n",
       "        8.62259412, 10.36342476,  5.30938018,  8.04783693,  8.5827251 ,\n",
       "        6.06369398,  4.72324959,  4.2761111 ,  6.08282271,  6.6678685 ,\n",
       "        8.56870997,  5.02040736,  6.09925222,  6.29901302,  6.08295052,\n",
       "        5.50959285,  5.89578891,  9.01194709,  8.83308687,  6.46522127,\n",
       "        7.76996696,  4.20999998,  5.65967272,  5.29338788,  1.84460858,\n",
       "        6.94209612,  7.54697461,  9.62513227,  3.77668662,  5.99636162,\n",
       "        9.25586734,  9.268638  ,  7.92119044,  6.03115318,  8.24585003,\n",
       "        6.41569397,  8.15041563,  8.25773575,  5.0342938 ,  6.25714123,\n",
       "        7.97111347,  6.68591821,  4.77584669,  7.70673897,  7.531616  ,\n",
       "        8.56725347,  8.17499149,  5.20027633,  7.97609953,  4.92086988,\n",
       "        4.66308114,  7.29450228,  4.52637346,  5.81977342,  7.47451941,\n",
       "        8.20520381,  6.18743808,  8.99910003,  5.64895688,  8.34660976,\n",
       "        5.61150369,  6.19829203,  8.53007383,  4.72987338,  8.50441803,\n",
       "        6.98277085,  5.49563194,  8.33246951,  8.85845086,  6.87887904,\n",
       "        6.46561658,  6.92749418,  8.73600485,  8.0111563 , -0.58095189,\n",
       "        6.51685521,  5.32596176,  7.36741832,  8.33140908,  5.63961445,\n",
       "        8.41592378,  6.03778665,  8.6480556 ,  5.80971356,  8.85705675,\n",
       "        6.3459037 ,  6.78705737,  8.70430632,  6.52404122,  9.77200731,\n",
       "        7.8467279 ,  7.37862061,  5.23397693,  6.64371781,  7.62183727,\n",
       "        9.02813985,  5.98802852,  5.47737173,  6.97654163,  8.03219275,\n",
       "        8.70701698,  8.80696576,  6.56239786,  8.63455305,  6.73058166,\n",
       "        7.77979197,  6.99827308,  7.16796604,  6.58762869,  8.5983625 ,\n",
       "        7.99827882,  7.47836453,  6.55604791,  8.64333833,  4.7576406 ,\n",
       "        4.32812772,  8.27465804,  6.01276356,  6.02797384,  6.8634874 ,\n",
       "        6.55488652, -2.28857213, 10.98807137,  7.16705524,  5.53183127,\n",
       "       -2.28835425,  5.25090709,  8.07985035,  7.26546006,  6.75755819,\n",
       "        6.13472224,  7.81305165,  5.19737267,  1.70991198,  8.11697114,\n",
       "        9.61991606,  6.94483927,  5.66632645,  5.78220606,  7.43992089,\n",
       "        5.37733112,  5.15015555,  7.36865158,  2.53022075,  6.63158285,\n",
       "        3.81016811,  7.78905633,  6.93262758,  7.38906861,  7.55082797,\n",
       "        7.86849007, 10.00601552,  6.22934507,  7.4073308 ,  8.79821033,\n",
       "        5.32565603,  5.96592257,  6.66879934,  8.1832575 ,  7.86513073,\n",
       "        4.23238256,  4.50792421,  7.89954436,  9.13525113,  9.00542173,\n",
       "        6.47167495,  6.67240344,  4.80611484,  6.31973208,  4.99481811,\n",
       "        6.05432629,  8.41000899,  8.71726133,  3.77630782,  5.51226272,\n",
       "        5.21758028, 10.80302625,  8.72270127,  5.00133622,  5.86426563,\n",
       "        5.81722489,  5.72649102,  8.29857788,  8.3499694 ,  8.52716681,\n",
       "        6.6829683 ,  4.14774628,  7.02681331,  6.53368777,  8.43054856,\n",
       "        8.03796182,  8.77927086,  5.60325722,  6.60680303,  5.62854546,\n",
       "        4.06177696,  8.52168842,  8.11443666,  8.49179442,  8.23396605,\n",
       "        4.99813651,  8.30491721,  7.83294203,  4.86635119,  3.83013322,\n",
       "        6.20998513,  4.22515045,  5.94774016,  6.54621583,  6.54241537,\n",
       "        8.41971574,  6.15821008,  9.31524279,  2.28284572,  7.87313827,\n",
       "        8.26949016,  5.7337621 ,  5.35361023,  5.43366061,  7.49746401,\n",
       "        6.79240668,  7.98168197,  5.56335538,  3.4156251 ,  7.93076985,\n",
       "        3.39548183,  6.00531105,  5.91325342,  6.87454691,  8.95766883,\n",
       "        6.36026233,  5.53117182,  5.6136737 ,  1.52369356,  7.69238966,\n",
       "        8.548905  ,  8.31560031,  8.27238753,  7.29574669,  5.92827302,\n",
       "        7.01147682,  4.9784286 ,  4.89272743,  7.15522979,  8.07651359,\n",
       "        8.71212963,  5.6574975 ,  4.39266643,  7.60768124,  5.67735981,\n",
       "        7.10168721,  7.44288515,  6.09709226,  8.13884357,  8.41915888,\n",
       "        7.39040201,  5.96087698,  6.97572317,  5.79848609,  6.07238999,\n",
       "        7.46970757,  4.77825445,  6.65128454,  7.9380776 ,  4.96360441,\n",
       "        4.97624778,  8.30255225,  5.27466071,  8.44103892,  6.62740245,\n",
       "        6.62861807,  4.82415478,  9.55101724,  7.74376451,  7.5782631 ,\n",
       "        8.13157539,  7.39449935,  4.93174197,  8.30928447,  5.79222746,\n",
       "        6.67034362,  6.86470648,  8.59980592,  6.19741598,  8.71224293,\n",
       "        8.02685758,  7.74237105,  4.33618587,  7.89988169,  7.42554343,\n",
       "        6.07089312,  8.36348278,  7.72680952,  7.9359618 ,  6.98044293,\n",
       "        6.84582824,  6.25268042, 10.45825911,  8.16798064,  8.10373504,\n",
       "        6.79102784,  6.84918257,  8.051502  ,  8.22533268,  6.74265629,\n",
       "        7.00022934,  7.86894292,  8.33389945,  7.39659777,  7.87357078,\n",
       "        4.95997458,  5.16528024,  6.36532202,  8.14763984,  5.32918679,\n",
       "        6.98264782,  5.31795417,  5.27078323,  7.66111055,  4.91140253,\n",
       "        7.51356049,  4.99303531,  7.48814393,  8.16944141,  6.46653447,\n",
       "        7.75083954,  6.55739167,  7.19987832,  4.73212097,  8.69868788,\n",
       "        7.13113068,  4.35849063,  8.71350589,  7.200787  ,  0.94866395,\n",
       "        8.78908022,  5.08595317,  7.15973474,  8.62155186,  6.54934123,\n",
       "        6.05588462,  4.29785973,  8.48351726,  4.49977055,  6.2031787 ,\n",
       "        9.03365186,  6.35387779,  7.76286727,  3.28889704,  9.35434877,\n",
       "        8.56195744,  5.70766366,  6.36052839,  8.09501584,  8.24971956,\n",
       "        5.81348729,  7.19857799,  6.32833869,  8.74985435,  4.8891488 ,\n",
       "        7.25626228,  4.30470214,  7.47171179,  4.5999847 ,  5.61154673,\n",
       "        7.56780805,  8.28783625,  6.93262758,  6.79597409,  7.12753259,\n",
       "        8.76490343,  7.23433001,  7.95084586,  8.96459462,  6.22361848,\n",
       "        7.94550178,  4.8426251 ,  6.09166499,  6.6801639 ,  6.00456139,\n",
       "        8.52278507,  6.75311949,  8.74349332,  8.34943974,  8.42779077,\n",
       "        7.87454806,  6.14650426,  7.03988319,  8.71462939,  7.91419454,\n",
       "        8.19012813,  6.66388173,  7.90236752,  6.98449168,  6.05339138,\n",
       "        8.05715355,  8.64199479,  8.40785756,  3.95035579,  7.70786089,\n",
       "        5.71310596,  8.93348498,  4.86999679,  4.15646035,  8.96551487,\n",
       "        4.98928373,  4.33550585,  7.80178103,  5.50303097,  7.74748274,\n",
       "        7.19712502,  7.98445797,  5.6480551 ,  6.00823187,  4.73082152,\n",
       "        7.33068882,  8.41204779,  4.7068646 ,  6.24215579,  5.71348397,\n",
       "        5.58503745,  8.27165385,  8.64967341,  6.56391599,  8.82787614,\n",
       "        7.47297999,  9.06293038,  6.13790101,  8.08768226,  5.36383282,\n",
       "        4.54682775,  9.83837658,  6.71019727,  8.0344054 ,  9.36525845,\n",
       "        6.31317695,  6.15417883,  7.99872654,  8.61669252,  8.08865034,\n",
       "        9.03918394,  5.39026178,  8.67779359,  8.7553246 ,  8.44223713,\n",
       "        9.39046839,  7.93148193,  4.07281145,  7.98686378,  6.35590512,\n",
       "        8.16969296,  7.65934643,  5.05995387,  5.71879455,  7.8790981 ,\n",
       "        8.55999008,  8.10656794,  6.64624408,  7.1069686 ,  6.47323386,\n",
       "        5.76498445,  7.03386169,  6.37214905,  6.36462574,  6.67252939,\n",
       "        7.36350773,  8.45411742,  3.4690943 ,  4.12047977,  9.1083287 ,\n",
       "        8.38109507,  4.48564803,  8.33981825,  8.20071735,  8.43698037,\n",
       "        8.38578124,  7.77290984,  5.93739627,  5.09905545,  8.91977362,\n",
       "        8.65708051,  5.0775136 ,  7.31679339,  8.14925439,  7.16217109,\n",
       "        5.850619  ,  7.88104307,  6.06262651,  8.11793618,  8.97899448,\n",
       "        5.4513062 ,  6.33083407,  5.51289551,  4.7546719 ,  5.56878561,\n",
       "        3.7146569 ,  8.79373072,  7.22177651,  4.16501905,  5.68510181,\n",
       "        8.99044497,  3.10172092,  4.60126107,  4.692417  ,  7.94887355,\n",
       "        4.72184267,  6.51754646,  5.31453048,  9.0072799 ,  8.36889325,\n",
       "        3.1813564 ,  5.67452195,  8.27069991,  7.6513475 ,  6.30768924,\n",
       "        6.09635607,  6.25435967,  5.56495558,  7.40112296,  8.58599706,\n",
       "        5.75966665,  6.84096351,  5.98558658,  7.55604044,  7.43981091,\n",
       "        7.44822027,  7.13391639,  9.71617523,  5.96776959,  6.12324432,\n",
       "        8.44915475,  7.14120632,  5.35889199,  5.10578597,  7.88750328,\n",
       "        7.28930082,  6.10348842,  5.38809511,  7.07729079,  3.8249105 ,\n",
       "        6.18092695,  6.29596307,  8.63091858,  5.73586694,  8.25174427,\n",
       "        2.21883602,  8.07601162,  2.15670499,  8.09670157,  8.55824206,\n",
       "        8.19807852,  7.78414786,  7.81256716,  5.23918321,  8.83155038,\n",
       "        6.4703592 ,  6.79495562, 10.22395176,  3.79348751,  8.91161321,\n",
       "        8.08240625,  8.83131936,  8.04498706,  5.05458105,  6.85569934,\n",
       "        9.00747512,  5.74145229,  3.78538507,  7.14297474,  6.43058892,\n",
       "        5.65171337,  6.63414146,  5.23603656,  5.8710061 ,  5.21837705,\n",
       "        5.90555518,  8.77266572,  6.14615628,  3.45212555,  4.8738567 ,\n",
       "        5.75029757,  5.12528195,  8.98749777,  4.28974883,  9.94177488,\n",
       "        4.83572099,  7.18591736,  4.66637435,  8.86757285,  8.14994114,\n",
       "        5.55322277,  6.58585426,  6.99758676,  7.9613145 ,  3.80918993,\n",
       "        8.08306836,  5.67290386,  5.53322357,  6.79607116,  8.0549993 ,\n",
       "        6.05316027,  7.44109613,  5.54453007,  2.87498161,  9.20252481,\n",
       "        7.34763635,  7.28731304,  4.3060696 , 11.60085341,  7.23880986,\n",
       "        8.89998572,  5.3433941 ,  5.03486192,  6.24563013, 10.51041618,\n",
       "        8.06542792,  2.59670677,  7.9625723 ,  6.93360244,  6.12185172,\n",
       "        5.73175677,  8.08562327,  5.13587818,  8.04434585,  7.80037623])"
      ]
     },
     "execution_count": 91,
     "metadata": {},
     "output_type": "execute_result"
    }
   ],
   "source": [
    "predict2 = lasso.predict(test_scaled)\n",
    "predict2"
   ]
  },
  {
   "cell_type": "markdown",
   "metadata": {},
   "source": [
    "## Submission\n",
    "\n"
   ]
  },
  {
   "cell_type": "code",
   "execution_count": 100,
   "metadata": {},
   "outputs": [],
   "source": [
    "submission = pd.DataFrame(\n",
    "    {'Index': test_index,\n",
    "     'ave_price_per_kg': predictions\n",
    "    })"
   ]
  },
  {
   "cell_type": "code",
   "execution_count": 101,
   "metadata": {},
   "outputs": [
    {
     "data": {
      "text/html": [
       "<div>\n",
       "<style scoped>\n",
       "    .dataframe tbody tr th:only-of-type {\n",
       "        vertical-align: middle;\n",
       "    }\n",
       "\n",
       "    .dataframe tbody tr th {\n",
       "        vertical-align: top;\n",
       "    }\n",
       "\n",
       "    .dataframe thead th {\n",
       "        text-align: right;\n",
       "    }\n",
       "</style>\n",
       "<table border=\"1\" class=\"dataframe\">\n",
       "  <thead>\n",
       "    <tr style=\"text-align: right;\">\n",
       "      <th></th>\n",
       "      <th>Index</th>\n",
       "      <th>Price</th>\n",
       "    </tr>\n",
       "  </thead>\n",
       "  <tbody>\n",
       "    <tr>\n",
       "      <th>0</th>\n",
       "      <td>1</td>\n",
       "      <td>9.181884</td>\n",
       "    </tr>\n",
       "    <tr>\n",
       "      <th>1</th>\n",
       "      <td>2</td>\n",
       "      <td>10.274948</td>\n",
       "    </tr>\n",
       "    <tr>\n",
       "      <th>2</th>\n",
       "      <td>3</td>\n",
       "      <td>8.576591</td>\n",
       "    </tr>\n",
       "    <tr>\n",
       "      <th>3</th>\n",
       "      <td>4</td>\n",
       "      <td>7.704834</td>\n",
       "    </tr>\n",
       "    <tr>\n",
       "      <th>4</th>\n",
       "      <td>5</td>\n",
       "      <td>7.255203</td>\n",
       "    </tr>\n",
       "  </tbody>\n",
       "</table>\n",
       "</div>"
      ],
      "text/plain": [
       "   Index      Price\n",
       "0      1   9.181884\n",
       "1      2  10.274948\n",
       "2      3   8.576591\n",
       "3      4   7.704834\n",
       "4      5   7.255203"
      ]
     },
     "execution_count": 101,
     "metadata": {},
     "output_type": "execute_result"
    }
   ],
   "source": [
    "submission.head()"
   ]
  },
  {
   "cell_type": "code",
   "execution_count": 164,
   "metadata": {},
   "outputs": [],
   "source": [
    "# save DataFrame to csv file for submission\n",
    "submission.to_csv(\"Team_TS5_Regression.csv\", index=False)"
   ]
  },
  {
   "cell_type": "code",
   "execution_count": 96,
   "metadata": {},
   "outputs": [],
   "source": [
    "submission2 = pd.DataFrame(\n",
    "    {'Index': test_index,\n",
    "     'avg_price_per_kg': predict2\n",
    "    })"
   ]
  },
  {
   "cell_type": "code",
   "execution_count": 97,
   "metadata": {},
   "outputs": [
    {
     "data": {
      "text/html": [
       "<div>\n",
       "<style scoped>\n",
       "    .dataframe tbody tr th:only-of-type {\n",
       "        vertical-align: middle;\n",
       "    }\n",
       "\n",
       "    .dataframe tbody tr th {\n",
       "        vertical-align: top;\n",
       "    }\n",
       "\n",
       "    .dataframe thead th {\n",
       "        text-align: right;\n",
       "    }\n",
       "</style>\n",
       "<table border=\"1\" class=\"dataframe\">\n",
       "  <thead>\n",
       "    <tr style=\"text-align: right;\">\n",
       "      <th></th>\n",
       "      <th>Index</th>\n",
       "      <th>avg_price_per_kg</th>\n",
       "    </tr>\n",
       "  </thead>\n",
       "  <tbody>\n",
       "    <tr>\n",
       "      <th>680</th>\n",
       "      <td>681</td>\n",
       "      <td>5.731757</td>\n",
       "    </tr>\n",
       "    <tr>\n",
       "      <th>681</th>\n",
       "      <td>682</td>\n",
       "      <td>8.085623</td>\n",
       "    </tr>\n",
       "    <tr>\n",
       "      <th>682</th>\n",
       "      <td>683</td>\n",
       "      <td>5.135878</td>\n",
       "    </tr>\n",
       "    <tr>\n",
       "      <th>683</th>\n",
       "      <td>684</td>\n",
       "      <td>8.044346</td>\n",
       "    </tr>\n",
       "    <tr>\n",
       "      <th>684</th>\n",
       "      <td>685</td>\n",
       "      <td>7.800376</td>\n",
       "    </tr>\n",
       "  </tbody>\n",
       "</table>\n",
       "</div>"
      ],
      "text/plain": [
       "     Index  avg_price_per_kg\n",
       "680    681          5.731757\n",
       "681    682          8.085623\n",
       "682    683          5.135878\n",
       "683    684          8.044346\n",
       "684    685          7.800376"
      ]
     },
     "execution_count": 97,
     "metadata": {},
     "output_type": "execute_result"
    }
   ],
   "source": [
    "submission2.tail()"
   ]
  },
  {
   "cell_type": "code",
   "execution_count": 98,
   "metadata": {},
   "outputs": [],
   "source": [
    "# save DataFrame to csv file for submission\n",
    "submission2.to_csv(\"Team_TS5_Regression.csv\", index=False)"
   ]
  },
  {
   "cell_type": "code",
   "execution_count": 55,
   "metadata": {},
   "outputs": [],
   "source": [
    "import pickle\n",
    "\n",
    "model_save_path = \"linear_model.pkl\"\n",
    "with open(model_save_path,'wb') as file:\n",
    "    pickle.dump(linear_model,file)"
   ]
  },
  {
   "cell_type": "code",
   "execution_count": null,
   "metadata": {},
   "outputs": [],
   "source": []
  },
  {
   "cell_type": "markdown",
   "metadata": {},
   "source": [
    "## Conclusion"
   ]
  },
  {
   "cell_type": "code",
   "execution_count": null,
   "metadata": {},
   "outputs": [],
   "source": []
  }
 ],
 "metadata": {
  "kernelspec": {
   "display_name": "Python 3",
   "language": "python",
   "name": "python3"
  },
  "language_info": {
   "codemirror_mode": {
    "name": "ipython",
    "version": 3
   },
   "file_extension": ".py",
   "mimetype": "text/x-python",
   "name": "python",
   "nbconvert_exporter": "python",
   "pygments_lexer": "ipython3",
   "version": "3.7.3"
  }
 },
 "nbformat": 4,
 "nbformat_minor": 2
}
