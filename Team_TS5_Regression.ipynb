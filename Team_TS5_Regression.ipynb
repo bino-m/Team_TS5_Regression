{
 "cells": [
  {
   "cell_type": "markdown",
   "metadata": {},
   "source": [
    "# EDSA Apple Price Challenge\n",
    "#### Team TS5 Regression"
   ]
  },
  {
   "cell_type": "markdown",
   "metadata": {},
   "source": [
    "## Challenge description\n",
    "\n",
    "Imagine you are in the Fresh Produce Industry. How much stock do you have on hand? Not too little that you run out of stock when customers want to buy more. And not too much that food waste occurs. How do you set your prices? Yields from farms fluctuate by season. Should your prices then also fluctuate by season?\n",
    "\n",
    "  Providing an accurate and robust solution to this challenge has immense economic potential, with users of the system being able to accurately determine how much stock to have on hand and what price to set the Golden Delicious Apples to.\n",
    "  \n",
    "  With this context, we are challenged to construct a regression algorithm, by EDSA, capable of accurately predicting how much a kilogram of Golden Delicious Apples will cost, given certain parameters.\n"
   ]
  },
  {
   "cell_type": "markdown",
   "metadata": {},
   "source": [
    "## Outline"
   ]
  },
  {
   "cell_type": "markdown",
   "metadata": {},
   "source": [
    "## Introduction"
   ]
  },
  {
   "cell_type": "markdown",
   "metadata": {},
   "source": [
    "In this report, the aim is to construct a regression algorithm, capable of accurately predicting how much a kilogram of Golden Delicious Apples will cost, given certain parameters. \n",
    "\n",
    "  To achieve this, we will Goal perform a pre-modeling/modeling of work, exploratory data, and investigate the importance of data preprocessing, feature exploration, and feature engineering on model performace.\n",
    "  \n",
    "  Python libraries used:\n",
    "* Numpy\n",
    "* Pandas\n",
    "* Sci-kit learn\n",
    "* Matplotlib\n",
    "* Almost entire workflow is covered by these four libraries"
   ]
  },
  {
   "cell_type": "markdown",
   "metadata": {},
   "source": [
    "# Importing Libraries\n",
    "\n",
    "We will be importing a few python libraries."
   ]
  },
  {
   "cell_type": "code",
   "execution_count": 1,
   "metadata": {},
   "outputs": [],
   "source": [
    "\n",
    "\n",
    "\n",
    "\n",
    "\n",
    "# Visualisations  ''''''''''''''''testing testing!!!!!!!!!!!!!!!!!!!!!!ppppdddd\n",
    "#import missingno\n",
    "\n",
    "import seaborn as sns\n",
    "import matplotlib.pyplot as plt\n",
    "#%matplotlib inline\n",
    "\n",
    "# Other\n",
    "from scipy import stats\n",
    "import math\n",
    "import pickle\n",
    "import pandas as pd\n",
    "import numpy as np"
   ]
  },
  {
   "cell_type": "markdown",
   "metadata": {},
   "source": [
    "We will be loading our data as a Pandas Dataframe. For this challenge we will be using `EDSA Apple Price Challenge` dataset."
   ]
  },
  {
   "cell_type": "code",
   "execution_count": 2,
   "metadata": {},
   "outputs": [],
   "source": [
    "train = pd.read_csv(r'https://raw.githubusercontent.com/CPNMorgan/sharing-github/main/df-train_set.csv')"
   ]
  },
  {
   "cell_type": "code",
   "execution_count": 3,
   "metadata": {},
   "outputs": [
    {
     "data": {
      "text/html": [
       "<div>\n",
       "<style scoped>\n",
       "    .dataframe tbody tr th:only-of-type {\n",
       "        vertical-align: middle;\n",
       "    }\n",
       "\n",
       "    .dataframe tbody tr th {\n",
       "        vertical-align: top;\n",
       "    }\n",
       "\n",
       "    .dataframe thead th {\n",
       "        text-align: right;\n",
       "    }\n",
       "</style>\n",
       "<table border=\"1\" class=\"dataframe\">\n",
       "  <thead>\n",
       "    <tr style=\"text-align: right;\">\n",
       "      <th></th>\n",
       "      <th>Province</th>\n",
       "      <th>Container</th>\n",
       "      <th>Size_Grade</th>\n",
       "      <th>Weight_Kg</th>\n",
       "      <th>Commodities</th>\n",
       "      <th>Date</th>\n",
       "      <th>Low_Price</th>\n",
       "      <th>High_Price</th>\n",
       "      <th>Sales_Total</th>\n",
       "      <th>Total_Qty_Sold</th>\n",
       "      <th>Total_Kg_Sold</th>\n",
       "      <th>Stock_On_Hand</th>\n",
       "      <th>avg_price_per_kg</th>\n",
       "    </tr>\n",
       "  </thead>\n",
       "  <tbody>\n",
       "    <tr>\n",
       "      <th>0</th>\n",
       "      <td>CAPE</td>\n",
       "      <td>EC120</td>\n",
       "      <td>1L</td>\n",
       "      <td>12.0</td>\n",
       "      <td>APPLE GRANNY SMITH</td>\n",
       "      <td>2020-03-10</td>\n",
       "      <td>108.0</td>\n",
       "      <td>112.0</td>\n",
       "      <td>3236.0</td>\n",
       "      <td>29</td>\n",
       "      <td>348.0</td>\n",
       "      <td>0</td>\n",
       "      <td>9.30</td>\n",
       "    </tr>\n",
       "    <tr>\n",
       "      <th>1</th>\n",
       "      <td>CAPE</td>\n",
       "      <td>M4183</td>\n",
       "      <td>1L</td>\n",
       "      <td>18.3</td>\n",
       "      <td>APPLE GOLDEN DELICIOUS</td>\n",
       "      <td>2020-09-09</td>\n",
       "      <td>150.0</td>\n",
       "      <td>170.0</td>\n",
       "      <td>51710.0</td>\n",
       "      <td>332</td>\n",
       "      <td>6075.6</td>\n",
       "      <td>822</td>\n",
       "      <td>8.51</td>\n",
       "    </tr>\n",
       "    <tr>\n",
       "      <th>2</th>\n",
       "      <td>GAUTENG</td>\n",
       "      <td>AT200</td>\n",
       "      <td>1L</td>\n",
       "      <td>20.0</td>\n",
       "      <td>AVOCADO PINKERTON</td>\n",
       "      <td>2020-05-05</td>\n",
       "      <td>70.0</td>\n",
       "      <td>80.0</td>\n",
       "      <td>4860.0</td>\n",
       "      <td>66</td>\n",
       "      <td>1320.0</td>\n",
       "      <td>50</td>\n",
       "      <td>3.68</td>\n",
       "    </tr>\n",
       "    <tr>\n",
       "      <th>3</th>\n",
       "      <td>TRANSVAAL</td>\n",
       "      <td>BJ090</td>\n",
       "      <td>1L</td>\n",
       "      <td>9.0</td>\n",
       "      <td>TOMATOES-LONG LIFE</td>\n",
       "      <td>2020-01-20</td>\n",
       "      <td>60.0</td>\n",
       "      <td>60.0</td>\n",
       "      <td>600.0</td>\n",
       "      <td>10</td>\n",
       "      <td>90.0</td>\n",
       "      <td>0</td>\n",
       "      <td>6.67</td>\n",
       "    </tr>\n",
       "    <tr>\n",
       "      <th>4</th>\n",
       "      <td>WESTERN FREESTATE</td>\n",
       "      <td>PP100</td>\n",
       "      <td>1R</td>\n",
       "      <td>10.0</td>\n",
       "      <td>POTATO SIFRA (WASHED)</td>\n",
       "      <td>2020-07-14</td>\n",
       "      <td>40.0</td>\n",
       "      <td>45.0</td>\n",
       "      <td>41530.0</td>\n",
       "      <td>927</td>\n",
       "      <td>9270.0</td>\n",
       "      <td>393</td>\n",
       "      <td>4.48</td>\n",
       "    </tr>\n",
       "  </tbody>\n",
       "</table>\n",
       "</div>"
      ],
      "text/plain": [
       "            Province Container Size_Grade  Weight_Kg             Commodities  \\\n",
       "0               CAPE     EC120         1L       12.0      APPLE GRANNY SMITH   \n",
       "1               CAPE     M4183         1L       18.3  APPLE GOLDEN DELICIOUS   \n",
       "2            GAUTENG     AT200         1L       20.0       AVOCADO PINKERTON   \n",
       "3          TRANSVAAL     BJ090         1L        9.0      TOMATOES-LONG LIFE   \n",
       "4  WESTERN FREESTATE     PP100         1R       10.0   POTATO SIFRA (WASHED)   \n",
       "\n",
       "         Date  Low_Price  High_Price  Sales_Total  Total_Qty_Sold  \\\n",
       "0  2020-03-10      108.0       112.0       3236.0              29   \n",
       "1  2020-09-09      150.0       170.0      51710.0             332   \n",
       "2  2020-05-05       70.0        80.0       4860.0              66   \n",
       "3  2020-01-20       60.0        60.0        600.0              10   \n",
       "4  2020-07-14       40.0        45.0      41530.0             927   \n",
       "\n",
       "   Total_Kg_Sold  Stock_On_Hand  avg_price_per_kg  \n",
       "0          348.0              0              9.30  \n",
       "1         6075.6            822              8.51  \n",
       "2         1320.0             50              3.68  \n",
       "3           90.0              0              6.67  \n",
       "4         9270.0            393              4.48  "
      ]
     },
     "execution_count": 3,
     "metadata": {},
     "output_type": "execute_result"
    }
   ],
   "source": [
    "train.head()"
   ]
  },
  {
   "cell_type": "markdown",
   "metadata": {},
   "source": [
    "We look at the top rows of our data in order to see the features as well as the types of data we are working with.\n",
    "\n"
   ]
  },
  {
   "cell_type": "markdown",
   "metadata": {},
   "source": [
    "# Data Cleaning\n",
    "\n",
    "If we want to build some relationship between variables that are likely to indicate the average price per kg of Golden Delicious Apples, we really only want to consider the sales which involved Golden Delicious Apples to build this relationship:"
   ]
  },
  {
   "cell_type": "code",
   "execution_count": 3,
   "metadata": {},
   "outputs": [
    {
     "data": {
      "text/html": [
       "<div>\n",
       "<style scoped>\n",
       "    .dataframe tbody tr th:only-of-type {\n",
       "        vertical-align: middle;\n",
       "    }\n",
       "\n",
       "    .dataframe tbody tr th {\n",
       "        vertical-align: top;\n",
       "    }\n",
       "\n",
       "    .dataframe thead th {\n",
       "        text-align: right;\n",
       "    }\n",
       "</style>\n",
       "<table border=\"1\" class=\"dataframe\">\n",
       "  <thead>\n",
       "    <tr style=\"text-align: right;\">\n",
       "      <th></th>\n",
       "      <th>Province</th>\n",
       "      <th>Container</th>\n",
       "      <th>Size_Grade</th>\n",
       "      <th>Weight_Kg</th>\n",
       "      <th>Commodities</th>\n",
       "      <th>Date</th>\n",
       "      <th>Low_Price</th>\n",
       "      <th>High_Price</th>\n",
       "      <th>Sales_Total</th>\n",
       "      <th>Total_Qty_Sold</th>\n",
       "      <th>Total_Kg_Sold</th>\n",
       "      <th>Stock_On_Hand</th>\n",
       "      <th>avg_price_per_kg</th>\n",
       "    </tr>\n",
       "  </thead>\n",
       "  <tbody>\n",
       "    <tr>\n",
       "      <th>1</th>\n",
       "      <td>CAPE</td>\n",
       "      <td>M4183</td>\n",
       "      <td>1L</td>\n",
       "      <td>18.3</td>\n",
       "      <td>APPLE GOLDEN DELICIOUS</td>\n",
       "      <td>2020-09-09</td>\n",
       "      <td>150.0</td>\n",
       "      <td>170.0</td>\n",
       "      <td>51710.0</td>\n",
       "      <td>332</td>\n",
       "      <td>6075.6</td>\n",
       "      <td>822</td>\n",
       "      <td>8.51</td>\n",
       "    </tr>\n",
       "    <tr>\n",
       "      <th>7</th>\n",
       "      <td>CAPE</td>\n",
       "      <td>JG110</td>\n",
       "      <td>2M</td>\n",
       "      <td>11.0</td>\n",
       "      <td>APPLE GOLDEN DELICIOUS</td>\n",
       "      <td>2020-04-14</td>\n",
       "      <td>50.0</td>\n",
       "      <td>50.0</td>\n",
       "      <td>16000.0</td>\n",
       "      <td>320</td>\n",
       "      <td>3520.0</td>\n",
       "      <td>0</td>\n",
       "      <td>4.55</td>\n",
       "    </tr>\n",
       "    <tr>\n",
       "      <th>24</th>\n",
       "      <td>W.CAPE-BERGRIVER ETC</td>\n",
       "      <td>JE090</td>\n",
       "      <td>2S</td>\n",
       "      <td>9.0</td>\n",
       "      <td>APPLE GOLDEN DELICIOUS</td>\n",
       "      <td>2020-04-16</td>\n",
       "      <td>55.0</td>\n",
       "      <td>55.0</td>\n",
       "      <td>990.0</td>\n",
       "      <td>18</td>\n",
       "      <td>162.0</td>\n",
       "      <td>1506</td>\n",
       "      <td>6.11</td>\n",
       "    </tr>\n",
       "    <tr>\n",
       "      <th>40</th>\n",
       "      <td>CAPE</td>\n",
       "      <td>M4183</td>\n",
       "      <td>1S</td>\n",
       "      <td>18.3</td>\n",
       "      <td>APPLE GOLDEN DELICIOUS</td>\n",
       "      <td>2020-05-04</td>\n",
       "      <td>80.0</td>\n",
       "      <td>120.0</td>\n",
       "      <td>32020.0</td>\n",
       "      <td>388</td>\n",
       "      <td>7100.4</td>\n",
       "      <td>443</td>\n",
       "      <td>4.51</td>\n",
       "    </tr>\n",
       "    <tr>\n",
       "      <th>69</th>\n",
       "      <td>EASTERN CAPE</td>\n",
       "      <td>IA400</td>\n",
       "      <td>1S</td>\n",
       "      <td>400.0</td>\n",
       "      <td>APPLE GOLDEN DELICIOUS</td>\n",
       "      <td>2020-09-28</td>\n",
       "      <td>1800.0</td>\n",
       "      <td>1800.0</td>\n",
       "      <td>1800.0</td>\n",
       "      <td>1</td>\n",
       "      <td>400.0</td>\n",
       "      <td>2</td>\n",
       "      <td>4.50</td>\n",
       "    </tr>\n",
       "  </tbody>\n",
       "</table>\n",
       "</div>"
      ],
      "text/plain": [
       "                Province Container Size_Grade  Weight_Kg  \\\n",
       "1                   CAPE     M4183         1L       18.3   \n",
       "7                   CAPE     JG110         2M       11.0   \n",
       "24  W.CAPE-BERGRIVER ETC     JE090         2S        9.0   \n",
       "40                  CAPE     M4183         1S       18.3   \n",
       "69          EASTERN CAPE     IA400         1S      400.0   \n",
       "\n",
       "               Commodities        Date  Low_Price  High_Price  Sales_Total  \\\n",
       "1   APPLE GOLDEN DELICIOUS  2020-09-09      150.0       170.0      51710.0   \n",
       "7   APPLE GOLDEN DELICIOUS  2020-04-14       50.0        50.0      16000.0   \n",
       "24  APPLE GOLDEN DELICIOUS  2020-04-16       55.0        55.0        990.0   \n",
       "40  APPLE GOLDEN DELICIOUS  2020-05-04       80.0       120.0      32020.0   \n",
       "69  APPLE GOLDEN DELICIOUS  2020-09-28     1800.0      1800.0       1800.0   \n",
       "\n",
       "    Total_Qty_Sold  Total_Kg_Sold  Stock_On_Hand  avg_price_per_kg  \n",
       "1              332         6075.6            822              8.51  \n",
       "7              320         3520.0              0              4.55  \n",
       "24              18          162.0           1506              6.11  \n",
       "40             388         7100.4            443              4.51  \n",
       "69               1          400.0              2              4.50  "
      ]
     },
     "execution_count": 3,
     "metadata": {},
     "output_type": "execute_result"
    }
   ],
   "source": [
    "train_data = train.copy()\n",
    "train_data = train_data[train_data['Commodities']=='APPLE GOLDEN DELICIOUS']\n",
    "train_data.head()"
   ]
  },
  {
   "cell_type": "code",
   "execution_count": 5,
   "metadata": {},
   "outputs": [
    {
     "data": {
      "text/plain": [
       "(1952, 13)"
      ]
     },
     "execution_count": 5,
     "metadata": {},
     "output_type": "execute_result"
    }
   ],
   "source": [
    "train_data.shape"
   ]
  },
  {
   "cell_type": "markdown",
   "metadata": {},
   "source": [
    "The shape command shows us we have 1952 rows and 13 columns.\n",
    "\n",
    "Let's check if we have any unique values in our columns."
   ]
  },
  {
   "cell_type": "code",
   "execution_count": 6,
   "metadata": {},
   "outputs": [
    {
     "data": {
      "text/plain": [
       "Province               7\n",
       "Container             11\n",
       "Size_Grade            10\n",
       "Weight_Kg              9\n",
       "Commodities            1\n",
       "Date                 147\n",
       "Low_Price             94\n",
       "High_Price            88\n",
       "Sales_Total         1324\n",
       "Total_Qty_Sold       505\n",
       "Total_Kg_Sold        850\n",
       "Stock_On_Hand        735\n",
       "avg_price_per_kg     601\n",
       "dtype: int64"
      ]
     },
     "execution_count": 6,
     "metadata": {},
     "output_type": "execute_result"
    }
   ],
   "source": [
    "train_data.nunique()"
   ]
  },
  {
   "cell_type": "markdown",
   "metadata": {},
   "source": [
    "We do not need columns with cardinality of 1. We can remove the column with an iterator."
   ]
  },
  {
   "cell_type": "code",
   "execution_count": 7,
   "metadata": {},
   "outputs": [],
   "source": [
    "train_data = train_data.drop('Commodities', axis=1) "
   ]
  },
  {
   "cell_type": "markdown",
   "metadata": {},
   "source": [
    "### Summary Statistics\n",
    "\n",
    "Let's explore the data types and the summary statistics of our variables.\n",
    "\n",
    "We'll start by looking at the data types and number of entries of each column."
   ]
  },
  {
   "cell_type": "code",
   "execution_count": 8,
   "metadata": {},
   "outputs": [
    {
     "name": "stdout",
     "output_type": "stream",
     "text": [
      "<class 'pandas.core.frame.DataFrame'>\n",
      "Int64Index: 1952 entries, 1 to 64310\n",
      "Data columns (total 12 columns):\n",
      "Province            1952 non-null object\n",
      "Container           1952 non-null object\n",
      "Size_Grade          1952 non-null object\n",
      "Weight_Kg           1952 non-null float64\n",
      "Date                1952 non-null object\n",
      "Low_Price           1952 non-null float64\n",
      "High_Price          1952 non-null float64\n",
      "Sales_Total         1952 non-null float64\n",
      "Total_Qty_Sold      1952 non-null int64\n",
      "Total_Kg_Sold       1952 non-null float64\n",
      "Stock_On_Hand       1952 non-null int64\n",
      "avg_price_per_kg    1952 non-null float64\n",
      "dtypes: float64(6), int64(2), object(4)\n",
      "memory usage: 198.2+ KB\n"
     ]
    }
   ],
   "source": [
    "# Checking basis information about column types and null values\n",
    "train_data.info()"
   ]
  },
  {
   "cell_type": "markdown",
   "metadata": {},
   "source": [
    "The info command confirms our categorial and numerial features. We have 1952 samples in our dataset. Data is organized in 12 columns. From this, we can see that there are no null values in our data."
   ]
  },
  {
   "cell_type": "markdown",
   "metadata": {},
   "source": [
    "Now let's look at a table showcasing the summary statistics of the numeric data."
   ]
  },
  {
   "cell_type": "code",
   "execution_count": 9,
   "metadata": {},
   "outputs": [
    {
     "data": {
      "text/html": [
       "<div>\n",
       "<style scoped>\n",
       "    .dataframe tbody tr th:only-of-type {\n",
       "        vertical-align: middle;\n",
       "    }\n",
       "\n",
       "    .dataframe tbody tr th {\n",
       "        vertical-align: top;\n",
       "    }\n",
       "\n",
       "    .dataframe thead th {\n",
       "        text-align: right;\n",
       "    }\n",
       "</style>\n",
       "<table border=\"1\" class=\"dataframe\">\n",
       "  <thead>\n",
       "    <tr style=\"text-align: right;\">\n",
       "      <th></th>\n",
       "      <th>Weight_Kg</th>\n",
       "      <th>Low_Price</th>\n",
       "      <th>High_Price</th>\n",
       "      <th>Sales_Total</th>\n",
       "      <th>Total_Qty_Sold</th>\n",
       "      <th>Total_Kg_Sold</th>\n",
       "      <th>Stock_On_Hand</th>\n",
       "      <th>avg_price_per_kg</th>\n",
       "    </tr>\n",
       "  </thead>\n",
       "  <tbody>\n",
       "    <tr>\n",
       "      <th>count</th>\n",
       "      <td>1952.000000</td>\n",
       "      <td>1952.000000</td>\n",
       "      <td>1952.000000</td>\n",
       "      <td>1952.000000</td>\n",
       "      <td>1952.000000</td>\n",
       "      <td>1952.000000</td>\n",
       "      <td>1952.000000</td>\n",
       "      <td>1952.000000</td>\n",
       "    </tr>\n",
       "    <tr>\n",
       "      <th>mean</th>\n",
       "      <td>40.460912</td>\n",
       "      <td>174.307377</td>\n",
       "      <td>215.648053</td>\n",
       "      <td>20053.533811</td>\n",
       "      <td>174.510758</td>\n",
       "      <td>2960.176332</td>\n",
       "      <td>408.393955</td>\n",
       "      <td>6.778893</td>\n",
       "    </tr>\n",
       "    <tr>\n",
       "      <th>std</th>\n",
       "      <td>99.655169</td>\n",
       "      <td>373.553578</td>\n",
       "      <td>433.546159</td>\n",
       "      <td>39005.069445</td>\n",
       "      <td>308.810797</td>\n",
       "      <td>6097.416527</td>\n",
       "      <td>724.450582</td>\n",
       "      <td>2.248744</td>\n",
       "    </tr>\n",
       "    <tr>\n",
       "      <th>min</th>\n",
       "      <td>3.000000</td>\n",
       "      <td>2.000000</td>\n",
       "      <td>5.000000</td>\n",
       "      <td>5.000000</td>\n",
       "      <td>1.000000</td>\n",
       "      <td>3.000000</td>\n",
       "      <td>0.000000</td>\n",
       "      <td>0.250000</td>\n",
       "    </tr>\n",
       "    <tr>\n",
       "      <th>25%</th>\n",
       "      <td>9.000000</td>\n",
       "      <td>50.000000</td>\n",
       "      <td>60.000000</td>\n",
       "      <td>1325.000000</td>\n",
       "      <td>12.000000</td>\n",
       "      <td>219.600000</td>\n",
       "      <td>9.000000</td>\n",
       "      <td>5.460000</td>\n",
       "    </tr>\n",
       "    <tr>\n",
       "      <th>50%</th>\n",
       "      <td>12.000000</td>\n",
       "      <td>80.000000</td>\n",
       "      <td>108.000000</td>\n",
       "      <td>5495.000000</td>\n",
       "      <td>64.000000</td>\n",
       "      <td>853.500000</td>\n",
       "      <td>126.500000</td>\n",
       "      <td>6.670000</td>\n",
       "    </tr>\n",
       "    <tr>\n",
       "      <th>75%</th>\n",
       "      <td>18.300000</td>\n",
       "      <td>127.250000</td>\n",
       "      <td>160.000000</td>\n",
       "      <td>21082.500000</td>\n",
       "      <td>200.000000</td>\n",
       "      <td>3093.525000</td>\n",
       "      <td>468.000000</td>\n",
       "      <td>8.280000</td>\n",
       "    </tr>\n",
       "    <tr>\n",
       "      <th>max</th>\n",
       "      <td>400.000000</td>\n",
       "      <td>2300.000000</td>\n",
       "      <td>3300.000000</td>\n",
       "      <td>369464.000000</td>\n",
       "      <td>4237.000000</td>\n",
       "      <td>74000.000000</td>\n",
       "      <td>6400.000000</td>\n",
       "      <td>21.240000</td>\n",
       "    </tr>\n",
       "  </tbody>\n",
       "</table>\n",
       "</div>"
      ],
      "text/plain": [
       "         Weight_Kg    Low_Price   High_Price    Sales_Total  Total_Qty_Sold  \\\n",
       "count  1952.000000  1952.000000  1952.000000    1952.000000     1952.000000   \n",
       "mean     40.460912   174.307377   215.648053   20053.533811      174.510758   \n",
       "std      99.655169   373.553578   433.546159   39005.069445      308.810797   \n",
       "min       3.000000     2.000000     5.000000       5.000000        1.000000   \n",
       "25%       9.000000    50.000000    60.000000    1325.000000       12.000000   \n",
       "50%      12.000000    80.000000   108.000000    5495.000000       64.000000   \n",
       "75%      18.300000   127.250000   160.000000   21082.500000      200.000000   \n",
       "max     400.000000  2300.000000  3300.000000  369464.000000     4237.000000   \n",
       "\n",
       "       Total_Kg_Sold  Stock_On_Hand  avg_price_per_kg  \n",
       "count    1952.000000    1952.000000       1952.000000  \n",
       "mean     2960.176332     408.393955          6.778893  \n",
       "std      6097.416527     724.450582          2.248744  \n",
       "min         3.000000       0.000000          0.250000  \n",
       "25%       219.600000       9.000000          5.460000  \n",
       "50%       853.500000     126.500000          6.670000  \n",
       "75%      3093.525000     468.000000          8.280000  \n",
       "max     74000.000000    6400.000000         21.240000  "
      ]
     },
     "execution_count": 9,
     "metadata": {},
     "output_type": "execute_result"
    }
   ],
   "source": [
    "train_data.describe()"
   ]
  },
  {
   "cell_type": "markdown",
   "metadata": {},
   "source": [
    "Now it's time to remove further missing data and outliers. We will use quantiles of 1% or/and 99% for outliers detection. We consider this method more appropriate than IQR score this time as IQR method would not work well for data concerning apple products. 25% and 75% quantiles differ only by one unit."
   ]
  },
  {
   "cell_type": "code",
   "execution_count": 6,
   "metadata": {},
   "outputs": [
    {
     "name": "stdout",
     "output_type": "stream",
     "text": [
      "99% of observations in Low_Price are lower than 2000.0\n"
     ]
    }
   ],
   "source": [
    "#print(f'99% of observations in Low_Price are lower than {train_data[\"Low_Price\"].quantile(0.99)}')"
   ]
  },
  {
   "cell_type": "code",
   "execution_count": 832,
   "metadata": {},
   "outputs": [],
   "source": [
    "# Removing outliers\n",
    "#train_data = train_data.query('Low_Price < 2000')"
   ]
  },
  {
   "cell_type": "code",
   "execution_count": 8,
   "metadata": {},
   "outputs": [
    {
     "name": "stdout",
     "output_type": "stream",
     "text": [
      "99% of observations in Sales_Total are higher than 20.0 and lower than 194376.8\n"
     ]
    }
   ],
   "source": [
    "#print(f'99% of observations in Sales_Total are higher than {train_data[\"Sales_Total\"].quantile(0.01)} \\\n",
    "#and lower than {train_data[\"Sales_Total\"].quantile(0.99)}')"
   ]
  },
  {
   "cell_type": "code",
   "execution_count": 833,
   "metadata": {},
   "outputs": [],
   "source": [
    "# Removing outliers\n",
    "#train_data = train_data.query('(Sales_Total > 20.0) & (Sales_Total < 194376.8)')"
   ]
  },
  {
   "cell_type": "code",
   "execution_count": 10,
   "metadata": {},
   "outputs": [
    {
     "name": "stdout",
     "output_type": "stream",
     "text": [
      "99% of observations in Total_Kg_Sold are higher than 9.0 and lower than 19668.787999999993\n"
     ]
    }
   ],
   "source": [
    "#print(f'99% of observations in Total_Kg_Sold are higher than {train_data[\"Total_Kg_Sold\"].quantile(0.01)} \\\n",
    "#and lower than {train_data[\"Total_Kg_Sold\"].quantile(0.99)}')"
   ]
  },
  {
   "cell_type": "code",
   "execution_count": 834,
   "metadata": {},
   "outputs": [],
   "source": [
    "# Removing outliers\n",
    "#train_data = train_data.query('(Total_Kg_Sold > 9.0) & (Total_Kg_Sold < 19668.787999999993)')"
   ]
  },
  {
   "cell_type": "code",
   "execution_count": 10,
   "metadata": {},
   "outputs": [],
   "source": [
    "#print(f'99% of observations in Stock_On_Hand are higher than {train_data[\"Stock_On_Hand\"].quantile(0.01)} \\\n",
    "#and lower than {train_data[\"Stock_On_Hand\"].quantile(0.99)}')"
   ]
  },
  {
   "cell_type": "code",
   "execution_count": 836,
   "metadata": {},
   "outputs": [],
   "source": [
    "# Removing outliers\n",
    "#train_data = train_data.query('(Stock_On_Hand > 0.0) & (Stock_On_Hand < 3535.1999999999994)')"
   ]
  },
  {
   "cell_type": "code",
   "execution_count": 837,
   "metadata": {},
   "outputs": [
    {
     "name": "stdout",
     "output_type": "stream",
     "text": [
      "<class 'pandas.core.frame.DataFrame'>\n",
      "Int64Index: 1453 entries, 1 to 64310\n",
      "Data columns (total 12 columns):\n",
      "Province            1453 non-null object\n",
      "Container           1453 non-null object\n",
      "Size_Grade          1453 non-null object\n",
      "Weight_Kg           1453 non-null float64\n",
      "Date                1453 non-null object\n",
      "Low_Price           1453 non-null float64\n",
      "High_Price          1453 non-null float64\n",
      "Sales_Total         1453 non-null float64\n",
      "Total_Qty_Sold      1453 non-null int64\n",
      "Total_Kg_Sold       1453 non-null float64\n",
      "Stock_On_Hand       1453 non-null int64\n",
      "avg_price_per_kg    1453 non-null float64\n",
      "dtypes: float64(6), int64(2), object(4)\n",
      "memory usage: 147.6+ KB\n"
     ]
    }
   ],
   "source": [
    "#train_data.info()"
   ]
  },
  {
   "cell_type": "markdown",
   "metadata": {},
   "source": [
    "Our dataset has been signifincatly reduced, however it was necessary for purpose of the data cleaning. "
   ]
  },
  {
   "cell_type": "code",
   "execution_count": 73,
   "metadata": {},
   "outputs": [
    {
     "data": {
      "text/html": [
       "<div>\n",
       "<style scoped>\n",
       "    .dataframe tbody tr th:only-of-type {\n",
       "        vertical-align: middle;\n",
       "    }\n",
       "\n",
       "    .dataframe tbody tr th {\n",
       "        vertical-align: top;\n",
       "    }\n",
       "\n",
       "    .dataframe thead th {\n",
       "        text-align: right;\n",
       "    }\n",
       "</style>\n",
       "<table border=\"1\" class=\"dataframe\">\n",
       "  <thead>\n",
       "    <tr style=\"text-align: right;\">\n",
       "      <th></th>\n",
       "      <th>Weight_Kg</th>\n",
       "      <th>Low_Price</th>\n",
       "      <th>High_Price</th>\n",
       "      <th>Sales_Total</th>\n",
       "      <th>Total_Qty_Sold</th>\n",
       "      <th>Total_Kg_Sold</th>\n",
       "      <th>Stock_On_Hand</th>\n",
       "      <th>avg_price_per_kg</th>\n",
       "    </tr>\n",
       "  </thead>\n",
       "  <tbody>\n",
       "    <tr>\n",
       "      <th>count</th>\n",
       "      <td>1453.000000</td>\n",
       "      <td>1453.000000</td>\n",
       "      <td>1453.000000</td>\n",
       "      <td>1453.000000</td>\n",
       "      <td>1453.000000</td>\n",
       "      <td>1453.000000</td>\n",
       "      <td>1453.000000</td>\n",
       "      <td>1453.000000</td>\n",
       "    </tr>\n",
       "    <tr>\n",
       "      <th>mean</th>\n",
       "      <td>26.893187</td>\n",
       "      <td>131.516173</td>\n",
       "      <td>165.011012</td>\n",
       "      <td>16375.093599</td>\n",
       "      <td>157.451480</td>\n",
       "      <td>2265.323469</td>\n",
       "      <td>450.147970</td>\n",
       "      <td>7.156930</td>\n",
       "    </tr>\n",
       "    <tr>\n",
       "      <th>std</th>\n",
       "      <td>71.294077</td>\n",
       "      <td>241.321424</td>\n",
       "      <td>298.088254</td>\n",
       "      <td>25520.151918</td>\n",
       "      <td>231.130358</td>\n",
       "      <td>3332.848610</td>\n",
       "      <td>593.672381</td>\n",
       "      <td>2.089546</td>\n",
       "    </tr>\n",
       "    <tr>\n",
       "      <th>min</th>\n",
       "      <td>3.000000</td>\n",
       "      <td>2.000000</td>\n",
       "      <td>10.000000</td>\n",
       "      <td>30.000000</td>\n",
       "      <td>1.000000</td>\n",
       "      <td>11.000000</td>\n",
       "      <td>1.000000</td>\n",
       "      <td>1.110000</td>\n",
       "    </tr>\n",
       "    <tr>\n",
       "      <th>25%</th>\n",
       "      <td>9.000000</td>\n",
       "      <td>55.000000</td>\n",
       "      <td>65.000000</td>\n",
       "      <td>1362.000000</td>\n",
       "      <td>14.000000</td>\n",
       "      <td>204.000000</td>\n",
       "      <td>70.000000</td>\n",
       "      <td>5.710000</td>\n",
       "    </tr>\n",
       "    <tr>\n",
       "      <th>50%</th>\n",
       "      <td>12.000000</td>\n",
       "      <td>84.000000</td>\n",
       "      <td>112.000000</td>\n",
       "      <td>5680.000000</td>\n",
       "      <td>64.000000</td>\n",
       "      <td>852.000000</td>\n",
       "      <td>222.000000</td>\n",
       "      <td>7.050000</td>\n",
       "    </tr>\n",
       "    <tr>\n",
       "      <th>75%</th>\n",
       "      <td>18.300000</td>\n",
       "      <td>120.000000</td>\n",
       "      <td>160.000000</td>\n",
       "      <td>20440.000000</td>\n",
       "      <td>202.000000</td>\n",
       "      <td>2940.000000</td>\n",
       "      <td>569.000000</td>\n",
       "      <td>8.610000</td>\n",
       "    </tr>\n",
       "    <tr>\n",
       "      <th>max</th>\n",
       "      <td>400.000000</td>\n",
       "      <td>1900.000000</td>\n",
       "      <td>2200.000000</td>\n",
       "      <td>183066.000000</td>\n",
       "      <td>1616.000000</td>\n",
       "      <td>19600.000000</td>\n",
       "      <td>3482.000000</td>\n",
       "      <td>21.240000</td>\n",
       "    </tr>\n",
       "  </tbody>\n",
       "</table>\n",
       "</div>"
      ],
      "text/plain": [
       "         Weight_Kg    Low_Price   High_Price    Sales_Total  Total_Qty_Sold  \\\n",
       "count  1453.000000  1453.000000  1453.000000    1453.000000     1453.000000   \n",
       "mean     26.893187   131.516173   165.011012   16375.093599      157.451480   \n",
       "std      71.294077   241.321424   298.088254   25520.151918      231.130358   \n",
       "min       3.000000     2.000000    10.000000      30.000000        1.000000   \n",
       "25%       9.000000    55.000000    65.000000    1362.000000       14.000000   \n",
       "50%      12.000000    84.000000   112.000000    5680.000000       64.000000   \n",
       "75%      18.300000   120.000000   160.000000   20440.000000      202.000000   \n",
       "max     400.000000  1900.000000  2200.000000  183066.000000     1616.000000   \n",
       "\n",
       "       Total_Kg_Sold  Stock_On_Hand  avg_price_per_kg  \n",
       "count    1453.000000    1453.000000       1453.000000  \n",
       "mean     2265.323469     450.147970          7.156930  \n",
       "std      3332.848610     593.672381          2.089546  \n",
       "min        11.000000       1.000000          1.110000  \n",
       "25%       204.000000      70.000000          5.710000  \n",
       "50%       852.000000     222.000000          7.050000  \n",
       "75%      2940.000000     569.000000          8.610000  \n",
       "max     19600.000000    3482.000000         21.240000  "
      ]
     },
     "execution_count": 73,
     "metadata": {},
     "output_type": "execute_result"
    }
   ],
   "source": [
    "#train_data.describe()"
   ]
  },
  {
   "cell_type": "code",
   "execution_count": 77,
   "metadata": {},
   "outputs": [
    {
     "data": {
      "image/png": "[encoded data removed]",
      "text/plain": [
       "<Figure size 432x288 with 1 Axes>"
      ]
     },
     "metadata": {
      "needs_background": "light"
     },
     "output_type": "display_data"
    }
   ],
   "source": [
    "_ = sns.boxplot(data=train_data, y='Stock_On_Hand', showfliers=False)"
   ]
  },
  {
   "cell_type": "code",
   "execution_count": 80,
   "metadata": {},
   "outputs": [
    {
     "data": {
      "image/png": "[encoded data removed]",
      "text/plain": [
       "<Figure size 432x288 with 1 Axes>"
      ]
     },
     "metadata": {
      "needs_background": "light"
     },
     "output_type": "display_data"
    }
   ],
   "source": [
    "_ = sns.distplot(train_data['avg_price_per_kg'], kde=True)"
   ]
  },
  {
   "cell_type": "markdown",
   "metadata": {},
   "source": [
    "Now, let's check how the variables are correlated with one another."
   ]
  },
  {
   "cell_type": "code",
   "execution_count": 15,
   "metadata": {},
   "outputs": [
    {
     "data": {
      "image/png": "[encoded data removed]",
      "text/plain": [
       "<Figure size 432x288 with 2 Axes>"
      ]
     },
     "metadata": {
      "needs_background": "light"
     },
     "output_type": "display_data"
    }
   ],
   "source": [
    "# Checking correlation\n",
    "corr_mat = train_data.corr()\n",
    "_ = sns.heatmap(corr_mat, annot=True, cmap=sns.cm.rocket_r)"
   ]
  },
  {
   "cell_type": "markdown",
   "metadata": {},
   "source": [
    "The strongest correlation we can observe between residential and total units what's logical as residential units variable is main component of the total units. Leaving both mentioned above predictors in the dataset is pointless. Total units do not bring any additional value for the models as it is just a sum of two other variables (strongly correlated with one of them).\n",
    "\n",
    "All units variables are correlated with gross square feet metric what is in line with our expectations.\n",
    "\n",
    "Sale price is in the strongest relation with gross square feet column.\n"
   ]
  },
  {
   "cell_type": "markdown",
   "metadata": {},
   "source": [
    "Now, let's take a look at the categorical data."
   ]
  },
  {
   "cell_type": "code",
   "execution_count": 81,
   "metadata": {},
   "outputs": [
    {
     "data": {
      "text/html": [
       "<div>\n",
       "<style scoped>\n",
       "    .dataframe tbody tr th:only-of-type {\n",
       "        vertical-align: middle;\n",
       "    }\n",
       "\n",
       "    .dataframe tbody tr th {\n",
       "        vertical-align: top;\n",
       "    }\n",
       "\n",
       "    .dataframe thead th {\n",
       "        text-align: right;\n",
       "    }\n",
       "</style>\n",
       "<table border=\"1\" class=\"dataframe\">\n",
       "  <thead>\n",
       "    <tr style=\"text-align: right;\">\n",
       "      <th></th>\n",
       "      <th>Province</th>\n",
       "      <th>Container</th>\n",
       "      <th>Size_Grade</th>\n",
       "      <th>Date</th>\n",
       "    </tr>\n",
       "  </thead>\n",
       "  <tbody>\n",
       "    <tr>\n",
       "      <th>count</th>\n",
       "      <td>1453</td>\n",
       "      <td>1453</td>\n",
       "      <td>1453</td>\n",
       "      <td>1453</td>\n",
       "    </tr>\n",
       "    <tr>\n",
       "      <th>unique</th>\n",
       "      <td>7</td>\n",
       "      <td>9</td>\n",
       "      <td>10</td>\n",
       "      <td>147</td>\n",
       "    </tr>\n",
       "    <tr>\n",
       "      <th>top</th>\n",
       "      <td>CAPE</td>\n",
       "      <td>M4183</td>\n",
       "      <td>1S</td>\n",
       "      <td>2020-04-22</td>\n",
       "    </tr>\n",
       "    <tr>\n",
       "      <th>freq</th>\n",
       "      <td>867</td>\n",
       "      <td>510</td>\n",
       "      <td>354</td>\n",
       "      <td>17</td>\n",
       "    </tr>\n",
       "  </tbody>\n",
       "</table>\n",
       "</div>"
      ],
      "text/plain": [
       "       Province Container Size_Grade        Date\n",
       "count      1453      1453       1453        1453\n",
       "unique        7         9         10         147\n",
       "top        CAPE     M4183         1S  2020-04-22\n",
       "freq        867       510        354          17"
      ]
     },
     "execution_count": 81,
     "metadata": {},
     "output_type": "execute_result"
    }
   ],
   "source": [
    "train_data.describe(include='object')"
   ]
  },
  {
   "cell_type": "markdown",
   "metadata": {},
   "source": [
    "Cape is the province where most properties were sold. We have 9 different container categories, however almost a third of the containers belong to 'M4183' category. By far the most common size grade was 1S."
   ]
  },
  {
   "cell_type": "code",
   "execution_count": 83,
   "metadata": {},
   "outputs": [
    {
     "data": {
      "image/png": "[encoded data removed]",
      "text/plain": [
       "<Figure size 432x288 with 1 Axes>"
      ]
     },
     "metadata": {
      "needs_background": "light"
     },
     "output_type": "display_data"
    }
   ],
   "source": [
    "_ = sns.barplot(data=train_data.groupby('Date').agg({'avg_price_per_kg':'median'}).sort_values(by='avg_price_per_kg').reset_index(),\\\n",
    "                x='Date', y='avg_price_per_kg')\n"
   ]
  },
  {
   "cell_type": "markdown",
   "metadata": {},
   "source": [
    "Apples in the country are becoming more expensive."
   ]
  },
  {
   "cell_type": "code",
   "execution_count": 84,
   "metadata": {},
   "outputs": [
    {
     "data": {
      "image/png": "[encoded data removed]",
      "text/plain": [
       "<Figure size 432x288 with 1 Axes>"
      ]
     },
     "metadata": {
      "needs_background": "light"
     },
     "output_type": "display_data"
    }
   ],
   "source": [
    "_ = train_data.groupby('Size_Grade').agg({'avg_price_per_kg':'median'}).sort_values(by='Size_Grade').plot(kind='bar')"
   ]
  },
  {
   "cell_type": "code",
   "execution_count": null,
   "metadata": {},
   "outputs": [],
   "source": []
  },
  {
   "cell_type": "markdown",
   "metadata": {},
   "source": [
    "Furthermore, checking the skewness of our numeric data will be beneficial."
   ]
  },
  {
   "cell_type": "code",
   "execution_count": 783,
   "metadata": {},
   "outputs": [
    {
     "name": "stdout",
     "output_type": "stream",
     "text": [
      "Skewness - Total_Qty_Sold: 4.445168761533559\n",
      "\n",
      "Skewness - High_Price: 3.828819042342315\n",
      "\n",
      "Skewness - Sales_Total: 4.250316771466674\n",
      "\n",
      "Skewness - Stock_On_Hand: 3.3918148273609603\n",
      "\n",
      "Skewness - Weight_Kg: 3.3282543410899286\n",
      "\n",
      "Skewness - Total_Kg_Sold: 5.529585709692451\n",
      "\n",
      "Skewness - Low_Price: 4.222671981623189\n",
      "\n",
      "Skewness - avg_price_per_kg: 0.08245241812963358\n",
      "\n"
     ]
    }
   ],
   "source": [
    "#Weight_Kg\tLow_Price\tHigh_Price\tSales_Total\tTotal_Qty_Sold\tTotal_Kg_Sold\tStock_On_Hand\tavg_price_per_kg\n",
    "#for column in ['Total_Qty_Sold', 'High_Price', 'Sales_Total', 'Stock_On_Hand', 'Weight_Kg', 'Total_Kg_Sold', 'Low_Price','avg_price_per_kg']:\n",
    "  #print(f'Skewness - {column}: {train_data[column].skew()}\\n')"
   ]
  },
  {
   "cell_type": "markdown",
   "metadata": {},
   "source": [
    "Skewness is relatively high on most of numeric predictors and we should do something about it."
   ]
  },
  {
   "cell_type": "code",
   "execution_count": 20,
   "metadata": {},
   "outputs": [],
   "source": [
    "# Transforming skewed variables distribution\n",
    "#for column in ['Total_Qty_Sold', 'High_Price', 'Sales_Total', 'Stock_On_Hand']:\n",
    "  #train_data[column] = np.log1p(train_data[column])"
   ]
  },
  {
   "cell_type": "code",
   "execution_count": 73,
   "metadata": {},
   "outputs": [
    {
     "name": "stdout",
     "output_type": "stream",
     "text": [
      "Skewness - Total_Qty_Sold: -0.22828787211649557\n",
      "\n",
      "Skewness - High_Price: 1.4169343397755403\n",
      "\n",
      "Skewness - Sales_Total: -0.37089478867973075\n",
      "\n",
      "Skewness - Stock_On_Hand: -0.6561752152613637\n",
      "\n",
      "Skewness - avg_price_per_kg: 0.29948603446751065\n",
      "\n"
     ]
    }
   ],
   "source": [
    "#Weight_Kg\tLow_Price\tHigh_Price\tSales_Total\tTotal_Qty_Sold\tTotal_Kg_Sold\tStock_On_Hand\tavg_price_per_kg\n",
    "#for column in ['Total_Qty_Sold', 'High_Price', 'Sales_Total', 'Stock_On_Hand', 'avg_price_per_kg']:\n",
    "  #print(f'Skewness - {column}: {train_data[column].skew()}\\n')"
   ]
  },
  {
   "cell_type": "code",
   "execution_count": 4,
   "metadata": {},
   "outputs": [],
   "source": [
    "# Saving predictors and target in separate objects\n",
    "x = train_data.copy()\n",
    "y = x.pop('avg_price_per_kg')"
   ]
  },
  {
   "cell_type": "code",
   "execution_count": 5,
   "metadata": {},
   "outputs": [
    {
     "data": {
      "text/plain": [
       "(1952, 12)"
      ]
     },
     "execution_count": 5,
     "metadata": {},
     "output_type": "execute_result"
    }
   ],
   "source": [
    "x.shape"
   ]
  },
  {
   "cell_type": "markdown",
   "metadata": {},
   "source": [
    "## Dummy Variable Encoding\n",
    "\n",
    "All input data for regression model building purposes needs to be numerical. We therefore have to transform the text data (found within columns such as 'Province','Container', 'Size_Grade', 'Commodities' and 'Date') into numbers before we can train our machine learning model.\n",
    "\n",
    "To facilitate this transformation from textual-categorical data to numerical equivalents, we use a pandas method called get_dummies. The text data are categorical variables, and ***get_dummies*** will transform all the categorical text data into numbers by adding a column for each distinct category. The new column has a 1 for observations which were in this category, and a 0 for observations that were not."
   ]
  },
  {
   "cell_type": "code",
   "execution_count": 6,
   "metadata": {},
   "outputs": [
    {
     "data": {
      "text/html": [
       "<div>\n",
       "<style scoped>\n",
       "    .dataframe tbody tr th:only-of-type {\n",
       "        vertical-align: middle;\n",
       "    }\n",
       "\n",
       "    .dataframe tbody tr th {\n",
       "        vertical-align: top;\n",
       "    }\n",
       "\n",
       "    .dataframe thead th {\n",
       "        text-align: right;\n",
       "    }\n",
       "</style>\n",
       "<table border=\"1\" class=\"dataframe\">\n",
       "  <thead>\n",
       "    <tr style=\"text-align: right;\">\n",
       "      <th></th>\n",
       "      <th>Weight_Kg</th>\n",
       "      <th>Low_Price</th>\n",
       "      <th>High_Price</th>\n",
       "      <th>Sales_Total</th>\n",
       "      <th>Total_Qty_Sold</th>\n",
       "      <th>Total_Kg_Sold</th>\n",
       "      <th>Stock_On_Hand</th>\n",
       "      <th>Province_EASTERN CAPE</th>\n",
       "      <th>Province_NATAL</th>\n",
       "      <th>Province_ORANGE FREE STATE</th>\n",
       "      <th>...</th>\n",
       "      <th>Date_2020-09-07</th>\n",
       "      <th>Date_2020-09-09</th>\n",
       "      <th>Date_2020-09-16</th>\n",
       "      <th>Date_2020-09-17</th>\n",
       "      <th>Date_2020-09-19</th>\n",
       "      <th>Date_2020-09-21</th>\n",
       "      <th>Date_2020-09-23</th>\n",
       "      <th>Date_2020-09-28</th>\n",
       "      <th>Date_2020-10-01</th>\n",
       "      <th>Date_2020-10-03</th>\n",
       "    </tr>\n",
       "  </thead>\n",
       "  <tbody>\n",
       "    <tr>\n",
       "      <th>1</th>\n",
       "      <td>18.3</td>\n",
       "      <td>150.0</td>\n",
       "      <td>170.0</td>\n",
       "      <td>51710.0</td>\n",
       "      <td>332</td>\n",
       "      <td>6075.6</td>\n",
       "      <td>822</td>\n",
       "      <td>0</td>\n",
       "      <td>0</td>\n",
       "      <td>0</td>\n",
       "      <td>...</td>\n",
       "      <td>0</td>\n",
       "      <td>1</td>\n",
       "      <td>0</td>\n",
       "      <td>0</td>\n",
       "      <td>0</td>\n",
       "      <td>0</td>\n",
       "      <td>0</td>\n",
       "      <td>0</td>\n",
       "      <td>0</td>\n",
       "      <td>0</td>\n",
       "    </tr>\n",
       "    <tr>\n",
       "      <th>7</th>\n",
       "      <td>11.0</td>\n",
       "      <td>50.0</td>\n",
       "      <td>50.0</td>\n",
       "      <td>16000.0</td>\n",
       "      <td>320</td>\n",
       "      <td>3520.0</td>\n",
       "      <td>0</td>\n",
       "      <td>0</td>\n",
       "      <td>0</td>\n",
       "      <td>0</td>\n",
       "      <td>...</td>\n",
       "      <td>0</td>\n",
       "      <td>0</td>\n",
       "      <td>0</td>\n",
       "      <td>0</td>\n",
       "      <td>0</td>\n",
       "      <td>0</td>\n",
       "      <td>0</td>\n",
       "      <td>0</td>\n",
       "      <td>0</td>\n",
       "      <td>0</td>\n",
       "    </tr>\n",
       "    <tr>\n",
       "      <th>24</th>\n",
       "      <td>9.0</td>\n",
       "      <td>55.0</td>\n",
       "      <td>55.0</td>\n",
       "      <td>990.0</td>\n",
       "      <td>18</td>\n",
       "      <td>162.0</td>\n",
       "      <td>1506</td>\n",
       "      <td>0</td>\n",
       "      <td>0</td>\n",
       "      <td>0</td>\n",
       "      <td>...</td>\n",
       "      <td>0</td>\n",
       "      <td>0</td>\n",
       "      <td>0</td>\n",
       "      <td>0</td>\n",
       "      <td>0</td>\n",
       "      <td>0</td>\n",
       "      <td>0</td>\n",
       "      <td>0</td>\n",
       "      <td>0</td>\n",
       "      <td>0</td>\n",
       "    </tr>\n",
       "    <tr>\n",
       "      <th>40</th>\n",
       "      <td>18.3</td>\n",
       "      <td>80.0</td>\n",
       "      <td>120.0</td>\n",
       "      <td>32020.0</td>\n",
       "      <td>388</td>\n",
       "      <td>7100.4</td>\n",
       "      <td>443</td>\n",
       "      <td>0</td>\n",
       "      <td>0</td>\n",
       "      <td>0</td>\n",
       "      <td>...</td>\n",
       "      <td>0</td>\n",
       "      <td>0</td>\n",
       "      <td>0</td>\n",
       "      <td>0</td>\n",
       "      <td>0</td>\n",
       "      <td>0</td>\n",
       "      <td>0</td>\n",
       "      <td>0</td>\n",
       "      <td>0</td>\n",
       "      <td>0</td>\n",
       "    </tr>\n",
       "    <tr>\n",
       "      <th>69</th>\n",
       "      <td>400.0</td>\n",
       "      <td>1800.0</td>\n",
       "      <td>1800.0</td>\n",
       "      <td>1800.0</td>\n",
       "      <td>1</td>\n",
       "      <td>400.0</td>\n",
       "      <td>2</td>\n",
       "      <td>1</td>\n",
       "      <td>0</td>\n",
       "      <td>0</td>\n",
       "      <td>...</td>\n",
       "      <td>0</td>\n",
       "      <td>0</td>\n",
       "      <td>0</td>\n",
       "      <td>0</td>\n",
       "      <td>0</td>\n",
       "      <td>0</td>\n",
       "      <td>0</td>\n",
       "      <td>1</td>\n",
       "      <td>0</td>\n",
       "      <td>0</td>\n",
       "    </tr>\n",
       "  </tbody>\n",
       "</table>\n",
       "<p>5 rows × 178 columns</p>\n",
       "</div>"
      ],
      "text/plain": [
       "    Weight_Kg  Low_Price  High_Price  Sales_Total  Total_Qty_Sold  \\\n",
       "1        18.3      150.0       170.0      51710.0             332   \n",
       "7        11.0       50.0        50.0      16000.0             320   \n",
       "24        9.0       55.0        55.0        990.0              18   \n",
       "40       18.3       80.0       120.0      32020.0             388   \n",
       "69      400.0     1800.0      1800.0       1800.0               1   \n",
       "\n",
       "    Total_Kg_Sold  Stock_On_Hand  Province_EASTERN CAPE  Province_NATAL  \\\n",
       "1          6075.6            822                      0               0   \n",
       "7          3520.0              0                      0               0   \n",
       "24          162.0           1506                      0               0   \n",
       "40         7100.4            443                      0               0   \n",
       "69          400.0              2                      1               0   \n",
       "\n",
       "    Province_ORANGE FREE STATE  ...  Date_2020-09-07  Date_2020-09-09  \\\n",
       "1                            0  ...                0                1   \n",
       "7                            0  ...                0                0   \n",
       "24                           0  ...                0                0   \n",
       "40                           0  ...                0                0   \n",
       "69                           0  ...                0                0   \n",
       "\n",
       "    Date_2020-09-16  Date_2020-09-17  Date_2020-09-19  Date_2020-09-21  \\\n",
       "1                 0                0                0                0   \n",
       "7                 0                0                0                0   \n",
       "24                0                0                0                0   \n",
       "40                0                0                0                0   \n",
       "69                0                0                0                0   \n",
       "\n",
       "    Date_2020-09-23  Date_2020-09-28  Date_2020-10-01  Date_2020-10-03  \n",
       "1                 0                0                0                0  \n",
       "7                 0                0                0                0  \n",
       "24                0                0                0                0  \n",
       "40                0                0                0                0  \n",
       "69                0                1                0                0  \n",
       "\n",
       "[5 rows x 178 columns]"
      ]
     },
     "execution_count": 6,
     "metadata": {},
     "output_type": "execute_result"
    }
   ],
   "source": [
    "dummy_df = pd.get_dummies(x, drop_first = True)\n",
    "dummy_df.head()"
   ]
  },
  {
   "cell_type": "code",
   "execution_count": 14,
   "metadata": {},
   "outputs": [
    {
     "data": {
      "text/plain": [
       "(1952, 178)"
      ]
     },
     "execution_count": 14,
     "metadata": {},
     "output_type": "execute_result"
    }
   ],
   "source": [
    "dummy_df.shape"
   ]
  },
  {
   "cell_type": "code",
   "execution_count": 15,
   "metadata": {},
   "outputs": [
    {
     "data": {
      "text/plain": [
       "Index([], dtype='object')"
      ]
     },
     "execution_count": 15,
     "metadata": {},
     "output_type": "execute_result"
    }
   ],
   "source": [
    "dummy_nonuq = dummy_df.loc[:,dummy_df.nunique() == 1]\n",
    "dummy_nonuq.columns"
   ]
  },
  {
   "cell_type": "markdown",
   "metadata": {},
   "source": [
    "Suddenly we have many more variable columns (178 given the dummy variable encoding). "
   ]
  },
  {
   "cell_type": "markdown",
   "metadata": {},
   "source": [
    "## Feature selection"
   ]
  },
  {
   "cell_type": "markdown",
   "metadata": {},
   "source": [
    "Feature selection is a technique where we choose those features in our data that contribute most to the target variable. The classes in the sklearn.feature_selection module can be used for feature selection.\n",
    "\n",
    "Due to dummy variable encoding we have 178 features, however we would like to reduce this number. This will hopefully reduce the chances of our model overfitting on our training data (less redundant data leads to model making decisions based on noise), and not fitting well will test data.\n",
    "\n",
    "We'll use the selection method SelectKBest.\n",
    "\n",
    "SelectKBest uses a scoring function either f_regression or mutual_info_regression (for regression problems) along with a k paramater where this paramater will select the top $k^{th}$ features based on their scores which were generated from the scoring function.\n",
    "\n",
    "F_regression captures linear dependencies, however mutual information can capture any kind of dependencies between variables. Hence, we will use mutual information regression."
   ]
  },
  {
   "cell_type": "code",
   "execution_count": 7,
   "metadata": {},
   "outputs": [],
   "source": [
    "from sklearn.feature_selection import mutual_info_regression, SelectKBest"
   ]
  },
  {
   "cell_type": "code",
   "execution_count": 37,
   "metadata": {},
   "outputs": [],
   "source": [
    "# Creating selector\n",
    "select = SelectKBest(score_func = mutual_info_regression, k='all')"
   ]
  },
  {
   "cell_type": "code",
   "execution_count": 38,
   "metadata": {},
   "outputs": [],
   "source": [
    "# Fitting selector\n",
    "X_reg_new = select.fit_transform(dummy_df, y)"
   ]
  },
  {
   "cell_type": "code",
   "execution_count": 39,
   "metadata": {},
   "outputs": [
    {
     "data": {
      "text/plain": [
       "(1952, 178)"
      ]
     },
     "execution_count": 39,
     "metadata": {},
     "output_type": "execute_result"
    }
   ],
   "source": [
    "X_reg_new.shape"
   ]
  },
  {
   "cell_type": "code",
   "execution_count": 40,
   "metadata": {},
   "outputs": [
    {
     "data": {
      "text/plain": [
       "array([6.45633424e-01, 1.69684869e+00, 1.59287547e+00, 4.37746386e-01,\n",
       "       2.74481016e-01, 3.41141392e-01, 2.68407204e-01, 7.04228210e-02,\n",
       "       1.08526085e-01, 8.67696057e-04, 2.31636554e-02, 9.10335806e-02,\n",
       "       5.59126115e-02, 6.55411486e-03, 1.00792810e-01, 5.21847102e-02,\n",
       "       0.00000000e+00, 1.51929771e-01, 2.60366786e-01, 7.75505147e-02,\n",
       "       2.18322922e-01, 7.73232710e-03, 0.00000000e+00, 6.39082873e-02,\n",
       "       1.14782214e-01, 1.13382671e-02, 4.61865192e-02, 2.92098304e-02,\n",
       "       5.41045895e-02, 9.78392628e-02, 5.46050335e-03, 7.22709643e-04,\n",
       "       1.02929700e-02, 3.85142865e-03, 0.00000000e+00, 0.00000000e+00,\n",
       "       9.23348896e-03, 0.00000000e+00, 0.00000000e+00, 6.24066267e-03,\n",
       "       4.59121615e-03, 3.68089960e-03, 0.00000000e+00, 5.43102749e-03,\n",
       "       8.03205825e-04, 2.51036024e-03, 5.81055413e-03, 0.00000000e+00,\n",
       "       0.00000000e+00, 5.44028266e-03, 2.67643199e-03, 0.00000000e+00,\n",
       "       1.65968035e-03, 1.04229245e-02, 0.00000000e+00, 0.00000000e+00,\n",
       "       0.00000000e+00, 7.11216503e-03, 0.00000000e+00, 0.00000000e+00,\n",
       "       0.00000000e+00, 2.28748749e-03, 1.62242145e-03, 0.00000000e+00,\n",
       "       0.00000000e+00, 0.00000000e+00, 7.43527634e-03, 1.08061113e-02,\n",
       "       0.00000000e+00, 1.31385647e-02, 0.00000000e+00, 5.60317435e-03,\n",
       "       0.00000000e+00, 0.00000000e+00, 0.00000000e+00, 8.58886436e-03,\n",
       "       5.77243635e-03, 0.00000000e+00, 0.00000000e+00, 0.00000000e+00,\n",
       "       4.31090087e-03, 0.00000000e+00, 7.25089166e-03, 0.00000000e+00,\n",
       "       5.34850324e-03, 8.03526276e-03, 1.63790988e-02, 0.00000000e+00,\n",
       "       5.69425433e-03, 0.00000000e+00, 1.95931953e-02, 1.14403739e-02,\n",
       "       2.16063366e-02, 6.02871325e-03, 0.00000000e+00, 0.00000000e+00,\n",
       "       9.25203520e-03, 0.00000000e+00, 4.20841681e-03, 0.00000000e+00,\n",
       "       0.00000000e+00, 9.45781131e-03, 5.83046590e-04, 7.21330403e-03,\n",
       "       6.67568917e-03, 1.69284223e-03, 3.00473516e-03, 0.00000000e+00,\n",
       "       1.99216504e-02, 2.86929673e-03, 3.60007069e-03, 4.23467562e-03,\n",
       "       0.00000000e+00, 0.00000000e+00, 0.00000000e+00, 1.90939543e-03,\n",
       "       8.07867862e-03, 1.76047608e-03, 4.50791319e-03, 0.00000000e+00,\n",
       "       8.03832767e-03, 7.22557413e-03, 0.00000000e+00, 0.00000000e+00,\n",
       "       2.97802906e-03, 0.00000000e+00, 0.00000000e+00, 5.06490009e-03,\n",
       "       0.00000000e+00, 0.00000000e+00, 0.00000000e+00, 0.00000000e+00,\n",
       "       1.03554571e-02, 1.03819489e-02, 1.02076681e-03, 0.00000000e+00,\n",
       "       3.54154622e-03, 9.38726665e-03, 0.00000000e+00, 0.00000000e+00,\n",
       "       3.92305380e-03, 0.00000000e+00, 9.18204769e-03, 5.52715236e-03,\n",
       "       7.31463360e-04, 0.00000000e+00, 7.36902855e-03, 0.00000000e+00,\n",
       "       0.00000000e+00, 1.23333035e-02, 6.62498168e-03, 1.33992282e-02,\n",
       "       0.00000000e+00, 2.31622720e-02, 1.11771023e-02, 0.00000000e+00,\n",
       "       0.00000000e+00, 6.67406025e-03, 1.07669950e-03, 0.00000000e+00,\n",
       "       6.79720352e-03, 4.49196995e-03, 1.39054533e-02, 9.75328619e-03,\n",
       "       0.00000000e+00, 0.00000000e+00, 0.00000000e+00, 2.06477770e-03,\n",
       "       0.00000000e+00, 2.87252209e-03, 0.00000000e+00, 1.46564719e-03,\n",
       "       1.24583216e-02, 0.00000000e+00, 1.99973162e-03, 0.00000000e+00,\n",
       "       3.19553403e-03, 1.18711031e-02])"
      ]
     },
     "execution_count": 40,
     "metadata": {},
     "output_type": "execute_result"
    }
   ],
   "source": [
    "select.scores_"
   ]
  },
  {
   "cell_type": "code",
   "execution_count": 41,
   "metadata": {},
   "outputs": [
    {
     "data": {
      "text/plain": [
       "111"
      ]
     },
     "execution_count": 41,
     "metadata": {},
     "output_type": "execute_result"
    }
   ],
   "source": [
    "np.count_nonzero(select.scores_)"
   ]
  },
  {
   "cell_type": "markdown",
   "metadata": {},
   "source": [
    "We see that 111 features has a score > 0. So let's select the top 111 features."
   ]
  },
  {
   "cell_type": "code",
   "execution_count": 42,
   "metadata": {},
   "outputs": [],
   "source": [
    "# Creating selector\n",
    "select = SelectKBest(score_func = mutual_info_regression, k=111)"
   ]
  },
  {
   "cell_type": "code",
   "execution_count": 43,
   "metadata": {},
   "outputs": [],
   "source": [
    "# Fitting selector\n",
    "X_reg_new = select.fit_transform(dummy_df, y)"
   ]
  },
  {
   "cell_type": "code",
   "execution_count": 44,
   "metadata": {},
   "outputs": [
    {
     "data": {
      "text/plain": [
       "(1952, 111)"
      ]
     },
     "execution_count": 44,
     "metadata": {},
     "output_type": "execute_result"
    }
   ],
   "source": [
    "X_reg_new.shape"
   ]
  },
  {
   "cell_type": "code",
   "execution_count": 45,
   "metadata": {},
   "outputs": [],
   "source": [
    "# 111 top feature names\n",
    "filter = select.get_support()"
   ]
  },
  {
   "cell_type": "code",
   "execution_count": 46,
   "metadata": {},
   "outputs": [
    {
     "data": {
      "text/plain": [
       "['Weight_Kg',\n",
       " 'Low_Price',\n",
       " 'High_Price',\n",
       " 'Sales_Total',\n",
       " 'Total_Qty_Sold',\n",
       " 'Total_Kg_Sold',\n",
       " 'Stock_On_Hand',\n",
       " 'Province_EASTERN CAPE',\n",
       " 'Province_NATAL',\n",
       " 'Province_TRANSVAAL',\n",
       " 'Province_W.CAPE-BERGRIVER ETC',\n",
       " 'Province_WEST COAST',\n",
       " 'Container_DT063',\n",
       " 'Container_EC120',\n",
       " 'Container_EF120',\n",
       " 'Container_IA400',\n",
       " 'Container_JE090',\n",
       " 'Container_JG110',\n",
       " 'Container_M4183',\n",
       " 'Container_M6125',\n",
       " 'Container_M9125',\n",
       " 'Size_Grade_1M',\n",
       " 'Size_Grade_1S',\n",
       " 'Size_Grade_1U',\n",
       " 'Size_Grade_1X',\n",
       " 'Size_Grade_2L',\n",
       " 'Size_Grade_2M',\n",
       " 'Size_Grade_2S',\n",
       " 'Size_Grade_2U',\n",
       " 'Size_Grade_2X',\n",
       " 'Date_2019-12-12',\n",
       " 'Date_2019-12-14',\n",
       " 'Date_2019-12-30',\n",
       " 'Date_2020-01-09',\n",
       " 'Date_2020-01-10',\n",
       " 'Date_2020-01-14',\n",
       " 'Date_2020-01-20',\n",
       " 'Date_2020-01-21',\n",
       " 'Date_2020-01-24',\n",
       " 'Date_2020-01-28',\n",
       " 'Date_2020-01-30',\n",
       " 'Date_2020-02-01',\n",
       " 'Date_2020-02-03',\n",
       " 'Date_2020-02-10',\n",
       " 'Date_2020-02-11',\n",
       " 'Date_2020-02-14',\n",
       " 'Date_2020-02-15',\n",
       " 'Date_2020-02-19',\n",
       " 'Date_2020-02-21',\n",
       " 'Date_2020-02-22',\n",
       " 'Date_2020-03-11',\n",
       " 'Date_2020-03-13',\n",
       " 'Date_2020-03-16',\n",
       " 'Date_2020-03-20',\n",
       " 'Date_2020-03-27',\n",
       " 'Date_2020-03-30',\n",
       " 'Date_2020-03-31',\n",
       " 'Date_2020-04-07',\n",
       " 'Date_2020-04-14',\n",
       " 'Date_2020-04-15',\n",
       " 'Date_2020-04-16',\n",
       " 'Date_2020-04-17',\n",
       " 'Date_2020-04-21',\n",
       " 'Date_2020-04-22',\n",
       " 'Date_2020-04-23',\n",
       " 'Date_2020-04-28',\n",
       " 'Date_2020-05-05',\n",
       " 'Date_2020-05-06',\n",
       " 'Date_2020-05-09',\n",
       " 'Date_2020-05-14',\n",
       " 'Date_2020-05-18',\n",
       " 'Date_2020-05-19',\n",
       " 'Date_2020-05-22',\n",
       " 'Date_2020-05-25',\n",
       " 'Date_2020-05-29',\n",
       " 'Date_2020-06-02',\n",
       " 'Date_2020-06-03',\n",
       " 'Date_2020-06-09',\n",
       " 'Date_2020-06-13',\n",
       " 'Date_2020-06-17',\n",
       " 'Date_2020-06-19',\n",
       " 'Date_2020-07-01',\n",
       " 'Date_2020-07-06',\n",
       " 'Date_2020-07-07',\n",
       " 'Date_2020-07-09',\n",
       " 'Date_2020-07-10',\n",
       " 'Date_2020-07-13',\n",
       " 'Date_2020-07-15',\n",
       " 'Date_2020-07-16',\n",
       " 'Date_2020-07-18',\n",
       " 'Date_2020-07-21',\n",
       " 'Date_2020-07-23',\n",
       " 'Date_2020-07-25',\n",
       " 'Date_2020-07-27',\n",
       " 'Date_2020-08-03',\n",
       " 'Date_2020-08-04',\n",
       " 'Date_2020-08-05',\n",
       " 'Date_2020-08-11',\n",
       " 'Date_2020-08-12',\n",
       " 'Date_2020-08-13',\n",
       " 'Date_2020-08-15',\n",
       " 'Date_2020-08-18',\n",
       " 'Date_2020-08-19',\n",
       " 'Date_2020-08-20',\n",
       " 'Date_2020-08-25',\n",
       " 'Date_2020-09-01',\n",
       " 'Date_2020-09-02',\n",
       " 'Date_2020-09-09',\n",
       " 'Date_2020-09-17',\n",
       " 'Date_2020-09-19',\n",
       " 'Date_2020-09-28']"
      ]
     },
     "execution_count": 46,
     "metadata": {},
     "output_type": "execute_result"
    }
   ],
   "source": [
    "# create list of top 111 features\n",
    "kbest_features = list(dummy_df.columns[filter])\n",
    "kbest_features"
   ]
  },
  {
   "cell_type": "code",
   "execution_count": 47,
   "metadata": {},
   "outputs": [
    {
     "data": {
      "text/html": [
       "<div>\n",
       "<style scoped>\n",
       "    .dataframe tbody tr th:only-of-type {\n",
       "        vertical-align: middle;\n",
       "    }\n",
       "\n",
       "    .dataframe tbody tr th {\n",
       "        vertical-align: top;\n",
       "    }\n",
       "\n",
       "    .dataframe thead th {\n",
       "        text-align: right;\n",
       "    }\n",
       "</style>\n",
       "<table border=\"1\" class=\"dataframe\">\n",
       "  <thead>\n",
       "    <tr style=\"text-align: right;\">\n",
       "      <th></th>\n",
       "      <th>Weight_Kg</th>\n",
       "      <th>Low_Price</th>\n",
       "      <th>High_Price</th>\n",
       "      <th>Sales_Total</th>\n",
       "      <th>Total_Qty_Sold</th>\n",
       "      <th>Total_Kg_Sold</th>\n",
       "      <th>Stock_On_Hand</th>\n",
       "      <th>Province_EASTERN CAPE</th>\n",
       "      <th>Province_NATAL</th>\n",
       "      <th>Province_TRANSVAAL</th>\n",
       "      <th>...</th>\n",
       "      <th>Date_2020-08-18</th>\n",
       "      <th>Date_2020-08-19</th>\n",
       "      <th>Date_2020-08-20</th>\n",
       "      <th>Date_2020-08-25</th>\n",
       "      <th>Date_2020-09-01</th>\n",
       "      <th>Date_2020-09-02</th>\n",
       "      <th>Date_2020-09-09</th>\n",
       "      <th>Date_2020-09-17</th>\n",
       "      <th>Date_2020-09-19</th>\n",
       "      <th>Date_2020-09-28</th>\n",
       "    </tr>\n",
       "  </thead>\n",
       "  <tbody>\n",
       "    <tr>\n",
       "      <th>0</th>\n",
       "      <td>18.3</td>\n",
       "      <td>150.0</td>\n",
       "      <td>170.0</td>\n",
       "      <td>51710.0</td>\n",
       "      <td>332.0</td>\n",
       "      <td>6075.6</td>\n",
       "      <td>822.0</td>\n",
       "      <td>0.0</td>\n",
       "      <td>0.0</td>\n",
       "      <td>0.0</td>\n",
       "      <td>...</td>\n",
       "      <td>0.0</td>\n",
       "      <td>0.0</td>\n",
       "      <td>0.0</td>\n",
       "      <td>0.0</td>\n",
       "      <td>0.0</td>\n",
       "      <td>0.0</td>\n",
       "      <td>1.0</td>\n",
       "      <td>0.0</td>\n",
       "      <td>0.0</td>\n",
       "      <td>0.0</td>\n",
       "    </tr>\n",
       "    <tr>\n",
       "      <th>1</th>\n",
       "      <td>11.0</td>\n",
       "      <td>50.0</td>\n",
       "      <td>50.0</td>\n",
       "      <td>16000.0</td>\n",
       "      <td>320.0</td>\n",
       "      <td>3520.0</td>\n",
       "      <td>0.0</td>\n",
       "      <td>0.0</td>\n",
       "      <td>0.0</td>\n",
       "      <td>0.0</td>\n",
       "      <td>...</td>\n",
       "      <td>0.0</td>\n",
       "      <td>0.0</td>\n",
       "      <td>0.0</td>\n",
       "      <td>0.0</td>\n",
       "      <td>0.0</td>\n",
       "      <td>0.0</td>\n",
       "      <td>0.0</td>\n",
       "      <td>0.0</td>\n",
       "      <td>0.0</td>\n",
       "      <td>0.0</td>\n",
       "    </tr>\n",
       "    <tr>\n",
       "      <th>2</th>\n",
       "      <td>9.0</td>\n",
       "      <td>55.0</td>\n",
       "      <td>55.0</td>\n",
       "      <td>990.0</td>\n",
       "      <td>18.0</td>\n",
       "      <td>162.0</td>\n",
       "      <td>1506.0</td>\n",
       "      <td>0.0</td>\n",
       "      <td>0.0</td>\n",
       "      <td>0.0</td>\n",
       "      <td>...</td>\n",
       "      <td>0.0</td>\n",
       "      <td>0.0</td>\n",
       "      <td>0.0</td>\n",
       "      <td>0.0</td>\n",
       "      <td>0.0</td>\n",
       "      <td>0.0</td>\n",
       "      <td>0.0</td>\n",
       "      <td>0.0</td>\n",
       "      <td>0.0</td>\n",
       "      <td>0.0</td>\n",
       "    </tr>\n",
       "    <tr>\n",
       "      <th>3</th>\n",
       "      <td>18.3</td>\n",
       "      <td>80.0</td>\n",
       "      <td>120.0</td>\n",
       "      <td>32020.0</td>\n",
       "      <td>388.0</td>\n",
       "      <td>7100.4</td>\n",
       "      <td>443.0</td>\n",
       "      <td>0.0</td>\n",
       "      <td>0.0</td>\n",
       "      <td>0.0</td>\n",
       "      <td>...</td>\n",
       "      <td>0.0</td>\n",
       "      <td>0.0</td>\n",
       "      <td>0.0</td>\n",
       "      <td>0.0</td>\n",
       "      <td>0.0</td>\n",
       "      <td>0.0</td>\n",
       "      <td>0.0</td>\n",
       "      <td>0.0</td>\n",
       "      <td>0.0</td>\n",
       "      <td>0.0</td>\n",
       "    </tr>\n",
       "    <tr>\n",
       "      <th>4</th>\n",
       "      <td>400.0</td>\n",
       "      <td>1800.0</td>\n",
       "      <td>1800.0</td>\n",
       "      <td>1800.0</td>\n",
       "      <td>1.0</td>\n",
       "      <td>400.0</td>\n",
       "      <td>2.0</td>\n",
       "      <td>1.0</td>\n",
       "      <td>0.0</td>\n",
       "      <td>0.0</td>\n",
       "      <td>...</td>\n",
       "      <td>0.0</td>\n",
       "      <td>0.0</td>\n",
       "      <td>0.0</td>\n",
       "      <td>0.0</td>\n",
       "      <td>0.0</td>\n",
       "      <td>0.0</td>\n",
       "      <td>0.0</td>\n",
       "      <td>0.0</td>\n",
       "      <td>0.0</td>\n",
       "      <td>1.0</td>\n",
       "    </tr>\n",
       "  </tbody>\n",
       "</table>\n",
       "<p>5 rows × 111 columns</p>\n",
       "</div>"
      ],
      "text/plain": [
       "   Weight_Kg  Low_Price  High_Price  Sales_Total  Total_Qty_Sold  \\\n",
       "0       18.3      150.0       170.0      51710.0           332.0   \n",
       "1       11.0       50.0        50.0      16000.0           320.0   \n",
       "2        9.0       55.0        55.0        990.0            18.0   \n",
       "3       18.3       80.0       120.0      32020.0           388.0   \n",
       "4      400.0     1800.0      1800.0       1800.0             1.0   \n",
       "\n",
       "   Total_Kg_Sold  Stock_On_Hand  Province_EASTERN CAPE  Province_NATAL  \\\n",
       "0         6075.6          822.0                    0.0             0.0   \n",
       "1         3520.0            0.0                    0.0             0.0   \n",
       "2          162.0         1506.0                    0.0             0.0   \n",
       "3         7100.4          443.0                    0.0             0.0   \n",
       "4          400.0            2.0                    1.0             0.0   \n",
       "\n",
       "   Province_TRANSVAAL  ...  Date_2020-08-18  Date_2020-08-19  Date_2020-08-20  \\\n",
       "0                 0.0  ...              0.0              0.0              0.0   \n",
       "1                 0.0  ...              0.0              0.0              0.0   \n",
       "2                 0.0  ...              0.0              0.0              0.0   \n",
       "3                 0.0  ...              0.0              0.0              0.0   \n",
       "4                 0.0  ...              0.0              0.0              0.0   \n",
       "\n",
       "   Date_2020-08-25  Date_2020-09-01  Date_2020-09-02  Date_2020-09-09  \\\n",
       "0              0.0              0.0              0.0              1.0   \n",
       "1              0.0              0.0              0.0              0.0   \n",
       "2              0.0              0.0              0.0              0.0   \n",
       "3              0.0              0.0              0.0              0.0   \n",
       "4              0.0              0.0              0.0              0.0   \n",
       "\n",
       "   Date_2020-09-17  Date_2020-09-19  Date_2020-09-28  \n",
       "0              0.0              0.0              0.0  \n",
       "1              0.0              0.0              0.0  \n",
       "2              0.0              0.0              0.0  \n",
       "3              0.0              0.0              0.0  \n",
       "4              0.0              0.0              1.0  \n",
       "\n",
       "[5 rows x 111 columns]"
      ]
     },
     "execution_count": 47,
     "metadata": {},
     "output_type": "execute_result"
    }
   ],
   "source": [
    "kbest_df = pd.DataFrame(data=X_reg_new, columns=kbest_features)\n",
    "kbest_df.head()"
   ]
  },
  {
   "cell_type": "markdown",
   "metadata": {},
   "source": [
    "In the following section, let's try building our model using Linear Regression."
   ]
  },
  {
   "cell_type": "markdown",
   "metadata": {},
   "source": [
    "## Create linear model"
   ]
  },
  {
   "cell_type": "markdown",
   "metadata": {},
   "source": [
    "Let us import some modules."
   ]
  },
  {
   "cell_type": "code",
   "execution_count": 48,
   "metadata": {},
   "outputs": [],
   "source": [
    "# Regression models\n",
    "from sklearn.linear_model import LinearRegression\n",
    "\n",
    "# Model selection\n",
    "from sklearn.model_selection import train_test_split\n",
    "\n",
    "# Metrics\n",
    "from sklearn.metrics import r2_score\n",
    "from sklearn.metrics import mean_squared_error"
   ]
  },
  {
   "cell_type": "markdown",
   "metadata": {},
   "source": [
    "We'll create two different predictor variable training sets. One set will contain all predictors, and the other will house the kbest features."
   ]
  },
  {
   "cell_type": "code",
   "execution_count": 49,
   "metadata": {},
   "outputs": [],
   "source": [
    "X_lin_best = kbest_df\n",
    "X_lin_all = dummy_df # wanna check if more columns has influences on predictive power\n",
    "y_lin = y"
   ]
  },
  {
   "cell_type": "code",
   "execution_count": 50,
   "metadata": {},
   "outputs": [],
   "source": [
    "# Split the data into train and test sets\n",
    "X_train_all, X_test_all, y_train_all, y_test_all = train_test_split(X_lin_all, y_lin, test_size = 0.2,random_state=42)\n",
    "X_train_best, X_test_best, y_train_best, y_test_best = train_test_split(X_lin_best, y_lin, test_size = 0.2,random_state=42)"
   ]
  },
  {
   "cell_type": "code",
   "execution_count": 52,
   "metadata": {},
   "outputs": [],
   "source": [
    "# define model\n",
    "lm_all = LinearRegression(n_jobs=-1)\n",
    "lm_best = LinearRegression(n_jobs=-1)"
   ]
  },
  {
   "cell_type": "code",
   "execution_count": 53,
   "metadata": {},
   "outputs": [
    {
     "data": {
      "text/plain": [
       "LinearRegression(copy_X=True, fit_intercept=True, n_jobs=-1, normalize=False)"
      ]
     },
     "execution_count": 53,
     "metadata": {},
     "output_type": "execute_result"
    }
   ],
   "source": [
    "# Train the model\n",
    "lm_all.fit(X_train_all, y_train_all)\n",
    "lm_best.fit(X_train_best, y_train_best)"
   ]
  },
  {
   "cell_type": "code",
   "execution_count": 54,
   "metadata": {},
   "outputs": [],
   "source": [
    "# Make predictions\n",
    "train_pred_all = lm_all.predict(X_train_all)\n",
    "test_pred_all = lm_all.predict(X_test_all)\n",
    "\n",
    "train_pred_best = lm_best.predict(X_train_best)\n",
    "test_pred_best = lm_best.predict(X_test_best)"
   ]
  },
  {
   "cell_type": "code",
   "execution_count": 55,
   "metadata": {},
   "outputs": [],
   "source": [
    "train_rmse_all = np.sqrt(mean_squared_error(y_train_all, train_pred_all))\n",
    "test_rmse_all = np.sqrt(mean_squared_error(y_test_all, test_pred_all))\n",
    "    \n",
    "train_rmse_best = np.sqrt(mean_squared_error(y_train_best, train_pred_best))\n",
    "test_rmse_best = np.sqrt(mean_squared_error(y_test_best, test_pred_best))"
   ]
  },
  {
   "cell_type": "code",
   "execution_count": 56,
   "metadata": {},
   "outputs": [
    {
     "data": {
      "text/plain": [
       "{'Train RMSE all features': 1.2139989096502701,\n",
       " 'Test RMSE all features': 1.4105711751620118,\n",
       " 'Train RMSE kbest features': 1.302588419561525,\n",
       " 'Test RMSE kbest features': 1.419213246663244}"
      ]
     },
     "execution_count": 56,
     "metadata": {},
     "output_type": "execute_result"
    }
   ],
   "source": [
    "df = {'Train RMSE all features': train_rmse_all,'Test RMSE all features':test_rmse_all,'Train RMSE kbest features': train_rmse_best,'Test RMSE kbest features':test_rmse_best}\n",
    "df"
   ]
  },
  {
   "cell_type": "code",
   "execution_count": 63,
   "metadata": {},
   "outputs": [
    {
     "data": {
      "image/png": "[encoded data removed]",
      "text/plain": [
       "<Figure size 432x288 with 1 Axes>"
      ]
     },
     "metadata": {
      "needs_background": "light"
     },
     "output_type": "display_data"
    }
   ],
   "source": [
    "fig, ax = plt.subplots()\n",
    "RMSE = [1.21, 1.41, 1.30, 1.42]\n",
    "set_features = ['Train RMSE all features', 'Test RMSE all features', 'Train RMSE kbest features','Test RMSE kbest features']\n",
    "\n",
    "ax.barh(set_features, RMSE)\n",
    "ax.set_yticks(set_features)\n",
    "ax.set_yticklabels(set_features)\n",
    "ax.set_xlabel('RMSE')\n",
    "ax.set_title('RMSE values for train and test set with kbest and all features')\n",
    "\n",
    "plt.show()"
   ]
  },
  {
   "cell_type": "code",
   "execution_count": null,
   "metadata": {},
   "outputs": [],
   "source": []
  },
  {
   "cell_type": "markdown",
   "metadata": {},
   "source": [
    "**Metrics used**\n",
    "  - Root Mean Square Error (RMSE) is the standard deviation of the residuals (prediction errors). Residuals are a measure of how far from the regression line data points are; RMSE is a measure of how spread out these residuals are. In other words, it tells you how concentrated the data is around the line of best fit. \n",
    "  "
   ]
  },
  {
   "cell_type": "markdown",
   "metadata": {},
   "source": [
    "The RMSE on the train set for all features is lower than that of the kbest features, however the RMSE on the test set is similar for both choices of features. This indicates that the model is slightly overfitting when training on all features. Henceforth, we'll be using the kbest features to train our models in order to minimise overfitting."
   ]
  },
  {
   "cell_type": "markdown",
   "metadata": {},
   "source": [
    "In the next section, we will try to improve our linear model by introducing regularisation techniques."
   ]
  },
  {
   "cell_type": "markdown",
   "metadata": {},
   "source": [
    "# Regularisation"
   ]
  },
  {
   "cell_type": "markdown",
   "metadata": {},
   "source": [
    "Regularisation is a method used to improve the predictive accuracy of a model while putting constraints on the predictor variables.\n",
    "\n",
    "Recall that the least squares method seeks to minimise the sum of the squares of the residuals:\n",
    "\n",
    "$$RSS = \\sum_{i=1}^n(y_i-\\hat{y}_i)^2$$   \n",
    "\n",
    "which can be written in terms of the predictor variable coefficients, [$b_1, b_2, b_p$], and slope, $a$:   \n",
    "\n",
    "$$RSS = \\sum_{i=1}^n(y_i-(a+\\sum_{j=1}^pb_jx_{ij}))^2$$\n",
    "\n",
    "where _n_ is the number of observations, and _p_ is the number of predictor variables. In the case of **ridge regression**, the regression coefficients are calculated as the values that minimise:\n",
    "\n",
    "$$\\sum_{i=1}^n(y_i-(a+\\sum_{j=1}^pb_jx_{ij}))^2 + \\alpha\\sum_{j=1}^pb_j^2$$\n",
    "\n",
    "which is rewritten simply as:\n",
    "\n",
    "$$\\min_{\\beta} (RSS + \\alpha\\sum_{j=1}^pb_j^2)$$\n",
    "\n",
    "In minimising _RSS_ , we improve the overall fit of the model. In the newly introduced term, $\\alpha\\sum_{j=1}^pb_j^2$, the intention is to penalise those individual coefficients that get too large (those that contribute the most to reducing the fit).\n",
    "\n",
    "In the new term, $\\alpha$ is a tuning parameter which controls the degree to which the regression coefficients are penalised. The effect of this penalty parameter is to create a tradeoff between how much a coefficient contributes to minimising RSS and the size of the coefficient. In other words: _training fit_ vs. _size of coefficients_. \n",
    "\n",
    "In the newly introduced term, we can see that the penalty parameter is applied to the sum of the squares of the coefficients. This means that as we increase the size of the coefficients, the penalty will increase too. And so, this has the effect of _shrinking_ the coefficients towards zero.\n"
   ]
  },
  {
   "cell_type": "markdown",
   "metadata": {},
   "source": [
    "Now let's apply ridge regression to our data."
   ]
  },
  {
   "cell_type": "markdown",
   "metadata": {},
   "source": [
    "## Ridge Regression"
   ]
  },
  {
   "cell_type": "markdown",
   "metadata": {},
   "source": [
    "Before we apply ridge regression, we will need to scale our data.\n",
    "\n",
    "Scaling data is a critical to regularisation as the penalty on particular coefficients in regularisation techniques depends largely on the scale associated with the variables. Regularisation puts constraints on the size of the coefficients related to each variable. Therefore, rescaling is very important for methods with regularisation because the size of the variables affects how much regularisation will be applied to that specific variable. So to make it fair, we need to get all the features on the same scale. "
   ]
  },
  {
   "cell_type": "markdown",
   "metadata": {},
   "source": [
    "### Data Scaling"
   ]
  },
  {
   "cell_type": "code",
   "execution_count": 57,
   "metadata": {},
   "outputs": [],
   "source": [
    "# Preprocessing\n",
    "from sklearn.preprocessing import StandardScaler"
   ]
  },
  {
   "cell_type": "code",
   "execution_count": 58,
   "metadata": {},
   "outputs": [],
   "source": [
    "# Split data into predictors and response\n",
    "X_ridge = X_lin_best\n",
    "y_ridge = y_lin"
   ]
  },
  {
   "cell_type": "code",
   "execution_count": 59,
   "metadata": {},
   "outputs": [],
   "source": [
    "# Create scaler object\n",
    "scaler = StandardScaler()"
   ]
  },
  {
   "cell_type": "code",
   "execution_count": 60,
   "metadata": {},
   "outputs": [],
   "source": [
    "# Create scaled version of the predictors (there is no need to scale the response)\n",
    "X_scaled = scaler.fit_transform(X_ridge)"
   ]
  },
  {
   "cell_type": "code",
   "execution_count": 61,
   "metadata": {},
   "outputs": [
    {
     "data": {
      "text/html": [
       "<div>\n",
       "<style scoped>\n",
       "    .dataframe tbody tr th:only-of-type {\n",
       "        vertical-align: middle;\n",
       "    }\n",
       "\n",
       "    .dataframe tbody tr th {\n",
       "        vertical-align: top;\n",
       "    }\n",
       "\n",
       "    .dataframe thead th {\n",
       "        text-align: right;\n",
       "    }\n",
       "</style>\n",
       "<table border=\"1\" class=\"dataframe\">\n",
       "  <thead>\n",
       "    <tr style=\"text-align: right;\">\n",
       "      <th></th>\n",
       "      <th>Weight_Kg</th>\n",
       "      <th>Low_Price</th>\n",
       "      <th>High_Price</th>\n",
       "      <th>Sales_Total</th>\n",
       "      <th>Total_Qty_Sold</th>\n",
       "      <th>Total_Kg_Sold</th>\n",
       "      <th>Stock_On_Hand</th>\n",
       "      <th>Province_EASTERN CAPE</th>\n",
       "      <th>Province_NATAL</th>\n",
       "      <th>Province_TRANSVAAL</th>\n",
       "      <th>...</th>\n",
       "      <th>Date_2020-08-18</th>\n",
       "      <th>Date_2020-08-19</th>\n",
       "      <th>Date_2020-08-20</th>\n",
       "      <th>Date_2020-08-25</th>\n",
       "      <th>Date_2020-09-01</th>\n",
       "      <th>Date_2020-09-02</th>\n",
       "      <th>Date_2020-09-09</th>\n",
       "      <th>Date_2020-09-17</th>\n",
       "      <th>Date_2020-09-19</th>\n",
       "      <th>Date_2020-09-28</th>\n",
       "    </tr>\n",
       "  </thead>\n",
       "  <tbody>\n",
       "    <tr>\n",
       "      <th>0</th>\n",
       "      <td>-0.222433</td>\n",
       "      <td>-0.065087</td>\n",
       "      <td>-0.105317</td>\n",
       "      <td>0.811807</td>\n",
       "      <td>0.510117</td>\n",
       "      <td>0.511073</td>\n",
       "      <td>0.571070</td>\n",
       "      <td>-0.343488</td>\n",
       "      <td>-0.245547</td>\n",
       "      <td>-0.088</td>\n",
       "      <td>...</td>\n",
       "      <td>-0.081881</td>\n",
       "      <td>-0.093731</td>\n",
       "      <td>-0.075281</td>\n",
       "      <td>-0.093731</td>\n",
       "      <td>-0.071759</td>\n",
       "      <td>-0.075281</td>\n",
       "      <td>11.765567</td>\n",
       "      <td>-0.078648</td>\n",
       "      <td>-0.06415</td>\n",
       "      <td>-0.084994</td>\n",
       "    </tr>\n",
       "    <tr>\n",
       "      <th>1</th>\n",
       "      <td>-0.295704</td>\n",
       "      <td>-0.332855</td>\n",
       "      <td>-0.382175</td>\n",
       "      <td>-0.103950</td>\n",
       "      <td>0.471248</td>\n",
       "      <td>0.091837</td>\n",
       "      <td>-0.563874</td>\n",
       "      <td>-0.343488</td>\n",
       "      <td>-0.245547</td>\n",
       "      <td>-0.088</td>\n",
       "      <td>...</td>\n",
       "      <td>-0.081881</td>\n",
       "      <td>-0.093731</td>\n",
       "      <td>-0.075281</td>\n",
       "      <td>-0.093731</td>\n",
       "      <td>-0.071759</td>\n",
       "      <td>-0.075281</td>\n",
       "      <td>-0.084994</td>\n",
       "      <td>-0.078648</td>\n",
       "      <td>-0.06415</td>\n",
       "      <td>-0.084994</td>\n",
       "    </tr>\n",
       "    <tr>\n",
       "      <th>2</th>\n",
       "      <td>-0.315779</td>\n",
       "      <td>-0.319467</td>\n",
       "      <td>-0.370639</td>\n",
       "      <td>-0.488870</td>\n",
       "      <td>-0.506948</td>\n",
       "      <td>-0.459029</td>\n",
       "      <td>1.515476</td>\n",
       "      <td>-0.343488</td>\n",
       "      <td>-0.245547</td>\n",
       "      <td>-0.088</td>\n",
       "      <td>...</td>\n",
       "      <td>-0.081881</td>\n",
       "      <td>-0.093731</td>\n",
       "      <td>-0.075281</td>\n",
       "      <td>-0.093731</td>\n",
       "      <td>-0.071759</td>\n",
       "      <td>-0.075281</td>\n",
       "      <td>-0.084994</td>\n",
       "      <td>-0.078648</td>\n",
       "      <td>-0.06415</td>\n",
       "      <td>-0.084994</td>\n",
       "    </tr>\n",
       "    <tr>\n",
       "      <th>3</th>\n",
       "      <td>-0.222433</td>\n",
       "      <td>-0.252525</td>\n",
       "      <td>-0.220674</td>\n",
       "      <td>0.306871</td>\n",
       "      <td>0.691504</td>\n",
       "      <td>0.679187</td>\n",
       "      <td>0.047781</td>\n",
       "      <td>-0.343488</td>\n",
       "      <td>-0.245547</td>\n",
       "      <td>-0.088</td>\n",
       "      <td>...</td>\n",
       "      <td>-0.081881</td>\n",
       "      <td>-0.093731</td>\n",
       "      <td>-0.075281</td>\n",
       "      <td>-0.093731</td>\n",
       "      <td>-0.071759</td>\n",
       "      <td>-0.075281</td>\n",
       "      <td>-0.084994</td>\n",
       "      <td>-0.078648</td>\n",
       "      <td>-0.06415</td>\n",
       "      <td>-0.084994</td>\n",
       "    </tr>\n",
       "    <tr>\n",
       "      <th>4</th>\n",
       "      <td>3.608756</td>\n",
       "      <td>4.353082</td>\n",
       "      <td>3.655338</td>\n",
       "      <td>-0.468098</td>\n",
       "      <td>-0.562012</td>\n",
       "      <td>-0.419986</td>\n",
       "      <td>-0.561112</td>\n",
       "      <td>2.911310</td>\n",
       "      <td>-0.245547</td>\n",
       "      <td>-0.088</td>\n",
       "      <td>...</td>\n",
       "      <td>-0.081881</td>\n",
       "      <td>-0.093731</td>\n",
       "      <td>-0.075281</td>\n",
       "      <td>-0.093731</td>\n",
       "      <td>-0.071759</td>\n",
       "      <td>-0.075281</td>\n",
       "      <td>-0.084994</td>\n",
       "      <td>-0.078648</td>\n",
       "      <td>-0.06415</td>\n",
       "      <td>11.765567</td>\n",
       "    </tr>\n",
       "  </tbody>\n",
       "</table>\n",
       "<p>5 rows × 111 columns</p>\n",
       "</div>"
      ],
      "text/plain": [
       "   Weight_Kg  Low_Price  High_Price  Sales_Total  Total_Qty_Sold  \\\n",
       "0  -0.222433  -0.065087   -0.105317     0.811807        0.510117   \n",
       "1  -0.295704  -0.332855   -0.382175    -0.103950        0.471248   \n",
       "2  -0.315779  -0.319467   -0.370639    -0.488870       -0.506948   \n",
       "3  -0.222433  -0.252525   -0.220674     0.306871        0.691504   \n",
       "4   3.608756   4.353082    3.655338    -0.468098       -0.562012   \n",
       "\n",
       "   Total_Kg_Sold  Stock_On_Hand  Province_EASTERN CAPE  Province_NATAL  \\\n",
       "0       0.511073       0.571070              -0.343488       -0.245547   \n",
       "1       0.091837      -0.563874              -0.343488       -0.245547   \n",
       "2      -0.459029       1.515476              -0.343488       -0.245547   \n",
       "3       0.679187       0.047781              -0.343488       -0.245547   \n",
       "4      -0.419986      -0.561112               2.911310       -0.245547   \n",
       "\n",
       "   Province_TRANSVAAL  ...  Date_2020-08-18  Date_2020-08-19  Date_2020-08-20  \\\n",
       "0              -0.088  ...        -0.081881        -0.093731        -0.075281   \n",
       "1              -0.088  ...        -0.081881        -0.093731        -0.075281   \n",
       "2              -0.088  ...        -0.081881        -0.093731        -0.075281   \n",
       "3              -0.088  ...        -0.081881        -0.093731        -0.075281   \n",
       "4              -0.088  ...        -0.081881        -0.093731        -0.075281   \n",
       "\n",
       "   Date_2020-08-25  Date_2020-09-01  Date_2020-09-02  Date_2020-09-09  \\\n",
       "0        -0.093731        -0.071759        -0.075281        11.765567   \n",
       "1        -0.093731        -0.071759        -0.075281        -0.084994   \n",
       "2        -0.093731        -0.071759        -0.075281        -0.084994   \n",
       "3        -0.093731        -0.071759        -0.075281        -0.084994   \n",
       "4        -0.093731        -0.071759        -0.075281        -0.084994   \n",
       "\n",
       "   Date_2020-09-17  Date_2020-09-19  Date_2020-09-28  \n",
       "0        -0.078648         -0.06415        -0.084994  \n",
       "1        -0.078648         -0.06415        -0.084994  \n",
       "2        -0.078648         -0.06415        -0.084994  \n",
       "3        -0.078648         -0.06415        -0.084994  \n",
       "4        -0.078648         -0.06415        11.765567  \n",
       "\n",
       "[5 rows x 111 columns]"
      ]
     },
     "execution_count": 61,
     "metadata": {},
     "output_type": "execute_result"
    }
   ],
   "source": [
    "# Convert the scaled predictor values into a dataframe\n",
    "X_standardise = pd.DataFrame(X_scaled,columns=X_ridge.columns)\n",
    "X_standardise.head()"
   ]
  },
  {
   "cell_type": "markdown",
   "metadata": {},
   "source": [
    "### Ridge Regression"
   ]
  },
  {
   "cell_type": "markdown",
   "metadata": {},
   "source": [
    "Now that we've scaled our data, we can split it into a train and test set."
   ]
  },
  {
   "cell_type": "code",
   "execution_count": 64,
   "metadata": {},
   "outputs": [],
   "source": [
    "#Split the data into train and test, being sure to use the standardised predictors\n",
    "X_train_ridge, X_test_ridge, y_train_ridge, y_test_ridge = train_test_split(X_standardise, \n",
    "                                                    y_ridge, \n",
    "                                                    test_size=0.2, \n",
    "                                                    random_state=42)"
   ]
  },
  {
   "cell_type": "code",
   "execution_count": 65,
   "metadata": {},
   "outputs": [],
   "source": [
    "# Import the ridge regression module from sklearn\n",
    "from sklearn.linear_model import Ridge"
   ]
  },
  {
   "cell_type": "code",
   "execution_count": 66,
   "metadata": {},
   "outputs": [],
   "source": [
    "# Create ridge model\n",
    "ridge = Ridge()"
   ]
  },
  {
   "cell_type": "code",
   "execution_count": 67,
   "metadata": {},
   "outputs": [
    {
     "data": {
      "text/plain": [
       "Ridge(alpha=1.0, copy_X=True, fit_intercept=True, max_iter=None,\n",
       "      normalize=False, random_state=None, solver='auto', tol=0.001)"
      ]
     },
     "execution_count": 67,
     "metadata": {},
     "output_type": "execute_result"
    }
   ],
   "source": [
    "# Train the model\n",
    "ridge.fit(X_train_ridge, y_train_ridge)"
   ]
  },
  {
   "cell_type": "markdown",
   "metadata": {},
   "source": [
    "### Assess the predictive accuracy of the Ridge model \n",
    "We can make use of the `sklearn.metrics` library to assess the accuracy of our model. For comparison, we'll fit a linear model (without regularisation) to the data."
   ]
  },
  {
   "cell_type": "code",
   "execution_count": 68,
   "metadata": {},
   "outputs": [
    {
     "data": {
      "text/plain": [
       "LinearRegression(copy_X=True, fit_intercept=True, n_jobs=-1, normalize=False)"
      ]
     },
     "execution_count": 68,
     "metadata": {},
     "output_type": "execute_result"
    }
   ],
   "source": [
    "# Create linear model object\n",
    "lm = LinearRegression(n_jobs=-1)\n",
    "\n",
    "# Train linear model on scaled data\n",
    "lm.fit(X_train_ridge, y_train_ridge)"
   ]
  },
  {
   "cell_type": "code",
   "execution_count": 69,
   "metadata": {},
   "outputs": [
    {
     "name": "stdout",
     "output_type": "stream",
     "text": [
      "Training RMSE\n",
      "Linear: 1.302588419561525\n",
      "Ridge : 1.3047795934909416\n"
     ]
    }
   ],
   "source": [
    "# Check training accuracy\n",
    "train_lm = lm.predict(X_train_ridge)\n",
    "train_ridge = ridge.predict(X_train_ridge)\n",
    "\n",
    "print('Training RMSE')\n",
    "print('Linear:', np.sqrt(mean_squared_error(y_train_ridge, train_lm)))\n",
    "print('Ridge :', np.sqrt(mean_squared_error(y_train_ridge, train_ridge)))"
   ]
  },
  {
   "cell_type": "code",
   "execution_count": 70,
   "metadata": {},
   "outputs": [
    {
     "name": "stdout",
     "output_type": "stream",
     "text": [
      "Testing RMSE\n",
      "Linear: 1.4192132466632104\n",
      "Ridge : 1.4180403562768489\n"
     ]
    }
   ],
   "source": [
    "test_lm = lm.predict(X_test_ridge)\n",
    "test_ridge = ridge.predict(X_test_ridge)\n",
    "\n",
    "print('Testing RMSE')\n",
    "print('Linear:', np.sqrt(mean_squared_error(y_test_ridge, test_lm)))\n",
    "print('Ridge :', np.sqrt(mean_squared_error(y_test_ridge, test_ridge)))"
   ]
  },
  {
   "cell_type": "markdown",
   "metadata": {},
   "source": [
    "There is no significant improvement in the training MSE nor testing MSE when ridge regression is applied. \n",
    "\n",
    "Let us try **Lasso Regression** to improve our model."
   ]
  },
  {
   "cell_type": "markdown",
   "metadata": {},
   "source": [
    "## Lasso Regression\n",
    "\n",
    "Recall the optimisation expression for ridge regression:\n",
    "\n",
    "$$\\min_{\\beta} (RSS + \\alpha\\sum_{j=1}^pb_j^2)$$\n",
    "\n",
    "where we attempt to minimise the RSS and some penalty term. This can be rewritten:\n",
    "\n",
    "$$\\min_{\\beta} (RSS + \\alpha(L2\\_norm))$$\n",
    "\n",
    "where $L2\\_norm$ is the sum of the squares of the coefficients.\n",
    "\n",
    "In LASSO regularisation, we replace the $L2\\_norm$ with what is known as the $L1\\_norm$: the sum of the _absolute_ values of the coefficients.\n",
    "\n",
    "This is a relatively recent adaptation of ridge regression which is capable of shrinking predictors to exactly zero - effectively removing them from the model entirely and creating what we call a sparse model (one which uses some subset of all of the available predictors). In this way, LASSO achieves both shrinkage and subset selection.\n",
    "\n",
    "A LASSO model is fit under the constraint of minimizing the following equation:\n",
    "\n",
    "$$\\sum_{i=1}^n(y_i-(a+\\sum_{j=1}^pb_jx_{ij}))^2 + \\alpha\\sum_{j=1}^p|b_j|$$\n",
    "\n",
    "which can be rewritten as follows:\n",
    "\n",
    "$$\\min_{\\beta} (RSS + \\alpha\\sum_{j=1}^p|b_j|)$$\n",
    "\n",
    "or,\n",
    "\n",
    "$$\\min_{\\beta} (RSS + \\alpha(L1\\_norm))$$"
   ]
  },
  {
   "cell_type": "markdown",
   "metadata": {},
   "source": [
    "### Data Scaling\n",
    "\n",
    "Again, we will scale our data first."
   ]
  },
  {
   "cell_type": "code",
   "execution_count": 71,
   "metadata": {},
   "outputs": [],
   "source": [
    "# Split data into predictors and response\n",
    "X_feat = X_lin_best\n",
    "y_tar = y_lin"
   ]
  },
  {
   "cell_type": "code",
   "execution_count": 72,
   "metadata": {},
   "outputs": [],
   "source": [
    "# Save standardized features into new variable\n",
    "X_scaled2 = scaler.fit_transform(X_feat)"
   ]
  },
  {
   "cell_type": "code",
   "execution_count": 73,
   "metadata": {},
   "outputs": [],
   "source": [
    "# Split dataset into train and test sets\n",
    "X_train_lasso, X_test_lasso, y_train_lasso, y_test_lasso = train_test_split(X_scaled2, \n",
    "                                                    y_tar, \n",
    "                                                    test_size=0.20,\n",
    "                                                    random_state=42)"
   ]
  },
  {
   "cell_type": "code",
   "execution_count": 74,
   "metadata": {},
   "outputs": [],
   "source": [
    "# Import LASSO module\n",
    "from sklearn.linear_model import Lasso"
   ]
  },
  {
   "cell_type": "code",
   "execution_count": 75,
   "metadata": {},
   "outputs": [],
   "source": [
    "# Create LASSO model object (define model), setting alpha to 0.01\n",
    "lasso = Lasso(alpha=0.01)"
   ]
  },
  {
   "cell_type": "code",
   "execution_count": 76,
   "metadata": {},
   "outputs": [
    {
     "data": {
      "text/plain": [
       "Lasso(alpha=0.01, copy_X=True, fit_intercept=True, max_iter=1000,\n",
       "      normalize=False, positive=False, precompute=False, random_state=None,\n",
       "      selection='cyclic', tol=0.0001, warm_start=False)"
      ]
     },
     "execution_count": 76,
     "metadata": {},
     "output_type": "execute_result"
    }
   ],
   "source": [
    "# Train the LASSO model\n",
    "lasso.fit(X_train_lasso, y_train_lasso)"
   ]
  },
  {
   "cell_type": "code",
   "execution_count": 77,
   "metadata": {},
   "outputs": [],
   "source": [
    "# Extract coefficient from model\n",
    "coeff = pd.DataFrame(lasso.coef_, X_feat.columns, columns=['Coefficient'])"
   ]
  },
  {
   "cell_type": "markdown",
   "metadata": {},
   "source": [
    "Lets visualize the predictors that we shrunk to zero."
   ]
  },
  {
   "cell_type": "code",
   "execution_count": 78,
   "metadata": {},
   "outputs": [
    {
     "data": {
      "text/html": [
       "<div>\n",
       "<style scoped>\n",
       "    .dataframe tbody tr th:only-of-type {\n",
       "        vertical-align: middle;\n",
       "    }\n",
       "\n",
       "    .dataframe tbody tr th {\n",
       "        vertical-align: top;\n",
       "    }\n",
       "\n",
       "    .dataframe thead th {\n",
       "        text-align: right;\n",
       "    }\n",
       "</style>\n",
       "<table border=\"1\" class=\"dataframe\">\n",
       "  <thead>\n",
       "    <tr style=\"text-align: right;\">\n",
       "      <th></th>\n",
       "      <th>Coefficient</th>\n",
       "    </tr>\n",
       "  </thead>\n",
       "  <tbody>\n",
       "    <tr>\n",
       "      <th>Weight_Kg</th>\n",
       "      <td>-0.0</td>\n",
       "    </tr>\n",
       "    <tr>\n",
       "      <th>Container_JE090</th>\n",
       "      <td>0.0</td>\n",
       "    </tr>\n",
       "    <tr>\n",
       "      <th>Date_2020-01-14</th>\n",
       "      <td>0.0</td>\n",
       "    </tr>\n",
       "    <tr>\n",
       "      <th>Date_2020-01-30</th>\n",
       "      <td>-0.0</td>\n",
       "    </tr>\n",
       "    <tr>\n",
       "      <th>Date_2020-02-15</th>\n",
       "      <td>0.0</td>\n",
       "    </tr>\n",
       "    <tr>\n",
       "      <th>Date_2020-02-19</th>\n",
       "      <td>-0.0</td>\n",
       "    </tr>\n",
       "    <tr>\n",
       "      <th>Date_2020-07-07</th>\n",
       "      <td>-0.0</td>\n",
       "    </tr>\n",
       "    <tr>\n",
       "      <th>Date_2020-07-15</th>\n",
       "      <td>-0.0</td>\n",
       "    </tr>\n",
       "    <tr>\n",
       "      <th>Date_2020-08-03</th>\n",
       "      <td>-0.0</td>\n",
       "    </tr>\n",
       "    <tr>\n",
       "      <th>Date_2020-08-13</th>\n",
       "      <td>0.0</td>\n",
       "    </tr>\n",
       "    <tr>\n",
       "      <th>Date_2020-08-20</th>\n",
       "      <td>0.0</td>\n",
       "    </tr>\n",
       "    <tr>\n",
       "      <th>Date_2020-09-01</th>\n",
       "      <td>-0.0</td>\n",
       "    </tr>\n",
       "    <tr>\n",
       "      <th>Date_2020-09-09</th>\n",
       "      <td>-0.0</td>\n",
       "    </tr>\n",
       "    <tr>\n",
       "      <th>Date_2020-09-19</th>\n",
       "      <td>0.0</td>\n",
       "    </tr>\n",
       "    <tr>\n",
       "      <th>Date_2020-09-28</th>\n",
       "      <td>0.0</td>\n",
       "    </tr>\n",
       "  </tbody>\n",
       "</table>\n",
       "</div>"
      ],
      "text/plain": [
       "                 Coefficient\n",
       "Weight_Kg               -0.0\n",
       "Container_JE090          0.0\n",
       "Date_2020-01-14          0.0\n",
       "Date_2020-01-30         -0.0\n",
       "Date_2020-02-15          0.0\n",
       "Date_2020-02-19         -0.0\n",
       "Date_2020-07-07         -0.0\n",
       "Date_2020-07-15         -0.0\n",
       "Date_2020-08-03         -0.0\n",
       "Date_2020-08-13          0.0\n",
       "Date_2020-08-20          0.0\n",
       "Date_2020-09-01         -0.0\n",
       "Date_2020-09-09         -0.0\n",
       "Date_2020-09-19          0.0\n",
       "Date_2020-09-28          0.0"
      ]
     },
     "execution_count": 78,
     "metadata": {},
     "output_type": "execute_result"
    }
   ],
   "source": [
    "no = coeff[coeff['Coefficient']==0]\n",
    "no"
   ]
  },
  {
   "cell_type": "code",
   "execution_count": 79,
   "metadata": {},
   "outputs": [
    {
     "data": {
      "text/plain": [
       "['Weight_Kg',\n",
       " 'Container_JE090',\n",
       " 'Date_2020-01-14',\n",
       " 'Date_2020-01-30',\n",
       " 'Date_2020-02-15',\n",
       " 'Date_2020-02-19',\n",
       " 'Date_2020-07-07',\n",
       " 'Date_2020-07-15',\n",
       " 'Date_2020-08-03',\n",
       " 'Date_2020-08-13',\n",
       " 'Date_2020-08-20',\n",
       " 'Date_2020-09-01',\n",
       " 'Date_2020-09-09',\n",
       " 'Date_2020-09-19',\n",
       " 'Date_2020-09-28']"
      ]
     },
     "execution_count": 79,
     "metadata": {},
     "output_type": "execute_result"
    }
   ],
   "source": [
    "# create list of features that were shrunk to zero\n",
    "index_list = no.index.tolist()\n",
    "index_list"
   ]
  },
  {
   "cell_type": "markdown",
   "metadata": {},
   "source": [
    "### Assessment of predictive accuracy\n",
    "\n",
    "Again, we'll make use of the `sklearn.metrics` library to assess the accuracy of our model. We'll fit the following models as well, in order to compare the LASSO results thoroughly:\n",
    "\n",
    "- A least squares model using all available predictors;\n",
    "- A least squares model using the predictors with non-zero coefficients from LASSO;\n",
    "- A ridge regression model using all available predictors."
   ]
  },
  {
   "cell_type": "markdown",
   "metadata": {},
   "source": [
    "First, we'll create a subset of our data set, removing all predictor variables with a coefficient of zero."
   ]
  },
  {
   "cell_type": "code",
   "execution_count": 80,
   "metadata": {},
   "outputs": [
    {
     "data": {
      "text/plain": [
       "(1952, 96)"
      ]
     },
     "execution_count": 80,
     "metadata": {},
     "output_type": "execute_result"
    }
   ],
   "source": [
    "X_subset = X_feat.drop(['Weight_Kg',\n",
    " 'Container_JE090',\n",
    " 'Date_2020-01-14',\n",
    " 'Date_2020-01-30',\n",
    " 'Date_2020-02-15',\n",
    " 'Date_2020-02-19',\n",
    " 'Date_2020-07-07',\n",
    " 'Date_2020-07-15',\n",
    " 'Date_2020-08-03',\n",
    " 'Date_2020-08-13',\n",
    " 'Date_2020-08-20',\n",
    " 'Date_2020-09-01',\n",
    " 'Date_2020-09-09',\n",
    " 'Date_2020-09-19',\n",
    " 'Date_2020-09-28'],axis=1)\n",
    "X_subset.shape"
   ]
  },
  {
   "cell_type": "code",
   "execution_count": 81,
   "metadata": {},
   "outputs": [],
   "source": [
    "# scale subset data\n",
    "X_subset_scaled = scaler.fit_transform(X_subset)\n",
    "\n",
    "# create train and test set of the subset data\n",
    "X_train2, X_test2, y_train2, y_test2 = train_test_split(X_subset_scaled, \n",
    "                                                        y_tar, \n",
    "                                                        test_size=0.20, \n",
    "                                                        random_state=1,\n",
    "                                                        shuffle=False)\n",
    "\n",
    "# Least squares using non-zero variables from LASSO\n",
    "lm_subset = LinearRegression()\n",
    "\n",
    "# Least squares using all predictors\n",
    "lm_all = LinearRegression()\n",
    "\n",
    "# Ridge using all predictors\n",
    "ridge = Ridge()"
   ]
  },
  {
   "cell_type": "code",
   "execution_count": 82,
   "metadata": {},
   "outputs": [
    {
     "data": {
      "text/plain": [
       "Ridge(alpha=1.0, copy_X=True, fit_intercept=True, max_iter=None,\n",
       "      normalize=False, random_state=None, solver='auto', tol=0.001)"
      ]
     },
     "execution_count": 82,
     "metadata": {},
     "output_type": "execute_result"
    }
   ],
   "source": [
    "# Train the models\n",
    "lm_subset.fit(X_train2, y_train2)\n",
    "lm_all.fit(X_train_lasso, y_train_lasso)\n",
    "ridge.fit(X_train_lasso, y_train_lasso)"
   ]
  },
  {
   "cell_type": "code",
   "execution_count": 83,
   "metadata": {},
   "outputs": [],
   "source": [
    "# Make training set predictions for each model\n",
    "train_lm_subset = lm_subset.predict(X_train2)\n",
    "train_lm_all = lm_all.predict(X_train_lasso)\n",
    "train_ridge = ridge.predict(X_train_lasso)\n",
    "train_lasso = lasso.predict(X_train_lasso)"
   ]
  },
  {
   "cell_type": "code",
   "execution_count": 84,
   "metadata": {},
   "outputs": [],
   "source": [
    "# Make test set predictions for each model\n",
    "test_lm_subset = lm_subset.predict(X_test2)\n",
    "test_lm_all = lm_all.predict(X_test_lasso)\n",
    "test_ridge = ridge.predict(X_test_lasso)\n",
    "test_lasso = lasso.predict(X_test_lasso)"
   ]
  },
  {
   "cell_type": "code",
   "execution_count": 85,
   "metadata": {},
   "outputs": [],
   "source": [
    "# Dictionary of results\n",
    "results_dict = {'Training RMSE':\n",
    "                    {\n",
    "                        \"Least Squares, Subset\": np.sqrt(mean_squared_error(y_train2, train_lm_subset)),\n",
    "                        \"Least Squares, All\": np.sqrt(mean_squared_error(y_train_lasso, train_lm_all)),\n",
    "                        \"Ridge\": np.sqrt(mean_squared_error(y_train_lasso, train_ridge)),\n",
    "                        \"LASSO\": np.sqrt(mean_squared_error(y_train_lasso, train_lasso))\n",
    "                    },\n",
    "                    'Test RMSE':\n",
    "                    {\n",
    "                        \"Least Squares, Subset\": np.sqrt(mean_squared_error(y_test2, test_lm_subset)),\n",
    "                        \"Least Squares, All\": np.sqrt(mean_squared_error(y_test_lasso, test_lm_all)),\n",
    "                        \"Ridge\": np.sqrt(mean_squared_error(y_test_lasso, test_ridge)),\n",
    "                        \"LASSO\": np.sqrt(mean_squared_error(y_test_lasso, test_lasso))\n",
    "                    }\n",
    "                }"
   ]
  },
  {
   "cell_type": "code",
   "execution_count": 86,
   "metadata": {},
   "outputs": [
    {
     "data": {
      "text/html": [
       "<div>\n",
       "<style scoped>\n",
       "    .dataframe tbody tr th:only-of-type {\n",
       "        vertical-align: middle;\n",
       "    }\n",
       "\n",
       "    .dataframe tbody tr th {\n",
       "        vertical-align: top;\n",
       "    }\n",
       "\n",
       "    .dataframe thead th {\n",
       "        text-align: right;\n",
       "    }\n",
       "</style>\n",
       "<table border=\"1\" class=\"dataframe\">\n",
       "  <thead>\n",
       "    <tr style=\"text-align: right;\">\n",
       "      <th></th>\n",
       "      <th>Training RMSE</th>\n",
       "      <th>Test RMSE</th>\n",
       "    </tr>\n",
       "  </thead>\n",
       "  <tbody>\n",
       "    <tr>\n",
       "      <th>LASSO</th>\n",
       "      <td>1.315691</td>\n",
       "      <td>1.403876</td>\n",
       "    </tr>\n",
       "    <tr>\n",
       "      <th>Least Squares, All</th>\n",
       "      <td>1.302588</td>\n",
       "      <td>1.419213</td>\n",
       "    </tr>\n",
       "    <tr>\n",
       "      <th>Least Squares, Subset</th>\n",
       "      <td>1.296786</td>\n",
       "      <td>1.454072</td>\n",
       "    </tr>\n",
       "    <tr>\n",
       "      <th>Ridge</th>\n",
       "      <td>1.304780</td>\n",
       "      <td>1.418040</td>\n",
       "    </tr>\n",
       "  </tbody>\n",
       "</table>\n",
       "</div>"
      ],
      "text/plain": [
       "                       Training RMSE  Test RMSE\n",
       "LASSO                       1.315691   1.403876\n",
       "Least Squares, All          1.302588   1.419213\n",
       "Least Squares, Subset       1.296786   1.454072\n",
       "Ridge                       1.304780   1.418040"
      ]
     },
     "execution_count": 86,
     "metadata": {},
     "output_type": "execute_result"
    }
   ],
   "source": [
    "# Create dataframe from dictionary\n",
    "results_df = pd.DataFrame(data=results_dict)\n",
    "results_df"
   ]
  },
  {
   "cell_type": "markdown",
   "metadata": {},
   "source": [
    "Training the linear model on the subset of data (predictor variables dropped with coefficient = 0) is not a good idea since the difference between the train and test RMSE is the highest, compared to all the other models.\n",
    "\n",
    "From the above table we can see that the training RMSE actually increased using Lasso regression, however testing RMSE actually decreased, indicating higher predictive accuracy. It seems like the use of regularisation techniques doesn't improve the performance of our model significantly.\n",
    "\n",
    "We will investigate more complex models in our quest to improve the predictive power of our model."
   ]
  },
  {
   "cell_type": "markdown",
   "metadata": {},
   "source": [
    "# Decision Trees"
   ]
  },
  {
   "cell_type": "markdown",
   "metadata": {},
   "source": [
    "Decision Trees are tree-like (upside down) machine learning models which represent data by partitioning it into different sections based on questions asked of predictive variables in the data. "
   ]
  },
  {
   "cell_type": "code",
   "execution_count": 87,
   "metadata": {},
   "outputs": [],
   "source": [
    "# set test size to 20 % of training data\n",
    "x_train_dt, x_test_dt, y_train_dt, y_test_dt = train_test_split(X_feat, y_tar, test_size=0.2, random_state=42)"
   ]
  },
  {
   "cell_type": "markdown",
   "metadata": {},
   "source": [
    "### Building the Decision Tree"
   ]
  },
  {
   "cell_type": "code",
   "execution_count": 88,
   "metadata": {},
   "outputs": [],
   "source": [
    "# import DecisionTreeRegressor\n",
    "from sklearn.tree import DecisionTreeRegressor"
   ]
  },
  {
   "cell_type": "markdown",
   "metadata": {},
   "source": [
    "#### Decision Tree model tuning"
   ]
  },
  {
   "cell_type": "markdown",
   "metadata": {},
   "source": [
    "Tuning the hyperparamaters of the Decision Tree model is important to obtain optimal performance. Let's create a dictionary that houses a lists of values where we will choose from to tune the hyperparamaters. We will be tuning `max_depth`, `min_samples_leaf` and `min_samples_split`."
   ]
  },
  {
   "cell_type": "code",
   "execution_count": 89,
   "metadata": {},
   "outputs": [],
   "source": [
    "param_dist = {'max_depth':list(range(5,15,2)),'min_samples_leaf':list(range(1,5)), 'min_samples_split': list(range(5,30,5))}"
   ]
  },
  {
   "cell_type": "markdown",
   "metadata": {},
   "source": [
    "In order to find the best combination of hyperparamaters, we will import `GridSearchCV`."
   ]
  },
  {
   "cell_type": "code",
   "execution_count": 90,
   "metadata": {},
   "outputs": [],
   "source": [
    "from sklearn.model_selection import GridSearchCV"
   ]
  },
  {
   "cell_type": "code",
   "execution_count": 91,
   "metadata": {},
   "outputs": [],
   "source": [
    "regr_tree = DecisionTreeRegressor()\n",
    "grid = GridSearchCV(regr_tree,param_grid=param_dist, cv=10, n_jobs=-1)"
   ]
  },
  {
   "cell_type": "code",
   "execution_count": 93,
   "metadata": {},
   "outputs": [
    {
     "data": {
      "text/plain": [
       "GridSearchCV(cv=10, error_score='raise-deprecating',\n",
       "             estimator=DecisionTreeRegressor(criterion='mse', max_depth=None,\n",
       "                                             max_features=None,\n",
       "                                             max_leaf_nodes=None,\n",
       "                                             min_impurity_decrease=0.0,\n",
       "                                             min_impurity_split=None,\n",
       "                                             min_samples_leaf=1,\n",
       "                                             min_samples_split=2,\n",
       "                                             min_weight_fraction_leaf=0.0,\n",
       "                                             presort=False, random_state=None,\n",
       "                                             splitter='best'),\n",
       "             iid='warn', n_jobs=-1,\n",
       "             param_grid={'max_depth': [5, 7, 9, 11, 13],\n",
       "                         'min_samples_leaf': [1, 2, 3, 4],\n",
       "                         'min_samples_split': [5, 10, 15, 20, 25]},\n",
       "             pre_dispatch='2*n_jobs', refit=True, return_train_score=False,\n",
       "             scoring=None, verbose=0)"
      ]
     },
     "execution_count": 93,
     "metadata": {},
     "output_type": "execute_result"
    }
   ],
   "source": [
    "# fit the grid to the train set in order to find best combination of hyperparamters\n",
    "grid.fit(x_train_dt,y_train_dt)"
   ]
  },
  {
   "cell_type": "code",
   "execution_count": 94,
   "metadata": {},
   "outputs": [
    {
     "data": {
      "text/plain": [
       "DecisionTreeRegressor(criterion='mse', max_depth=9, max_features=None,\n",
       "                      max_leaf_nodes=None, min_impurity_decrease=0.0,\n",
       "                      min_impurity_split=None, min_samples_leaf=4,\n",
       "                      min_samples_split=10, min_weight_fraction_leaf=0.0,\n",
       "                      presort=False, random_state=None, splitter='best')"
      ]
     },
     "execution_count": 94,
     "metadata": {},
     "output_type": "execute_result"
    }
   ],
   "source": [
    "# show hyperparamters of DecisionTreeRegressor\n",
    "grid.best_estimator_"
   ]
  },
  {
   "cell_type": "code",
   "execution_count": 95,
   "metadata": {},
   "outputs": [
    {
     "data": {
      "text/plain": [
       "0.8882430259725895"
      ]
     },
     "execution_count": 95,
     "metadata": {},
     "output_type": "execute_result"
    }
   ],
   "source": [
    "# show best r^2 value from combinations available\n",
    "grid.best_score_"
   ]
  },
  {
   "cell_type": "code",
   "execution_count": 96,
   "metadata": {},
   "outputs": [
    {
     "data": {
      "text/plain": [
       "{'max_depth': 9, 'min_samples_leaf': 4, 'min_samples_split': 10}"
      ]
     },
     "execution_count": 96,
     "metadata": {},
     "output_type": "execute_result"
    }
   ],
   "source": [
    "# show best combination of values for hyperparamaters that were investigated\n",
    "grid.best_params_"
   ]
  },
  {
   "cell_type": "markdown",
   "metadata": {},
   "source": [
    "Now, lets apply these optimal hyperparamaters to our **DecisionTreeRegressor**."
   ]
  },
  {
   "cell_type": "code",
   "execution_count": 97,
   "metadata": {},
   "outputs": [],
   "source": [
    "# Instantiate regression tree model\n",
    "regr_tree = DecisionTreeRegressor(max_depth=9,min_samples_leaf=4,min_samples_split=10,random_state=42)"
   ]
  },
  {
   "cell_type": "code",
   "execution_count": 98,
   "metadata": {},
   "outputs": [
    {
     "data": {
      "text/plain": [
       "DecisionTreeRegressor(criterion='mse', max_depth=9, max_features=None,\n",
       "                      max_leaf_nodes=None, min_impurity_decrease=0.0,\n",
       "                      min_impurity_split=None, min_samples_leaf=4,\n",
       "                      min_samples_split=10, min_weight_fraction_leaf=0.0,\n",
       "                      presort=False, random_state=42, splitter='best')"
      ]
     },
     "execution_count": 98,
     "metadata": {},
     "output_type": "execute_result"
    }
   ],
   "source": [
    "# fit and train model\n",
    "regr_tree.fit(x_train_dt,y_train_dt)"
   ]
  },
  {
   "cell_type": "code",
   "execution_count": 99,
   "metadata": {},
   "outputs": [
    {
     "name": "stdout",
     "output_type": "stream",
     "text": [
      "Regression Decision Tree model RMSE train is: 0.5266811073163471\n",
      "Regression Decision Tree model RMSE test is: 0.7405988807556145\n"
     ]
    }
   ],
   "source": [
    "# get predictions for train and test data\n",
    "y_pred_train_dt = regr_tree.predict(x_train_dt)\n",
    "y_pred_test_dt = regr_tree.predict(x_test_dt)\n",
    "\n",
    "# calculate MSE\n",
    "MSE_train_dt = mean_squared_error(y_pred_train_dt, y_train_dt)\n",
    "MSE_test_dt = mean_squared_error(y_pred_test_dt,y_test_dt)\n",
    "\n",
    "# Report RMSE\n",
    "print(\"Regression Decision Tree model RMSE train is:\",np.sqrt(MSE_train_dt))\n",
    "print(\"Regression Decision Tree model RMSE test is:\",np.sqrt(MSE_test_dt))"
   ]
  },
  {
   "cell_type": "markdown",
   "metadata": {},
   "source": [
    "The RMSE for the test set improved significantly from 1.40 (Lasso) to 0.74 (Decision Tree), however we would like to improve the RMSE even further. Thus, let's enter the Random Forest... "
   ]
  },
  {
   "cell_type": "markdown",
   "metadata": {},
   "source": [
    "# Random Forests"
   ]
  },
  {
   "cell_type": "markdown",
   "metadata": {},
   "source": [
    "A random forest is a powerful non-parametric algorithm and as mentioned is an example of an **ensemble** method built on decision trees, meaning that it relies on aggregating the results of an ensemble of decision trees. The ensembled trees are randomized and the output is mean prediction of the individual trees."
   ]
  },
  {
   "cell_type": "code",
   "execution_count": 135,
   "metadata": {},
   "outputs": [],
   "source": [
    "# set test size to 20 % of training data\n",
    "x_train_random, x_test_random, y_train_random, y_test_random = train_test_split(X_feat, y_tar, test_size=0.2, random_state=42)"
   ]
  },
  {
   "cell_type": "code",
   "execution_count": 101,
   "metadata": {},
   "outputs": [],
   "source": [
    "# import RandomForesRegressor\n",
    "from sklearn.ensemble import RandomForestRegressor"
   ]
  },
  {
   "cell_type": "code",
   "execution_count": 102,
   "metadata": {},
   "outputs": [],
   "source": [
    "RF = RandomForestRegressor()"
   ]
  },
  {
   "cell_type": "markdown",
   "metadata": {},
   "source": [
    "#### Model Tuning for Random Forest"
   ]
  },
  {
   "cell_type": "code",
   "execution_count": 105,
   "metadata": {},
   "outputs": [],
   "source": [
    "# dictionary containing list of values for getting optimal hyperparamaters\n",
    "param_dist_rf = {'n_estimators': list(range(40,140,40)),'max_features': list(range(30,60,10)),'max_depth': list(range(8,18,3)),'min_samples_split':list(range(5,15,3)), 'min_samples_leaf':list(range(3,5))}"
   ]
  },
  {
   "cell_type": "code",
   "execution_count": 106,
   "metadata": {},
   "outputs": [],
   "source": [
    "# define grid\n",
    "grid_rf = GridSearchCV(RF,param_grid=param_dist_rf, cv=10, n_jobs=-1)"
   ]
  },
  {
   "cell_type": "code",
   "execution_count": 107,
   "metadata": {},
   "outputs": [
    {
     "data": {
      "text/plain": [
       "GridSearchCV(cv=10, error_score='raise-deprecating',\n",
       "             estimator=RandomForestRegressor(bootstrap=True, criterion='mse',\n",
       "                                             max_depth=None,\n",
       "                                             max_features='auto',\n",
       "                                             max_leaf_nodes=None,\n",
       "                                             min_impurity_decrease=0.0,\n",
       "                                             min_impurity_split=None,\n",
       "                                             min_samples_leaf=1,\n",
       "                                             min_samples_split=2,\n",
       "                                             min_weight_fraction_leaf=0.0,\n",
       "                                             n_estimators='warn', n_jobs=None,\n",
       "                                             oob_score=False, random_state=None,\n",
       "                                             verbose=0, warm_start=False),\n",
       "             iid='warn', n_jobs=-1,\n",
       "             param_grid={'max_depth': [8, 11, 14, 17],\n",
       "                         'max_features': [30, 40, 50],\n",
       "                         'min_samples_leaf': [3, 4],\n",
       "                         'min_samples_split': [5, 8, 11, 14],\n",
       "                         'n_estimators': [40, 80, 120]},\n",
       "             pre_dispatch='2*n_jobs', refit=True, return_train_score=False,\n",
       "             scoring=None, verbose=0)"
      ]
     },
     "execution_count": 107,
     "metadata": {},
     "output_type": "execute_result"
    }
   ],
   "source": [
    "# fit and train grid\n",
    "grid_rf.fit(x_train_random,y_train_random)"
   ]
  },
  {
   "cell_type": "code",
   "execution_count": 108,
   "metadata": {},
   "outputs": [
    {
     "data": {
      "text/plain": [
       "0.899967806977408"
      ]
     },
     "execution_count": 108,
     "metadata": {},
     "output_type": "execute_result"
    }
   ],
   "source": [
    "# return best r^2 value for optimal combination of hyperparamaters\n",
    "grid_rf.best_score_"
   ]
  },
  {
   "cell_type": "code",
   "execution_count": 109,
   "metadata": {},
   "outputs": [
    {
     "data": {
      "text/plain": [
       "{'max_depth': 14,\n",
       " 'max_features': 50,\n",
       " 'min_samples_leaf': 3,\n",
       " 'min_samples_split': 5,\n",
       " 'n_estimators': 80}"
      ]
     },
     "execution_count": 109,
     "metadata": {},
     "output_type": "execute_result"
    }
   ],
   "source": [
    "# get best combination of hyperparamaters that was tuned\n",
    "grid_rf.best_params_"
   ]
  },
  {
   "cell_type": "markdown",
   "metadata": {},
   "source": [
    "Now, lets apply these optimal hyperparamaters to our **RandomForestRegressor**."
   ]
  },
  {
   "cell_type": "code",
   "execution_count": 136,
   "metadata": {},
   "outputs": [],
   "source": [
    "# Instantiate Random Forest model with optimal hyperparamters\n",
    "RF = RandomForestRegressor(n_estimators=90, max_features = 50, max_depth=14, min_samples_split=5, min_samples_leaf=3, random_state=1)"
   ]
  },
  {
   "cell_type": "code",
   "execution_count": 137,
   "metadata": {},
   "outputs": [
    {
     "data": {
      "text/plain": [
       "RandomForestRegressor(bootstrap=True, criterion='mse', max_depth=14,\n",
       "                      max_features=50, max_leaf_nodes=None,\n",
       "                      min_impurity_decrease=0.0, min_impurity_split=None,\n",
       "                      min_samples_leaf=3, min_samples_split=5,\n",
       "                      min_weight_fraction_leaf=0.0, n_estimators=90,\n",
       "                      n_jobs=None, oob_score=False, random_state=1, verbose=0,\n",
       "                      warm_start=False)"
      ]
     },
     "execution_count": 137,
     "metadata": {},
     "output_type": "execute_result"
    }
   ],
   "source": [
    "# fit and train model\n",
    "RF.fit(x_train_random,y_train_random)"
   ]
  },
  {
   "cell_type": "code",
   "execution_count": 138,
   "metadata": {},
   "outputs": [
    {
     "name": "stdout",
     "output_type": "stream",
     "text": [
      "RMSE 0.46173589728095177\n"
     ]
    }
   ],
   "source": [
    "# training set predictions\n",
    "train_rf = RF.predict(x_train_random)\n",
    "# Compute RMSE on train set\n",
    "print('RMSE',np.sqrt(mean_squared_error(y_train_random, train_rf)))"
   ]
  },
  {
   "cell_type": "code",
   "execution_count": 139,
   "metadata": {},
   "outputs": [
    {
     "name": "stdout",
     "output_type": "stream",
     "text": [
      "RMSE: 0.5613918254115513\n"
     ]
    }
   ],
   "source": [
    "# Get predictions\n",
    "test_rf = RF.predict(x_test_random)\n",
    "\n",
    "# Compute RMSE\n",
    "print(\"RMSE:\",np.sqrt(mean_squared_error(y_test_random,test_rf)))"
   ]
  },
  {
   "cell_type": "code",
   "execution_count": 140,
   "metadata": {},
   "outputs": [
    {
     "data": {
      "image/png": "[encoded data removed]",
      "text/plain": [
       "<Figure size 432x288 with 1 Axes>"
      ]
     },
     "metadata": {
      "needs_background": "light"
     },
     "output_type": "display_data"
    }
   ],
   "source": [
    "fig, ax = plt.subplots()\n",
    "train_rmse = [1.303, 1.305, 1.316, 0.527, 0.462]\n",
    "models = ['Linear', 'Ridge', 'Lasso','Decision Tree', 'Random Forest']\n",
    "\n",
    "ax.barh(models, train_rmse, color='red')\n",
    "ax.set_yticks(models)\n",
    "ax.set_yticklabels(models)\n",
    "ax.set_xlabel('RMSE on train set')\n",
    "ax.set_title('RMSE values for train set')\n",
    "\n",
    "plt.show()"
   ]
  },
  {
   "cell_type": "markdown",
   "metadata": {},
   "source": [
    "From the above graph we can see that the training RMSE improved significantly with the Decision Tree and Random Forest model."
   ]
  },
  {
   "cell_type": "code",
   "execution_count": 141,
   "metadata": {},
   "outputs": [
    {
     "data": {
      "image/png": "[encoded data removed]",
      "text/plain": [
       "<Figure size 432x288 with 1 Axes>"
      ]
     },
     "metadata": {
      "needs_background": "light"
     },
     "output_type": "display_data"
    }
   ],
   "source": [
    "fig, ax = plt.subplots()\n",
    "train_rmse = [1.419, 1.418, 1.404, 0.741, 0.561]\n",
    "models = ['Linear', 'Ridge', 'Lasso','Decision Tree', 'Random Forest']\n",
    "\n",
    "ax.barh(models, train_rmse)\n",
    "ax.set_yticks(models)\n",
    "ax.set_yticklabels(models)\n",
    "ax.set_xlabel('RMSE on train set')\n",
    "ax.set_title('RMSE values for train set')\n",
    "\n",
    "plt.show()"
   ]
  },
  {
   "cell_type": "markdown",
   "metadata": {},
   "source": [
    "From the RMSE of the test set, confirms that the Random Forest model performed the best on data."
   ]
  },
  {
   "cell_type": "code",
   "execution_count": null,
   "metadata": {},
   "outputs": [],
   "source": []
  },
  {
   "cell_type": "markdown",
   "metadata": {},
   "source": [
    "# Feature Importance"
   ]
  },
  {
   "cell_type": "markdown",
   "metadata": {},
   "source": [
    "Feature importance describes which features are relevant. Feature importance can sometimes help with model improvements by implementing the feature selection. The Random Forest algorithm has a built in feature importance method.\n",
    "\n",
    "The more accurate the model is, the more trustworthy the computed importances are. The computed importances describe how important features are for the machine learning model. It is an approximation of how important features are in the data."
   ]
  },
  {
   "cell_type": "code",
   "execution_count": 142,
   "metadata": {},
   "outputs": [
    {
     "data": {
      "text/html": [
       "<div>\n",
       "<style scoped>\n",
       "    .dataframe tbody tr th:only-of-type {\n",
       "        vertical-align: middle;\n",
       "    }\n",
       "\n",
       "    .dataframe tbody tr th {\n",
       "        vertical-align: top;\n",
       "    }\n",
       "\n",
       "    .dataframe thead th {\n",
       "        text-align: right;\n",
       "    }\n",
       "</style>\n",
       "<table border=\"1\" class=\"dataframe\">\n",
       "  <thead>\n",
       "    <tr style=\"text-align: right;\">\n",
       "      <th></th>\n",
       "      <th>Feature Importance</th>\n",
       "    </tr>\n",
       "  </thead>\n",
       "  <tbody>\n",
       "    <tr>\n",
       "      <th>Low_Price</th>\n",
       "      <td>0.346567</td>\n",
       "    </tr>\n",
       "    <tr>\n",
       "      <th>High_Price</th>\n",
       "      <td>0.279337</td>\n",
       "    </tr>\n",
       "    <tr>\n",
       "      <th>Weight_Kg</th>\n",
       "      <td>0.126857</td>\n",
       "    </tr>\n",
       "    <tr>\n",
       "      <th>Container_IA400</th>\n",
       "      <td>0.077318</td>\n",
       "    </tr>\n",
       "    <tr>\n",
       "      <th>Container_M4183</th>\n",
       "      <td>0.031796</td>\n",
       "    </tr>\n",
       "    <tr>\n",
       "      <th>Sales_Total</th>\n",
       "      <td>0.030286</td>\n",
       "    </tr>\n",
       "    <tr>\n",
       "      <th>Province_NATAL</th>\n",
       "      <td>0.019831</td>\n",
       "    </tr>\n",
       "    <tr>\n",
       "      <th>Stock_On_Hand</th>\n",
       "      <td>0.018502</td>\n",
       "    </tr>\n",
       "    <tr>\n",
       "      <th>Total_Kg_Sold</th>\n",
       "      <td>0.016722</td>\n",
       "    </tr>\n",
       "    <tr>\n",
       "      <th>Total_Qty_Sold</th>\n",
       "      <td>0.013664</td>\n",
       "    </tr>\n",
       "    <tr>\n",
       "      <th>Container_EC120</th>\n",
       "      <td>0.008847</td>\n",
       "    </tr>\n",
       "    <tr>\n",
       "      <th>Container_JE090</th>\n",
       "      <td>0.007210</td>\n",
       "    </tr>\n",
       "    <tr>\n",
       "      <th>Size_Grade_2S</th>\n",
       "      <td>0.004651</td>\n",
       "    </tr>\n",
       "    <tr>\n",
       "      <th>Province_W.CAPE-BERGRIVER ETC</th>\n",
       "      <td>0.004079</td>\n",
       "    </tr>\n",
       "    <tr>\n",
       "      <th>Size_Grade_1S</th>\n",
       "      <td>0.003515</td>\n",
       "    </tr>\n",
       "    <tr>\n",
       "      <th>Province_EASTERN CAPE</th>\n",
       "      <td>0.003016</td>\n",
       "    </tr>\n",
       "    <tr>\n",
       "      <th>Size_Grade_1M</th>\n",
       "      <td>0.001831</td>\n",
       "    </tr>\n",
       "    <tr>\n",
       "      <th>Container_JG110</th>\n",
       "      <td>0.001087</td>\n",
       "    </tr>\n",
       "    <tr>\n",
       "      <th>Size_Grade_1X</th>\n",
       "      <td>0.001062</td>\n",
       "    </tr>\n",
       "    <tr>\n",
       "      <th>Size_Grade_2M</th>\n",
       "      <td>0.000961</td>\n",
       "    </tr>\n",
       "    <tr>\n",
       "      <th>Container_EF120</th>\n",
       "      <td>0.000872</td>\n",
       "    </tr>\n",
       "    <tr>\n",
       "      <th>Date_2019-12-12</th>\n",
       "      <td>0.000360</td>\n",
       "    </tr>\n",
       "    <tr>\n",
       "      <th>Date_2019-12-14</th>\n",
       "      <td>0.000337</td>\n",
       "    </tr>\n",
       "    <tr>\n",
       "      <th>Province_WEST COAST</th>\n",
       "      <td>0.000322</td>\n",
       "    </tr>\n",
       "    <tr>\n",
       "      <th>Size_Grade_2L</th>\n",
       "      <td>0.000191</td>\n",
       "    </tr>\n",
       "    <tr>\n",
       "      <th>Date_2020-04-17</th>\n",
       "      <td>0.000101</td>\n",
       "    </tr>\n",
       "    <tr>\n",
       "      <th>Province_TRANSVAAL</th>\n",
       "      <td>0.000093</td>\n",
       "    </tr>\n",
       "    <tr>\n",
       "      <th>Date_2020-02-01</th>\n",
       "      <td>0.000086</td>\n",
       "    </tr>\n",
       "    <tr>\n",
       "      <th>Date_2020-06-09</th>\n",
       "      <td>0.000062</td>\n",
       "    </tr>\n",
       "    <tr>\n",
       "      <th>Size_Grade_2U</th>\n",
       "      <td>0.000056</td>\n",
       "    </tr>\n",
       "    <tr>\n",
       "      <th>...</th>\n",
       "      <td>...</td>\n",
       "    </tr>\n",
       "    <tr>\n",
       "      <th>Date_2020-06-17</th>\n",
       "      <td>0.000000</td>\n",
       "    </tr>\n",
       "    <tr>\n",
       "      <th>Date_2020-06-19</th>\n",
       "      <td>0.000000</td>\n",
       "    </tr>\n",
       "    <tr>\n",
       "      <th>Date_2020-04-22</th>\n",
       "      <td>0.000000</td>\n",
       "    </tr>\n",
       "    <tr>\n",
       "      <th>Date_2020-02-15</th>\n",
       "      <td>0.000000</td>\n",
       "    </tr>\n",
       "    <tr>\n",
       "      <th>Date_2020-03-13</th>\n",
       "      <td>0.000000</td>\n",
       "    </tr>\n",
       "    <tr>\n",
       "      <th>Date_2020-03-16</th>\n",
       "      <td>0.000000</td>\n",
       "    </tr>\n",
       "    <tr>\n",
       "      <th>Date_2020-02-11</th>\n",
       "      <td>0.000000</td>\n",
       "    </tr>\n",
       "    <tr>\n",
       "      <th>Date_2020-02-10</th>\n",
       "      <td>0.000000</td>\n",
       "    </tr>\n",
       "    <tr>\n",
       "      <th>Date_2020-02-03</th>\n",
       "      <td>0.000000</td>\n",
       "    </tr>\n",
       "    <tr>\n",
       "      <th>Date_2020-04-07</th>\n",
       "      <td>0.000000</td>\n",
       "    </tr>\n",
       "    <tr>\n",
       "      <th>Date_2020-04-14</th>\n",
       "      <td>0.000000</td>\n",
       "    </tr>\n",
       "    <tr>\n",
       "      <th>Date_2020-04-15</th>\n",
       "      <td>0.000000</td>\n",
       "    </tr>\n",
       "    <tr>\n",
       "      <th>Date_2020-04-16</th>\n",
       "      <td>0.000000</td>\n",
       "    </tr>\n",
       "    <tr>\n",
       "      <th>Date_2020-01-30</th>\n",
       "      <td>0.000000</td>\n",
       "    </tr>\n",
       "    <tr>\n",
       "      <th>Date_2020-01-28</th>\n",
       "      <td>0.000000</td>\n",
       "    </tr>\n",
       "    <tr>\n",
       "      <th>Date_2020-04-23</th>\n",
       "      <td>0.000000</td>\n",
       "    </tr>\n",
       "    <tr>\n",
       "      <th>Date_2020-02-21</th>\n",
       "      <td>0.000000</td>\n",
       "    </tr>\n",
       "    <tr>\n",
       "      <th>Date_2020-04-28</th>\n",
       "      <td>0.000000</td>\n",
       "    </tr>\n",
       "    <tr>\n",
       "      <th>Date_2020-05-06</th>\n",
       "      <td>0.000000</td>\n",
       "    </tr>\n",
       "    <tr>\n",
       "      <th>Date_2020-05-14</th>\n",
       "      <td>0.000000</td>\n",
       "    </tr>\n",
       "    <tr>\n",
       "      <th>Date_2020-05-18</th>\n",
       "      <td>0.000000</td>\n",
       "    </tr>\n",
       "    <tr>\n",
       "      <th>Date_2020-05-19</th>\n",
       "      <td>0.000000</td>\n",
       "    </tr>\n",
       "    <tr>\n",
       "      <th>Date_2020-05-22</th>\n",
       "      <td>0.000000</td>\n",
       "    </tr>\n",
       "    <tr>\n",
       "      <th>Date_2020-05-25</th>\n",
       "      <td>0.000000</td>\n",
       "    </tr>\n",
       "    <tr>\n",
       "      <th>Date_2020-05-29</th>\n",
       "      <td>0.000000</td>\n",
       "    </tr>\n",
       "    <tr>\n",
       "      <th>Date_2020-06-02</th>\n",
       "      <td>0.000000</td>\n",
       "    </tr>\n",
       "    <tr>\n",
       "      <th>Date_2020-06-03</th>\n",
       "      <td>0.000000</td>\n",
       "    </tr>\n",
       "    <tr>\n",
       "      <th>Date_2020-01-24</th>\n",
       "      <td>0.000000</td>\n",
       "    </tr>\n",
       "    <tr>\n",
       "      <th>Date_2020-01-20</th>\n",
       "      <td>0.000000</td>\n",
       "    </tr>\n",
       "    <tr>\n",
       "      <th>Date_2020-09-28</th>\n",
       "      <td>0.000000</td>\n",
       "    </tr>\n",
       "  </tbody>\n",
       "</table>\n",
       "<p>111 rows × 1 columns</p>\n",
       "</div>"
      ],
      "text/plain": [
       "                               Feature Importance\n",
       "Low_Price                                0.346567\n",
       "High_Price                               0.279337\n",
       "Weight_Kg                                0.126857\n",
       "Container_IA400                          0.077318\n",
       "Container_M4183                          0.031796\n",
       "Sales_Total                              0.030286\n",
       "Province_NATAL                           0.019831\n",
       "Stock_On_Hand                            0.018502\n",
       "Total_Kg_Sold                            0.016722\n",
       "Total_Qty_Sold                           0.013664\n",
       "Container_EC120                          0.008847\n",
       "Container_JE090                          0.007210\n",
       "Size_Grade_2S                            0.004651\n",
       "Province_W.CAPE-BERGRIVER ETC            0.004079\n",
       "Size_Grade_1S                            0.003515\n",
       "Province_EASTERN CAPE                    0.003016\n",
       "Size_Grade_1M                            0.001831\n",
       "Container_JG110                          0.001087\n",
       "Size_Grade_1X                            0.001062\n",
       "Size_Grade_2M                            0.000961\n",
       "Container_EF120                          0.000872\n",
       "Date_2019-12-12                          0.000360\n",
       "Date_2019-12-14                          0.000337\n",
       "Province_WEST COAST                      0.000322\n",
       "Size_Grade_2L                            0.000191\n",
       "Date_2020-04-17                          0.000101\n",
       "Province_TRANSVAAL                       0.000093\n",
       "Date_2020-02-01                          0.000086\n",
       "Date_2020-06-09                          0.000062\n",
       "Size_Grade_2U                            0.000056\n",
       "...                                           ...\n",
       "Date_2020-06-17                          0.000000\n",
       "Date_2020-06-19                          0.000000\n",
       "Date_2020-04-22                          0.000000\n",
       "Date_2020-02-15                          0.000000\n",
       "Date_2020-03-13                          0.000000\n",
       "Date_2020-03-16                          0.000000\n",
       "Date_2020-02-11                          0.000000\n",
       "Date_2020-02-10                          0.000000\n",
       "Date_2020-02-03                          0.000000\n",
       "Date_2020-04-07                          0.000000\n",
       "Date_2020-04-14                          0.000000\n",
       "Date_2020-04-15                          0.000000\n",
       "Date_2020-04-16                          0.000000\n",
       "Date_2020-01-30                          0.000000\n",
       "Date_2020-01-28                          0.000000\n",
       "Date_2020-04-23                          0.000000\n",
       "Date_2020-02-21                          0.000000\n",
       "Date_2020-04-28                          0.000000\n",
       "Date_2020-05-06                          0.000000\n",
       "Date_2020-05-14                          0.000000\n",
       "Date_2020-05-18                          0.000000\n",
       "Date_2020-05-19                          0.000000\n",
       "Date_2020-05-22                          0.000000\n",
       "Date_2020-05-25                          0.000000\n",
       "Date_2020-05-29                          0.000000\n",
       "Date_2020-06-02                          0.000000\n",
       "Date_2020-06-03                          0.000000\n",
       "Date_2020-01-24                          0.000000\n",
       "Date_2020-01-20                          0.000000\n",
       "Date_2020-09-28                          0.000000\n",
       "\n",
       "[111 rows x 1 columns]"
      ]
     },
     "execution_count": 142,
     "metadata": {},
     "output_type": "execute_result"
    }
   ],
   "source": [
    "# apply feature importance\n",
    "feat_imp = RF.feature_importances_\n",
    "df = pd.DataFrame(feat_imp, index=[X_feat.columns], columns=['Feature Importance'])\n",
    "df.sort_values('Feature Importance',ascending=False)"
   ]
  },
  {
   "cell_type": "markdown",
   "metadata": {},
   "source": [
    "# Log Transformation\n",
    "\n",
    "Log transformations are known to help model performance, especially when the target variable is skewed to the right. From plotting a histogram."
   ]
  },
  {
   "cell_type": "code",
   "execution_count": 788,
   "metadata": {},
   "outputs": [],
   "source": [
    "new_x = train_data.copy()\n",
    "new_y = new_x.pop('avg_price_per_kg')"
   ]
  },
  {
   "cell_type": "code",
   "execution_count": 748,
   "metadata": {},
   "outputs": [],
   "source": [
    "y_log = np.log1p(new_y)"
   ]
  },
  {
   "cell_type": "code",
   "execution_count": 749,
   "metadata": {},
   "outputs": [
    {
     "data": {
      "text/html": [
       "<div>\n",
       "<style scoped>\n",
       "    .dataframe tbody tr th:only-of-type {\n",
       "        vertical-align: middle;\n",
       "    }\n",
       "\n",
       "    .dataframe tbody tr th {\n",
       "        vertical-align: top;\n",
       "    }\n",
       "\n",
       "    .dataframe thead th {\n",
       "        text-align: right;\n",
       "    }\n",
       "</style>\n",
       "<table border=\"1\" class=\"dataframe\">\n",
       "  <thead>\n",
       "    <tr style=\"text-align: right;\">\n",
       "      <th></th>\n",
       "      <th>Weight_Kg</th>\n",
       "      <th>Low_Price</th>\n",
       "      <th>High_Price</th>\n",
       "      <th>Sales_Total</th>\n",
       "      <th>Total_Qty_Sold</th>\n",
       "      <th>Total_Kg_Sold</th>\n",
       "      <th>Stock_On_Hand</th>\n",
       "      <th>Province_EASTERN CAPE</th>\n",
       "      <th>Province_NATAL</th>\n",
       "      <th>Province_ORANGE FREE STATE</th>\n",
       "      <th>...</th>\n",
       "      <th>Date_2020-09-07</th>\n",
       "      <th>Date_2020-09-09</th>\n",
       "      <th>Date_2020-09-16</th>\n",
       "      <th>Date_2020-09-17</th>\n",
       "      <th>Date_2020-09-19</th>\n",
       "      <th>Date_2020-09-21</th>\n",
       "      <th>Date_2020-09-23</th>\n",
       "      <th>Date_2020-09-28</th>\n",
       "      <th>Date_2020-10-01</th>\n",
       "      <th>Date_2020-10-03</th>\n",
       "    </tr>\n",
       "  </thead>\n",
       "  <tbody>\n",
       "    <tr>\n",
       "      <th>1</th>\n",
       "      <td>18.3</td>\n",
       "      <td>150.0</td>\n",
       "      <td>170.0</td>\n",
       "      <td>51710.0</td>\n",
       "      <td>332</td>\n",
       "      <td>6075.6</td>\n",
       "      <td>822</td>\n",
       "      <td>0</td>\n",
       "      <td>0</td>\n",
       "      <td>0</td>\n",
       "      <td>...</td>\n",
       "      <td>0</td>\n",
       "      <td>1</td>\n",
       "      <td>0</td>\n",
       "      <td>0</td>\n",
       "      <td>0</td>\n",
       "      <td>0</td>\n",
       "      <td>0</td>\n",
       "      <td>0</td>\n",
       "      <td>0</td>\n",
       "      <td>0</td>\n",
       "    </tr>\n",
       "    <tr>\n",
       "      <th>7</th>\n",
       "      <td>11.0</td>\n",
       "      <td>50.0</td>\n",
       "      <td>50.0</td>\n",
       "      <td>16000.0</td>\n",
       "      <td>320</td>\n",
       "      <td>3520.0</td>\n",
       "      <td>0</td>\n",
       "      <td>0</td>\n",
       "      <td>0</td>\n",
       "      <td>0</td>\n",
       "      <td>...</td>\n",
       "      <td>0</td>\n",
       "      <td>0</td>\n",
       "      <td>0</td>\n",
       "      <td>0</td>\n",
       "      <td>0</td>\n",
       "      <td>0</td>\n",
       "      <td>0</td>\n",
       "      <td>0</td>\n",
       "      <td>0</td>\n",
       "      <td>0</td>\n",
       "    </tr>\n",
       "    <tr>\n",
       "      <th>24</th>\n",
       "      <td>9.0</td>\n",
       "      <td>55.0</td>\n",
       "      <td>55.0</td>\n",
       "      <td>990.0</td>\n",
       "      <td>18</td>\n",
       "      <td>162.0</td>\n",
       "      <td>1506</td>\n",
       "      <td>0</td>\n",
       "      <td>0</td>\n",
       "      <td>0</td>\n",
       "      <td>...</td>\n",
       "      <td>0</td>\n",
       "      <td>0</td>\n",
       "      <td>0</td>\n",
       "      <td>0</td>\n",
       "      <td>0</td>\n",
       "      <td>0</td>\n",
       "      <td>0</td>\n",
       "      <td>0</td>\n",
       "      <td>0</td>\n",
       "      <td>0</td>\n",
       "    </tr>\n",
       "    <tr>\n",
       "      <th>40</th>\n",
       "      <td>18.3</td>\n",
       "      <td>80.0</td>\n",
       "      <td>120.0</td>\n",
       "      <td>32020.0</td>\n",
       "      <td>388</td>\n",
       "      <td>7100.4</td>\n",
       "      <td>443</td>\n",
       "      <td>0</td>\n",
       "      <td>0</td>\n",
       "      <td>0</td>\n",
       "      <td>...</td>\n",
       "      <td>0</td>\n",
       "      <td>0</td>\n",
       "      <td>0</td>\n",
       "      <td>0</td>\n",
       "      <td>0</td>\n",
       "      <td>0</td>\n",
       "      <td>0</td>\n",
       "      <td>0</td>\n",
       "      <td>0</td>\n",
       "      <td>0</td>\n",
       "    </tr>\n",
       "    <tr>\n",
       "      <th>69</th>\n",
       "      <td>400.0</td>\n",
       "      <td>1800.0</td>\n",
       "      <td>1800.0</td>\n",
       "      <td>1800.0</td>\n",
       "      <td>1</td>\n",
       "      <td>400.0</td>\n",
       "      <td>2</td>\n",
       "      <td>1</td>\n",
       "      <td>0</td>\n",
       "      <td>0</td>\n",
       "      <td>...</td>\n",
       "      <td>0</td>\n",
       "      <td>0</td>\n",
       "      <td>0</td>\n",
       "      <td>0</td>\n",
       "      <td>0</td>\n",
       "      <td>0</td>\n",
       "      <td>0</td>\n",
       "      <td>1</td>\n",
       "      <td>0</td>\n",
       "      <td>0</td>\n",
       "    </tr>\n",
       "  </tbody>\n",
       "</table>\n",
       "<p>5 rows × 178 columns</p>\n",
       "</div>"
      ],
      "text/plain": [
       "    Weight_Kg  Low_Price  High_Price  Sales_Total  Total_Qty_Sold  \\\n",
       "1        18.3      150.0       170.0      51710.0             332   \n",
       "7        11.0       50.0        50.0      16000.0             320   \n",
       "24        9.0       55.0        55.0        990.0              18   \n",
       "40       18.3       80.0       120.0      32020.0             388   \n",
       "69      400.0     1800.0      1800.0       1800.0               1   \n",
       "\n",
       "    Total_Kg_Sold  Stock_On_Hand  Province_EASTERN CAPE  Province_NATAL  \\\n",
       "1          6075.6            822                      0               0   \n",
       "7          3520.0              0                      0               0   \n",
       "24          162.0           1506                      0               0   \n",
       "40         7100.4            443                      0               0   \n",
       "69          400.0              2                      1               0   \n",
       "\n",
       "    Province_ORANGE FREE STATE  ...  Date_2020-09-07  Date_2020-09-09  \\\n",
       "1                            0  ...                0                1   \n",
       "7                            0  ...                0                0   \n",
       "24                           0  ...                0                0   \n",
       "40                           0  ...                0                0   \n",
       "69                           0  ...                0                0   \n",
       "\n",
       "    Date_2020-09-16  Date_2020-09-17  Date_2020-09-19  Date_2020-09-21  \\\n",
       "1                 0                0                0                0   \n",
       "7                 0                0                0                0   \n",
       "24                0                0                0                0   \n",
       "40                0                0                0                0   \n",
       "69                0                0                0                0   \n",
       "\n",
       "    Date_2020-09-23  Date_2020-09-28  Date_2020-10-01  Date_2020-10-03  \n",
       "1                 0                0                0                0  \n",
       "7                 0                0                0                0  \n",
       "24                0                0                0                0  \n",
       "40                0                0                0                0  \n",
       "69                0                1                0                0  \n",
       "\n",
       "[5 rows x 178 columns]"
      ]
     },
     "execution_count": 749,
     "metadata": {},
     "output_type": "execute_result"
    }
   ],
   "source": [
    "dummy_df2 = pd.get_dummies(new_x, drop_first = True)\n",
    "dummy_df2.head()"
   ]
  },
  {
   "cell_type": "code",
   "execution_count": 817,
   "metadata": {},
   "outputs": [
    {
     "data": {
      "text/plain": [
       "(1952, 15)"
      ]
     },
     "execution_count": 817,
     "metadata": {},
     "output_type": "execute_result"
    }
   ],
   "source": [
    "x_lin_log = kbest_df\n",
    "y_lin_log = y_log\n",
    "x_lin_log.shape"
   ]
  },
  {
   "cell_type": "code",
   "execution_count": 770,
   "metadata": {},
   "outputs": [],
   "source": [
    "# Split the data into train and test sets\n",
    "x_train_log, x_test_log, y_train_log, y_test_log = train_test_split(x_lin_log, y_lin_log, test_size = 0.2,random_state=42)"
   ]
  },
  {
   "cell_type": "code",
   "execution_count": 771,
   "metadata": {},
   "outputs": [
    {
     "data": {
      "text/plain": [
       "LinearRegression(copy_X=True, fit_intercept=True, n_jobs=-1, normalize=False)"
      ]
     },
     "execution_count": 771,
     "metadata": {},
     "output_type": "execute_result"
    }
   ],
   "source": [
    "# Train the model\n",
    "linear_model.fit(x_train_log, y_train_log)"
   ]
  },
  {
   "cell_type": "code",
   "execution_count": 772,
   "metadata": {},
   "outputs": [
    {
     "name": "stdout",
     "output_type": "stream",
     "text": [
      "train RMSE: 0.2109795251323446\n",
      "test RMSE: 0.20622186647238713\n"
     ]
    }
   ],
   "source": [
    "# Make predictions\n",
    "train_pred_log = linear_model.predict(x_train_log)\n",
    "test_pred_log = linear_model.predict(x_test_log)\n",
    "\n",
    "train_rmse_log = np.sqrt(mean_squared_error(y_train_log, train_pred_log))\n",
    "test_rmse_log = np.sqrt(mean_squared_error(y_test_log, test_pred_log))\n",
    "\n",
    "print('train RMSE:', train_rmse_log)\n",
    "print('test RMSE:', test_rmse_log)"
   ]
  },
  {
   "cell_type": "markdown",
   "metadata": {},
   "source": [
    "log with rf"
   ]
  },
  {
   "cell_type": "code",
   "execution_count": 785,
   "metadata": {},
   "outputs": [],
   "source": [
    "# Transforming skewed variables distribution\n",
    "for column in ['Total_Qty_Sold', 'High_Price', 'Sales_Total', 'Stock_On_Hand', 'Weight_Kg', 'Total_Kg_Sold', 'Low_Price']:\n",
    "  new_x[column] = np.log1p(new_x[column])"
   ]
  },
  {
   "cell_type": "code",
   "execution_count": 786,
   "metadata": {},
   "outputs": [
    {
     "data": {
      "text/html": [
       "<div>\n",
       "<style scoped>\n",
       "    .dataframe tbody tr th:only-of-type {\n",
       "        vertical-align: middle;\n",
       "    }\n",
       "\n",
       "    .dataframe tbody tr th {\n",
       "        vertical-align: top;\n",
       "    }\n",
       "\n",
       "    .dataframe thead th {\n",
       "        text-align: right;\n",
       "    }\n",
       "</style>\n",
       "<table border=\"1\" class=\"dataframe\">\n",
       "  <thead>\n",
       "    <tr style=\"text-align: right;\">\n",
       "      <th></th>\n",
       "      <th>Weight_Kg</th>\n",
       "      <th>Low_Price</th>\n",
       "      <th>High_Price</th>\n",
       "      <th>Sales_Total</th>\n",
       "      <th>Total_Qty_Sold</th>\n",
       "      <th>Total_Kg_Sold</th>\n",
       "      <th>Stock_On_Hand</th>\n",
       "      <th>Province_EASTERN CAPE</th>\n",
       "      <th>Province_NATAL</th>\n",
       "      <th>Province_ORANGE FREE STATE</th>\n",
       "      <th>...</th>\n",
       "      <th>Date_2020-09-07</th>\n",
       "      <th>Date_2020-09-09</th>\n",
       "      <th>Date_2020-09-16</th>\n",
       "      <th>Date_2020-09-17</th>\n",
       "      <th>Date_2020-09-19</th>\n",
       "      <th>Date_2020-09-21</th>\n",
       "      <th>Date_2020-09-23</th>\n",
       "      <th>Date_2020-09-28</th>\n",
       "      <th>Date_2020-10-01</th>\n",
       "      <th>Date_2020-10-03</th>\n",
       "    </tr>\n",
       "  </thead>\n",
       "  <tbody>\n",
       "    <tr>\n",
       "      <th>1</th>\n",
       "      <td>2.960105</td>\n",
       "      <td>5.017280</td>\n",
       "      <td>5.141664</td>\n",
       "      <td>10.853426</td>\n",
       "      <td>5.808142</td>\n",
       "      <td>8.712201</td>\n",
       "      <td>6.712956</td>\n",
       "      <td>0</td>\n",
       "      <td>0</td>\n",
       "      <td>0</td>\n",
       "      <td>...</td>\n",
       "      <td>0</td>\n",
       "      <td>1</td>\n",
       "      <td>0</td>\n",
       "      <td>0</td>\n",
       "      <td>0</td>\n",
       "      <td>0</td>\n",
       "      <td>0</td>\n",
       "      <td>0</td>\n",
       "      <td>0</td>\n",
       "      <td>0</td>\n",
       "    </tr>\n",
       "    <tr>\n",
       "      <th>7</th>\n",
       "      <td>2.484907</td>\n",
       "      <td>3.931826</td>\n",
       "      <td>3.931826</td>\n",
       "      <td>9.680406</td>\n",
       "      <td>5.771441</td>\n",
       "      <td>8.166500</td>\n",
       "      <td>0.000000</td>\n",
       "      <td>0</td>\n",
       "      <td>0</td>\n",
       "      <td>0</td>\n",
       "      <td>...</td>\n",
       "      <td>0</td>\n",
       "      <td>0</td>\n",
       "      <td>0</td>\n",
       "      <td>0</td>\n",
       "      <td>0</td>\n",
       "      <td>0</td>\n",
       "      <td>0</td>\n",
       "      <td>0</td>\n",
       "      <td>0</td>\n",
       "      <td>0</td>\n",
       "    </tr>\n",
       "    <tr>\n",
       "      <th>24</th>\n",
       "      <td>2.302585</td>\n",
       "      <td>4.025352</td>\n",
       "      <td>4.025352</td>\n",
       "      <td>6.898715</td>\n",
       "      <td>2.944439</td>\n",
       "      <td>5.093750</td>\n",
       "      <td>7.317876</td>\n",
       "      <td>0</td>\n",
       "      <td>0</td>\n",
       "      <td>0</td>\n",
       "      <td>...</td>\n",
       "      <td>0</td>\n",
       "      <td>0</td>\n",
       "      <td>0</td>\n",
       "      <td>0</td>\n",
       "      <td>0</td>\n",
       "      <td>0</td>\n",
       "      <td>0</td>\n",
       "      <td>0</td>\n",
       "      <td>0</td>\n",
       "      <td>0</td>\n",
       "    </tr>\n",
       "    <tr>\n",
       "      <th>40</th>\n",
       "      <td>2.960105</td>\n",
       "      <td>4.394449</td>\n",
       "      <td>4.795791</td>\n",
       "      <td>10.374147</td>\n",
       "      <td>5.963579</td>\n",
       "      <td>8.868047</td>\n",
       "      <td>6.095825</td>\n",
       "      <td>0</td>\n",
       "      <td>0</td>\n",
       "      <td>0</td>\n",
       "      <td>...</td>\n",
       "      <td>0</td>\n",
       "      <td>0</td>\n",
       "      <td>0</td>\n",
       "      <td>0</td>\n",
       "      <td>0</td>\n",
       "      <td>0</td>\n",
       "      <td>0</td>\n",
       "      <td>0</td>\n",
       "      <td>0</td>\n",
       "      <td>0</td>\n",
       "    </tr>\n",
       "    <tr>\n",
       "      <th>69</th>\n",
       "      <td>5.993961</td>\n",
       "      <td>7.496097</td>\n",
       "      <td>7.496097</td>\n",
       "      <td>7.496097</td>\n",
       "      <td>0.693147</td>\n",
       "      <td>5.993961</td>\n",
       "      <td>1.098612</td>\n",
       "      <td>1</td>\n",
       "      <td>0</td>\n",
       "      <td>0</td>\n",
       "      <td>...</td>\n",
       "      <td>0</td>\n",
       "      <td>0</td>\n",
       "      <td>0</td>\n",
       "      <td>0</td>\n",
       "      <td>0</td>\n",
       "      <td>0</td>\n",
       "      <td>0</td>\n",
       "      <td>1</td>\n",
       "      <td>0</td>\n",
       "      <td>0</td>\n",
       "    </tr>\n",
       "  </tbody>\n",
       "</table>\n",
       "<p>5 rows × 178 columns</p>\n",
       "</div>"
      ],
      "text/plain": [
       "    Weight_Kg  Low_Price  High_Price  Sales_Total  Total_Qty_Sold  \\\n",
       "1    2.960105   5.017280    5.141664    10.853426        5.808142   \n",
       "7    2.484907   3.931826    3.931826     9.680406        5.771441   \n",
       "24   2.302585   4.025352    4.025352     6.898715        2.944439   \n",
       "40   2.960105   4.394449    4.795791    10.374147        5.963579   \n",
       "69   5.993961   7.496097    7.496097     7.496097        0.693147   \n",
       "\n",
       "    Total_Kg_Sold  Stock_On_Hand  Province_EASTERN CAPE  Province_NATAL  \\\n",
       "1        8.712201       6.712956                      0               0   \n",
       "7        8.166500       0.000000                      0               0   \n",
       "24       5.093750       7.317876                      0               0   \n",
       "40       8.868047       6.095825                      0               0   \n",
       "69       5.993961       1.098612                      1               0   \n",
       "\n",
       "    Province_ORANGE FREE STATE  ...  Date_2020-09-07  Date_2020-09-09  \\\n",
       "1                            0  ...                0                1   \n",
       "7                            0  ...                0                0   \n",
       "24                           0  ...                0                0   \n",
       "40                           0  ...                0                0   \n",
       "69                           0  ...                0                0   \n",
       "\n",
       "    Date_2020-09-16  Date_2020-09-17  Date_2020-09-19  Date_2020-09-21  \\\n",
       "1                 0                0                0                0   \n",
       "7                 0                0                0                0   \n",
       "24                0                0                0                0   \n",
       "40                0                0                0                0   \n",
       "69                0                0                0                0   \n",
       "\n",
       "    Date_2020-09-23  Date_2020-09-28  Date_2020-10-01  Date_2020-10-03  \n",
       "1                 0                0                0                0  \n",
       "7                 0                0                0                0  \n",
       "24                0                0                0                0  \n",
       "40                0                0                0                0  \n",
       "69                0                1                0                0  \n",
       "\n",
       "[5 rows x 178 columns]"
      ]
     },
     "execution_count": 786,
     "metadata": {},
     "output_type": "execute_result"
    }
   ],
   "source": [
    "dummy_df3 = pd.get_dummies(new_x, drop_first = True)\n",
    "dummy_df3.head()"
   ]
  },
  {
   "cell_type": "code",
   "execution_count": 789,
   "metadata": {},
   "outputs": [],
   "source": [
    "x_log_rf = select.fit_transform(dummy_df3, new_y)"
   ]
  },
  {
   "cell_type": "code",
   "execution_count": 790,
   "metadata": {},
   "outputs": [
    {
     "data": {
      "text/html": [
       "<div>\n",
       "<style scoped>\n",
       "    .dataframe tbody tr th:only-of-type {\n",
       "        vertical-align: middle;\n",
       "    }\n",
       "\n",
       "    .dataframe tbody tr th {\n",
       "        vertical-align: top;\n",
       "    }\n",
       "\n",
       "    .dataframe thead th {\n",
       "        text-align: right;\n",
       "    }\n",
       "</style>\n",
       "<table border=\"1\" class=\"dataframe\">\n",
       "  <thead>\n",
       "    <tr style=\"text-align: right;\">\n",
       "      <th></th>\n",
       "      <th>Weight_Kg</th>\n",
       "      <th>Low_Price</th>\n",
       "      <th>High_Price</th>\n",
       "      <th>Sales_Total</th>\n",
       "      <th>Total_Qty_Sold</th>\n",
       "      <th>Total_Kg_Sold</th>\n",
       "      <th>Stock_On_Hand</th>\n",
       "      <th>Province_NATAL</th>\n",
       "      <th>Container_EC120</th>\n",
       "      <th>Container_IA400</th>\n",
       "      <th>Container_JE090</th>\n",
       "      <th>Container_JG110</th>\n",
       "      <th>Container_M4183</th>\n",
       "      <th>Size_Grade_1S</th>\n",
       "      <th>Size_Grade_2S</th>\n",
       "    </tr>\n",
       "  </thead>\n",
       "  <tbody>\n",
       "    <tr>\n",
       "      <th>0</th>\n",
       "      <td>2.960105</td>\n",
       "      <td>5.017280</td>\n",
       "      <td>5.141664</td>\n",
       "      <td>10.853426</td>\n",
       "      <td>5.808142</td>\n",
       "      <td>8.712201</td>\n",
       "      <td>6.712956</td>\n",
       "      <td>0.0</td>\n",
       "      <td>0.0</td>\n",
       "      <td>0.0</td>\n",
       "      <td>0.0</td>\n",
       "      <td>0.0</td>\n",
       "      <td>1.0</td>\n",
       "      <td>0.0</td>\n",
       "      <td>0.0</td>\n",
       "    </tr>\n",
       "    <tr>\n",
       "      <th>1</th>\n",
       "      <td>2.484907</td>\n",
       "      <td>3.931826</td>\n",
       "      <td>3.931826</td>\n",
       "      <td>9.680406</td>\n",
       "      <td>5.771441</td>\n",
       "      <td>8.166500</td>\n",
       "      <td>0.000000</td>\n",
       "      <td>0.0</td>\n",
       "      <td>0.0</td>\n",
       "      <td>0.0</td>\n",
       "      <td>0.0</td>\n",
       "      <td>0.0</td>\n",
       "      <td>0.0</td>\n",
       "      <td>0.0</td>\n",
       "      <td>0.0</td>\n",
       "    </tr>\n",
       "    <tr>\n",
       "      <th>2</th>\n",
       "      <td>2.302585</td>\n",
       "      <td>4.025352</td>\n",
       "      <td>4.025352</td>\n",
       "      <td>6.898715</td>\n",
       "      <td>2.944439</td>\n",
       "      <td>5.093750</td>\n",
       "      <td>7.317876</td>\n",
       "      <td>0.0</td>\n",
       "      <td>0.0</td>\n",
       "      <td>0.0</td>\n",
       "      <td>0.0</td>\n",
       "      <td>1.0</td>\n",
       "      <td>0.0</td>\n",
       "      <td>0.0</td>\n",
       "      <td>1.0</td>\n",
       "    </tr>\n",
       "    <tr>\n",
       "      <th>3</th>\n",
       "      <td>2.960105</td>\n",
       "      <td>4.394449</td>\n",
       "      <td>4.795791</td>\n",
       "      <td>10.374147</td>\n",
       "      <td>5.963579</td>\n",
       "      <td>8.868047</td>\n",
       "      <td>6.095825</td>\n",
       "      <td>0.0</td>\n",
       "      <td>0.0</td>\n",
       "      <td>0.0</td>\n",
       "      <td>0.0</td>\n",
       "      <td>0.0</td>\n",
       "      <td>1.0</td>\n",
       "      <td>1.0</td>\n",
       "      <td>0.0</td>\n",
       "    </tr>\n",
       "    <tr>\n",
       "      <th>4</th>\n",
       "      <td>5.993961</td>\n",
       "      <td>7.496097</td>\n",
       "      <td>7.496097</td>\n",
       "      <td>7.496097</td>\n",
       "      <td>0.693147</td>\n",
       "      <td>5.993961</td>\n",
       "      <td>1.098612</td>\n",
       "      <td>1.0</td>\n",
       "      <td>0.0</td>\n",
       "      <td>0.0</td>\n",
       "      <td>1.0</td>\n",
       "      <td>0.0</td>\n",
       "      <td>0.0</td>\n",
       "      <td>1.0</td>\n",
       "      <td>0.0</td>\n",
       "    </tr>\n",
       "  </tbody>\n",
       "</table>\n",
       "</div>"
      ],
      "text/plain": [
       "   Weight_Kg  Low_Price  High_Price  Sales_Total  Total_Qty_Sold  \\\n",
       "0   2.960105   5.017280    5.141664    10.853426        5.808142   \n",
       "1   2.484907   3.931826    3.931826     9.680406        5.771441   \n",
       "2   2.302585   4.025352    4.025352     6.898715        2.944439   \n",
       "3   2.960105   4.394449    4.795791    10.374147        5.963579   \n",
       "4   5.993961   7.496097    7.496097     7.496097        0.693147   \n",
       "\n",
       "   Total_Kg_Sold  Stock_On_Hand  Province_NATAL  Container_EC120  \\\n",
       "0       8.712201       6.712956             0.0              0.0   \n",
       "1       8.166500       0.000000             0.0              0.0   \n",
       "2       5.093750       7.317876             0.0              0.0   \n",
       "3       8.868047       6.095825             0.0              0.0   \n",
       "4       5.993961       1.098612             1.0              0.0   \n",
       "\n",
       "   Container_IA400  Container_JE090  Container_JG110  Container_M4183  \\\n",
       "0              0.0              0.0              0.0              1.0   \n",
       "1              0.0              0.0              0.0              0.0   \n",
       "2              0.0              0.0              1.0              0.0   \n",
       "3              0.0              0.0              0.0              1.0   \n",
       "4              0.0              1.0              0.0              0.0   \n",
       "\n",
       "   Size_Grade_1S  Size_Grade_2S  \n",
       "0            0.0            0.0  \n",
       "1            0.0            0.0  \n",
       "2            0.0            1.0  \n",
       "3            1.0            0.0  \n",
       "4            1.0            0.0  "
      ]
     },
     "execution_count": 790,
     "metadata": {},
     "output_type": "execute_result"
    }
   ],
   "source": [
    "kbest_df2 = pd.DataFrame(data=x_log_rf, columns=kbest_features)\n",
    "kbest_df2.head()"
   ]
  },
  {
   "cell_type": "code",
   "execution_count": 791,
   "metadata": {},
   "outputs": [],
   "source": [
    "x_rf_log = kbest_df2"
   ]
  },
  {
   "cell_type": "code",
   "execution_count": 794,
   "metadata": {},
   "outputs": [],
   "source": [
    "# Split the data into train and test sets\n",
    "x_train_rflog, x_test_rflog, y_train_rflog, y_test_rflog = train_test_split(x_rf_log, new_y, test_size = 0.2,random_state=42)"
   ]
  },
  {
   "cell_type": "code",
   "execution_count": 806,
   "metadata": {},
   "outputs": [],
   "source": [
    "# Instantiate Random Forest model with optimal hyperparamters\n",
    "RF_log = RandomForestRegressor(n_estimators=120, max_features = 8, max_depth=12, min_samples_split=10, min_samples_leaf=2, random_state=1)"
   ]
  },
  {
   "cell_type": "code",
   "execution_count": 807,
   "metadata": {},
   "outputs": [
    {
     "data": {
      "text/plain": [
       "RandomForestRegressor(bootstrap=True, criterion='mse', max_depth=12,\n",
       "                      max_features=8, max_leaf_nodes=None,\n",
       "                      min_impurity_decrease=0.0, min_impurity_split=None,\n",
       "                      min_samples_leaf=2, min_samples_split=10,\n",
       "                      min_weight_fraction_leaf=0.0, n_estimators=120,\n",
       "                      n_jobs=None, oob_score=False, random_state=1, verbose=0,\n",
       "                      warm_start=False)"
      ]
     },
     "execution_count": 807,
     "metadata": {},
     "output_type": "execute_result"
    }
   ],
   "source": [
    "# fit and train model\n",
    "RF_log.fit(x_train_rflog,y_train_rflog)"
   ]
  },
  {
   "cell_type": "code",
   "execution_count": 808,
   "metadata": {},
   "outputs": [
    {
     "name": "stdout",
     "output_type": "stream",
     "text": [
      "RMSE 0.45910808951230697\n"
     ]
    }
   ],
   "source": [
    "# training set predictions\n",
    "train_rflog = RF_log.predict(x_train_rflog)\n",
    "# Compute RMSE on train set\n",
    "print('RMSE',np.sqrt(mean_squared_error(y_train_rflog, train_rflog)))"
   ]
  },
  {
   "cell_type": "code",
   "execution_count": 809,
   "metadata": {},
   "outputs": [
    {
     "name": "stdout",
     "output_type": "stream",
     "text": [
      "RMSE: 0.548153240906519\n"
     ]
    }
   ],
   "source": [
    "# Get predictions\n",
    "test_rflog = RF_log.predict(x_test_rflog)\n",
    "\n",
    "# Compute RMSE\n",
    "print(\"RMSE:\",np.sqrt(mean_squared_error(y_test_rflog,test_rflog)))"
   ]
  },
  {
   "cell_type": "markdown",
   "metadata": {},
   "source": [
    "# Predicting on the test data"
   ]
  },
  {
   "cell_type": "markdown",
   "metadata": {},
   "source": [
    "### Preprocessing"
   ]
  },
  {
   "cell_type": "code",
   "execution_count": 76,
   "metadata": {},
   "outputs": [],
   "source": [
    "test = pd.read_csv(r'https://raw.githubusercontent.com/CPNMorgan/sharing-github/main/df-test_set.csv')"
   ]
  },
  {
   "cell_type": "code",
   "execution_count": 77,
   "metadata": {},
   "outputs": [
    {
     "data": {
      "text/html": [
       "<div>\n",
       "<style scoped>\n",
       "    .dataframe tbody tr th:only-of-type {\n",
       "        vertical-align: middle;\n",
       "    }\n",
       "\n",
       "    .dataframe tbody tr th {\n",
       "        vertical-align: top;\n",
       "    }\n",
       "\n",
       "    .dataframe thead th {\n",
       "        text-align: right;\n",
       "    }\n",
       "</style>\n",
       "<table border=\"1\" class=\"dataframe\">\n",
       "  <thead>\n",
       "    <tr style=\"text-align: right;\">\n",
       "      <th></th>\n",
       "      <th>Index</th>\n",
       "      <th>Province</th>\n",
       "      <th>Container</th>\n",
       "      <th>Size_Grade</th>\n",
       "      <th>Weight_Kg</th>\n",
       "      <th>Commodities</th>\n",
       "      <th>Date</th>\n",
       "      <th>Low_Price</th>\n",
       "      <th>High_Price</th>\n",
       "      <th>Sales_Total</th>\n",
       "      <th>Total_Qty_Sold</th>\n",
       "      <th>Total_Kg_Sold</th>\n",
       "      <th>Stock_On_Hand</th>\n",
       "    </tr>\n",
       "  </thead>\n",
       "  <tbody>\n",
       "    <tr>\n",
       "      <th>0</th>\n",
       "      <td>1</td>\n",
       "      <td>W.CAPE-BERGRIVER ETC</td>\n",
       "      <td>EC120</td>\n",
       "      <td>1M</td>\n",
       "      <td>12.0</td>\n",
       "      <td>APPLE GOLDEN DELICIOUS</td>\n",
       "      <td>2020-07-09</td>\n",
       "      <td>128.0</td>\n",
       "      <td>136.0</td>\n",
       "      <td>5008.0</td>\n",
       "      <td>38</td>\n",
       "      <td>456.0</td>\n",
       "      <td>0</td>\n",
       "    </tr>\n",
       "    <tr>\n",
       "      <th>1</th>\n",
       "      <td>2</td>\n",
       "      <td>W.CAPE-BERGRIVER ETC</td>\n",
       "      <td>M4183</td>\n",
       "      <td>1X</td>\n",
       "      <td>18.3</td>\n",
       "      <td>APPLE GOLDEN DELICIOUS</td>\n",
       "      <td>2020-01-20</td>\n",
       "      <td>220.0</td>\n",
       "      <td>220.0</td>\n",
       "      <td>1760.0</td>\n",
       "      <td>8</td>\n",
       "      <td>146.4</td>\n",
       "      <td>2</td>\n",
       "    </tr>\n",
       "    <tr>\n",
       "      <th>2</th>\n",
       "      <td>3</td>\n",
       "      <td>W.CAPE-BERGRIVER ETC</td>\n",
       "      <td>EC120</td>\n",
       "      <td>1S</td>\n",
       "      <td>12.0</td>\n",
       "      <td>APPLE GOLDEN DELICIOUS</td>\n",
       "      <td>2020-08-19</td>\n",
       "      <td>120.0</td>\n",
       "      <td>120.0</td>\n",
       "      <td>720.0</td>\n",
       "      <td>6</td>\n",
       "      <td>72.0</td>\n",
       "      <td>45</td>\n",
       "    </tr>\n",
       "    <tr>\n",
       "      <th>3</th>\n",
       "      <td>4</td>\n",
       "      <td>W.CAPE-BERGRIVER ETC</td>\n",
       "      <td>M4183</td>\n",
       "      <td>1M</td>\n",
       "      <td>18.3</td>\n",
       "      <td>APPLE GOLDEN DELICIOUS</td>\n",
       "      <td>2020-05-06</td>\n",
       "      <td>160.0</td>\n",
       "      <td>160.0</td>\n",
       "      <td>160.0</td>\n",
       "      <td>1</td>\n",
       "      <td>18.3</td>\n",
       "      <td>8</td>\n",
       "    </tr>\n",
       "    <tr>\n",
       "      <th>4</th>\n",
       "      <td>5</td>\n",
       "      <td>W.CAPE-BERGRIVER ETC</td>\n",
       "      <td>M4183</td>\n",
       "      <td>1L</td>\n",
       "      <td>18.3</td>\n",
       "      <td>APPLE GOLDEN DELICIOUS</td>\n",
       "      <td>2020-05-04</td>\n",
       "      <td>140.0</td>\n",
       "      <td>160.0</td>\n",
       "      <td>14140.0</td>\n",
       "      <td>100</td>\n",
       "      <td>1830.0</td>\n",
       "      <td>19</td>\n",
       "    </tr>\n",
       "  </tbody>\n",
       "</table>\n",
       "</div>"
      ],
      "text/plain": [
       "   Index              Province Container Size_Grade  Weight_Kg  \\\n",
       "0      1  W.CAPE-BERGRIVER ETC     EC120         1M       12.0   \n",
       "1      2  W.CAPE-BERGRIVER ETC     M4183         1X       18.3   \n",
       "2      3  W.CAPE-BERGRIVER ETC     EC120         1S       12.0   \n",
       "3      4  W.CAPE-BERGRIVER ETC     M4183         1M       18.3   \n",
       "4      5  W.CAPE-BERGRIVER ETC     M4183         1L       18.3   \n",
       "\n",
       "              Commodities        Date  Low_Price  High_Price  Sales_Total  \\\n",
       "0  APPLE GOLDEN DELICIOUS  2020-07-09      128.0       136.0       5008.0   \n",
       "1  APPLE GOLDEN DELICIOUS  2020-01-20      220.0       220.0       1760.0   \n",
       "2  APPLE GOLDEN DELICIOUS  2020-08-19      120.0       120.0        720.0   \n",
       "3  APPLE GOLDEN DELICIOUS  2020-05-06      160.0       160.0        160.0   \n",
       "4  APPLE GOLDEN DELICIOUS  2020-05-04      140.0       160.0      14140.0   \n",
       "\n",
       "   Total_Qty_Sold  Total_Kg_Sold  Stock_On_Hand  \n",
       "0              38          456.0              0  \n",
       "1               8          146.4              2  \n",
       "2               6           72.0             45  \n",
       "3               1           18.3              8  \n",
       "4             100         1830.0             19  "
      ]
     },
     "execution_count": 77,
     "metadata": {},
     "output_type": "execute_result"
    }
   ],
   "source": [
    "test.head()"
   ]
  },
  {
   "cell_type": "code",
   "execution_count": 78,
   "metadata": {},
   "outputs": [],
   "source": [
    "test_index = test['Index']\n",
    "test = test.drop(['Commodities','Index'], axis=1)"
   ]
  },
  {
   "cell_type": "code",
   "execution_count": 79,
   "metadata": {},
   "outputs": [
    {
     "data": {
      "text/html": [
       "<div>\n",
       "<style scoped>\n",
       "    .dataframe tbody tr th:only-of-type {\n",
       "        vertical-align: middle;\n",
       "    }\n",
       "\n",
       "    .dataframe tbody tr th {\n",
       "        vertical-align: top;\n",
       "    }\n",
       "\n",
       "    .dataframe thead th {\n",
       "        text-align: right;\n",
       "    }\n",
       "</style>\n",
       "<table border=\"1\" class=\"dataframe\">\n",
       "  <thead>\n",
       "    <tr style=\"text-align: right;\">\n",
       "      <th></th>\n",
       "      <th>Province</th>\n",
       "      <th>Container</th>\n",
       "      <th>Size_Grade</th>\n",
       "      <th>Weight_Kg</th>\n",
       "      <th>Date</th>\n",
       "      <th>Low_Price</th>\n",
       "      <th>High_Price</th>\n",
       "      <th>Sales_Total</th>\n",
       "      <th>Total_Qty_Sold</th>\n",
       "      <th>Total_Kg_Sold</th>\n",
       "      <th>Stock_On_Hand</th>\n",
       "    </tr>\n",
       "  </thead>\n",
       "  <tbody>\n",
       "    <tr>\n",
       "      <th>0</th>\n",
       "      <td>W.CAPE-BERGRIVER ETC</td>\n",
       "      <td>EC120</td>\n",
       "      <td>1M</td>\n",
       "      <td>12.0</td>\n",
       "      <td>2020-07-09</td>\n",
       "      <td>128.0</td>\n",
       "      <td>136.0</td>\n",
       "      <td>5008.0</td>\n",
       "      <td>38</td>\n",
       "      <td>456.0</td>\n",
       "      <td>0</td>\n",
       "    </tr>\n",
       "    <tr>\n",
       "      <th>1</th>\n",
       "      <td>W.CAPE-BERGRIVER ETC</td>\n",
       "      <td>M4183</td>\n",
       "      <td>1X</td>\n",
       "      <td>18.3</td>\n",
       "      <td>2020-01-20</td>\n",
       "      <td>220.0</td>\n",
       "      <td>220.0</td>\n",
       "      <td>1760.0</td>\n",
       "      <td>8</td>\n",
       "      <td>146.4</td>\n",
       "      <td>2</td>\n",
       "    </tr>\n",
       "    <tr>\n",
       "      <th>2</th>\n",
       "      <td>W.CAPE-BERGRIVER ETC</td>\n",
       "      <td>EC120</td>\n",
       "      <td>1S</td>\n",
       "      <td>12.0</td>\n",
       "      <td>2020-08-19</td>\n",
       "      <td>120.0</td>\n",
       "      <td>120.0</td>\n",
       "      <td>720.0</td>\n",
       "      <td>6</td>\n",
       "      <td>72.0</td>\n",
       "      <td>45</td>\n",
       "    </tr>\n",
       "    <tr>\n",
       "      <th>3</th>\n",
       "      <td>W.CAPE-BERGRIVER ETC</td>\n",
       "      <td>M4183</td>\n",
       "      <td>1M</td>\n",
       "      <td>18.3</td>\n",
       "      <td>2020-05-06</td>\n",
       "      <td>160.0</td>\n",
       "      <td>160.0</td>\n",
       "      <td>160.0</td>\n",
       "      <td>1</td>\n",
       "      <td>18.3</td>\n",
       "      <td>8</td>\n",
       "    </tr>\n",
       "    <tr>\n",
       "      <th>4</th>\n",
       "      <td>W.CAPE-BERGRIVER ETC</td>\n",
       "      <td>M4183</td>\n",
       "      <td>1L</td>\n",
       "      <td>18.3</td>\n",
       "      <td>2020-05-04</td>\n",
       "      <td>140.0</td>\n",
       "      <td>160.0</td>\n",
       "      <td>14140.0</td>\n",
       "      <td>100</td>\n",
       "      <td>1830.0</td>\n",
       "      <td>19</td>\n",
       "    </tr>\n",
       "  </tbody>\n",
       "</table>\n",
       "</div>"
      ],
      "text/plain": [
       "               Province Container Size_Grade  Weight_Kg        Date  \\\n",
       "0  W.CAPE-BERGRIVER ETC     EC120         1M       12.0  2020-07-09   \n",
       "1  W.CAPE-BERGRIVER ETC     M4183         1X       18.3  2020-01-20   \n",
       "2  W.CAPE-BERGRIVER ETC     EC120         1S       12.0  2020-08-19   \n",
       "3  W.CAPE-BERGRIVER ETC     M4183         1M       18.3  2020-05-06   \n",
       "4  W.CAPE-BERGRIVER ETC     M4183         1L       18.3  2020-05-04   \n",
       "\n",
       "   Low_Price  High_Price  Sales_Total  Total_Qty_Sold  Total_Kg_Sold  \\\n",
       "0      128.0       136.0       5008.0              38          456.0   \n",
       "1      220.0       220.0       1760.0               8          146.4   \n",
       "2      120.0       120.0        720.0               6           72.0   \n",
       "3      160.0       160.0        160.0               1           18.3   \n",
       "4      140.0       160.0      14140.0             100         1830.0   \n",
       "\n",
       "   Stock_On_Hand  \n",
       "0              0  \n",
       "1              2  \n",
       "2             45  \n",
       "3              8  \n",
       "4             19  "
      ]
     },
     "execution_count": 79,
     "metadata": {},
     "output_type": "execute_result"
    }
   ],
   "source": [
    "test.head()"
   ]
  },
  {
   "cell_type": "code",
   "execution_count": 80,
   "metadata": {},
   "outputs": [
    {
     "data": {
      "text/plain": [
       "(685, 11)"
      ]
     },
     "execution_count": 80,
     "metadata": {},
     "output_type": "execute_result"
    }
   ],
   "source": [
    "test.shape"
   ]
  },
  {
   "cell_type": "code",
   "execution_count": 81,
   "metadata": {},
   "outputs": [
    {
     "name": "stdout",
     "output_type": "stream",
     "text": [
      "<class 'pandas.core.frame.DataFrame'>\n",
      "RangeIndex: 685 entries, 0 to 684\n",
      "Data columns (total 11 columns):\n",
      "Province          685 non-null object\n",
      "Container         685 non-null object\n",
      "Size_Grade        685 non-null object\n",
      "Weight_Kg         685 non-null float64\n",
      "Date              685 non-null object\n",
      "Low_Price         685 non-null float64\n",
      "High_Price        685 non-null float64\n",
      "Sales_Total       685 non-null float64\n",
      "Total_Qty_Sold    685 non-null int64\n",
      "Total_Kg_Sold     685 non-null float64\n",
      "Stock_On_Hand     685 non-null int64\n",
      "dtypes: float64(5), int64(2), object(4)\n",
      "memory usage: 58.9+ KB\n"
     ]
    }
   ],
   "source": [
    "test.info()"
   ]
  },
  {
   "cell_type": "code",
   "execution_count": 82,
   "metadata": {},
   "outputs": [
    {
     "data": {
      "text/html": [
       "<div>\n",
       "<style scoped>\n",
       "    .dataframe tbody tr th:only-of-type {\n",
       "        vertical-align: middle;\n",
       "    }\n",
       "\n",
       "    .dataframe tbody tr th {\n",
       "        vertical-align: top;\n",
       "    }\n",
       "\n",
       "    .dataframe thead th {\n",
       "        text-align: right;\n",
       "    }\n",
       "</style>\n",
       "<table border=\"1\" class=\"dataframe\">\n",
       "  <thead>\n",
       "    <tr style=\"text-align: right;\">\n",
       "      <th></th>\n",
       "      <th>Province</th>\n",
       "      <th>Container</th>\n",
       "      <th>Size_Grade</th>\n",
       "      <th>Weight_Kg</th>\n",
       "      <th>Date</th>\n",
       "      <th>Low_Price</th>\n",
       "      <th>High_Price</th>\n",
       "      <th>Sales_Total</th>\n",
       "      <th>Total_Qty_Sold</th>\n",
       "      <th>Total_Kg_Sold</th>\n",
       "      <th>Stock_On_Hand</th>\n",
       "    </tr>\n",
       "  </thead>\n",
       "  <tbody>\n",
       "    <tr>\n",
       "      <th>1</th>\n",
       "      <td>CAPE</td>\n",
       "      <td>M4183</td>\n",
       "      <td>1L</td>\n",
       "      <td>18.3</td>\n",
       "      <td>2020-09-09</td>\n",
       "      <td>150.0</td>\n",
       "      <td>170.0</td>\n",
       "      <td>51710.0</td>\n",
       "      <td>332</td>\n",
       "      <td>6075.6</td>\n",
       "      <td>822</td>\n",
       "    </tr>\n",
       "    <tr>\n",
       "      <th>7</th>\n",
       "      <td>CAPE</td>\n",
       "      <td>JG110</td>\n",
       "      <td>2M</td>\n",
       "      <td>11.0</td>\n",
       "      <td>2020-04-14</td>\n",
       "      <td>50.0</td>\n",
       "      <td>50.0</td>\n",
       "      <td>16000.0</td>\n",
       "      <td>320</td>\n",
       "      <td>3520.0</td>\n",
       "      <td>0</td>\n",
       "    </tr>\n",
       "    <tr>\n",
       "      <th>24</th>\n",
       "      <td>W.CAPE-BERGRIVER ETC</td>\n",
       "      <td>JE090</td>\n",
       "      <td>2S</td>\n",
       "      <td>9.0</td>\n",
       "      <td>2020-04-16</td>\n",
       "      <td>55.0</td>\n",
       "      <td>55.0</td>\n",
       "      <td>990.0</td>\n",
       "      <td>18</td>\n",
       "      <td>162.0</td>\n",
       "      <td>1506</td>\n",
       "    </tr>\n",
       "    <tr>\n",
       "      <th>40</th>\n",
       "      <td>CAPE</td>\n",
       "      <td>M4183</td>\n",
       "      <td>1S</td>\n",
       "      <td>18.3</td>\n",
       "      <td>2020-05-04</td>\n",
       "      <td>80.0</td>\n",
       "      <td>120.0</td>\n",
       "      <td>32020.0</td>\n",
       "      <td>388</td>\n",
       "      <td>7100.4</td>\n",
       "      <td>443</td>\n",
       "    </tr>\n",
       "    <tr>\n",
       "      <th>69</th>\n",
       "      <td>EASTERN CAPE</td>\n",
       "      <td>IA400</td>\n",
       "      <td>1S</td>\n",
       "      <td>400.0</td>\n",
       "      <td>2020-09-28</td>\n",
       "      <td>1800.0</td>\n",
       "      <td>1800.0</td>\n",
       "      <td>1800.0</td>\n",
       "      <td>1</td>\n",
       "      <td>400.0</td>\n",
       "      <td>2</td>\n",
       "    </tr>\n",
       "  </tbody>\n",
       "</table>\n",
       "</div>"
      ],
      "text/plain": [
       "                Province Container Size_Grade  Weight_Kg        Date  \\\n",
       "1                   CAPE     M4183         1L       18.3  2020-09-09   \n",
       "7                   CAPE     JG110         2M       11.0  2020-04-14   \n",
       "24  W.CAPE-BERGRIVER ETC     JE090         2S        9.0  2020-04-16   \n",
       "40                  CAPE     M4183         1S       18.3  2020-05-04   \n",
       "69          EASTERN CAPE     IA400         1S      400.0  2020-09-28   \n",
       "\n",
       "    Low_Price  High_Price  Sales_Total  Total_Qty_Sold  Total_Kg_Sold  \\\n",
       "1       150.0       170.0      51710.0             332         6075.6   \n",
       "7        50.0        50.0      16000.0             320         3520.0   \n",
       "24       55.0        55.0        990.0              18          162.0   \n",
       "40       80.0       120.0      32020.0             388         7100.4   \n",
       "69     1800.0      1800.0       1800.0               1          400.0   \n",
       "\n",
       "    Stock_On_Hand  \n",
       "1             822  \n",
       "7               0  \n",
       "24           1506  \n",
       "40            443  \n",
       "69              2  "
      ]
     },
     "execution_count": 82,
     "metadata": {},
     "output_type": "execute_result"
    }
   ],
   "source": [
    "new_train = train_data.drop('avg_price_per_kg',axis=1)\n",
    "new_train.head()"
   ]
  },
  {
   "cell_type": "code",
   "execution_count": 83,
   "metadata": {},
   "outputs": [
    {
     "name": "stdout",
     "output_type": "stream",
     "text": [
      "<class 'pandas.core.frame.DataFrame'>\n",
      "Int64Index: 1952 entries, 1 to 64310\n",
      "Data columns (total 11 columns):\n",
      "Province          1952 non-null object\n",
      "Container         1952 non-null object\n",
      "Size_Grade        1952 non-null object\n",
      "Weight_Kg         1952 non-null float64\n",
      "Date              1952 non-null object\n",
      "Low_Price         1952 non-null float64\n",
      "High_Price        1952 non-null float64\n",
      "Sales_Total       1952 non-null float64\n",
      "Total_Qty_Sold    1952 non-null int64\n",
      "Total_Kg_Sold     1952 non-null float64\n",
      "Stock_On_Hand     1952 non-null int64\n",
      "dtypes: float64(5), int64(2), object(4)\n",
      "memory usage: 183.0+ KB\n"
     ]
    }
   ],
   "source": [
    "new_train.info()"
   ]
  },
  {
   "cell_type": "code",
   "execution_count": 84,
   "metadata": {},
   "outputs": [
    {
     "name": "stdout",
     "output_type": "stream",
     "text": [
      "<class 'pandas.core.frame.DataFrame'>\n",
      "Int64Index: 2637 entries, 1 to 684\n",
      "Data columns (total 11 columns):\n",
      "Province          2637 non-null object\n",
      "Container         2637 non-null object\n",
      "Size_Grade        2637 non-null object\n",
      "Weight_Kg         2637 non-null float64\n",
      "Date              2637 non-null object\n",
      "Low_Price         2637 non-null float64\n",
      "High_Price        2637 non-null float64\n",
      "Sales_Total       2637 non-null float64\n",
      "Total_Qty_Sold    2637 non-null int64\n",
      "Total_Kg_Sold     2637 non-null float64\n",
      "Stock_On_Hand     2637 non-null int64\n",
      "dtypes: float64(5), int64(2), object(4)\n",
      "memory usage: 247.2+ KB\n"
     ]
    }
   ],
   "source": [
    "vertical_stack = pd.concat([new_train,test],axis=0)\n",
    "vertical_stack.info()"
   ]
  },
  {
   "cell_type": "code",
   "execution_count": 85,
   "metadata": {},
   "outputs": [
    {
     "data": {
      "text/html": [
       "<div>\n",
       "<style scoped>\n",
       "    .dataframe tbody tr th:only-of-type {\n",
       "        vertical-align: middle;\n",
       "    }\n",
       "\n",
       "    .dataframe tbody tr th {\n",
       "        vertical-align: top;\n",
       "    }\n",
       "\n",
       "    .dataframe thead th {\n",
       "        text-align: right;\n",
       "    }\n",
       "</style>\n",
       "<table border=\"1\" class=\"dataframe\">\n",
       "  <thead>\n",
       "    <tr style=\"text-align: right;\">\n",
       "      <th></th>\n",
       "      <th>Province</th>\n",
       "      <th>Container</th>\n",
       "      <th>Size_Grade</th>\n",
       "      <th>Weight_Kg</th>\n",
       "      <th>Date</th>\n",
       "      <th>Low_Price</th>\n",
       "      <th>High_Price</th>\n",
       "      <th>Sales_Total</th>\n",
       "      <th>Total_Qty_Sold</th>\n",
       "      <th>Total_Kg_Sold</th>\n",
       "      <th>Stock_On_Hand</th>\n",
       "    </tr>\n",
       "  </thead>\n",
       "  <tbody>\n",
       "    <tr>\n",
       "      <th>1</th>\n",
       "      <td>CAPE</td>\n",
       "      <td>M4183</td>\n",
       "      <td>1L</td>\n",
       "      <td>18.3</td>\n",
       "      <td>2020-09-09</td>\n",
       "      <td>150.0</td>\n",
       "      <td>170.0</td>\n",
       "      <td>51710.0</td>\n",
       "      <td>332</td>\n",
       "      <td>6075.6</td>\n",
       "      <td>822</td>\n",
       "    </tr>\n",
       "    <tr>\n",
       "      <th>7</th>\n",
       "      <td>CAPE</td>\n",
       "      <td>JG110</td>\n",
       "      <td>2M</td>\n",
       "      <td>11.0</td>\n",
       "      <td>2020-04-14</td>\n",
       "      <td>50.0</td>\n",
       "      <td>50.0</td>\n",
       "      <td>16000.0</td>\n",
       "      <td>320</td>\n",
       "      <td>3520.0</td>\n",
       "      <td>0</td>\n",
       "    </tr>\n",
       "    <tr>\n",
       "      <th>24</th>\n",
       "      <td>W.CAPE-BERGRIVER ETC</td>\n",
       "      <td>JE090</td>\n",
       "      <td>2S</td>\n",
       "      <td>9.0</td>\n",
       "      <td>2020-04-16</td>\n",
       "      <td>55.0</td>\n",
       "      <td>55.0</td>\n",
       "      <td>990.0</td>\n",
       "      <td>18</td>\n",
       "      <td>162.0</td>\n",
       "      <td>1506</td>\n",
       "    </tr>\n",
       "    <tr>\n",
       "      <th>40</th>\n",
       "      <td>CAPE</td>\n",
       "      <td>M4183</td>\n",
       "      <td>1S</td>\n",
       "      <td>18.3</td>\n",
       "      <td>2020-05-04</td>\n",
       "      <td>80.0</td>\n",
       "      <td>120.0</td>\n",
       "      <td>32020.0</td>\n",
       "      <td>388</td>\n",
       "      <td>7100.4</td>\n",
       "      <td>443</td>\n",
       "    </tr>\n",
       "    <tr>\n",
       "      <th>69</th>\n",
       "      <td>EASTERN CAPE</td>\n",
       "      <td>IA400</td>\n",
       "      <td>1S</td>\n",
       "      <td>400.0</td>\n",
       "      <td>2020-09-28</td>\n",
       "      <td>1800.0</td>\n",
       "      <td>1800.0</td>\n",
       "      <td>1800.0</td>\n",
       "      <td>1</td>\n",
       "      <td>400.0</td>\n",
       "      <td>2</td>\n",
       "    </tr>\n",
       "  </tbody>\n",
       "</table>\n",
       "</div>"
      ],
      "text/plain": [
       "                Province Container Size_Grade  Weight_Kg        Date  \\\n",
       "1                   CAPE     M4183         1L       18.3  2020-09-09   \n",
       "7                   CAPE     JG110         2M       11.0  2020-04-14   \n",
       "24  W.CAPE-BERGRIVER ETC     JE090         2S        9.0  2020-04-16   \n",
       "40                  CAPE     M4183         1S       18.3  2020-05-04   \n",
       "69          EASTERN CAPE     IA400         1S      400.0  2020-09-28   \n",
       "\n",
       "    Low_Price  High_Price  Sales_Total  Total_Qty_Sold  Total_Kg_Sold  \\\n",
       "1       150.0       170.0      51710.0             332         6075.6   \n",
       "7        50.0        50.0      16000.0             320         3520.0   \n",
       "24       55.0        55.0        990.0              18          162.0   \n",
       "40       80.0       120.0      32020.0             388         7100.4   \n",
       "69     1800.0      1800.0       1800.0               1          400.0   \n",
       "\n",
       "    Stock_On_Hand  \n",
       "1             822  \n",
       "7               0  \n",
       "24           1506  \n",
       "40            443  \n",
       "69              2  "
      ]
     },
     "execution_count": 85,
     "metadata": {},
     "output_type": "execute_result"
    }
   ],
   "source": [
    "vertical_stack.head()"
   ]
  },
  {
   "cell_type": "code",
   "execution_count": 86,
   "metadata": {},
   "outputs": [
    {
     "data": {
      "text/plain": [
       "(2637, 178)"
      ]
     },
     "execution_count": 86,
     "metadata": {},
     "output_type": "execute_result"
    }
   ],
   "source": [
    "X_real = pd.get_dummies(vertical_stack,drop_first=True)\n",
    "X_real.shape"
   ]
  },
  {
   "cell_type": "code",
   "execution_count": 87,
   "metadata": {},
   "outputs": [
    {
     "data": {
      "text/plain": [
       "(685, 178)"
      ]
     },
     "execution_count": 87,
     "metadata": {},
     "output_type": "execute_result"
    }
   ],
   "source": [
    "df_test = X_real.iloc[1952:,:]\n",
    "df_test.shape"
   ]
  },
  {
   "cell_type": "code",
   "execution_count": 88,
   "metadata": {},
   "outputs": [
    {
     "data": {
      "text/html": [
       "<div>\n",
       "<style scoped>\n",
       "    .dataframe tbody tr th:only-of-type {\n",
       "        vertical-align: middle;\n",
       "    }\n",
       "\n",
       "    .dataframe tbody tr th {\n",
       "        vertical-align: top;\n",
       "    }\n",
       "\n",
       "    .dataframe thead th {\n",
       "        text-align: right;\n",
       "    }\n",
       "</style>\n",
       "<table border=\"1\" class=\"dataframe\">\n",
       "  <thead>\n",
       "    <tr style=\"text-align: right;\">\n",
       "      <th></th>\n",
       "      <th>Weight_Kg</th>\n",
       "      <th>Low_Price</th>\n",
       "      <th>High_Price</th>\n",
       "      <th>Sales_Total</th>\n",
       "      <th>Total_Qty_Sold</th>\n",
       "      <th>Total_Kg_Sold</th>\n",
       "      <th>Stock_On_Hand</th>\n",
       "      <th>Province_EASTERN CAPE</th>\n",
       "      <th>Province_NATAL</th>\n",
       "      <th>Province_ORANGE FREE STATE</th>\n",
       "      <th>...</th>\n",
       "      <th>Date_2020-09-07</th>\n",
       "      <th>Date_2020-09-09</th>\n",
       "      <th>Date_2020-09-16</th>\n",
       "      <th>Date_2020-09-17</th>\n",
       "      <th>Date_2020-09-19</th>\n",
       "      <th>Date_2020-09-21</th>\n",
       "      <th>Date_2020-09-23</th>\n",
       "      <th>Date_2020-09-28</th>\n",
       "      <th>Date_2020-10-01</th>\n",
       "      <th>Date_2020-10-03</th>\n",
       "    </tr>\n",
       "  </thead>\n",
       "  <tbody>\n",
       "    <tr>\n",
       "      <th>0</th>\n",
       "      <td>12.0</td>\n",
       "      <td>128.0</td>\n",
       "      <td>136.0</td>\n",
       "      <td>5008.0</td>\n",
       "      <td>38</td>\n",
       "      <td>456.0</td>\n",
       "      <td>0</td>\n",
       "      <td>0</td>\n",
       "      <td>0</td>\n",
       "      <td>0</td>\n",
       "      <td>...</td>\n",
       "      <td>0</td>\n",
       "      <td>0</td>\n",
       "      <td>0</td>\n",
       "      <td>0</td>\n",
       "      <td>0</td>\n",
       "      <td>0</td>\n",
       "      <td>0</td>\n",
       "      <td>0</td>\n",
       "      <td>0</td>\n",
       "      <td>0</td>\n",
       "    </tr>\n",
       "    <tr>\n",
       "      <th>1</th>\n",
       "      <td>18.3</td>\n",
       "      <td>220.0</td>\n",
       "      <td>220.0</td>\n",
       "      <td>1760.0</td>\n",
       "      <td>8</td>\n",
       "      <td>146.4</td>\n",
       "      <td>2</td>\n",
       "      <td>0</td>\n",
       "      <td>0</td>\n",
       "      <td>0</td>\n",
       "      <td>...</td>\n",
       "      <td>0</td>\n",
       "      <td>0</td>\n",
       "      <td>0</td>\n",
       "      <td>0</td>\n",
       "      <td>0</td>\n",
       "      <td>0</td>\n",
       "      <td>0</td>\n",
       "      <td>0</td>\n",
       "      <td>0</td>\n",
       "      <td>0</td>\n",
       "    </tr>\n",
       "    <tr>\n",
       "      <th>2</th>\n",
       "      <td>12.0</td>\n",
       "      <td>120.0</td>\n",
       "      <td>120.0</td>\n",
       "      <td>720.0</td>\n",
       "      <td>6</td>\n",
       "      <td>72.0</td>\n",
       "      <td>45</td>\n",
       "      <td>0</td>\n",
       "      <td>0</td>\n",
       "      <td>0</td>\n",
       "      <td>...</td>\n",
       "      <td>0</td>\n",
       "      <td>0</td>\n",
       "      <td>0</td>\n",
       "      <td>0</td>\n",
       "      <td>0</td>\n",
       "      <td>0</td>\n",
       "      <td>0</td>\n",
       "      <td>0</td>\n",
       "      <td>0</td>\n",
       "      <td>0</td>\n",
       "    </tr>\n",
       "    <tr>\n",
       "      <th>3</th>\n",
       "      <td>18.3</td>\n",
       "      <td>160.0</td>\n",
       "      <td>160.0</td>\n",
       "      <td>160.0</td>\n",
       "      <td>1</td>\n",
       "      <td>18.3</td>\n",
       "      <td>8</td>\n",
       "      <td>0</td>\n",
       "      <td>0</td>\n",
       "      <td>0</td>\n",
       "      <td>...</td>\n",
       "      <td>0</td>\n",
       "      <td>0</td>\n",
       "      <td>0</td>\n",
       "      <td>0</td>\n",
       "      <td>0</td>\n",
       "      <td>0</td>\n",
       "      <td>0</td>\n",
       "      <td>0</td>\n",
       "      <td>0</td>\n",
       "      <td>0</td>\n",
       "    </tr>\n",
       "    <tr>\n",
       "      <th>4</th>\n",
       "      <td>18.3</td>\n",
       "      <td>140.0</td>\n",
       "      <td>160.0</td>\n",
       "      <td>14140.0</td>\n",
       "      <td>100</td>\n",
       "      <td>1830.0</td>\n",
       "      <td>19</td>\n",
       "      <td>0</td>\n",
       "      <td>0</td>\n",
       "      <td>0</td>\n",
       "      <td>...</td>\n",
       "      <td>0</td>\n",
       "      <td>0</td>\n",
       "      <td>0</td>\n",
       "      <td>0</td>\n",
       "      <td>0</td>\n",
       "      <td>0</td>\n",
       "      <td>0</td>\n",
       "      <td>0</td>\n",
       "      <td>0</td>\n",
       "      <td>0</td>\n",
       "    </tr>\n",
       "  </tbody>\n",
       "</table>\n",
       "<p>5 rows × 178 columns</p>\n",
       "</div>"
      ],
      "text/plain": [
       "   Weight_Kg  Low_Price  High_Price  Sales_Total  Total_Qty_Sold  \\\n",
       "0       12.0      128.0       136.0       5008.0              38   \n",
       "1       18.3      220.0       220.0       1760.0               8   \n",
       "2       12.0      120.0       120.0        720.0               6   \n",
       "3       18.3      160.0       160.0        160.0               1   \n",
       "4       18.3      140.0       160.0      14140.0             100   \n",
       "\n",
       "   Total_Kg_Sold  Stock_On_Hand  Province_EASTERN CAPE  Province_NATAL  \\\n",
       "0          456.0              0                      0               0   \n",
       "1          146.4              2                      0               0   \n",
       "2           72.0             45                      0               0   \n",
       "3           18.3              8                      0               0   \n",
       "4         1830.0             19                      0               0   \n",
       "\n",
       "   Province_ORANGE FREE STATE  ...  Date_2020-09-07  Date_2020-09-09  \\\n",
       "0                           0  ...                0                0   \n",
       "1                           0  ...                0                0   \n",
       "2                           0  ...                0                0   \n",
       "3                           0  ...                0                0   \n",
       "4                           0  ...                0                0   \n",
       "\n",
       "   Date_2020-09-16  Date_2020-09-17  Date_2020-09-19  Date_2020-09-21  \\\n",
       "0                0                0                0                0   \n",
       "1                0                0                0                0   \n",
       "2                0                0                0                0   \n",
       "3                0                0                0                0   \n",
       "4                0                0                0                0   \n",
       "\n",
       "   Date_2020-09-23  Date_2020-09-28  Date_2020-10-01  Date_2020-10-03  \n",
       "0                0                0                0                0  \n",
       "1                0                0                0                0  \n",
       "2                0                0                0                0  \n",
       "3                0                0                0                0  \n",
       "4                0                0                0                0  \n",
       "\n",
       "[5 rows x 178 columns]"
      ]
     },
     "execution_count": 88,
     "metadata": {},
     "output_type": "execute_result"
    }
   ],
   "source": [
    "df_test.head()"
   ]
  },
  {
   "cell_type": "code",
   "execution_count": 171,
   "metadata": {},
   "outputs": [
    {
     "data": {
      "text/plain": [
       "Index(['Date_2020-01-21', 'Date_2020-02-08', 'Date_2020-09-16'], dtype='object')"
      ]
     },
     "execution_count": 171,
     "metadata": {},
     "output_type": "execute_result"
    }
   ],
   "source": [
    "play = df_test.loc[:,df_test.nunique() == 1]\n",
    "play.columns"
   ]
  },
  {
   "cell_type": "code",
   "execution_count": 124,
   "metadata": {},
   "outputs": [
    {
     "data": {
      "text/plain": [
       "(685, 173)"
      ]
     },
     "execution_count": 124,
     "metadata": {},
     "output_type": "execute_result"
    }
   ],
   "source": [
    "non_uniq_df = df_test.drop(['Date_2020-01-21', 'Date_2020-02-08'],axis=1)\n",
    "non_uniq_df.shape"
   ]
  },
  {
   "cell_type": "markdown",
   "metadata": {},
   "source": [
    "Make dataframe consisting of kbest columns"
   ]
  },
  {
   "cell_type": "code",
   "execution_count": 89,
   "metadata": {},
   "outputs": [],
   "source": [
    "test_kbest_rf = pd.DataFrame(data = df_test, columns=['Weight_Kg',\n",
    " 'Low_Price',\n",
    " 'High_Price',\n",
    " 'Sales_Total',\n",
    " 'Total_Qty_Sold',\n",
    " 'Total_Kg_Sold',\n",
    " 'Stock_On_Hand',\n",
    " 'Province_EASTERN CAPE',\n",
    " 'Province_NATAL',\n",
    " 'Province_ORANGE FREE STATE',\n",
    " 'Province_TRANSVAAL',\n",
    " 'Province_W.CAPE-BERGRIVER ETC',\n",
    " 'Province_WEST COAST',\n",
    " 'Container_DT063',\n",
    " 'Container_EC120',\n",
    " 'Container_EF120',\n",
    " 'Container_IA400',\n",
    " 'Container_JE090',\n",
    " 'Container_JG110',\n",
    " 'Container_M4183',\n",
    " 'Size_Grade_1M',\n",
    " 'Size_Grade_1S',\n",
    " 'Size_Grade_1X',\n",
    " 'Size_Grade_2L',\n",
    " 'Size_Grade_2M',\n",
    " 'Size_Grade_2S',\n",
    " 'Size_Grade_2U',\n",
    " 'Size_Grade_2X',\n",
    " 'Date_2019-12-12',\n",
    " 'Date_2019-12-30',\n",
    " 'Date_2020-01-03',\n",
    " 'Date_2020-01-04',\n",
    " 'Date_2020-01-09',\n",
    " 'Date_2020-01-11',\n",
    " 'Date_2020-01-14',\n",
    " 'Date_2020-01-23',\n",
    " 'Date_2020-01-24',\n",
    " 'Date_2020-01-28',\n",
    " 'Date_2020-02-01',\n",
    " 'Date_2020-02-06',\n",
    " 'Date_2020-02-10',\n",
    " 'Date_2020-02-11',\n",
    " 'Date_2020-02-12',\n",
    " 'Date_2020-02-15',\n",
    " 'Date_2020-02-19',\n",
    " 'Date_2020-02-21',\n",
    " 'Date_2020-02-26',\n",
    " 'Date_2020-02-27',\n",
    " 'Date_2020-03-04',\n",
    " 'Date_2020-03-09',\n",
    " 'Date_2020-03-10',\n",
    " 'Date_2020-03-11',\n",
    " 'Date_2020-03-13',\n",
    " 'Date_2020-03-14',\n",
    " 'Date_2020-03-16',\n",
    " 'Date_2020-03-17',\n",
    " 'Date_2020-03-20',\n",
    " 'Date_2020-03-27',\n",
    " 'Date_2020-04-07',\n",
    " 'Date_2020-04-14',\n",
    " 'Date_2020-04-16',\n",
    " 'Date_2020-04-17',\n",
    " 'Date_2020-04-23',\n",
    " 'Date_2020-04-28',\n",
    " 'Date_2020-04-29',\n",
    " 'Date_2020-05-06',\n",
    " 'Date_2020-05-07',\n",
    " 'Date_2020-05-18',\n",
    " 'Date_2020-05-25',\n",
    " 'Date_2020-05-26',\n",
    " 'Date_2020-05-27',\n",
    " 'Date_2020-05-29',\n",
    " 'Date_2020-06-09',\n",
    " 'Date_2020-06-13',\n",
    " 'Date_2020-06-17',\n",
    " 'Date_2020-06-25',\n",
    " 'Date_2020-06-27',\n",
    " 'Date_2020-07-01',\n",
    " 'Date_2020-07-09',\n",
    " 'Date_2020-07-13',\n",
    " 'Date_2020-07-15',\n",
    " 'Date_2020-07-16',\n",
    " 'Date_2020-07-17',\n",
    " 'Date_2020-07-20',\n",
    " 'Date_2020-07-21',\n",
    " 'Date_2020-07-25',\n",
    " 'Date_2020-07-27',\n",
    " 'Date_2020-07-28',\n",
    " 'Date_2020-07-29',\n",
    " 'Date_2020-08-04',\n",
    " 'Date_2020-08-06',\n",
    " 'Date_2020-08-11',\n",
    " 'Date_2020-08-15',\n",
    " 'Date_2020-08-18',\n",
    " 'Date_2020-08-25',\n",
    " 'Date_2020-09-02',\n",
    " 'Date_2020-09-16',\n",
    " 'Date_2020-09-23',\n",
    " 'Date_2020-09-28',\n",
    " 'Date_2020-10-03'])"
   ]
  },
  {
   "cell_type": "code",
   "execution_count": 773,
   "metadata": {},
   "outputs": [],
   "source": [
    "test_log_df = pd.DataFrame(data = df_test, columns=['Weight_Kg',\n",
    " 'Low_Price',\n",
    " 'High_Price',\n",
    " 'Sales_Total',\n",
    " 'Total_Qty_Sold',\n",
    " 'Total_Kg_Sold',\n",
    " 'Stock_On_Hand',\n",
    " 'Province_NATAL',\n",
    " 'Container_EC120',\n",
    " 'Container_IA400',\n",
    " 'Container_JE090',\n",
    " 'Container_JG110',\n",
    " 'Container_M4183',\n",
    " 'Size_Grade_1S',\n",
    " 'Size_Grade_2S'])"
   ]
  },
  {
   "cell_type": "code",
   "execution_count": 774,
   "metadata": {},
   "outputs": [
    {
     "data": {
      "text/plain": [
       "(685, 15)"
      ]
     },
     "execution_count": 774,
     "metadata": {},
     "output_type": "execute_result"
    }
   ],
   "source": [
    "test_log_df.shape"
   ]
  },
  {
   "cell_type": "code",
   "execution_count": 810,
   "metadata": {},
   "outputs": [],
   "source": [
    "rflog_df = test_log_df.copy()"
   ]
  },
  {
   "cell_type": "code",
   "execution_count": 811,
   "metadata": {},
   "outputs": [],
   "source": [
    "# Transforming skewed variables distribution\n",
    "for column in ['Total_Qty_Sold', 'High_Price', 'Sales_Total', 'Stock_On_Hand', 'Weight_Kg', 'Total_Kg_Sold', 'Low_Price']:\n",
    "  rflog_df[column] = np.log1p(rflog_df[column])"
   ]
  },
  {
   "cell_type": "code",
   "execution_count": 81,
   "metadata": {},
   "outputs": [],
   "source": [
    "test_scaled = scaler.fit_transform(df_test)"
   ]
  },
  {
   "cell_type": "markdown",
   "metadata": {},
   "source": [
    "### Making predictions"
   ]
  },
  {
   "cell_type": "code",
   "execution_count": 50,
   "metadata": {},
   "outputs": [
    {
     "data": {
      "text/plain": [
       "array([ 9.18188366, 10.27494758,  8.57659107,  7.70483434,  7.25520315,\n",
       "        4.73481625,  4.75084397,  7.75576638,  8.67191653,  7.6346783 ,\n",
       "        5.12021273,  6.24736614,  8.73253505,  4.87500357,  2.95650265,\n",
       "        6.86708491,  8.00818715,  4.97764762, 10.70233681,  6.80091732,\n",
       "        5.57980254,  4.87359873,  7.36306879,  6.7817892 ,  4.02398791,\n",
       "        6.71001866,  6.85146333,  8.07958237,  7.86026045,  7.95531529,\n",
       "        7.95025626,  4.46977606,  9.30012759,  8.21603783,  3.9141331 ,\n",
       "        8.5906737 ,  9.39817007, 10.0576688 ,  6.60765402,  7.30634912,\n",
       "        9.58675795,  8.0274516 ,  9.14228551,  5.25170255,  6.57387417,\n",
       "        5.12105482,  4.5218955 ,  6.55902698,  6.22161871,  4.188634  ,\n",
       "        0.81827874,  5.31583893,  8.08320176, 10.5998903 ,  8.48057032,\n",
       "        6.2075658 ,  8.41673573,  9.24145861,  9.22038069,  8.45490494,\n",
       "        8.83662599,  9.75735454,  4.77552815,  8.40884832,  8.78434053,\n",
       "        6.14431373,  4.44437181,  4.31138071,  7.01033888,  7.01429597,\n",
       "        7.86145845,  5.3276889 ,  6.14940045,  7.08717573,  5.5963958 ,\n",
       "        5.70781194,  6.0123321 ,  8.9565279 ,  9.35381247,  6.95893728,\n",
       "        8.51520139,  4.48317901,  5.80299548,  5.0086238 ,  3.16398914,\n",
       "        6.91385197,  7.91094584,  9.94821186,  3.47989918,  5.98087324,\n",
       "        8.73747905,  9.31330809,  8.39763118,  6.13587372,  7.74901274,\n",
       "        7.13729345,  8.06474087,  7.80725321,  5.109166  ,  5.84381651,\n",
       "       10.24853433,  6.77456006,  4.07692672,  7.39009033,  7.6275901 ,\n",
       "        8.51692713,  8.08011423,  5.10633152,  8.94006806,  5.15551184,\n",
       "        4.58266473,  6.57870102,  4.99109174,  5.83020822,  7.58552167,\n",
       "        8.25013999,  6.10614621,  9.78008123,  5.40035662,  8.78065088,\n",
       "        5.50482537,  6.16860187,  8.47596051,  5.29171214,  9.19587502,\n",
       "        6.85582624,  5.74775422,  8.82260556,  8.68217235,  6.67406552,\n",
       "        7.01818941,  6.40476137,  9.02447721,  7.59385663,  0.69879605,\n",
       "        6.63790841,  5.51087753,  7.88903055,  8.22393772,  5.74819754,\n",
       "        8.44451284,  5.81046357,  8.8377266 ,  5.66489097,  9.5028166 ,\n",
       "        6.6192578 ,  7.0706006 ,  9.10470717,  6.36405052,  9.5217862 ,\n",
       "        7.70198609,  7.37456327,  5.70249122,  7.21863711,  7.74359649,\n",
       "        8.5247261 ,  6.13090718,  5.06887811,  7.05134202,  8.02385616,\n",
       "        8.0993481 ,  8.5930082 ,  6.46909314,  8.6389675 ,  6.56101135,\n",
       "        8.40533682,  6.95664821,  6.99293359,  6.54091041,  9.99942926,\n",
       "        8.12767754,  7.57365467,  6.42738072,  8.84238675,  4.69961311,\n",
       "        3.95323846,  8.52730139,  5.48469472,  6.21504655,  6.27643434,\n",
       "        6.70608832, -1.17133167, 10.95448198,  7.28542809,  5.67276012,\n",
       "       -1.34145895,  5.32626323,  7.78569608,  7.13502381,  6.36918124,\n",
       "        6.15337431,  7.94690283,  5.7031735 ,  2.5729642 ,  8.50017123,\n",
       "       10.53235934,  6.54252842,  5.74705814,  5.77025002,  7.12048621,\n",
       "        4.91132144,  5.77570366,  7.80016812,  3.13497536,  6.55870826,\n",
       "        4.37088116,  7.78640374,  6.91808098,  7.62152868,  7.29027843,\n",
       "        7.67253216, 10.66772582,  6.38717458,  7.59156854,  9.01197616,\n",
       "        5.61721234,  5.84758415,  6.50783608,  7.5208324 ,  7.26902826,\n",
       "        4.43261453,  4.09985409,  8.42121406,  8.92199119,  9.2957079 ,\n",
       "        6.65361544,  6.81807235,  4.39900019,  6.43487293,  5.30547376,\n",
       "        6.20962655,  8.4270337 ,  8.63948168,  4.25966464,  5.68799304,\n",
       "        5.42054271, 10.75045126,  8.55051704,  5.38784485,  5.68176806,\n",
       "        6.25787922,  5.49363433,  8.91336541,  8.43163607,  9.00924047,\n",
       "        7.22261844,  3.60226842,  6.82695322,  6.55161756,  8.12578326,\n",
       "        7.50152792,  8.92936463,  6.02290796,  6.45108648,  5.15169084,\n",
       "        4.89804306,  8.87615115,  8.0770257 ,  7.62131639,  8.20119211,\n",
       "        5.07399524,  7.76131118,  8.86017837,  4.84716069,  3.74655037,\n",
       "        6.05421379,  3.7134145 ,  5.27893307,  6.21510573,  5.7009183 ,\n",
       "        8.42784919,  6.22812312, 11.71764046,  3.08475944,  8.27221763,\n",
       "        8.65423794,  6.45854899,  5.84088014,  4.6219737 ,  7.71400442,\n",
       "        6.53929305,  9.01377271,  5.24309071,  3.31511677,  7.95561604,\n",
       "        3.11863409,  5.93502838,  8.22757725,  6.41802309,  8.90116678,\n",
       "        5.3734235 ,  5.60577659,  6.08277068,  1.74708234,  7.95950466,\n",
       "        8.0112539 ,  8.48528774,  7.88107801,  7.56998593,  8.20297426,\n",
       "        7.33622386,  4.75840231,  5.25397198,  7.09992123,  7.95534074,\n",
       "        8.78038331,  5.85959874,  4.90049622,  7.86296833,  6.38094166,\n",
       "        7.17111322,  6.84694789,  6.31710992,  8.0427763 ,  8.48531864,\n",
       "        6.9180891 ,  6.07988897,  9.34043068,  5.55417693,  6.05889835,\n",
       "        8.87028552,  5.11574537,  6.45426259,  7.8042887 ,  5.41486749,\n",
       "        4.91351929,  8.29572789,  5.6182962 ,  8.84107926,  6.10716953,\n",
       "        6.48506108,  5.1213622 ,  9.75334495,  6.96119962,  7.13343839,\n",
       "        8.04542623,  7.2987892 ,  4.54407924,  8.49895078,  5.36348952,\n",
       "        6.99239831,  6.45238503,  8.81925673,  6.1010458 ,  8.80364951,\n",
       "        8.2397459 ,  7.51582587,  4.55611319,  8.5723272 ,  7.82279068,\n",
       "        6.3643197 ,  8.71285587,  7.57011174,  7.6277684 ,  7.28834956,\n",
       "        6.85151475,  6.58559658, 10.29409154,  8.41104565,  8.02928407,\n",
       "        7.26279899,  6.06012711,  8.58297676,  7.98230627,  6.59500183,\n",
       "        6.83394145,  7.78959303,  8.04059817,  7.10172692,  7.96633635,\n",
       "        5.4535934 ,  4.53661477,  6.07262515,  7.81244452,  5.69021861,\n",
       "        7.33660417,  5.72835018,  5.65400765,  7.63869354,  4.71814898,\n",
       "        7.95271541,  5.78336287,  7.72959474,  8.3466007 ,  6.56524147,\n",
       "        7.90748391,  6.41257416,  7.19197481,  4.84200333,  9.24719583,\n",
       "        6.91839209,  5.04772405,  9.0860753 ,  7.383143  ,  1.32105026,\n",
       "        9.44472836,  4.38883364,  8.0824198 ,  7.97372804,  6.24385906,\n",
       "        6.30779487,  4.30700465,  8.48185965,  5.45547898,  6.63285424,\n",
       "        9.36552639,  5.90815795,  7.70157128,  3.35377884,  9.02722616,\n",
       "        9.09885519,  5.75598662,  6.1091852 ,  8.60954722,  8.03848299,\n",
       "        5.84433658,  6.7259513 ,  6.47952348,  9.10314291,  4.8602504 ,\n",
       "        7.22077338,  4.41442738,  7.47049112,  5.10357135,  5.57658208,\n",
       "        7.32077995,  8.48873148,  6.4503429 ,  6.68121004,  6.96201221,\n",
       "        8.50491501,  7.38300081,  7.26427587, 11.5692388 ,  6.43630087,\n",
       "        8.32562869,  4.81117773,  5.98871952,  6.76133691,  6.03405769,\n",
       "        8.86968273,  6.77748753,  9.06761646,  9.49951386,  8.77352229,\n",
       "        8.61729401,  6.53860052,  6.75924013,  8.50725622,  8.24882004,\n",
       "        8.26829152,  6.50199252,  8.20023656,  6.31861324,  6.46642258,\n",
       "        8.84876966,  7.97422879,  8.7148922 ,  3.92806837,  7.84466551,\n",
       "        4.82861323,  9.20244887,  4.8051247 ,  3.46036778,  9.04539807,\n",
       "        4.88180001,  4.01498483,  7.72991429,  4.6877769 ,  8.18652081,\n",
       "        7.37236915,  8.42335283,  5.86146318,  5.83430783,  4.48885014,\n",
       "        6.62176244,  8.36708208,  5.3549415 ,  6.29990526,  5.75200526,\n",
       "        5.08044289,  8.0790716 ,  8.91468937,  5.83343914,  8.48895004,\n",
       "        7.3456562 ,  9.33314906,  5.76290982,  8.09761506,  5.53975938,\n",
       "        4.85268692,  8.31508514,  6.66643772,  8.31801817,  9.72073667,\n",
       "        5.92407884,  6.32313107,  8.04394449,  9.18429654,  8.04710093,\n",
       "        9.1810918 ,  5.6370682 ,  8.23623035,  8.08074181,  8.74736801,\n",
       "       10.68773989,  7.89769621,  4.24128074,  8.46759454,  6.66330964,\n",
       "        8.29133631,  7.76852558,  5.24463052,  6.13529423,  7.79815862,\n",
       "        8.53573882,  8.10070513,  6.27152725,  6.96699002,  6.29296612,\n",
       "        6.77825609,  7.39851798,  6.14595177,  6.05712048,  7.0157641 ,\n",
       "        6.84699889,  8.44526321,  4.39751595,  3.72913949,  8.71967369,\n",
       "        8.57485004,  4.97336473,  8.75342801,  8.13701591,  8.5752466 ,\n",
       "        8.35832729,  7.57902993,  5.92541695,  5.33834444, 10.19369957,\n",
       "        8.3867939 ,  5.63905999,  6.80361798,  8.01447006,  6.8415269 ,\n",
       "        6.16374505,  8.05345052,  5.98719564,  8.63614664, 10.03651557,\n",
       "        4.9083055 ,  6.17535214,  5.31607954,  5.08954865,  5.47208899,\n",
       "        3.77464346,  8.99914272,  7.91966628,  4.25559573,  5.88421668,\n",
       "        9.47776223,  3.89755356,  4.30917718,  5.24271649,  8.14826639,\n",
       "        4.06715025,  6.80665646,  5.57801247,  8.4999862 ,  9.02545752,\n",
       "        3.28511559,  5.84992617,  8.66842028,  7.44393827,  5.56171779,\n",
       "        5.51989288,  6.07017673,  5.62788274,  6.92114119,  8.13817634,\n",
       "        5.84711247,  6.57807732,  6.63332596,  7.94134666,  7.75050034,\n",
       "        7.46321415,  7.43471411, 10.25991633,  6.26415419,  5.89601223,\n",
       "        8.21563135,  6.26320511,  5.5981728 ,  5.2325258 ,  7.72872149,\n",
       "        7.44872262,  5.31306603,  5.83954416,  6.81406844,  3.48762142,\n",
       "        6.30450262,  6.24134212,  8.82573115,  5.94092778,  8.50613329,\n",
       "        2.60692846,  7.68523401,  3.07061867,  8.24534471,  8.74223234,\n",
       "        8.13132613,  8.13315115,  8.05480107,  4.9066743 ,  8.76368354,\n",
       "        5.77746037,  8.87521237, 10.38791222,  3.91841009,  8.39543008,\n",
       "        7.80755633,  8.91769084,  8.48981526,  5.25532574,  6.79616455,\n",
       "        8.98368567,  5.71245165,  4.17821057,  7.71640831,  6.45968008,\n",
       "        5.96051982,  6.7204819 ,  5.10226432,  5.31388666,  5.75027632,\n",
       "        6.022709  ,  8.49271393,  6.36543141,  3.100492  ,  5.92280131,\n",
       "        5.64137944,  4.74317275,  8.79569145,  4.04250597,  9.41831924,\n",
       "        4.19592749,  7.13676012,  4.02621402,  9.13602614,  8.42358387,\n",
       "        5.17049979,  6.61652781,  7.00802746,  7.68019435,  3.82366447,\n",
       "        7.62311152,  5.55214808,  5.39664963,  6.49505073,  8.5737304 ,\n",
       "        6.37436796,  7.2975745 ,  6.72203096,  4.14558758, 11.61753687,\n",
       "        8.24889311,  7.2145216 ,  4.88563831, 11.08628375,  7.52679112,\n",
       "        8.958229  ,  4.9920445 ,  4.66814275,  6.44240645, 10.71343304,\n",
       "        8.511572  ,  2.65612045,  8.17813861,  6.88412891,  6.16039775,\n",
       "        5.70911369,  8.05255881,  5.50555607,  8.11052659,  7.58256334])"
      ]
     },
     "execution_count": 50,
     "metadata": {},
     "output_type": "execute_result"
    }
   ],
   "source": [
    "predictions = model.predict(df_test)\n",
    "predictions"
   ]
  },
  {
   "cell_type": "code",
   "execution_count": 91,
   "metadata": {},
   "outputs": [
    {
     "data": {
      "text/plain": [
       "array([ 9.10120741,  9.75501286,  8.32511965,  8.4044834 ,  7.79846321,\n",
       "        3.97443983,  4.95658089,  7.81805048,  8.21452398,  7.47487093,\n",
       "        4.88717618,  5.67819135,  9.12898803,  5.37421059,  2.04803718,\n",
       "        6.71996762,  7.85532089,  4.03623536, 10.1275658 ,  6.13006273,\n",
       "        5.42238169,  4.31523768,  7.0728233 ,  6.93262758,  4.81383525,\n",
       "        6.41112188,  7.24508268,  8.30857072,  7.72777641,  7.77151864,\n",
       "        7.6004233 ,  4.93616582,  8.79064466,  8.29878216,  3.21607243,\n",
       "        7.96351612,  8.58734748, 11.74456138,  6.50903177,  7.13138279,\n",
       "        9.11046874,  8.34350676,  9.18894735,  5.2347237 ,  6.28214607,\n",
       "        4.61495614,  3.62211272,  6.4199652 ,  6.20102619,  2.95049371,\n",
       "       -0.37776704,  5.76236624,  8.13702176, 11.13496763,  7.86377242,\n",
       "        6.40244739,  8.19724527,  8.81668121,  9.07374091,  8.50073596,\n",
       "        8.62259412, 10.36342476,  5.30938018,  8.04783693,  8.5827251 ,\n",
       "        6.06369398,  4.72324959,  4.2761111 ,  6.08282271,  6.6678685 ,\n",
       "        8.56870997,  5.02040736,  6.09925222,  6.29901302,  6.08295052,\n",
       "        5.50959285,  5.89578891,  9.01194709,  8.83308687,  6.46522127,\n",
       "        7.76996696,  4.20999998,  5.65967272,  5.29338788,  1.84460858,\n",
       "        6.94209612,  7.54697461,  9.62513227,  3.77668662,  5.99636162,\n",
       "        9.25586734,  9.268638  ,  7.92119044,  6.03115318,  8.24585003,\n",
       "        6.41569397,  8.15041563,  8.25773575,  5.0342938 ,  6.25714123,\n",
       "        7.97111347,  6.68591821,  4.77584669,  7.70673897,  7.531616  ,\n",
       "        8.56725347,  8.17499149,  5.20027633,  7.97609953,  4.92086988,\n",
       "        4.66308114,  7.29450228,  4.52637346,  5.81977342,  7.47451941,\n",
       "        8.20520381,  6.18743808,  8.99910003,  5.64895688,  8.34660976,\n",
       "        5.61150369,  6.19829203,  8.53007383,  4.72987338,  8.50441803,\n",
       "        6.98277085,  5.49563194,  8.33246951,  8.85845086,  6.87887904,\n",
       "        6.46561658,  6.92749418,  8.73600485,  8.0111563 , -0.58095189,\n",
       "        6.51685521,  5.32596176,  7.36741832,  8.33140908,  5.63961445,\n",
       "        8.41592378,  6.03778665,  8.6480556 ,  5.80971356,  8.85705675,\n",
       "        6.3459037 ,  6.78705737,  8.70430632,  6.52404122,  9.77200731,\n",
       "        7.8467279 ,  7.37862061,  5.23397693,  6.64371781,  7.62183727,\n",
       "        9.02813985,  5.98802852,  5.47737173,  6.97654163,  8.03219275,\n",
       "        8.70701698,  8.80696576,  6.56239786,  8.63455305,  6.73058166,\n",
       "        7.77979197,  6.99827308,  7.16796604,  6.58762869,  8.5983625 ,\n",
       "        7.99827882,  7.47836453,  6.55604791,  8.64333833,  4.7576406 ,\n",
       "        4.32812772,  8.27465804,  6.01276356,  6.02797384,  6.8634874 ,\n",
       "        6.55488652, -2.28857213, 10.98807137,  7.16705524,  5.53183127,\n",
       "       -2.28835425,  5.25090709,  8.07985035,  7.26546006,  6.75755819,\n",
       "        6.13472224,  7.81305165,  5.19737267,  1.70991198,  8.11697114,\n",
       "        9.61991606,  6.94483927,  5.66632645,  5.78220606,  7.43992089,\n",
       "        5.37733112,  5.15015555,  7.36865158,  2.53022075,  6.63158285,\n",
       "        3.81016811,  7.78905633,  6.93262758,  7.38906861,  7.55082797,\n",
       "        7.86849007, 10.00601552,  6.22934507,  7.4073308 ,  8.79821033,\n",
       "        5.32565603,  5.96592257,  6.66879934,  8.1832575 ,  7.86513073,\n",
       "        4.23238256,  4.50792421,  7.89954436,  9.13525113,  9.00542173,\n",
       "        6.47167495,  6.67240344,  4.80611484,  6.31973208,  4.99481811,\n",
       "        6.05432629,  8.41000899,  8.71726133,  3.77630782,  5.51226272,\n",
       "        5.21758028, 10.80302625,  8.72270127,  5.00133622,  5.86426563,\n",
       "        5.81722489,  5.72649102,  8.29857788,  8.3499694 ,  8.52716681,\n",
       "        6.6829683 ,  4.14774628,  7.02681331,  6.53368777,  8.43054856,\n",
       "        8.03796182,  8.77927086,  5.60325722,  6.60680303,  5.62854546,\n",
       "        4.06177696,  8.52168842,  8.11443666,  8.49179442,  8.23396605,\n",
       "        4.99813651,  8.30491721,  7.83294203,  4.86635119,  3.83013322,\n",
       "        6.20998513,  4.22515045,  5.94774016,  6.54621583,  6.54241537,\n",
       "        8.41971574,  6.15821008,  9.31524279,  2.28284572,  7.87313827,\n",
       "        8.26949016,  5.7337621 ,  5.35361023,  5.43366061,  7.49746401,\n",
       "        6.79240668,  7.98168197,  5.56335538,  3.4156251 ,  7.93076985,\n",
       "        3.39548183,  6.00531105,  5.91325342,  6.87454691,  8.95766883,\n",
       "        6.36026233,  5.53117182,  5.6136737 ,  1.52369356,  7.69238966,\n",
       "        8.548905  ,  8.31560031,  8.27238753,  7.29574669,  5.92827302,\n",
       "        7.01147682,  4.9784286 ,  4.89272743,  7.15522979,  8.07651359,\n",
       "        8.71212963,  5.6574975 ,  4.39266643,  7.60768124,  5.67735981,\n",
       "        7.10168721,  7.44288515,  6.09709226,  8.13884357,  8.41915888,\n",
       "        7.39040201,  5.96087698,  6.97572317,  5.79848609,  6.07238999,\n",
       "        7.46970757,  4.77825445,  6.65128454,  7.9380776 ,  4.96360441,\n",
       "        4.97624778,  8.30255225,  5.27466071,  8.44103892,  6.62740245,\n",
       "        6.62861807,  4.82415478,  9.55101724,  7.74376451,  7.5782631 ,\n",
       "        8.13157539,  7.39449935,  4.93174197,  8.30928447,  5.79222746,\n",
       "        6.67034362,  6.86470648,  8.59980592,  6.19741598,  8.71224293,\n",
       "        8.02685758,  7.74237105,  4.33618587,  7.89988169,  7.42554343,\n",
       "        6.07089312,  8.36348278,  7.72680952,  7.9359618 ,  6.98044293,\n",
       "        6.84582824,  6.25268042, 10.45825911,  8.16798064,  8.10373504,\n",
       "        6.79102784,  6.84918257,  8.051502  ,  8.22533268,  6.74265629,\n",
       "        7.00022934,  7.86894292,  8.33389945,  7.39659777,  7.87357078,\n",
       "        4.95997458,  5.16528024,  6.36532202,  8.14763984,  5.32918679,\n",
       "        6.98264782,  5.31795417,  5.27078323,  7.66111055,  4.91140253,\n",
       "        7.51356049,  4.99303531,  7.48814393,  8.16944141,  6.46653447,\n",
       "        7.75083954,  6.55739167,  7.19987832,  4.73212097,  8.69868788,\n",
       "        7.13113068,  4.35849063,  8.71350589,  7.200787  ,  0.94866395,\n",
       "        8.78908022,  5.08595317,  7.15973474,  8.62155186,  6.54934123,\n",
       "        6.05588462,  4.29785973,  8.48351726,  4.49977055,  6.2031787 ,\n",
       "        9.03365186,  6.35387779,  7.76286727,  3.28889704,  9.35434877,\n",
       "        8.56195744,  5.70766366,  6.36052839,  8.09501584,  8.24971956,\n",
       "        5.81348729,  7.19857799,  6.32833869,  8.74985435,  4.8891488 ,\n",
       "        7.25626228,  4.30470214,  7.47171179,  4.5999847 ,  5.61154673,\n",
       "        7.56780805,  8.28783625,  6.93262758,  6.79597409,  7.12753259,\n",
       "        8.76490343,  7.23433001,  7.95084586,  8.96459462,  6.22361848,\n",
       "        7.94550178,  4.8426251 ,  6.09166499,  6.6801639 ,  6.00456139,\n",
       "        8.52278507,  6.75311949,  8.74349332,  8.34943974,  8.42779077,\n",
       "        7.87454806,  6.14650426,  7.03988319,  8.71462939,  7.91419454,\n",
       "        8.19012813,  6.66388173,  7.90236752,  6.98449168,  6.05339138,\n",
       "        8.05715355,  8.64199479,  8.40785756,  3.95035579,  7.70786089,\n",
       "        5.71310596,  8.93348498,  4.86999679,  4.15646035,  8.96551487,\n",
       "        4.98928373,  4.33550585,  7.80178103,  5.50303097,  7.74748274,\n",
       "        7.19712502,  7.98445797,  5.6480551 ,  6.00823187,  4.73082152,\n",
       "        7.33068882,  8.41204779,  4.7068646 ,  6.24215579,  5.71348397,\n",
       "        5.58503745,  8.27165385,  8.64967341,  6.56391599,  8.82787614,\n",
       "        7.47297999,  9.06293038,  6.13790101,  8.08768226,  5.36383282,\n",
       "        4.54682775,  9.83837658,  6.71019727,  8.0344054 ,  9.36525845,\n",
       "        6.31317695,  6.15417883,  7.99872654,  8.61669252,  8.08865034,\n",
       "        9.03918394,  5.39026178,  8.67779359,  8.7553246 ,  8.44223713,\n",
       "        9.39046839,  7.93148193,  4.07281145,  7.98686378,  6.35590512,\n",
       "        8.16969296,  7.65934643,  5.05995387,  5.71879455,  7.8790981 ,\n",
       "        8.55999008,  8.10656794,  6.64624408,  7.1069686 ,  6.47323386,\n",
       "        5.76498445,  7.03386169,  6.37214905,  6.36462574,  6.67252939,\n",
       "        7.36350773,  8.45411742,  3.4690943 ,  4.12047977,  9.1083287 ,\n",
       "        8.38109507,  4.48564803,  8.33981825,  8.20071735,  8.43698037,\n",
       "        8.38578124,  7.77290984,  5.93739627,  5.09905545,  8.91977362,\n",
       "        8.65708051,  5.0775136 ,  7.31679339,  8.14925439,  7.16217109,\n",
       "        5.850619  ,  7.88104307,  6.06262651,  8.11793618,  8.97899448,\n",
       "        5.4513062 ,  6.33083407,  5.51289551,  4.7546719 ,  5.56878561,\n",
       "        3.7146569 ,  8.79373072,  7.22177651,  4.16501905,  5.68510181,\n",
       "        8.99044497,  3.10172092,  4.60126107,  4.692417  ,  7.94887355,\n",
       "        4.72184267,  6.51754646,  5.31453048,  9.0072799 ,  8.36889325,\n",
       "        3.1813564 ,  5.67452195,  8.27069991,  7.6513475 ,  6.30768924,\n",
       "        6.09635607,  6.25435967,  5.56495558,  7.40112296,  8.58599706,\n",
       "        5.75966665,  6.84096351,  5.98558658,  7.55604044,  7.43981091,\n",
       "        7.44822027,  7.13391639,  9.71617523,  5.96776959,  6.12324432,\n",
       "        8.44915475,  7.14120632,  5.35889199,  5.10578597,  7.88750328,\n",
       "        7.28930082,  6.10348842,  5.38809511,  7.07729079,  3.8249105 ,\n",
       "        6.18092695,  6.29596307,  8.63091858,  5.73586694,  8.25174427,\n",
       "        2.21883602,  8.07601162,  2.15670499,  8.09670157,  8.55824206,\n",
       "        8.19807852,  7.78414786,  7.81256716,  5.23918321,  8.83155038,\n",
       "        6.4703592 ,  6.79495562, 10.22395176,  3.79348751,  8.91161321,\n",
       "        8.08240625,  8.83131936,  8.04498706,  5.05458105,  6.85569934,\n",
       "        9.00747512,  5.74145229,  3.78538507,  7.14297474,  6.43058892,\n",
       "        5.65171337,  6.63414146,  5.23603656,  5.8710061 ,  5.21837705,\n",
       "        5.90555518,  8.77266572,  6.14615628,  3.45212555,  4.8738567 ,\n",
       "        5.75029757,  5.12528195,  8.98749777,  4.28974883,  9.94177488,\n",
       "        4.83572099,  7.18591736,  4.66637435,  8.86757285,  8.14994114,\n",
       "        5.55322277,  6.58585426,  6.99758676,  7.9613145 ,  3.80918993,\n",
       "        8.08306836,  5.67290386,  5.53322357,  6.79607116,  8.0549993 ,\n",
       "        6.05316027,  7.44109613,  5.54453007,  2.87498161,  9.20252481,\n",
       "        7.34763635,  7.28731304,  4.3060696 , 11.60085341,  7.23880986,\n",
       "        8.89998572,  5.3433941 ,  5.03486192,  6.24563013, 10.51041618,\n",
       "        8.06542792,  2.59670677,  7.9625723 ,  6.93360244,  6.12185172,\n",
       "        5.73175677,  8.08562327,  5.13587818,  8.04434585,  7.80037623])"
      ]
     },
     "execution_count": 91,
     "metadata": {},
     "output_type": "execute_result"
    }
   ],
   "source": [
    "predict2 = lasso.predict(test_scaled)\n",
    "predict2"
   ]
  },
  {
   "cell_type": "code",
   "execution_count": 177,
   "metadata": {},
   "outputs": [
    {
     "data": {
      "text/plain": [
       "array([10.77644975, 12.14590576,  9.97549255,  8.5948303 ,  8.10040012,\n",
       "        4.42946492,  3.71677569,  7.30864075,  8.72833138,  9.50148069,\n",
       "        4.69044407,  5.49148698,  8.91761713,  4.23949761,  4.54745192,\n",
       "        6.11847551,  7.765262  ,  4.48335233, 10.70093849,  6.01085108,\n",
       "        5.40808352,  4.71534517,  5.41580562,  7.8301805 ,  5.58345151,\n",
       "        6.24356804,  7.63347646,  7.97938396,  7.53717523,  7.08791599,\n",
       "        8.0791792 ,  5.69132959,  9.69790059,  7.69263272,  4.70555045,\n",
       "        9.90950756, 10.93277932, 11.35860718,  6.32571465,  6.31087527,\n",
       "        8.11286982,  7.92933178,  5.47243641,  6.2113724 ,  5.55651047,\n",
       "        5.1339572 ,  5.00040413,  5.54507007,  6.06126753,  4.68671022,\n",
       "        1.50336333,  6.29089625,  6.407659  , 13.23461786,  8.44810676,\n",
       "        5.88430868, 10.8803146 ,  8.8532196 ,  8.27047354,  6.06875439,\n",
       "        7.40147021, 11.08952383,  6.22296157,  9.15412111,  6.30822987,\n",
       "        6.03652856,  6.84978583,  5.20608274,  5.51617469,  7.10267243,\n",
       "        5.66720318,  4.54424331,  3.66048063,  8.00097575,  6.77824226,\n",
       "        4.72963361,  6.12867769,  9.15249423, 11.02121477,  6.22705622,\n",
       "        6.78313218,  5.00040413,  6.03817246,  5.53404508,  1.38609414,\n",
       "        6.42902566,  7.40599593, 11.11320073,  4.98651025,  6.9517559 ,\n",
       "        9.60427324,  9.64083379,  7.29345416,  5.88845331,  5.95926947,\n",
       "        6.36436901,  8.36674207,  9.25419382,  7.00308542,  5.57016437,\n",
       "       11.01632602,  6.37834616,  5.58470618,  7.70410516,  7.10465299,\n",
       "        8.50498336,  7.84340724,  3.05489152,  9.96381081,  4.97673855,\n",
       "        4.0036267 ,  7.72250004,  6.07737048,  4.04097151,  6.86991416,\n",
       "        9.97850489,  5.41050213,  9.2655456 ,  4.47269855,  6.64219274,\n",
       "        6.0691862 ,  4.33111144,  9.67147011,  4.41888932,  8.64673506,\n",
       "        7.39366216,  4.34708746,  8.93036381,  9.89185384,  5.88547145,\n",
       "        7.59268672,  5.71177285,  9.24035692,  8.40970662,  1.28557637,\n",
       "        6.09019548,  7.84424676,  7.32183303,  7.66095698,  5.24743174,\n",
       "        7.94131479,  5.51599322,  8.88277523,  4.80574853,  9.01509885,\n",
       "        6.77035734,  5.51288439,  7.75687586,  5.63282971,  8.25313599,\n",
       "        9.94182343,  8.33491179,  5.20807287,  8.27767386,  7.17531331,\n",
       "       11.07758854,  5.76126179,  4.41708331,  6.02827798,  5.90937646,\n",
       "        8.05505282,  9.791699  ,  7.15735813,  8.47936598,  7.21491665,\n",
       "        8.44595759,  7.83769206,  7.1978408 ,  5.10243209,  7.59650702,\n",
       "        8.46913392,  6.8890142 ,  5.12008472, 10.8702529 ,  6.03595405,\n",
       "        5.11870691,  7.15390623,  5.51310895,  5.94152568,  6.98444118,\n",
       "        5.02276233,  2.814647  , 10.29848305,  7.42783643,  7.28185935,\n",
       "        2.728786  ,  4.09744861,  9.76088603,  7.0304112 ,  6.04551741,\n",
       "        5.53720997,  8.83371022,  4.98949494,  4.56703499,  9.94151441,\n",
       "        7.488472  ,  9.07476267,  6.82375495,  5.93249309,  8.11497155,\n",
       "        7.62950168,  2.71256499,  7.96733085,  1.65054436,  6.45997016,\n",
       "        4.38181519,  8.19850129,  7.8301805 ,  7.46098699,  8.33855923,\n",
       "        7.42352078, 12.08373092,  5.56359771,  6.42342862,  9.53586457,\n",
       "        5.55198655,  5.8723633 ,  5.41849343, 10.15652551,  7.57143158,\n",
       "        5.6465184 ,  5.3067401 ,  8.40595789, 10.92907568, 11.64038779,\n",
       "        6.62860882,  6.17776195,  5.47172851,  9.06072512,  5.57654819,\n",
       "        4.80006984, 10.13885062,  7.66845265,  5.58506968,  6.67725191,\n",
       "        6.08389302,  8.69693509,  8.7084545 ,  4.15628231,  5.38256923,\n",
       "        4.42373692,  5.25171105,  6.51403871,  7.96578001, 10.95869154,\n",
       "        7.01964352,  5.48375174,  7.47547275,  5.36149126,  9.38875392,\n",
       "        8.10323557,  9.6531967 ,  5.06847639,  4.981912  ,  6.72637569,\n",
       "        4.41834761,  7.12946422,  8.86563381,  8.82097706,  8.40471588,\n",
       "       10.32164808, 10.57969442,  6.12990193,  6.06256036,  5.04799681,\n",
       "        7.49783453,  5.21986793,  6.40575833,  5.34388984,  6.79020703,\n",
       "        8.52561067,  6.60037029, 10.749078  ,  2.43958727,  8.11909545,\n",
       "        9.88448744,  5.01140273,  6.75127541,  6.03621207,  7.90516266,\n",
       "        5.21606853,  6.85536433,  5.65360098,  4.39207784,  9.48999534,\n",
       "        4.58662741,  5.9630929 ,  5.44136253,  8.11611235,  8.33553955,\n",
       "        5.91432186,  5.93123517,  5.57713589,  1.38748971,  6.87518678,\n",
       "        6.97449948,  8.86601427,  7.8194049 ,  7.94420904,  6.63631735,\n",
       "        5.48455099,  6.02040026,  4.37020396,  6.17387299,  8.62847334,\n",
       "        8.85478187,  5.38050673,  4.04745105,  8.46187566,  6.1641937 ,\n",
       "        6.48049958,  7.45424859,  5.42529256,  8.43485058, 10.62738259,\n",
       "        8.41473324,  6.14577721,  5.09220886,  5.97612178,  6.8162472 ,\n",
       "        6.13319193,  6.67963141,  4.78676812,  7.82090651,  4.9819395 ,\n",
       "        3.84429454,  7.18302858,  6.02657611, 10.57090011,  7.63335228,\n",
       "        5.41207395,  5.18556655,  9.0251075 ,  6.60080815,  8.20361843,\n",
       "        7.93076582,  8.64568163,  6.74597357,  7.51923   ,  4.63009983,\n",
       "        6.79705461,  5.50552858,  8.74264701,  6.9570674 ,  9.40143787,\n",
       "        6.77644251,  8.64306793,  5.26898808,  7.92506539,  8.24628342,\n",
       "        7.46602516, 10.01352506,  7.64160398,  9.48545899,  6.34768467,\n",
       "        6.63052853,  5.90802359,  8.5288256 ,  8.66462601,  8.18644561,\n",
       "        7.08197686,  6.2787361 ,  7.79270227,  9.43619459,  6.10847472,\n",
       "        6.86453614,  7.52854369,  7.64501679,  6.01009967,  9.87656827,\n",
       "        4.65409391,  6.73567595,  6.12092836,  8.99325186,  6.62489265,\n",
       "        7.47271716,  4.91568653,  6.47200165,  7.64160398,  6.85341962,\n",
       "        7.00131829,  7.03040315,  7.06532236,  7.17505193,  3.0098851 ,\n",
       "        8.05132315,  6.10134543,  7.98041362,  3.50057085,  8.9295822 ,\n",
       "        6.88270347,  6.2155762 ,  9.14280805,  9.10553664,  1.81806706,\n",
       "        8.43392187,  6.60423416,  7.27203595,  7.39030827,  6.58132123,\n",
       "        5.88586605,  3.42345442, 10.17537298,  5.70703099,  6.06204467,\n",
       "        9.3639484 ,  4.984981  ,  7.39582264,  4.60349717,  9.81013356,\n",
       "        9.80160984,  4.04097151,  6.0955487 ,  8.2835899 ,  9.41583749,\n",
       "        4.75105776,  9.41349522,  5.34942305, 10.00544724,  6.60216292,\n",
       "        4.72027112,  4.97203619,  7.69270299,  5.22093968,  6.46083201,\n",
       "        9.10687692,  8.21852868,  7.83786032,  8.71102297,  6.80350581,\n",
       "       10.16747539,  7.60840332,  7.25402471, 10.15923824,  6.89999887,\n",
       "        7.73062454,  4.57780193,  5.53235853,  6.47849043,  6.04402369,\n",
       "        8.03402657,  5.9037605 ,  9.93471475,  9.90839372,  8.81249342,\n",
       "       10.3000221 ,  7.38571661,  8.33539434,  8.31694824,  8.36131498,\n",
       "        9.96428848,  7.20045947,  9.58186725,  8.02615624,  6.26129804,\n",
       "        8.02975891,  8.09557496,  8.71909878,  4.37660099,  7.47933442,\n",
       "        5.04980187,  8.81971443,  5.51079981,  6.35779539,  7.94510278,\n",
       "        4.16668874,  4.94549048,  7.70176238,  5.59900313,  8.40756222,\n",
       "        7.94135431,  8.89036968,  5.57901427,  4.63273305,  5.77622818,\n",
       "       10.06624073,  9.84086248,  4.04235427,  6.65191409,  5.54072099,\n",
       "        5.05060912,  7.68274671,  4.79005351,  5.04157417,  7.93440702,\n",
       "        6.42018419,  8.43630534,  3.56860697,  5.08843496,  4.03290791,\n",
       "        5.56981918,  7.01457483,  7.53809413,  7.8113482 , 10.23835424,\n",
       "        6.80547725,  4.76865883,  8.23605772,  8.13211324,  8.84836118,\n",
       "        9.60540827,  9.77571524,  8.74971519,  9.10308107,  7.94112659,\n",
       "        9.98257604,  7.46794358,  6.78067868,  7.61067095,  5.25106272,\n",
       "        8.50498336,  7.01355585,  6.08118258,  4.42373692,  7.867806  ,\n",
       "        8.60789832,  8.06558867,  6.61685594,  7.54172015,  4.90261708,\n",
       "        9.17393862,  5.16042811,  6.44546842,  6.63487571,  7.32720478,\n",
       "        7.97386184,  7.66845265,  2.69144624,  4.37660099,  9.72600301,\n",
       "        9.7884729 ,  5.52317699,  8.48778757,  7.44773511,  9.130751  ,\n",
       "        8.50498336,  7.06652198,  6.0759871 ,  6.20370722,  8.71726561,\n",
       "        8.0676791 ,  4.89549897,  7.50020203,  8.91515219,  7.55598354,\n",
       "        6.45197957,  8.02371877,  6.35961163,  5.26658876,  7.1912156 ,\n",
       "        5.13012776,  5.94923985,  6.14929624,  4.69849838,  5.16466255,\n",
       "        5.87073801,  9.95297231,  7.0949523 ,  5.04297274,  5.82814282,\n",
       "        8.5298424 ,  4.51667334,  5.55126473,  5.46444734,  7.17245797,\n",
       "        5.20444358,  9.47590462,  7.62950168,  9.05380884,  8.72339067,\n",
       "        4.58662741,  6.03608582,  9.15041276,  8.08855685,  5.11803422,\n",
       "        5.80694108,  6.17163359,  3.95502062,  7.55170915, 11.01044514,\n",
       "        5.55460658,  5.2941887 ,  3.51282136,  6.38652296,  8.44193847,\n",
       "        8.09296872,  6.72340702, 10.47419909,  6.47772956,  7.08096396,\n",
       "        8.08581915,  7.05074318,  6.15958309,  6.21630945,  7.26446162,\n",
       "        6.08512589,  6.3635427 ,  6.71199051,  7.08415608,  5.76435282,\n",
       "        6.84068577,  7.35754413, 10.60508567,  8.2608225 ,  7.39410777,\n",
       "        2.24609969,  8.06636544,  4.02924401,  8.32133401,  9.07545019,\n",
       "        8.74521979,  8.21916321,  7.59207054,  4.7222063 , 10.64930077,\n",
       "        5.62121793,  6.48728177, 10.73790347,  5.67436675,  7.68923102,\n",
       "        5.43583745, 10.37829925,  8.15688638,  5.57041179,  6.08847857,\n",
       "        5.47243641,  6.09422761,  4.51079375,  7.02425659,  6.38487549,\n",
       "        5.80149263,  7.00180464,  5.2398413 ,  5.62649992,  7.19925223,\n",
       "        6.02678074,  9.07552391,  5.86536646,  4.4034342 ,  7.82651825,\n",
       "        6.35961163,  4.98323015,  7.93440702,  4.5306823 , 10.97786648,\n",
       "        6.66118223,  6.90249332,  4.43293651,  9.38550938,  7.86494892,\n",
       "        5.52748954,  7.22766209,  6.47873414,  8.71737472,  4.47140858,\n",
       "        7.52854369,  5.0379041 ,  4.50908701,  6.01075824,  9.32345066,\n",
       "        6.14073346,  6.67615491,  6.12959611,  1.60267577, 10.6173497 ,\n",
       "        8.12420221,  7.45553814,  4.79749306, 11.35860718,  7.18847277,\n",
       "        9.79580966,  5.51326478,  5.09782684,  6.9864631 , 10.72881093,\n",
       "       10.11746838,  3.1572148 ,  6.61125155,  7.79861784,  2.8101869 ,\n",
       "        3.5166373 ,  8.28692412,  6.12641741,  7.353712  ,  7.3441422 ])"
      ]
     },
     "execution_count": 177,
     "metadata": {},
     "output_type": "execute_result"
    }
   ],
   "source": [
    "predict_rf = RF.predict(test_df)\n",
    "predict_rf"
   ]
  },
  {
   "cell_type": "code",
   "execution_count": 758,
   "metadata": {},
   "outputs": [
    {
     "data": {
      "text/plain": [
       "array([2.28877411, 2.32292487, 2.25941888, 2.20244829, 2.23909085,\n",
       "       1.7501864 , 1.80760276, 2.17231137, 2.24797748, 2.29780623,\n",
       "       2.01562347, 2.07510684, 2.25690788, 1.78666687, 1.43316887,\n",
       "       2.04493165, 2.12930141, 1.77151138, 2.45168668, 1.96911398,\n",
       "       1.86947475, 1.78349865, 1.96625469, 2.02854555, 1.72910921,\n",
       "       2.02787895, 2.10433408, 2.23076647, 2.23348028, 2.1943849 ,\n",
       "       2.12990149, 1.78762327, 2.32373231, 2.14926699, 1.60299993,\n",
       "       2.25245747, 2.22486365, 2.37747126, 1.99508713, 2.04903286,\n",
       "       2.2775253 , 2.24035326, 2.25448719, 1.85733022, 1.94094556,\n",
       "       1.77916723, 1.64510349, 1.99957205, 1.94429796, 1.63472617,\n",
       "       0.76473414, 1.82266596, 2.1205399 , 2.39993021, 2.2597675 ,\n",
       "       1.91521906, 2.23716276, 2.35921579, 2.3102163 , 2.22047612,\n",
       "       2.28104064, 2.38570733, 1.79435698, 2.20571788, 2.27420485,\n",
       "       1.89712828, 1.8239105 , 1.79913867, 2.04810603, 1.96904556,\n",
       "       2.10947676, 1.86560575, 1.94994263, 2.08513618, 1.84309911,\n",
       "       1.88343071, 1.89127207, 2.28685144, 2.25890765, 2.08046305,\n",
       "       2.24151143, 1.83217427, 1.88910815, 1.93867461, 1.48830616,\n",
       "       1.92335273, 2.14910294, 2.41256408, 1.60445515, 1.9505506 ,\n",
       "       2.25810314, 2.30766812, 2.17557423, 1.88407004, 2.13215257,\n",
       "       1.95754971, 2.14741857, 2.25682759, 1.84563229, 1.93414984,\n",
       "       2.18894251, 2.06239979, 1.65910812, 2.06951881, 2.14299989,\n",
       "       2.23020874, 2.16832165, 1.88717235, 2.17680503, 1.81055534,\n",
       "       1.72960736, 1.97384131, 1.7929701 , 1.92043399, 2.1431563 ,\n",
       "       2.22498416, 1.96324388, 2.3544038 , 1.84668684, 2.122325  ,\n",
       "       1.80813665, 1.94227424, 2.23036053, 1.80391522, 2.33760875,\n",
       "       2.11534749, 1.87561164, 2.29111278, 2.2564675 , 2.0069618 ,\n",
       "       2.0231059 , 2.02814517, 2.29597717, 2.224138  , 0.72082443,\n",
       "       2.03048473, 1.84300684, 2.08112446, 2.21525825, 1.91911862,\n",
       "       2.22223815, 1.9674249 , 2.22728853, 1.91978514, 2.2502167 ,\n",
       "       2.04163701, 1.95147982, 2.27638831, 1.91212361, 2.36530083,\n",
       "       2.22227549, 2.2024442 , 1.77849346, 2.21826765, 2.13682547,\n",
       "       2.3069986 , 2.06307713, 1.81898505, 2.04487407, 1.94507936,\n",
       "       2.27229628, 2.30155251, 1.98906599, 2.27566969, 2.18970621,\n",
       "       2.23613296, 1.82739433, 2.13407179, 1.99249444, 2.14708108,\n",
       "       2.20921222, 2.11007767, 1.98366069, 2.28449119, 1.76969318,\n",
       "       1.71258168, 2.250715  , 1.95575003, 1.95152914, 1.9464214 ,\n",
       "       1.97927731, 0.32792191, 2.45585378, 2.20267438, 1.88510446,\n",
       "       0.29102772, 1.70051258, 2.21212111, 2.13883092, 2.1451908 ,\n",
       "       1.97469759, 2.26720147, 1.88162232, 1.42696804, 2.25712695,\n",
       "       2.52471832, 1.97695667, 1.87548128, 1.84748641, 2.20544892,\n",
       "       1.82778482, 1.44969965, 2.16087538, 1.40675123, 2.00667799,\n",
       "       1.70564747, 2.16240175, 2.02163647, 2.11392178, 2.23222204,\n",
       "       2.15105954, 2.45629093, 2.00557806, 2.22105494, 2.27789903,\n",
       "       1.89810737, 1.89251886, 1.98063131, 1.80667961, 2.21766275,\n",
       "       1.70978085, 1.74088644, 2.24233561, 2.22601446, 2.33680995,\n",
       "       1.86097337, 1.93847246, 1.72882721, 1.97451124, 1.96128739,\n",
       "       1.94965032, 2.20948595, 2.19504057, 1.66372657, 1.90483366,\n",
       "       1.86638079, 2.45014687, 2.22973761, 1.84697168, 1.90408302,\n",
       "       1.9533915 , 1.95201537, 2.13635465, 2.22114862, 2.22172474,\n",
       "       2.00736208, 1.59060787, 2.01276431, 1.94958303, 2.28070513,\n",
       "       1.96910886, 2.29457948, 1.94366505, 1.9791396 , 1.96962469,\n",
       "       1.77873095, 2.232528  , 2.20065114, 2.21236174, 2.18044868,\n",
       "       1.80315024, 2.22817929, 1.99163594, 1.75557299, 1.66878685,\n",
       "       2.04319324, 1.78034368, 1.93986863, 1.93960323, 1.73789784,\n",
       "       2.18664998, 1.99294206, 2.3042507 , 1.44446537, 2.18196423,\n",
       "       2.26487555, 2.02882375, 1.87982908, 1.72756517, 2.15007456,\n",
       "       2.001732  , 2.02334398, 1.85232742, 1.63245605, 2.16771681,\n",
       "       1.5389763 , 1.93395534, 1.914403  , 2.12450096, 2.24675544,\n",
       "       1.79806446, 1.86972244, 1.92275554, 1.09910592, 2.1871242 ,\n",
       "       2.23276775, 2.26911551, 2.24767668, 2.15533402, 1.85549851,\n",
       "       2.06975496, 1.79531965, 1.79042579, 2.04853783, 2.24141097,\n",
       "       2.23994653, 1.92948661, 1.69745205, 2.17298319, 1.89115155,\n",
       "       2.089789  , 2.1306229 , 1.92490056, 2.13916205, 2.22855187,\n",
       "       2.05199161, 1.92154404, 2.00870861, 1.95400941, 1.96127573,\n",
       "       2.01283011, 1.88311848, 1.92039971, 2.18811166, 1.88248074,\n",
       "       1.77399945, 2.22510827, 2.01686016, 2.3026786 , 2.14862144,\n",
       "       2.01773503, 1.77540769, 2.17023438, 2.01749954, 2.07488931,\n",
       "       2.16945854, 2.04726566, 1.75349651, 2.24839454, 1.76049504,\n",
       "       2.10635835, 2.00031605, 2.29283924, 1.95765135, 2.28276227,\n",
       "       2.1971991 , 2.26509621, 1.65930921, 2.28320203, 2.23300561,\n",
       "       2.15872908, 2.27486966, 2.12026198, 2.18176042, 2.04148766,\n",
       "       2.03935551, 1.96409036, 2.36028769, 2.26406888, 2.11292662,\n",
       "       2.06106575, 2.01258237, 2.25507635, 2.2206645 , 1.9433006 ,\n",
       "       2.05885755, 2.16110992, 2.20170492, 2.06985835, 2.19199823,\n",
       "       1.87554579, 1.75940148, 2.04698328, 2.23927594, 1.84929027,\n",
       "       2.11449483, 1.92712023, 1.8548725 , 2.11444522, 1.76979393,\n",
       "       2.15433727, 2.09466041, 2.10531694, 2.23552248, 1.9583829 ,\n",
       "       2.14478289, 1.89249989, 2.1101116 , 1.77165975, 2.28388905,\n",
       "       2.21521996, 2.00300669, 2.36870927, 1.9740961 , 0.96448218,\n",
       "       2.28825081, 1.88729915, 2.19079973, 2.16120094, 1.99823149,\n",
       "       1.9623317 , 1.70378391, 2.21675323, 1.80800407, 1.94912406,\n",
       "       2.2821082 , 1.93482369, 2.17350257, 1.57349919, 2.25720935,\n",
       "       2.26277059, 1.908747  , 1.94965368, 2.27190037, 2.10064548,\n",
       "       1.94124206, 2.16063679, 2.01795132, 2.27129781, 1.78428473,\n",
       "       2.06416296, 1.730061  , 2.13731004, 1.80803396, 1.85009762,\n",
       "       2.02550512, 2.19426799, 1.92458738, 2.04303616, 2.05769416,\n",
       "       2.17649603, 2.0562991 , 2.18131858, 2.29613979, 1.98893796,\n",
       "       2.19002037, 1.72885725, 1.95337928, 1.96711446, 2.01722316,\n",
       "       2.2968893 , 1.97700501, 2.32483393, 2.37753822, 2.28293469,\n",
       "       2.1531606 , 1.86241651, 2.14162891, 2.23462459, 2.24559908,\n",
       "       2.21975689, 2.01943772, 2.1911277 , 2.07116797, 1.93203977,\n",
       "       2.22226561, 2.22817836, 2.24709741, 1.64634493, 2.10574452,\n",
       "       1.82369417, 2.2340261 , 1.86521938, 1.69198146, 2.24272969,\n",
       "       1.75259822, 1.67952041, 2.17377748, 1.85734795, 2.23600961,\n",
       "       2.11184442, 2.24214449, 1.9550645 , 1.86695676, 1.68979366,\n",
       "       2.19875092, 2.17357128, 1.74978663, 1.99487116, 1.89569507,\n",
       "       1.85791926, 2.19406625, 2.23805923, 1.93520242, 2.29299385,\n",
       "       2.07590588, 2.30071991, 1.87487473, 2.21873969, 1.76048735,\n",
       "       1.74103026, 2.01456986, 1.97876971, 2.21381898, 2.42296468,\n",
       "       1.94102337, 1.93199781, 2.21653728, 2.18613895, 2.171653  ,\n",
       "       2.27412452, 1.91065933, 2.21818315, 2.16221377, 2.26135214,\n",
       "       2.22693342, 2.19268417, 1.68281399, 2.26712523, 2.0229294 ,\n",
       "       2.23020874, 2.14799984, 1.96694739, 1.93160501, 2.11642814,\n",
       "       2.29379558, 2.27010823, 1.96926606, 2.05134948, 1.98940072,\n",
       "       2.22675416, 2.04672759, 1.93803072, 1.86888149, 2.15829656,\n",
       "       2.04878496, 2.19504057, 1.52716232, 1.61937328, 2.26730363,\n",
       "       2.26560199, 1.71089504, 2.27603544, 2.14877002, 2.27234387,\n",
       "       2.23020874, 2.11406713, 1.87556819, 1.80889155, 2.17221403,\n",
       "       2.2356289 , 1.88302745, 2.14787432, 2.21975886, 1.99031347,\n",
       "       1.8041292 , 2.19420261, 1.91459756, 2.25371029, 2.12722335,\n",
       "       1.75099738, 1.96956812, 1.96203703, 1.80887791, 1.88255388,\n",
       "       1.50805961, 2.30179548, 2.22454119, 1.7333206 , 1.85414106,\n",
       "       2.39399231, 1.68879801, 1.80704457, 1.80345278, 2.18671288,\n",
       "       1.91686526, 2.21797075, 1.90498611, 2.24926993, 2.25937254,\n",
       "       1.56314463, 1.88402546, 2.24642898, 2.13919189, 1.91188864,\n",
       "       1.89704885, 1.86589349, 1.89942837, 2.01785926, 2.14668193,\n",
       "       1.8830308 , 2.18443127, 1.87325438, 2.18438971, 2.12229304,\n",
       "       2.10619398, 2.13791103, 2.33398766, 1.97695668, 2.01598771,\n",
       "       2.30602969, 2.06949837, 1.87692091, 1.81761279, 2.17510913,\n",
       "       1.98576992, 1.93396118, 1.88230565, 2.04658456, 1.60079301,\n",
       "       1.97253175, 1.98478143, 2.30834819, 1.78263784, 2.25808468,\n",
       "       1.49570595, 2.22956711, 1.33285485, 2.25731113, 2.29212983,\n",
       "       2.26225057, 2.21434948, 2.17831377, 1.80179332, 2.25101052,\n",
       "       1.81546545, 1.94508014, 2.24764104, 1.70734284, 2.2819347 ,\n",
       "       2.18008014, 2.32129733, 2.1330566 , 1.86518031, 2.0300498 ,\n",
       "       2.25448719, 1.9651032 , 1.67824185, 2.15508567, 1.94617525,\n",
       "       1.89835396, 2.01659392, 1.8437604 , 1.91383403, 1.87835295,\n",
       "       1.92777878, 2.22824335, 1.95064056, 1.68238682, 1.82162418,\n",
       "       1.86386535, 1.76130581, 2.29299385, 1.803409  , 2.18959352,\n",
       "       1.68768161, 2.06673193, 1.86784886, 2.28531616, 2.24032707,\n",
       "       1.84431482, 2.12448376, 1.99562567, 2.20037144, 1.68362078,\n",
       "       2.13694158, 1.91841725, 1.84265499, 1.96969229, 2.21920195,\n",
       "       1.99040609, 2.01705181, 2.01388175, 1.37217595, 2.29839057,\n",
       "       2.22207707, 2.21763749, 1.72449182, 2.52445622, 2.0076674 ,\n",
       "       2.28588739, 1.84936576, 1.78998945, 1.97318592, 2.52105432,\n",
       "       2.2261319 , 1.29389952, 2.17947724, 2.07742478, 1.92777329,\n",
       "       1.91961432, 2.23083237, 1.82032372, 2.20393397, 2.10197618])"
      ]
     },
     "execution_count": 758,
     "metadata": {},
     "output_type": "execute_result"
    }
   ],
   "source": [
    "predict_lm_log = linear_model.predict(test_log_df)\n",
    "predict_lm_log"
   ]
  },
  {
   "cell_type": "code",
   "execution_count": 759,
   "metadata": {},
   "outputs": [
    {
     "data": {
      "text/plain": [
       "array([ 8.86283952,  9.20548037,  8.57752182,  8.04713641,  8.38479524,\n",
       "        4.75567541,  5.09581677,  7.77855106,  8.46856608,  8.95232542,\n",
       "        6.50540532,  6.96539745,  8.55350287,  4.96952205,  3.19196194,\n",
       "        6.72863028,  7.40899034,  4.87973318, 10.6079091 ,  6.16432593,\n",
       "        5.48488929,  4.95063924,  6.14387033,  6.60302013,  4.63563151,\n",
       "        6.59795359,  7.20163957,  8.30699688,  8.33228857,  7.97447916,\n",
       "        7.41403786,  4.97523406,  9.21372407,  7.57856788,  3.9679135 ,\n",
       "        8.51108037,  8.2522212 ,  9.77761462,  6.35284367,  6.76039212,\n",
       "        8.75251602,  8.39665012,  8.53040474,  5.40660966,  5.96533398,\n",
       "        4.92492027,  4.18154614,  6.38589465,  5.98872375,  4.12805361,\n",
       "        1.14842312,  5.18833431,  7.33563666, 10.02240714,  8.58086133,\n",
       "        5.78842572,  8.36671788,  9.58264917,  9.076604  ,  8.2117157 ,\n",
       "        8.78685974,  9.86674629,  5.01560535,  8.07676523,  8.72018692,\n",
       "        5.66672195,  5.19604074,  5.04443898,  6.75320285,  6.16383581,\n",
       "        7.24392658,  5.45984775,  6.02828437,  7.04568711,  5.31608221,\n",
       "        5.57602665,  5.62779437,  8.84389476,  8.57262677,  7.00817625,\n",
       "        8.40753934,  5.24745556,  5.61346781,  5.94953401,  3.42958617,\n",
       "        5.84386565,  7.57716075, 10.16254611,  3.97514814,  6.03255868,\n",
       "        8.56492858,  9.05095967,  7.80724108,  5.58023226,  7.4329999 ,\n",
       "        6.08195298,  7.56272573,  8.55273587,  5.33210224,  5.91816002,\n",
       "        7.92576917,  6.86482111,  4.25462228,  6.92101072,  7.52497333,\n",
       "        8.3018075 ,  7.74359689,  5.60067789,  7.81808768,  5.11384175,\n",
       "        4.63843958,  6.19827424,  5.00726818,  5.82391937,  7.52630678,\n",
       "        8.25333627,  6.12239383,  9.53184787,  5.33878327,  7.35052995,\n",
       "        5.09907213,  5.97459488,  8.30321956,  5.07337957,  9.35644214,\n",
       "        7.29246684,  5.52480874,  8.88593242,  8.54929658,  6.4406767 ,\n",
       "        6.56177458,  6.59997658,  8.93413859,  8.24550978,  1.05612764,\n",
       "        6.61777801,  5.31549946,  7.01347466,  8.16377533,  5.81494924,\n",
       "        8.22796131,  6.15223504,  8.27468395,  5.81949307,  8.48979205,\n",
       "        6.70320909,  6.03909648,  8.74143375,  5.76744498,  9.64724139,\n",
       "        8.22830588,  8.04709943,  4.92092958,  8.19139433,  7.47249867,\n",
       "        9.04423257,  6.87015008,  5.16559747,  6.72818525,  5.99418689,\n",
       "        8.70165294,  8.9896795 ,  6.30870419,  8.73443587,  7.93258844,\n",
       "        8.357077  ,  5.21766434,  7.44920022,  6.33380471,  7.5598364 ,\n",
       "        8.10853809,  7.24888196,  6.26930503,  8.82068807,  4.86905234,\n",
       "        4.5432539 ,  8.494522  ,  6.06921915,  6.03944368,  6.0035797 ,\n",
       "        6.23751064,  0.38808058, 10.65638128,  8.04918208,  5.58704249,\n",
       "        0.33780167,  4.47675397,  8.13507234,  7.48950691,  7.54367117,\n",
       "        6.2044406 ,  8.65235063,  5.56414537,  3.16604871,  8.55559598,\n",
       "       11.48737736,  6.22073446,  5.52395819,  5.3438536 ,  8.07432434,\n",
       "        5.22009279,  3.26183426,  7.67873153,  3.08267018,  6.43856528,\n",
       "        4.50494881,  7.69198863,  6.55067124,  7.28065255,  8.32055373,\n",
       "        7.59395922, 10.66147796,  6.43038784,  8.21704916,  8.75616147,\n",
       "        5.6732525 ,  5.63606294,  6.24731685,  5.09019201,  8.18583619,\n",
       "        4.52774995,  4.70239603,  8.41529608,  8.26287487,  9.34817264,\n",
       "        5.42999249,  5.94812931,  4.63404248,  6.20309823,  6.10847252,\n",
       "        6.02623019,  8.11103167,  7.98036538,  4.27894662,  5.71829004,\n",
       "        5.46485633, 10.59004879,  8.29742623,  5.34058912,  5.71324887,\n",
       "        6.05256586,  6.0428673 ,  7.4685106 ,  8.21791267,  8.2232248 ,\n",
       "        6.44365567,  3.90673069,  6.48397681,  6.02575747,  8.78357667,\n",
       "        6.16428926,  8.92026351,  5.98430193,  6.23651398,  6.16798579,\n",
       "        4.9223359 ,  8.3234059 ,  8.030892  ,  8.13727083,  7.85027632,\n",
       "        5.06873533,  8.28294909,  6.3275113 ,  4.78676255,  4.30572724,\n",
       "        6.71520645,  4.93189474,  5.95783689,  5.95599049,  4.6853793 ,\n",
       "        7.90533009,  6.3370882 ,  9.01666991,  3.23958492,  7.86369949,\n",
       "        8.62992604,  6.60513554,  5.55238484,  4.6269366 ,  7.58549847,\n",
       "        6.40186505,  6.56357511,  5.37463871,  4.1164255 ,  7.73831004,\n",
       "        3.65981756,  5.91681459,  5.7828882 ,  7.36872012,  8.45700216,\n",
       "        5.03794945,  5.48649574,  5.83977979,  2.00148125,  7.90955411,\n",
       "        8.32564141,  8.67084331,  8.46571838,  7.63077255,  5.39488537,\n",
       "        6.92288149,  5.02139915,  4.99200324,  6.75655138,  8.40659437,\n",
       "        8.39282908,  5.88597412,  4.46001778,  7.78445072,  5.62699562,\n",
       "        7.08320939,  7.42011003,  5.854467  ,  7.49231851,  8.28640842,\n",
       "        6.78338714,  5.83149846,  6.45368551,  6.05692507,  6.10838967,\n",
       "        6.48446929,  5.57397372,  5.82368539,  7.91835629,  5.56978258,\n",
       "        4.89438059,  8.25448472,  6.51469292,  9.00093511,  7.57303181,\n",
       "        6.52127021,  4.90268714,  7.76033708,  6.51949916,  6.96366494,\n",
       "        7.75354309,  6.74669004,  4.7747589 ,  8.47251587,  4.81531548,\n",
       "        7.21825872,  6.39139179,  8.9030148 ,  6.08267281,  8.80372353,\n",
       "        7.9997707 ,  8.63205125,  4.255679  ,  8.80803578,  8.32785993,\n",
       "        7.66012436,  8.72665116,  7.33332037,  7.86189321,  6.7020587 ,\n",
       "        6.68565426,  6.12842533,  9.59399877,  8.622161  ,  7.27241612,\n",
       "        6.85433615,  6.48261527,  8.53602139,  8.21345115,  5.98175696,\n",
       "        6.83701132,  7.68076728,  8.04041359,  6.92370064,  7.95308556,\n",
       "        5.52437908,  4.8089596 ,  6.74450285,  8.38653244,  5.35530734,\n",
       "        7.28539915,  5.86969856,  5.39088338,  7.28498815,  4.86964371,\n",
       "        7.62217411,  7.12268209,  7.20970461,  8.35136651,  6.08785604,\n",
       "        7.54018688,  5.63593707,  7.24916182,  4.88060561,  8.81477648,\n",
       "        8.16342446,  6.41130615,  9.68359379,  6.2001085 ,  1.62342883,\n",
       "        8.85767962,  5.60151486,  7.9423617 ,  7.68155742,  6.37600003,\n",
       "        6.1158999 ,  4.49469956,  8.1774853 ,  5.09826358,  6.02253359,\n",
       "        8.79731332,  5.92282339,  7.78901432,  3.82349701,  8.5563834 ,\n",
       "        8.6096768 ,  5.74463246,  6.02625382,  8.6978127 ,  7.17144274,\n",
       "        5.96739954,  7.67666112,  6.52289715,  8.69197101,  4.95531874,\n",
       "        6.87870034,  4.640998  ,  7.47660522,  5.09844583,  5.36044039,\n",
       "        6.57993876,  7.97343   ,  5.85232071,  6.7139946 ,  6.82789913,\n",
       "        7.81536327,  6.81698633,  7.85797854,  8.93575422,  6.30776847,\n",
       "        7.93539515,  4.63421173,  6.05247966,  6.15001503,  6.51742124,\n",
       "        8.94320396,  6.22108351,  9.2249819 ,  9.77833629,  8.80541404,\n",
       "        7.61203467,  5.43927854,  7.51329369,  8.3429737 ,  8.44607282,\n",
       "        8.20509278,  6.53408751,  7.94529505,  6.93408448,  5.90357763,\n",
       "        8.22821476,  8.28294052,  8.46023675,  4.18798269,  7.2132156 ,\n",
       "        5.19470052,  8.33738373,  5.45735234,  4.43022983,  8.41900717,\n",
       "        4.76957385,  4.36298332,  7.79143084,  5.40672329,  8.35592296,\n",
       "        7.26346853,  8.41349684,  6.06437468,  5.46858099,  4.41836255,\n",
       "        8.01374758,  7.78961828,  4.75337494,  6.3512558 ,  5.65717402,\n",
       "        5.41038452,  7.97161988,  8.37511865,  5.92544578,  8.90454611,\n",
       "        6.97176467,  8.98136555,  5.52000228,  8.19573408,  4.81527079,\n",
       "        4.70321621,  6.4975017 ,  6.23383782,  8.15059571, 10.27924917,\n",
       "        5.96587601,  5.90328796,  8.17550362,  7.90078034,  7.77277342,\n",
       "        8.71940612,  5.75754275,  8.19061772,  7.69035483,  8.59605565,\n",
       "        8.27139096,  7.95922899,  4.38067583,  8.65161472,  6.56044007,\n",
       "        8.3018075 ,  7.56770444,  6.1488206 ,  5.90057686,  7.30143291,\n",
       "        8.91248998,  8.68044843,  6.16541557,  6.77839081,  6.31115102,\n",
       "        8.26972912,  6.74252289,  5.94506075,  5.48104324,  7.65637947,\n",
       "        6.75846854,  7.98036538,  3.60509051,  4.04992445,  8.65333673,\n",
       "        8.63692417,  4.53391235,  8.73799689,  7.5743057 ,  8.70211465,\n",
       "        8.3018075 ,  7.28185624,  5.52452525,  5.10367807,  7.77769664,\n",
       "        8.35236169,  5.57337532,  7.56662911,  8.20511084,  6.31782729,\n",
       "        5.07467931,  7.97284332,  5.784208  ,  8.5230035 ,  7.39153411,\n",
       "        4.76034504,  6.16758026,  6.11380336,  5.10359483,  5.57026311,\n",
       "        3.5179557 ,  8.99210701,  8.24923817,  4.65941541,  5.38621051,\n",
       "        9.95715113,  4.41297045,  5.0924151 ,  5.0705717 ,  7.90589022,\n",
       "        5.79961002,  8.1886658 ,  5.71931432,  8.48081166,  8.57707809,\n",
       "        3.77380955,  5.5799389 ,  8.45391536,  7.49257188,  5.76585498,\n",
       "        5.66619244,  5.46170677,  5.68207369,  6.52220457,  7.55642048,\n",
       "        5.57339738,  7.8855936 ,  5.50944618,  7.88522433,  7.35026301,\n",
       "        7.21690798,  7.48170106,  9.31900826,  6.22073453,  6.50813958,\n",
       "        9.03450539,  6.92084882,  5.53335705,  5.15714252,  7.8031458 ,\n",
       "        6.2846538 ,  5.91685493,  5.5686324 ,  6.74141555,  3.95696178,\n",
       "        6.18885381,  6.27745661,  9.05779736,  4.9455191 ,  8.5647521 ,\n",
       "        3.46248573,  8.29584111,  2.7918531 ,  8.55735613,  8.89599203,\n",
       "        8.60468083,  8.15545139,  7.83140192,  5.06050616,  8.49732821,\n",
       "        5.14393523,  5.99419235,  8.46538104,  4.51428965,  8.79561362,\n",
       "        7.84701522,  9.18888408,  7.44062705,  5.45710004,  6.61446554,\n",
       "        8.53040474,  6.13564896,  4.35613081,  7.62862937,  6.00185597,\n",
       "        5.67489823,  6.51269246,  5.32026037,  5.77903001,  5.54271979,\n",
       "        5.87422408,  8.28354381,  6.03319134,  4.3783779 ,  5.18189081,\n",
       "        5.44861482,  4.82003231,  8.90454611,  5.07030589,  7.93158186,\n",
       "        4.40693081,  6.89896655,  5.47435415,  8.82879317,  8.3964041 ,\n",
       "        5.32376542,  7.36857615,  6.35680455,  8.02836634,  4.38501869,\n",
       "        7.47348253,  5.81017116,  5.3132777 ,  6.16847033,  8.19998592,\n",
       "        6.31850516,  6.51613327,  6.49234441,  2.94392315,  8.95814259,\n",
       "        8.22647497,  8.1856041 ,  4.60966956, 11.48410484,  6.44592868,\n",
       "        8.83440927,  5.35578715,  4.98938929,  6.19355809, 11.44170726,\n",
       "        8.26396279,  2.64698035,  7.84168295,  6.98388216,  5.87418637,\n",
       "        5.81832829,  8.30761027,  5.17385673,  8.06058753,  7.1823237 ])"
      ]
     },
     "execution_count": 759,
     "metadata": {},
     "output_type": "execute_result"
    }
   ],
   "source": [
    "predict_lm_log = np.expm1(predict_lm_log)\n",
    "predict_lm_log"
   ]
  },
  {
   "cell_type": "code",
   "execution_count": 775,
   "metadata": {},
   "outputs": [
    {
     "data": {
      "text/plain": [
       "array([2.18283312, 2.2099005 , 2.11275479, 2.1707959 , 2.18398643,\n",
       "       1.8219059 , 1.78990431, 2.19665072, 2.20897424, 2.180855  ,\n",
       "       1.94274631, 2.07490526, 2.17744876, 1.93545092, 1.38189251,\n",
       "       1.94853105, 2.22672382, 1.92693104, 2.37166021, 1.90165444,\n",
       "       1.8316611 , 1.74417269, 1.94369654, 1.95283833, 1.94396482,\n",
       "       2.14217152, 2.16300266, 2.2015406 , 2.16692123, 2.28416095,\n",
       "       2.18059167, 1.78129734, 2.2112207 , 2.11243396, 1.62959343,\n",
       "       2.18355835, 2.22116032, 2.33795437, 1.89179997, 2.09469655,\n",
       "       2.21758168, 2.24737944, 2.13057147, 1.94685625, 1.84542677,\n",
       "       1.92344495, 1.84456798, 1.92576026, 1.8316631 , 1.55949522,\n",
       "       0.70240617, 1.94668681, 2.16150235, 2.24035762, 2.14846297,\n",
       "       2.08760619, 2.12661096, 2.33350629, 2.20100954, 2.14281641,\n",
       "       2.21737005, 2.333287  , 1.94457043, 2.22742798, 2.14929996,\n",
       "       1.87548844, 1.94843039, 1.76522074, 2.09156781, 2.15426416,\n",
       "       2.13475472, 1.93002734, 2.11418902, 2.09979917, 1.8453394 ,\n",
       "       1.85000641, 1.78737501, 2.23068221, 2.20541912, 1.94641459,\n",
       "       2.17119461, 1.84456798, 1.80482856, 1.84354347, 1.42925972,\n",
       "       1.96196357, 2.10680667, 2.30803465, 1.68475196, 1.93902975,\n",
       "       2.17395426, 2.19192625, 2.15374905, 1.86155736, 2.13542444,\n",
       "       1.89659   , 2.19077327, 2.1918188 , 1.946209  , 1.94138949,\n",
       "       2.22490628, 1.94379217, 1.67899719, 2.16064514, 2.14327173,\n",
       "       2.25425431, 2.24395225, 1.85827665, 2.11184304, 1.8117273 ,\n",
       "       1.93631303, 1.95471818, 1.83187156, 2.0685089 , 2.1003068 ,\n",
       "       2.11397867, 2.07947793, 2.22420329, 1.8808282 , 2.16064749,\n",
       "       1.9446072 , 2.06879839, 2.12311205, 1.7825352 , 2.19814941,\n",
       "       2.13129272, 1.81339958, 2.21682213, 2.18883418, 1.94147172,\n",
       "       2.10788856, 1.91061935, 2.21117385, 2.17195528, 0.64401643,\n",
       "       1.94673096, 1.95251831, 2.19378585, 2.15723108, 1.87958243,\n",
       "       2.20364661, 1.97843717, 2.11576283, 1.93850442, 2.1815278 ,\n",
       "       1.94791023, 2.08311611, 2.21729498, 2.13705908, 2.26143553,\n",
       "       2.16299229, 2.20589324, 1.76917419, 2.17165598, 2.15574104,\n",
       "       2.20021991, 2.07604588, 1.90732006, 2.06580363, 2.08066532,\n",
       "       2.17305375, 2.22222286, 2.07214305, 2.35246397, 2.1365831 ,\n",
       "       2.17796013, 1.95267057, 2.1582588 , 1.93629763, 2.11586869,\n",
       "       2.20721848, 2.16614919, 2.12837114, 2.17894177, 1.94522974,\n",
       "       1.70224548, 2.18263642, 1.88666349, 1.90154776, 1.91530175,\n",
       "       2.11163808, 0.34417677, 2.28873217, 2.14712005, 2.01688518,\n",
       "       0.32805645, 1.96911489, 2.18203149, 2.16182726, 2.16268955,\n",
       "       1.93853823, 2.20378409, 1.84883456, 1.37576186, 2.16334962,\n",
       "       2.53399503, 2.10897566, 1.79014653, 1.76156774, 2.11030725,\n",
       "       1.95207804, 1.39973109, 2.1037588 , 1.43416728, 2.140442  ,\n",
       "       1.68785372, 2.16734707, 1.95283833, 2.13076359, 2.18746098,\n",
       "       2.11525586, 2.29313626, 2.0837978 , 2.1548087 , 2.17583354,\n",
       "       1.94074829, 1.84387417, 2.13550552, 1.75310849, 2.19314191,\n",
       "       1.73220902, 1.94144624, 2.18998178, 2.21316908, 2.22558915,\n",
       "       1.85063691, 1.8851131 , 1.80154937, 2.10590551, 1.94041085,\n",
       "       2.07899382, 2.25608472, 2.16212306, 1.80406987, 1.84384991,\n",
       "       1.94439683, 2.33324487, 2.1725924 , 1.82368228, 1.89893392,\n",
       "       1.90835357, 2.08004187, 2.07836939, 2.15978465, 2.19330263,\n",
       "       2.14214683, 1.57710285, 2.15956032, 2.07837023, 2.21976432,\n",
       "       2.25636602, 2.18562246, 1.92239451, 2.07471469, 1.94616052,\n",
       "       1.77858599, 2.14605057, 2.21773004, 2.18178654, 2.1717851 ,\n",
       "       1.74842993, 2.11620326, 1.92903346, 1.9305545 , 1.79847337,\n",
       "       2.04780335, 1.91444877, 1.88493471, 2.12177992, 1.94651768,\n",
       "       2.20169514, 1.91143609, 2.30597179, 1.3738249 , 2.17738696,\n",
       "       2.15455744, 1.94988411, 1.94627536, 1.912758  , 2.204643  ,\n",
       "       1.93849364, 2.05424515, 1.74031957, 1.62909372, 2.18719136,\n",
       "       1.77656884, 1.93255926, 1.88868409, 2.13788381, 2.36504994,\n",
       "       1.74754278, 1.81104714, 1.90051046, 0.99146671, 2.14819736,\n",
       "       2.14619553, 2.20824261, 2.2489824 , 2.1033971 , 1.83435627,\n",
       "       1.84061122, 1.94627439, 1.78211504, 2.11703121, 2.15924024,\n",
       "       2.21012463, 1.89993658, 1.64313456, 2.23388308, 1.8026519 ,\n",
       "       2.03735926, 2.16194369, 2.058371  , 2.1869955 , 2.11687905,\n",
       "       2.12716056, 1.90345376, 1.93635974, 2.08395533, 1.95135749,\n",
       "       1.94424318, 1.95261543, 2.18276081, 2.12310507, 1.84976687,\n",
       "       1.81957122, 2.180846  , 1.94332683, 2.20640912, 2.11601997,\n",
       "       1.94413787, 1.79409822, 2.20506184, 2.11174999, 2.16594801,\n",
       "       2.15798931, 2.21035491, 1.94707844, 2.14522024, 1.88955028,\n",
       "       2.08889206, 2.13391474, 2.29819916, 2.08844246, 2.1654554 ,\n",
       "       2.13749891, 2.18458925, 1.93780263, 2.13286577, 2.18619162,\n",
       "       2.11816063, 2.1854855 , 2.16007886, 2.26669796, 2.1673923 ,\n",
       "       1.93685326, 1.83475296, 2.16213389, 2.20073182, 2.12468143,\n",
       "       2.1465958 , 1.94594318, 2.19077144, 2.27463014, 2.14758391,\n",
       "       2.04326943, 2.15702697, 2.16574465, 2.12544593, 2.19777349,\n",
       "       1.88588095, 1.94718116, 1.94168511, 2.23963924, 1.81179749,\n",
       "       2.09978619, 1.82836296, 1.79880134, 2.16007886, 1.94621673,\n",
       "       2.09573856, 2.10358498, 2.16619318, 2.14624992, 2.08736274,\n",
       "       2.1738461 , 1.93300777, 2.15036355, 2.05276495, 2.21278184,\n",
       "       2.14735893, 2.13718036, 2.25894193, 2.10611885, 0.93335581,\n",
       "       2.32811789, 1.83159343, 1.95632938, 2.17051918, 2.09562124,\n",
       "       1.91948332, 1.89077247, 2.24370271, 1.75624173, 1.86043131,\n",
       "       2.17571433, 2.06786237, 2.04772522, 1.77450667, 2.1730737 ,\n",
       "       2.19479373, 2.0685089 , 2.08078138, 2.18681923, 2.17941868,\n",
       "       2.07862494, 2.18687586, 2.07377999, 2.16435575, 1.93846889,\n",
       "       2.12106504, 1.70489517, 2.19913663, 1.82403606, 1.93997957,\n",
       "       2.10883089, 2.21946918, 1.95251041, 2.1101295 , 2.0089216 ,\n",
       "       2.17043473, 1.94752183, 2.21705758, 2.26291412, 1.95022321,\n",
       "       2.16768179, 1.79807477, 1.93820241, 2.01866295, 1.94471585,\n",
       "       2.23281589, 2.12593942, 2.1661178 , 2.17560756, 2.21921231,\n",
       "       2.34415064, 1.85730353, 2.17128779, 2.19096936, 2.28026035,\n",
       "       2.11333688, 2.02578687, 2.18686574, 2.03826154, 2.15930417,\n",
       "       2.17454979, 2.17187604, 2.24868385, 1.67010653, 2.13896293,\n",
       "       1.90104485, 2.26460654, 1.94045592, 1.83240224, 2.26929254,\n",
       "       1.74395183, 1.68333236, 2.31848405, 1.8440535 , 2.18895386,\n",
       "       2.12369195, 2.21058705, 1.88707914, 1.89704254, 1.68383449,\n",
       "       2.13669909, 2.21172734, 1.70336691, 1.92384727, 1.94004171,\n",
       "       1.83361487, 2.16094671, 2.12434919, 2.11459427, 2.17623084,\n",
       "       2.19718843, 2.19808282, 1.9195416 , 2.15238628, 1.70336296,\n",
       "       1.73385251, 1.95352282, 2.16580073, 2.16956569, 2.25433507,\n",
       "       2.13495735, 2.06450159, 2.21835445, 2.16555687, 2.18965068,\n",
       "       2.17129247, 1.91261792, 2.1660377 , 2.16496413, 2.24452824,\n",
       "       2.11670428, 2.15640065, 1.94703709, 2.15946476, 2.07831282,\n",
       "       2.25425431, 2.15397603, 1.94748124, 1.90835357, 2.1910249 ,\n",
       "       2.17762406, 2.28448101, 2.14260927, 2.08827207, 2.07343527,\n",
       "       2.1683515 , 1.92953381, 2.08346883, 1.94621946, 2.19380964,\n",
       "       1.97079167, 2.16212306, 1.39959676, 1.67010653, 2.17687993,\n",
       "       2.18255098, 1.82744357, 2.17118309, 2.16589684, 2.28045531,\n",
       "       2.25425431, 2.14697489, 2.08076118, 1.80259644, 2.19459884,\n",
       "       2.17290055, 1.74922456, 2.19636434, 2.18616518, 1.94983188,\n",
       "       1.75385517, 2.20322679, 1.89070953, 2.12612617, 2.08970705,\n",
       "       1.7496714 , 2.08434235, 1.94237274, 1.81440094, 1.92629197,\n",
       "       1.52507565, 2.17283196, 2.16427119, 1.68240732, 1.81743154,\n",
       "       2.33491482, 1.67696271, 1.93895828, 1.77012979, 2.18256824,\n",
       "       2.09684011, 2.1677688 , 1.95207804, 2.16642287, 2.1987825 ,\n",
       "       1.77656884, 1.84697212, 2.18074177, 2.10093707, 2.12698756,\n",
       "       1.76942816, 1.83298009, 1.83961451, 2.15282539, 2.19391379,\n",
       "       1.84144261, 2.19249438, 1.81062336, 2.1132801 , 2.21897327,\n",
       "       2.12107758, 2.04179521, 2.23275946, 1.94156329, 2.05085447,\n",
       "       2.26863208, 2.10724968, 1.81769619, 1.80925725, 2.15737531,\n",
       "       1.91905064, 2.03995664, 1.84574449, 2.10994534, 1.59543193,\n",
       "       2.09750056, 1.94882807, 2.24475967, 1.77386879, 2.15581896,\n",
       "       1.43745491, 2.19602388, 1.33387397, 2.24107044, 2.17826091,\n",
       "       2.15233648, 2.18807614, 2.17258289, 1.8477058 , 2.16737415,\n",
       "       1.99524699, 2.07551657, 2.14090376, 1.70022406, 2.17658687,\n",
       "       2.11935874, 2.32917175, 2.25914865, 1.94139111, 1.93014979,\n",
       "       2.13057147, 1.94497556, 1.79194942, 2.0941078 , 2.16075026,\n",
       "       1.7681461 , 1.94571024, 1.85351814, 1.89574843, 1.95202902,\n",
       "       1.93168654, 2.23341082, 1.82149008, 1.81833791, 1.71272931,\n",
       "       1.89070953, 1.83425712, 2.17623084, 1.92890426, 2.20985526,\n",
       "       1.89838466, 2.14984139, 1.8482758 , 2.19339951, 2.27451992,\n",
       "       1.88695299, 2.08091066, 2.03635095, 2.1722865 , 1.93819986,\n",
       "       2.15702697, 1.92924732, 1.93000358, 2.08785668, 2.16531643,\n",
       "       1.91024615, 1.94530633, 1.83627258, 1.4727603 , 2.32979633,\n",
       "       2.11684716, 2.1621492 , 1.70907292, 2.33795437, 2.1469732 ,\n",
       "       2.18255888, 1.90831005, 1.7700019 , 1.9511    , 2.54641231,\n",
       "       2.17052479, 1.36129571, 2.17423857, 2.11497196, 2.05177014,\n",
       "       1.81748697, 2.18108312, 1.94424846, 2.13611195, 2.20058313])"
      ]
     },
     "execution_count": 775,
     "metadata": {},
     "output_type": "execute_result"
    }
   ],
   "source": [
    "predict_lmk15_log = linear_model.predict(test_log_df)\n",
    "predict_lmk15_log"
   ]
  },
  {
   "cell_type": "code",
   "execution_count": 776,
   "metadata": {},
   "outputs": [
    {
     "data": {
      "text/plain": [
       "array([ 7.87140445,  8.11480946,  7.27099481,  7.76525756,  7.88164184,\n",
       "        5.18363259,  4.98887938,  7.99483673,  8.10637062,  7.85387307,\n",
       "        5.97788813,  6.96379196,  7.82376599,  5.92716696,  2.98243129,\n",
       "        6.01837037,  8.26944787,  5.868399  ,  9.71516694,  5.69696498,\n",
       "        5.24425037,  4.72116634,  5.98452188,  6.04866568,  5.98639593,\n",
       "        7.51791439,  7.69721322,  8.03892813,  7.73136073,  8.81744546,\n",
       "        7.8515419 ,  4.93755446,  8.12685074,  7.26834164,  4.10180008,\n",
       "        7.87784056,  8.21802053,  9.36002212,  5.63129408,  7.12297565,\n",
       "        8.18509153,  8.46290516,  7.41967702,  6.00662582,  5.33080102,\n",
       "        5.84449685,  5.32536652,  5.86036237,  5.24426287,  3.75641971,\n",
       "        1.01860398,  6.00543875,  7.6841745 ,  8.39669115,  7.57167338,\n",
       "        7.06558456,  7.38639678,  9.31404223,  8.03412925,  7.52340925,\n",
       "        8.18314786,  9.31178067,  5.99062828,  8.27597734,  7.57885071,\n",
       "        5.52400491,  6.01766392,  4.84286199,  7.09760074,  7.62154373,\n",
       "        7.45497245,  5.8896986 ,  7.28286576,  7.16453008,  5.33024791,\n",
       "        5.35986027,  4.97375083,  8.30621275,  8.07405388,  6.00353201,\n",
       "        7.76875303,  5.32536652,  5.07892917,  5.31888944,  3.17560693,\n",
       "        6.11328075,  7.22194391,  9.05464432,  4.39111356,  5.95200252,\n",
       "        7.79298512,  7.95244114,  7.61710388,  5.43374861,  7.46063675,\n",
       "        5.66313437,  7.94212516,  7.95147929,  6.00209229,  5.96842682,\n",
       "        8.25261562,  5.98518982,  4.36017802,  7.67673357,  7.527291  ,\n",
       "        8.52818554,  8.43052955,  5.41267593,  7.26345712,  5.12101112,\n",
       "        5.93314153,  6.06192857,  5.2455647 ,  6.91301518,  7.16867567,\n",
       "        7.28112365,  7.00029111,  8.24611344,  5.5589347 ,  7.67675391,\n",
       "        5.99088528,  6.9153063 ,  7.35710476,  4.94490887,  8.00832738,\n",
       "        7.42575189,  5.13125571,  8.17811761,  7.9248023 ,  5.96899986,\n",
       "        7.23084398,  5.75727263,  8.1264232 ,  7.77542568,  0.90411327,\n",
       "        6.00574805,  6.04641033,  7.96910459,  7.6471612 ,  5.55076891,\n",
       "        8.05798432,  6.23143263,  7.29591172,  5.9483514 ,  7.85983201,\n",
       "        6.01401455,  7.02945064,  8.1824585 ,  7.47447817,  8.5968559 ,\n",
       "        7.69712307,  8.07835713,  4.86600716,  7.77279959,  7.6342862 ,\n",
       "        8.02699838,  6.97288074,  5.73501517,  6.89163734,  7.00979621,\n",
       "        7.78507057,  8.2278202 ,  6.94182462,  9.51143767,  7.47044543,\n",
       "        7.82827929,  6.04748326,  7.65605263,  5.93303471,  7.29678995,\n",
       "        8.0903961 ,  7.72462243,  7.40117129,  7.83694981,  5.99523878,\n",
       "        4.48625285,  7.8696596 ,  5.59731987,  5.69625062,  5.78898709,\n",
       "        7.26176363,  0.41082801,  8.86242587,  7.56016996,  6.51488094,\n",
       "        0.38826734,  6.16433248,  7.86429569,  7.68699656,  7.69449054,\n",
       "        5.94858631,  8.05922966,  5.35241183,  2.95809109,  7.70023137,\n",
       "       11.60375809,  7.23979664,  4.99033016,  4.82155691,  7.25077598,\n",
       "        6.04330866,  3.05410963,  7.1969227 ,  3.19614935,  7.50319525,\n",
       "        4.40786144,  7.73507974,  6.04866568,  7.42129474,  7.91255517,\n",
       "        7.29170703,  8.90595665,  7.03492611,  7.62623978,  7.80952513,\n",
       "        5.96396006,  5.32097942,  7.46132276,  4.77251863,  7.96333093,\n",
       "        4.65312802,  5.96882228,  7.93505032,  8.14465065,  8.25893614,\n",
       "        5.36387144,  5.58709937,  5.05902786,  7.21453798,  5.96161054,\n",
       "        6.99641903,  8.54564203,  7.68956656,  5.07431891,  5.32082609,\n",
       "        5.98941477,  9.3113463 ,  7.78101848,  5.19462683,  5.67877053,\n",
       "        5.74197949,  7.0048041 ,  6.99142735,  7.66927051,  7.96477161,\n",
       "        7.51770404,  3.84091064,  7.66732595,  6.99143409,  8.20516116,\n",
       "        8.54832765,  7.89618434,  5.83731087,  6.9622744 ,  6.00175281,\n",
       "        4.92147746,  7.55101999,  8.18645427,  7.86212466,  7.77393245,\n",
       "        4.74557463,  7.29956631,  5.88285444,  5.89333153,  5.04041895,\n",
       "        6.75085644,  5.78319868,  5.58592446,  7.34597945,  6.00425401,\n",
       "        8.04032511,  5.76279378,  9.03392442,  2.95043186,  7.82322066,\n",
       "        7.62407269,  6.02787304,  6.00255691,  5.7717395 ,  8.06701403,\n",
       "        5.9482765 ,  6.80094711,  4.6991644 ,  4.09925128,  7.91015256,\n",
       "        4.90954501,  5.90716486,  5.61066394,  7.48147021,  9.64457038,\n",
       "        4.7404797 ,  5.11684927,  5.68930819,  1.69518463,  7.56939693,\n",
       "        7.55225962,  8.09971058,  8.47808607,  7.1939584 ,  5.26110238,\n",
       "        5.30038801,  6.00255012,  4.94241156,  7.30644075,  7.66455217,\n",
       "        8.11685251,  5.68547041,  4.17135408,  8.33604838,  5.06571182,\n",
       "        6.67032709,  7.68800806,  6.83319916,  7.90840752,  7.30517698,\n",
       "        7.39100722,  5.70902584,  5.93346537,  7.0361919 ,  6.03823542,\n",
       "        5.98834092,  6.04709469,  7.87076301,  7.35704643,  5.35833704,\n",
       "        5.16921268,  7.85379344,  5.98194008,  8.08304166,  7.29804524,\n",
       "        5.98760502,  5.01404894,  8.07081248,  7.26268823,  7.72286732,\n",
       "        7.65372018,  8.11895219,  6.00818282,  7.54392278,  5.61639251,\n",
       "        7.07596254,  7.4478734 ,  8.95623676,  7.07233236,  7.71857146,\n",
       "        7.47820629,  7.88699748,  5.94347679,  7.43901646,  7.90124918,\n",
       "        7.31582754,  7.89496601,  7.6718215 ,  8.64749174,  7.73547479,\n",
       "        5.93688798,  5.26358658,  7.68966065,  8.03162061,  7.37023052,\n",
       "        7.5556835 ,  6.00023123,  7.94210878,  8.72432166,  7.56414165,\n",
       "        6.71579427,  7.64539642,  7.72109368,  7.37663202,  8.0049416 ,\n",
       "        5.59215923,  6.00890276,  5.97048712,  8.3899432 ,  5.12144078,\n",
       "        7.16442411,  5.22368989,  5.04240036,  7.6718215 ,  6.00214643,\n",
       "        7.13144432,  7.19549802,  7.72500621,  7.5527248 ,  7.06362121,\n",
       "        7.79203417,  5.91026346,  7.58798001,  6.78940872,  8.14111018,\n",
       "        7.56221513,  7.47550604,  8.57295494,  7.21629071,  1.54302879,\n",
       "        9.25861553,  5.24382782,  6.07331593,  7.76283236,  7.13049035,\n",
       "        5.8174351 ,  5.62448391,  8.42817657,  4.79063366,  5.42650802,\n",
       "        7.80847499,  6.90790089,  6.7502509 ,  4.89737106,  7.78524582,\n",
       "        7.97814894,  6.91301518,  7.01072593,  7.9068374 ,  7.84116523,\n",
       "        6.99346983,  7.90734181,  6.95483552,  7.70898934,  5.94810454,\n",
       "        7.34001518,  4.500809  ,  8.01722497,  5.1968188 ,  5.9586088 ,\n",
       "        7.2386038 ,  8.20244473,  6.04635466,  7.24930947,  6.45527323,\n",
       "        7.76209232,  6.01129086,  8.18027885,  8.61105614,  6.03025661,\n",
       "        7.73800403,  5.03801171,  5.94625321,  6.52825254,  5.99164493,\n",
       "        8.3260904 ,  7.38076688,  7.72434854,  7.80753461,  8.20008118,\n",
       "        9.42441488,  5.40643866,  7.76957013,  7.94387871,  8.77922609,\n",
       "        7.27581061,  6.58207468,  7.90725167,  6.67725104,  7.66510613,\n",
       "        7.79822321,  7.77473038,  8.47525678,  4.31273376,  7.49062773,\n",
       "        5.69288386,  8.6273359 ,  5.96192435,  5.24887994,  8.67255548,\n",
       "        4.71990289,  4.38346576,  9.16026013,  5.32211307,  7.92587056,\n",
       "        7.3619525 ,  8.12106935,  5.60006267,  5.66615039,  4.38616965,\n",
       "        7.47142798,  8.13147597,  4.49240875,  5.84725112,  5.95904124,\n",
       "        5.25646212,  7.67935063,  7.36745012,  7.28622314,  7.81302586,\n",
       "        7.99967466,  8.00772746,  5.81783247,  7.60536873,  4.49238705,\n",
       "        4.66242648,  6.05349208,  7.72158273,  7.75448106,  8.52895516,\n",
       "        7.45668578,  6.88136874,  8.19219218,  7.71945618,  7.9320924 ,\n",
       "        7.76961117,  5.770791  ,  7.72364976,  7.7142893 ,  8.43596298,\n",
       "        7.30372558,  7.63998326,  6.00789302,  7.66649777,  6.99097536,\n",
       "        8.52818554,  7.61906004,  6.01100629,  5.74197949,  7.94437554,\n",
       "        7.82531295,  8.82058815,  7.52164393,  7.0709571 ,  6.95209386,\n",
       "        7.74385787,  5.88629917,  7.03228324,  6.0021655 ,  7.96931801,\n",
       "        6.17635556,  7.68956656,  3.05356508,  4.31273376,  7.81874821,\n",
       "        7.86890179,  5.21797049,  7.76865198,  7.72242101,  8.78113286,\n",
       "        8.52818554,  7.55892748,  7.0105641 ,  5.06537541,  7.97639938,\n",
       "        7.78372478,  4.75014207,  7.99226117,  7.90101383,  6.02750602,\n",
       "        4.77683047,  8.05418239,  5.62406702,  7.38233212,  7.08254706,\n",
       "        4.752712  ,  7.03930268,  5.97528188,  5.13739843,  5.86401102,\n",
       "        3.59549123,  7.78312232,  7.70825293,  4.37848813,  5.15602662,\n",
       "        9.32858008,  4.34928397,  5.95150565,  4.87161537,  7.86905492,\n",
       "        7.14040641,  7.73876433,  6.04330866,  7.72701045,  8.0140322 ,\n",
       "        4.90954501,  5.34059186,  7.85287063,  7.17382576,  7.38955564,\n",
       "        4.86749711,  5.25249194,  5.29411146,  7.6091483 ,  7.97025217,\n",
       "        5.30562824,  7.95752876,  5.1142576 ,  7.27534078,  8.19788227,\n",
       "        7.34011975,  6.70442784,  8.32556417,  5.96963804,  6.77454139,\n",
       "        8.6661692 ,  7.22558711,  5.15765602,  5.10591056,  7.64840848,\n",
       "        5.81448603,  6.69027572,  5.33281277,  7.24779045,  3.93045824,\n",
       "        7.14578458,  6.02045524,  8.43814702,  4.89361047,  7.63495895,\n",
       "        3.20996744,  7.98920023,  2.79571944,  8.40339166,  7.83093511,\n",
       "        7.60494021,  7.91803951,  7.780935  ,  5.34524552,  7.73531625,\n",
       "        6.35401917,  6.96866175,  7.50712252,  4.47517402,  7.81616416,\n",
       "        7.32579678,  9.26943233,  8.57493406,  5.96843809,  5.89054228,\n",
       "        7.41967702,  5.99346093,  5.0011398 ,  7.11819466,  7.67764569,\n",
       "        4.85997946,  5.99860078,  5.38223367,  5.65752923,  6.04296342,\n",
       "        5.90113947,  8.33164043,  5.18106189,  5.16160881,  4.54407235,\n",
       "        5.62406702,  5.26048161,  7.81302586,  5.88196523,  8.11439708,\n",
       "        5.67510315,  7.58349684,  5.34886334,  7.96564014,  8.72324995,\n",
       "        5.59923011,  7.01176161,  6.66259696,  7.77833278,  5.9462355 ,\n",
       "        7.64539642,  5.88432658,  5.88953491,  7.06760517,  7.71735989,\n",
       "        5.7547513 ,  5.99577457,  5.2731121 ,  3.36125693,  9.27584845,\n",
       "        7.3049121 ,  7.68979371,  4.52383808,  9.36002212,  7.55891305,\n",
       "        7.86897187,  5.74168604,  4.87086453,  6.03642341, 11.76123825,\n",
       "        7.76288149,  2.90124492,  7.79548543,  7.28935332,  6.78166356,\n",
       "        5.15636784,  7.8558931 ,  5.98837786,  7.46645551,  8.03027777])"
      ]
     },
     "execution_count": 776,
     "metadata": {},
     "output_type": "execute_result"
    }
   ],
   "source": [
    "predict_lmk15_log = np.expm1(predict_lmk15_log)\n",
    "predict_lmk15_log"
   ]
  },
  {
   "cell_type": "code",
   "execution_count": 812,
   "metadata": {},
   "outputs": [
    {
     "data": {
      "text/plain": [
       "array([10.30603486, 11.97207369,  9.82122004,  8.68506152,  8.05089021,\n",
       "        7.84841417,  3.96704983,  7.29397492,  8.67479007,  9.42984578,\n",
       "        4.33125656,  8.77175426,  8.94627962,  4.02668351,  4.24632278,\n",
       "        5.4107805 ,  7.6391963 ,  4.21559786, 10.82980893,  5.36596372,\n",
       "        5.0390412 ,  7.97044316,  5.01568349,  6.27430756,  5.00923507,\n",
       "        5.93713141,  7.02446665,  7.97066514,  7.42921577,  7.07245761,\n",
       "        7.95137867,  6.151412  ,  9.75396169,  7.64544763,  7.86972036,\n",
       "        9.77994614, 10.8583205 , 11.27471357,  6.81882527,  6.38302596,\n",
       "        8.15290638,  7.84281847,  5.47375593,  5.51069267,  4.98171603,\n",
       "        4.78016087,  8.16318749,  4.87361682,  5.33138795,  7.78460318,\n",
       "        6.02351211,  5.41609511,  6.41831874, 13.85102999,  8.09740543,\n",
       "        5.82822255, 10.57363171,  8.82151922,  7.99010939,  6.05357948,\n",
       "        7.37728711, 11.22643612,  5.44906643,  9.15511536,  6.38075967,\n",
       "        6.64398537,  5.90207845,  4.71067329,  8.53641923,  6.91701066,\n",
       "        5.54437655,  4.24394954,  3.9991777 ,  7.86866048,  5.77587164,\n",
       "        4.39573225,  5.31378161,  9.12236283, 10.95982281,  5.45886236,\n",
       "        7.03102446,  8.16318749,  5.32657423,  4.96892582,  1.88458119,\n",
       "        6.42535885,  7.13364896, 11.24861568,  5.14408978,  5.90472876,\n",
       "        9.68580103,  9.60937352,  6.80882757,  6.46063477,  6.0116172 ,\n",
       "        5.70110068,  8.32074998,  9.21804617,  5.96999365,  4.98439233,\n",
       "       11.53609019,  5.51428747,  5.76993167,  7.66551047,  7.05974209,\n",
       "        8.60565174,  7.23172711,  3.07639442,  9.84053194,  8.19335423,\n",
       "        3.81323883,  5.47694756,  5.23217696,  4.17310942,  6.4323619 ,\n",
       "        9.84693819,  5.29177629, 10.236078  ,  4.23968958,  6.6796749 ,\n",
       "        5.27251269,  4.26271689,  9.57170568,  7.82749728,  8.65125807,\n",
       "        7.41198588,  4.12575743,  8.94092479,  9.75444964,  5.07983829,\n",
       "        7.16690925,  5.09931714,  9.1230241 ,  8.13534431,  5.86221   ,\n",
       "        5.3140614 ,  6.23995908,  7.30021148,  7.71193942,  4.8956128 ,\n",
       "        7.96033357,  8.43522801,  8.74307138,  4.5296145 ,  9.0209551 ,\n",
       "        5.91151958,  5.43108821,  7.64576124,  5.53141841,  8.04358343,\n",
       "        9.84682845,  8.34175367,  5.56632676,  7.90397704,  7.05006562,\n",
       "       11.08006743,  5.3133455 ,  4.23907374,  5.95671848,  5.97919011,\n",
       "        7.80723427,  9.84562126,  6.79373607,  8.52852545,  6.66267375,\n",
       "        8.53571511,  6.12595444,  7.09086078,  4.7129981 ,  7.13981023,\n",
       "        8.23190268,  7.00128554,  5.08093788, 10.62049134,  5.28130267,\n",
       "        5.47159155,  7.23773859,  4.95969225,  6.66694414,  7.38583683,\n",
       "        5.10266081,  4.59766303, 10.49586083,  7.11148681,  6.83831892,\n",
       "        4.59660812,  4.18914305,  9.79766707,  7.15475271,  6.03867067,\n",
       "        4.93240738,  8.8650326 ,  8.1896726 ,  4.25799858,  9.83376688,\n",
       "        7.32837243,  8.93381295,  5.41227949,  5.92956425,  7.84099632,\n",
       "        6.25048068,  6.91057043,  7.46728518,  2.16727606,  6.29537284,\n",
       "        7.82850096,  7.85439645,  6.27430756,  7.49310169,  8.0395915 ,\n",
       "        7.31138872, 12.86099445,  5.42517893,  6.41098605,  9.39222526,\n",
       "        4.95271037,  5.16859272,  5.32955504,  9.80779747,  7.1150678 ,\n",
       "        6.12976932,  4.92286675,  8.20585596, 10.94598991, 11.50598461,\n",
       "        7.00202603,  4.89889661,  5.95778448,  8.74649432,  4.96962754,\n",
       "        4.90033254, 10.17276194,  7.67640069,  5.94747607,  5.79169173,\n",
       "        5.38719277,  8.47529271,  8.72697967,  3.9607855 ,  5.01770097,\n",
       "        4.22094686,  5.21393236,  6.38774634,  7.76847894, 11.09094718,\n",
       "        6.89898079,  5.41335564,  7.67296389,  5.2999498 ,  9.31429002,\n",
       "        8.15553711,  9.61882812,  4.68060954,  4.96123331,  5.79858947,\n",
       "        7.86739328,  6.9463052 ,  8.80468958,  8.99549471,  8.44441429,\n",
       "       10.122658  , 10.1713631 ,  5.3887896 ,  5.31622433,  4.83685868,\n",
       "        7.08867114,  4.89433339,  5.75039113,  5.09614739,  5.88441136,\n",
       "        8.40627362,  5.88097307, 10.83462093,  2.22994931,  8.01267661,\n",
       "        9.6846581 ,  8.05679037,  5.91895697,  5.98888932,  7.93971676,\n",
       "        4.74300058,  6.85931873,  5.81528378,  4.15322944,  9.41195879,\n",
       "        7.95537424,  5.3113213 ,  5.93834904,  8.2409193 ,  8.32303523,\n",
       "        5.89027553,  5.17988737,  6.11750643,  5.99736485,  6.69324699,\n",
       "        6.96660183,  8.84580558,  7.81192048,  7.44642221,  5.54923234,\n",
       "        4.85210048,  5.2545862 ,  4.31102582,  6.15223064,  8.56396265,\n",
       "        9.26480827,  5.01770097,  3.96723067,  8.38064188,  6.86632515,\n",
       "        6.24978117,  7.4149222 ,  5.299369  ,  8.16174028, 10.24482991,\n",
       "        8.61784463,  5.35999693,  4.82252864,  5.71172102,  5.90525528,\n",
       "        5.34053444,  5.97878301,  4.73934788,  7.2138975 ,  8.38827031,\n",
       "        3.69560975,  7.30858791,  5.25061916, 10.75146159,  7.20680269,\n",
       "        5.01816739,  4.79315837,  9.20210665,  6.59280919,  8.2505791 ,\n",
       "        7.9228549 ,  8.42101427,  5.89282802,  7.35858259,  4.35316477,\n",
       "        6.54138868,  5.41740872,  8.67602614,  6.82634629,  9.28510267,\n",
       "        6.65269992,  8.26962064,  4.91718448,  7.61169349,  7.89135416,\n",
       "        6.89319493,  9.64794146,  7.67055321,  9.88449409,  6.52179629,\n",
       "        5.81260833,  5.2806502 ,  8.35022157,  8.62668433,  8.36047672,\n",
       "        6.92284973,  5.45692071,  7.7643875 ,  9.67320058,  6.12480851,\n",
       "        6.51965832,  7.43962212,  7.82503248,  5.66526739, 10.07457394,\n",
       "        7.95788117,  5.89282802,  5.37736637,  8.9806016 ,  5.87851095,\n",
       "        7.00528953,  8.14585482,  5.6621747 ,  7.67055321,  5.96766659,\n",
       "        6.51641475,  6.91121336,  6.98139983,  7.12566275,  3.11250338,\n",
       "        7.87389746,  6.09217959,  7.25260729,  3.5589597 ,  8.85190476,\n",
       "        6.79018108,  6.16602513,  9.12579435,  8.92678006,  6.16081166,\n",
       "        8.45603246,  5.7512978 ,  5.32861022,  7.33926935,  6.46024474,\n",
       "        5.21708318,  3.39748045,  9.96372733,  5.64158712,  6.45583339,\n",
       "        9.59916095,  4.97105977,  6.91612573,  7.96089504,  9.93341717,\n",
       "       10.2408638 ,  4.17310942,  6.1491877 ,  8.30374883,  9.41268222,\n",
       "        4.56305529,  9.68436401,  5.28045818,  9.8389262 ,  5.79333243,\n",
       "        4.50965521,  4.62754092,  7.85801546,  4.81091432,  5.60423961,\n",
       "        8.96047073,  8.08990614,  6.2396188 ,  8.63925693,  6.29555715,\n",
       "        9.94842245,  5.34881326,  7.19081008,  9.92729622,  5.94246229,\n",
       "        7.25902055,  4.93909976,  4.92257792,  6.44755458,  5.25806758,\n",
       "        7.87543819,  5.99367054,  9.81952248,  9.59113415,  8.7095126 ,\n",
       "       10.33768484,  5.33699939,  8.30047181,  8.23527755,  8.39546102,\n",
       "        9.65109586,  6.78559543,  9.51258569,  7.5519498 ,  6.19320922,\n",
       "        7.81429673,  8.09947745,  8.69631948,  4.22319189,  7.45347408,\n",
       "        4.78092568,  8.83396853,  4.88425275,  5.50258849,  7.85570954,\n",
       "        4.12466688,  4.6188187 ,  7.87510549,  5.09914829,  8.21593379,\n",
       "        7.93437055,  8.90608299,  5.10141118,  4.40414552,  6.12542836,\n",
       "        9.77808267, 10.21473757,  7.83575002,  5.84498679,  4.94298346,\n",
       "        5.40961888,  7.66737126,  4.60650509,  4.68156482,  7.99149582,\n",
       "        6.33669765,  8.444027  ,  3.53933876,  4.77258621,  7.83575002,\n",
       "        6.00998154,  6.13211094,  7.4021971 ,  7.66160118, 10.25744392,\n",
       "        6.66820049,  4.73003328,  8.17590661,  8.20813593,  9.34481455,\n",
       "        9.5086084 ,  6.9355135 ,  8.76606435,  9.03829172,  8.06336275,\n",
       "        9.85893969,  7.40764623,  5.92917158,  7.40206439,  5.26277791,\n",
       "        8.60565174,  6.94054988,  5.32079872,  4.22094686,  7.86467269,\n",
       "        8.70709599,  7.89137288,  6.5612812 ,  6.95235389,  4.92059656,\n",
       "        9.01797222,  4.80531391,  6.46839493,  5.73613503,  7.24679633,\n",
       "        5.38145544,  7.67640069,  6.8832809 ,  4.22319189,  9.76802205,\n",
       "        9.76738117,  5.1706621 ,  8.68270671,  7.35651623,  9.13240743,\n",
       "        8.60565174,  7.08704243,  5.84477106,  5.31055611,  8.63879946,\n",
       "        8.3263299 ,  7.97982643,  7.53236354,  8.36338628,  6.02276501,\n",
       "        5.72527795,  7.9684885 ,  6.81339811,  4.9276829 ,  6.80463972,\n",
       "        4.77578678,  5.91479214,  5.3366453 ,  8.15265995,  4.73720886,\n",
       "        5.58841928,  9.74946434,  7.24813985,  4.65232355,  5.26026218,\n",
       "        8.56582609,  7.83198505,  4.97733316,  5.97241434,  7.06976462,\n",
       "        4.93161733,  9.32737171,  6.25048068,  9.0456236 ,  8.70872763,\n",
       "        7.95537424,  5.28139346,  9.11678065,  7.87218486,  5.1138915 ,\n",
       "        5.87985339,  5.31947999,  3.73661993,  7.57361115, 11.02205121,\n",
       "        4.95099738,  5.26488197,  3.52012248,  5.93823831,  8.06997192,\n",
       "        8.14574436,  6.40406569, 11.06419924,  5.68563783,  6.4992233 ,\n",
       "        7.33370145,  7.05430501,  5.37226682,  6.88159836,  7.23174506,\n",
       "        5.35616543,  6.40259743,  5.82306821,  6.50984072,  6.1118675 ,\n",
       "        6.67382231,  6.11328796, 10.71653504,  8.51228267,  6.8811844 ,\n",
       "        2.61699468,  8.17121114,  7.60322938,  8.10854982,  9.03719829,\n",
       "        8.3465114 ,  7.86804841,  7.41749332,  4.35577545, 10.36973825,\n",
       "        5.69570715,  6.33652262, 11.15657969,  6.11061198,  7.57011413,\n",
       "        5.4221268 , 10.55140767,  8.11622135,  4.95771295,  5.2708551 ,\n",
       "        5.47375593,  5.38761113,  4.91714255,  6.70676172,  6.42531539,\n",
       "        6.37178597,  5.98979834,  4.89624299,  6.17524627,  6.10445722,\n",
       "        5.26952548,  9.06250178,  5.12017253,  4.21802316,  7.73376814,\n",
       "        6.81339811,  8.1290509 ,  7.99149582,  4.25918166, 10.93856533,\n",
       "        5.89527793,  6.65061724,  4.33339278,  9.37734671,  7.86713585,\n",
       "        5.13407074,  6.80747151,  6.45564208,  8.70434658,  4.28181554,\n",
       "        7.43962212,  4.80191944,  4.23555928,  5.86335135,  9.19804825,\n",
       "        5.35250649,  5.79952641,  5.32322151,  1.95919153, 10.7617775 ,\n",
       "        8.26572524,  7.23353257,  7.95437395, 11.27471357,  6.81213501,\n",
       "        9.76978395,  5.00992847,  4.81986763,  5.97584321, 10.8444325 ,\n",
       "        9.89399455,  3.81492678,  6.89354061,  7.29020648,  2.39176243,\n",
       "        3.50202034,  7.75785885,  5.38000203,  7.18875252,  7.22534729])"
      ]
     },
     "execution_count": 812,
     "metadata": {},
     "output_type": "execute_result"
    }
   ],
   "source": [
    "predict_logk15_rf = RF_log.predict(rflog_df)\n",
    "predict_logk15_rf"
   ]
  },
  {
   "cell_type": "code",
   "execution_count": 90,
   "metadata": {},
   "outputs": [
    {
     "data": {
      "text/plain": [
       "array([10.77012415, 11.84944815,  9.99040627,  8.58452078,  8.01349296,\n",
       "        4.44271106,  3.82214939,  7.44044599,  8.80662978,  9.42673768,\n",
       "        4.85813897,  5.47708576,  8.90806786,  4.22044048,  4.56355889,\n",
       "        6.10545547,  7.76769494,  4.51151136, 10.53720347,  6.12283425,\n",
       "        5.55570106,  4.77869706,  5.49629682,  7.86154593,  5.57250979,\n",
       "        6.29330505,  7.65009978,  7.9098432 ,  7.48798003,  7.09059434,\n",
       "        8.10718178,  5.61899149,  9.80986076,  7.66306194,  4.74674259,\n",
       "        9.77013755, 10.92565518, 11.18413824,  6.34806181,  6.42805053,\n",
       "        8.09832009,  7.98832964,  5.69699448,  6.20776586,  5.54795939,\n",
       "        5.07741379,  5.01144805,  5.51160805,  6.09136285,  4.679689  ,\n",
       "        1.51185252,  6.28885685,  6.47478013, 13.15662635,  8.4056205 ,\n",
       "        5.92746086, 10.85883971,  9.01352752,  7.95166017,  6.05117175,\n",
       "        7.34355576, 11.08801718,  6.17436129,  9.11555254,  6.34330491,\n",
       "        6.2153123 ,  6.86794543,  5.13187042,  5.40640926,  7.12883199,\n",
       "        5.66449134,  4.45493033,  3.73685164,  7.87630427,  6.75218037,\n",
       "        4.80533368,  6.16296989,  9.17051684, 10.95073298,  6.18105557,\n",
       "        6.82097274,  5.01144805,  6.04640752,  5.54452487,  1.42118379,\n",
       "        6.4292457 ,  7.49208869, 11.12880453,  4.84279074,  6.92810103,\n",
       "        9.59471987,  9.67461603,  7.26111764,  5.96603148,  5.94203468,\n",
       "        6.42237486,  8.15977056,  8.99954552,  6.95663445,  5.58146407,\n",
       "       11.1186656 ,  6.44080771,  5.57178629,  7.74249248,  7.09416379,\n",
       "        8.50056146,  7.7972627 ,  3.05112855,  9.93943785,  4.97430277,\n",
       "        4.01219041,  7.80331381,  6.0784616 ,  4.13020429,  6.82755961,\n",
       "        9.98674239,  5.31430791,  9.30803408,  4.43584862,  6.71425762,\n",
       "        6.02846958,  4.28256619,  9.72369796,  4.43102831,  8.69828539,\n",
       "        7.42164822,  4.31916993,  8.9905862 ,  9.8293808 ,  5.83795179,\n",
       "        7.85106602,  5.76145042,  9.23167433,  8.47443115,  1.34935466,\n",
       "        6.13321964,  7.87545709,  7.11707287,  7.77594775,  5.26077329,\n",
       "        7.89367575,  5.53356743,  8.83552799,  4.90247265,  9.05768911,\n",
       "        6.74416003,  5.41716126,  7.70497945,  5.69851357,  8.16942182,\n",
       "        9.88977764,  8.23335212,  5.20162458,  8.13589702,  7.16228938,\n",
       "       11.09587014,  5.5623496 ,  4.5964325 ,  5.96702585,  5.95144371,\n",
       "        8.04505587,  9.83553472,  7.11087582,  8.45585927,  7.33223432,\n",
       "        8.39668562,  7.87345505,  7.30839438,  5.10252115,  7.62420204,\n",
       "        8.62773972,  6.79032951,  5.05047011, 10.84767094,  6.00862289,\n",
       "        5.0019074 ,  7.08912095,  5.53780313,  6.19800986,  7.03986363,\n",
       "        5.09072796,  2.89482123, 10.26362905,  7.51787959,  7.24529489,\n",
       "        2.82106637,  4.25405621,  9.77418869,  7.03130113,  6.03122536,\n",
       "        5.54556404,  8.90506067,  5.01551728,  4.56190366,  9.79773607,\n",
       "        7.58458375,  8.86108832,  6.7106393 ,  5.97626702,  8.06357138,\n",
       "        7.57873984,  2.66839335,  8.07205649,  1.73583981,  6.45748324,\n",
       "        4.38156314,  8.12262606,  7.86154593,  7.47961131,  8.38671767,\n",
       "        7.44748562, 12.14983224,  5.52054486,  6.4492946 ,  9.53457057,\n",
       "        5.56458975,  5.83511614,  5.32945726,  9.87201393,  7.51596304,\n",
       "        5.59434964,  5.21432278,  8.32329482, 11.15158225, 11.60880583,\n",
       "        6.67257555,  5.91189072,  5.50011531,  8.75593324,  5.59494367,\n",
       "        4.79033737, 10.2226018 ,  7.65081308,  5.64654578,  6.65635922,\n",
       "        6.11815145,  8.71280333,  8.70563884,  4.11301553,  5.3496381 ,\n",
       "        4.45419443,  5.25555715,  6.62187843,  8.0379822 , 11.1383762 ,\n",
       "        7.02005632,  5.2919522 ,  7.74577215,  5.29395447,  9.28729099,\n",
       "        8.18674538,  9.69236943,  5.2305362 ,  4.9914382 ,  6.65172206,\n",
       "        4.54034533,  7.13173384,  8.87639666,  8.86075048,  8.42218104,\n",
       "       10.11879584, 10.55756619,  6.15326371,  6.01158524,  5.00913787,\n",
       "        7.40569974,  5.17988267,  6.41948234,  5.4197964 ,  6.66259216,\n",
       "        8.50549936,  6.61133113, 10.77862978,  2.54065026,  8.07174871,\n",
       "        9.91930378,  4.97825002,  6.72989907,  6.02542662,  7.87192148,\n",
       "        5.2499942 ,  6.8542628 ,  5.62465667,  4.39701656,  9.39296528,\n",
       "        4.59209256,  5.94591312,  5.6384986 ,  8.15055237,  8.36949709,\n",
       "        5.88279296,  5.94189599,  5.8025695 ,  1.40556603,  6.86268182,\n",
       "        7.01978218,  8.84595115,  7.80870655,  8.19169617,  6.44389258,\n",
       "        5.47378539,  5.96290864,  4.40482445,  6.2942327 ,  8.70815989,\n",
       "        8.73750872,  5.34336067,  3.99390019,  8.35611707,  6.07339325,\n",
       "        6.46057574,  7.39257177,  5.30826378,  8.50395281, 10.64180571,\n",
       "        8.45690786,  6.1539654 ,  5.40127561,  6.02332405,  6.79853751,\n",
       "        6.16133845,  6.6661036 ,  4.75724741,  7.7593591 ,  5.01339462,\n",
       "        3.88972055,  7.09654567,  6.06616802, 10.46625497,  7.61712253,\n",
       "        5.5151945 ,  5.13204246,  8.91038193,  6.56410298,  8.2333442 ,\n",
       "        8.01506489,  8.62735108,  6.75183948,  7.57176172,  4.65479215,\n",
       "        6.87628886,  5.457119  ,  8.7975181 ,  6.96151606,  9.46780776,\n",
       "        6.84594639,  8.75571626,  5.15977957,  7.91865936,  8.17057883,\n",
       "        7.25151074,  9.57577121,  7.69716463,  9.41945488,  6.3950347 ,\n",
       "        6.6438887 ,  5.94851635,  8.67092963,  8.51062841,  8.31578529,\n",
       "        6.94214488,  6.29700177,  7.72147825,  9.4643084 ,  6.11775911,\n",
       "        6.79123561,  7.53340555,  7.47039579,  6.03599808, 10.32783261,\n",
       "        4.60364529,  6.79580501,  6.13344283,  9.10057859,  6.6075341 ,\n",
       "        7.0615023 ,  4.90793143,  6.41271946,  7.69716463,  6.85004015,\n",
       "        6.91032467,  7.07768646,  6.99753953,  7.13831585,  2.97661754,\n",
       "        7.9738244 ,  6.06103629,  7.99183002,  3.57156701,  8.94413592,\n",
       "        6.71711446,  6.3213835 ,  9.18190681,  8.7744177 ,  1.87992275,\n",
       "        8.35027657,  6.57008075,  7.27069683,  7.40345953,  6.5585736 ,\n",
       "        5.87594202,  3.33221729, 10.22703299,  5.66767889,  6.09157011,\n",
       "        9.33417073,  4.95209465,  7.43207937,  4.62530617,  9.78860719,\n",
       "       10.22465057,  4.13284486,  6.22539829,  8.31021369,  9.25827998,\n",
       "        4.6425114 ,  9.48756848,  5.32078657, 10.01081637,  6.64673881,\n",
       "        4.9731776 ,  4.94437241,  7.63689125,  5.27705601,  6.51860534,\n",
       "        8.87845821,  8.15882144,  7.83247408,  8.70558909,  6.62579304,\n",
       "       10.24325314,  7.66013624,  7.31065786,  9.84083339,  6.82505298,\n",
       "        7.78852795,  4.61613138,  5.55313502,  6.56121495,  6.02558459,\n",
       "        7.87289146,  5.98089064,  9.9478905 ,  9.90403513,  8.89393852,\n",
       "       10.272236  ,  7.35518367,  8.29568687,  8.21200607,  8.44619899,\n",
       "        9.96942324,  7.10552388,  9.45814098,  7.9601798 ,  6.31146842,\n",
       "        8.06861968,  8.02883801,  8.79407069,  4.44001895,  7.46462045,\n",
       "        5.04073922,  8.73674892,  5.54243717,  6.27081531,  7.96048008,\n",
       "        4.18992388,  4.9073796 ,  7.62289786,  5.59422349,  8.2672557 ,\n",
       "        7.85565933,  8.9011117 ,  5.63234818,  4.69511726,  5.66283131,\n",
       "       10.02128768, 10.15443474,  4.07293219,  6.6933824 ,  5.54155714,\n",
       "        5.00936171,  7.62625148,  4.71297425,  4.81563412,  7.99587711,\n",
       "        6.47304799,  8.3404206 ,  3.51666977,  5.36343876,  4.06073735,\n",
       "        5.4382894 ,  7.00685851,  7.46298017,  7.76561384, 10.23830535,\n",
       "        6.78322131,  4.71364914,  8.24959765,  8.1590099 ,  8.72748572,\n",
       "        9.68085752,  9.36900233,  8.70497373,  9.11398738,  8.10632981,\n",
       "       10.00922789,  7.47703008,  6.86239316,  7.63629175,  5.18844604,\n",
       "        8.50056146,  7.12222054,  6.06687616,  4.4261737 ,  7.82712982,\n",
       "        8.69000903,  7.97757482,  6.6738649 ,  7.64586468,  4.81532289,\n",
       "        9.21576769,  5.25306869,  6.49451339,  6.72026117,  7.27197681,\n",
       "        7.94310608,  7.65081308,  2.64542258,  4.4432499 ,  9.66227912,\n",
       "        9.72867214,  5.45793951,  8.60864565,  7.51964345,  9.1373411 ,\n",
       "        8.50056146,  7.10302332,  5.95044443,  6.21292027,  8.62048086,\n",
       "        8.11496251,  4.87955326,  7.47189229,  8.92058404,  7.34803359,\n",
       "        6.26004359,  7.88659028,  6.32733954,  5.28673281,  7.00183094,\n",
       "        5.23937513,  5.9214788 ,  6.13980755,  4.74038831,  5.25272906,\n",
       "        5.85948553,  9.93762617,  7.07050942,  5.05588261,  5.84038059,\n",
       "        8.62538289,  4.60325545,  5.50751187,  5.43640842,  7.06789113,\n",
       "        5.02093634,  9.44248388,  7.57873984,  9.07731621,  8.73519032,\n",
       "        4.59209256,  5.99970044,  9.13217384,  7.96843232,  5.13022804,\n",
       "        5.86327006,  6.16337665,  3.80321232,  7.51913742, 11.08083113,\n",
       "        5.55089615,  5.26689484,  3.49266396,  6.3357161 ,  8.55168034,\n",
       "        8.2050831 ,  6.70335996, 11.13680564,  6.52123869,  7.12277681,\n",
       "        8.24304256,  7.06804605,  6.19809253,  6.18403895,  7.24115172,\n",
       "        6.10364923,  6.4484397 ,  6.65612645,  7.14477192,  5.63101844,\n",
       "        6.75553654,  7.29642997, 10.43988409,  8.50792135,  7.46482712,\n",
       "        2.20237789,  7.96646194,  4.0252056 ,  8.33637658,  9.05277777,\n",
       "        8.72789859,  8.13309391,  7.54584153,  4.63392854, 10.63873121,\n",
       "        5.79382138,  6.53129867, 10.9503623 ,  5.59985966,  7.6228508 ,\n",
       "        5.50290261, 10.29585292,  8.15520513,  5.56002497,  6.11423547,\n",
       "        5.69699448,  6.10564829,  4.51562053,  7.12572515,  6.3008478 ,\n",
       "        5.79158495,  6.93663803,  5.27799964,  5.78562706,  7.18901549,\n",
       "        6.00090728,  9.04307144,  5.83744032,  4.42349825,  7.93774297,\n",
       "        6.22380289,  4.93563441,  7.99587711,  4.47422489, 11.20511775,\n",
       "        6.52101561,  7.01942197,  4.5586443 ,  9.28459162,  7.81909076,\n",
       "        5.54891242,  7.16723067,  6.55415523,  8.64180032,  4.4889696 ,\n",
       "        7.53340555,  4.75267074,  4.49109289,  6.09434823,  9.38933308,\n",
       "        6.16727068,  6.66727089,  6.11905831,  1.56540135, 10.69958464,\n",
       "        8.23346824,  7.38539263,  4.81451996, 11.19680143,  7.02691966,\n",
       "        9.74761157,  5.48001159,  5.12641726,  7.01382274, 10.64455666,\n",
       "        9.94656288,  3.10281817,  6.69663672,  7.75773741,  2.76208848,\n",
       "        3.49455482,  8.5203302 ,  6.09904452,  7.25330568,  7.35495293])"
      ]
     },
     "execution_count": 90,
     "metadata": {},
     "output_type": "execute_result"
    }
   ],
   "source": [
    "predict_kb100_rf = RF.predict(test_kbest_rf)\n",
    "predict_kb100_rf"
   ]
  },
  {
   "cell_type": "markdown",
   "metadata": {},
   "source": [
    "## Submission\n",
    "\n"
   ]
  },
  {
   "cell_type": "code",
   "execution_count": 100,
   "metadata": {},
   "outputs": [],
   "source": [
    "submission = pd.DataFrame(\n",
    "    {'Index': test_index,\n",
    "     'ave_price_per_kg': predictions\n",
    "    })"
   ]
  },
  {
   "cell_type": "code",
   "execution_count": 101,
   "metadata": {},
   "outputs": [
    {
     "data": {
      "text/html": [
       "<div>\n",
       "<style scoped>\n",
       "    .dataframe tbody tr th:only-of-type {\n",
       "        vertical-align: middle;\n",
       "    }\n",
       "\n",
       "    .dataframe tbody tr th {\n",
       "        vertical-align: top;\n",
       "    }\n",
       "\n",
       "    .dataframe thead th {\n",
       "        text-align: right;\n",
       "    }\n",
       "</style>\n",
       "<table border=\"1\" class=\"dataframe\">\n",
       "  <thead>\n",
       "    <tr style=\"text-align: right;\">\n",
       "      <th></th>\n",
       "      <th>Index</th>\n",
       "      <th>Price</th>\n",
       "    </tr>\n",
       "  </thead>\n",
       "  <tbody>\n",
       "    <tr>\n",
       "      <th>0</th>\n",
       "      <td>1</td>\n",
       "      <td>9.181884</td>\n",
       "    </tr>\n",
       "    <tr>\n",
       "      <th>1</th>\n",
       "      <td>2</td>\n",
       "      <td>10.274948</td>\n",
       "    </tr>\n",
       "    <tr>\n",
       "      <th>2</th>\n",
       "      <td>3</td>\n",
       "      <td>8.576591</td>\n",
       "    </tr>\n",
       "    <tr>\n",
       "      <th>3</th>\n",
       "      <td>4</td>\n",
       "      <td>7.704834</td>\n",
       "    </tr>\n",
       "    <tr>\n",
       "      <th>4</th>\n",
       "      <td>5</td>\n",
       "      <td>7.255203</td>\n",
       "    </tr>\n",
       "  </tbody>\n",
       "</table>\n",
       "</div>"
      ],
      "text/plain": [
       "   Index      Price\n",
       "0      1   9.181884\n",
       "1      2  10.274948\n",
       "2      3   8.576591\n",
       "3      4   7.704834\n",
       "4      5   7.255203"
      ]
     },
     "execution_count": 101,
     "metadata": {},
     "output_type": "execute_result"
    }
   ],
   "source": [
    "submission.head()"
   ]
  },
  {
   "cell_type": "code",
   "execution_count": 164,
   "metadata": {},
   "outputs": [],
   "source": [
    "# save DataFrame to csv file for submission\n",
    "submission.to_csv(\"Team_TS5_Regression.csv\", index=False)"
   ]
  },
  {
   "cell_type": "code",
   "execution_count": 96,
   "metadata": {},
   "outputs": [],
   "source": [
    "submission2 = pd.DataFrame(\n",
    "    {'Index': test_index,\n",
    "     'avg_price_per_kg': predict2\n",
    "    })"
   ]
  },
  {
   "cell_type": "code",
   "execution_count": 97,
   "metadata": {},
   "outputs": [
    {
     "data": {
      "text/html": [
       "<div>\n",
       "<style scoped>\n",
       "    .dataframe tbody tr th:only-of-type {\n",
       "        vertical-align: middle;\n",
       "    }\n",
       "\n",
       "    .dataframe tbody tr th {\n",
       "        vertical-align: top;\n",
       "    }\n",
       "\n",
       "    .dataframe thead th {\n",
       "        text-align: right;\n",
       "    }\n",
       "</style>\n",
       "<table border=\"1\" class=\"dataframe\">\n",
       "  <thead>\n",
       "    <tr style=\"text-align: right;\">\n",
       "      <th></th>\n",
       "      <th>Index</th>\n",
       "      <th>avg_price_per_kg</th>\n",
       "    </tr>\n",
       "  </thead>\n",
       "  <tbody>\n",
       "    <tr>\n",
       "      <th>680</th>\n",
       "      <td>681</td>\n",
       "      <td>5.731757</td>\n",
       "    </tr>\n",
       "    <tr>\n",
       "      <th>681</th>\n",
       "      <td>682</td>\n",
       "      <td>8.085623</td>\n",
       "    </tr>\n",
       "    <tr>\n",
       "      <th>682</th>\n",
       "      <td>683</td>\n",
       "      <td>5.135878</td>\n",
       "    </tr>\n",
       "    <tr>\n",
       "      <th>683</th>\n",
       "      <td>684</td>\n",
       "      <td>8.044346</td>\n",
       "    </tr>\n",
       "    <tr>\n",
       "      <th>684</th>\n",
       "      <td>685</td>\n",
       "      <td>7.800376</td>\n",
       "    </tr>\n",
       "  </tbody>\n",
       "</table>\n",
       "</div>"
      ],
      "text/plain": [
       "     Index  avg_price_per_kg\n",
       "680    681          5.731757\n",
       "681    682          8.085623\n",
       "682    683          5.135878\n",
       "683    684          8.044346\n",
       "684    685          7.800376"
      ]
     },
     "execution_count": 97,
     "metadata": {},
     "output_type": "execute_result"
    }
   ],
   "source": [
    "submission2.tail()"
   ]
  },
  {
   "cell_type": "code",
   "execution_count": 98,
   "metadata": {},
   "outputs": [],
   "source": [
    "# save DataFrame to csv file for submission\n",
    "submission2.to_csv(\"Team_TS5_Regression.csv\", index=False)"
   ]
  },
  {
   "cell_type": "code",
   "execution_count": 180,
   "metadata": {},
   "outputs": [],
   "source": [
    "submission_rf_kbest15 = pd.DataFrame({'Index': test_index,'avg_price_per_kg':predict_rf})"
   ]
  },
  {
   "cell_type": "code",
   "execution_count": 181,
   "metadata": {},
   "outputs": [
    {
     "data": {
      "text/html": [
       "<div>\n",
       "<style scoped>\n",
       "    .dataframe tbody tr th:only-of-type {\n",
       "        vertical-align: middle;\n",
       "    }\n",
       "\n",
       "    .dataframe tbody tr th {\n",
       "        vertical-align: top;\n",
       "    }\n",
       "\n",
       "    .dataframe thead th {\n",
       "        text-align: right;\n",
       "    }\n",
       "</style>\n",
       "<table border=\"1\" class=\"dataframe\">\n",
       "  <thead>\n",
       "    <tr style=\"text-align: right;\">\n",
       "      <th></th>\n",
       "      <th>Index</th>\n",
       "      <th>avg_price_per_kg</th>\n",
       "    </tr>\n",
       "  </thead>\n",
       "  <tbody>\n",
       "    <tr>\n",
       "      <th>680</th>\n",
       "      <td>681</td>\n",
       "      <td>3.516637</td>\n",
       "    </tr>\n",
       "    <tr>\n",
       "      <th>681</th>\n",
       "      <td>682</td>\n",
       "      <td>8.286924</td>\n",
       "    </tr>\n",
       "    <tr>\n",
       "      <th>682</th>\n",
       "      <td>683</td>\n",
       "      <td>6.126417</td>\n",
       "    </tr>\n",
       "    <tr>\n",
       "      <th>683</th>\n",
       "      <td>684</td>\n",
       "      <td>7.353712</td>\n",
       "    </tr>\n",
       "    <tr>\n",
       "      <th>684</th>\n",
       "      <td>685</td>\n",
       "      <td>7.344142</td>\n",
       "    </tr>\n",
       "  </tbody>\n",
       "</table>\n",
       "</div>"
      ],
      "text/plain": [
       "     Index  avg_price_per_kg\n",
       "680    681          3.516637\n",
       "681    682          8.286924\n",
       "682    683          6.126417\n",
       "683    684          7.353712\n",
       "684    685          7.344142"
      ]
     },
     "execution_count": 181,
     "metadata": {},
     "output_type": "execute_result"
    }
   ],
   "source": [
    "submission_rf_kbest15.tail()"
   ]
  },
  {
   "cell_type": "code",
   "execution_count": 182,
   "metadata": {},
   "outputs": [],
   "source": [
    "submission_rf_kbest15.to_csv('Team_TS5_Regression_kbest15.csv', index=False)"
   ]
  },
  {
   "cell_type": "markdown",
   "metadata": {},
   "source": [
    "submission for linear model, y log transformed, kbest=100"
   ]
  },
  {
   "cell_type": "code",
   "execution_count": 760,
   "metadata": {},
   "outputs": [],
   "source": [
    "submission_lmlog_kbest100 = pd.DataFrame({'Index': test_index,'avg_price_per_kg':predict_lm_log})"
   ]
  },
  {
   "cell_type": "code",
   "execution_count": 761,
   "metadata": {},
   "outputs": [
    {
     "data": {
      "text/html": [
       "<div>\n",
       "<style scoped>\n",
       "    .dataframe tbody tr th:only-of-type {\n",
       "        vertical-align: middle;\n",
       "    }\n",
       "\n",
       "    .dataframe tbody tr th {\n",
       "        vertical-align: top;\n",
       "    }\n",
       "\n",
       "    .dataframe thead th {\n",
       "        text-align: right;\n",
       "    }\n",
       "</style>\n",
       "<table border=\"1\" class=\"dataframe\">\n",
       "  <thead>\n",
       "    <tr style=\"text-align: right;\">\n",
       "      <th></th>\n",
       "      <th>Index</th>\n",
       "      <th>avg_price_per_kg</th>\n",
       "    </tr>\n",
       "  </thead>\n",
       "  <tbody>\n",
       "    <tr>\n",
       "      <th>680</th>\n",
       "      <td>681</td>\n",
       "      <td>5.818328</td>\n",
       "    </tr>\n",
       "    <tr>\n",
       "      <th>681</th>\n",
       "      <td>682</td>\n",
       "      <td>8.307610</td>\n",
       "    </tr>\n",
       "    <tr>\n",
       "      <th>682</th>\n",
       "      <td>683</td>\n",
       "      <td>5.173857</td>\n",
       "    </tr>\n",
       "    <tr>\n",
       "      <th>683</th>\n",
       "      <td>684</td>\n",
       "      <td>8.060588</td>\n",
       "    </tr>\n",
       "    <tr>\n",
       "      <th>684</th>\n",
       "      <td>685</td>\n",
       "      <td>7.182324</td>\n",
       "    </tr>\n",
       "  </tbody>\n",
       "</table>\n",
       "</div>"
      ],
      "text/plain": [
       "     Index  avg_price_per_kg\n",
       "680    681          5.818328\n",
       "681    682          8.307610\n",
       "682    683          5.173857\n",
       "683    684          8.060588\n",
       "684    685          7.182324"
      ]
     },
     "execution_count": 761,
     "metadata": {},
     "output_type": "execute_result"
    }
   ],
   "source": [
    "submission_lmlog_kbest100.tail()"
   ]
  },
  {
   "cell_type": "code",
   "execution_count": 762,
   "metadata": {},
   "outputs": [],
   "source": [
    "submission_lmlog_kbest100.to_csv('Team_TS5_Regression_kbest100_lmlog.csv', index=False)"
   ]
  },
  {
   "cell_type": "code",
   "execution_count": 778,
   "metadata": {},
   "outputs": [],
   "source": [
    "sub_lmlog_kbest15 = pd.DataFrame({'Index': test_index,'avg_price_per_kg':predict_lmk15_log})"
   ]
  },
  {
   "cell_type": "code",
   "execution_count": 779,
   "metadata": {},
   "outputs": [
    {
     "data": {
      "text/html": [
       "<div>\n",
       "<style scoped>\n",
       "    .dataframe tbody tr th:only-of-type {\n",
       "        vertical-align: middle;\n",
       "    }\n",
       "\n",
       "    .dataframe tbody tr th {\n",
       "        vertical-align: top;\n",
       "    }\n",
       "\n",
       "    .dataframe thead th {\n",
       "        text-align: right;\n",
       "    }\n",
       "</style>\n",
       "<table border=\"1\" class=\"dataframe\">\n",
       "  <thead>\n",
       "    <tr style=\"text-align: right;\">\n",
       "      <th></th>\n",
       "      <th>Index</th>\n",
       "      <th>avg_price_per_kg</th>\n",
       "    </tr>\n",
       "  </thead>\n",
       "  <tbody>\n",
       "    <tr>\n",
       "      <th>680</th>\n",
       "      <td>681</td>\n",
       "      <td>5.156368</td>\n",
       "    </tr>\n",
       "    <tr>\n",
       "      <th>681</th>\n",
       "      <td>682</td>\n",
       "      <td>7.855893</td>\n",
       "    </tr>\n",
       "    <tr>\n",
       "      <th>682</th>\n",
       "      <td>683</td>\n",
       "      <td>5.988378</td>\n",
       "    </tr>\n",
       "    <tr>\n",
       "      <th>683</th>\n",
       "      <td>684</td>\n",
       "      <td>7.466456</td>\n",
       "    </tr>\n",
       "    <tr>\n",
       "      <th>684</th>\n",
       "      <td>685</td>\n",
       "      <td>8.030278</td>\n",
       "    </tr>\n",
       "  </tbody>\n",
       "</table>\n",
       "</div>"
      ],
      "text/plain": [
       "     Index  avg_price_per_kg\n",
       "680    681          5.156368\n",
       "681    682          7.855893\n",
       "682    683          5.988378\n",
       "683    684          7.466456\n",
       "684    685          8.030278"
      ]
     },
     "execution_count": 779,
     "metadata": {},
     "output_type": "execute_result"
    }
   ],
   "source": [
    "sub_lmlog_kbest15.tail()"
   ]
  },
  {
   "cell_type": "code",
   "execution_count": 782,
   "metadata": {},
   "outputs": [],
   "source": [
    "sub_lmlog_kbest15.to_csv('TS5_kbest15_lmlog.csv',index=False)"
   ]
  },
  {
   "cell_type": "markdown",
   "metadata": {},
   "source": [
    "submission for random forest model, bestk = 15, log on x variables numeric"
   ]
  },
  {
   "cell_type": "code",
   "execution_count": 813,
   "metadata": {},
   "outputs": [],
   "source": [
    "sub_rflog_kbest15 = pd.DataFrame({'Index': test_index,'avg_price_per_kg':predict_logk15_rf})"
   ]
  },
  {
   "cell_type": "code",
   "execution_count": 814,
   "metadata": {},
   "outputs": [
    {
     "data": {
      "text/html": [
       "<div>\n",
       "<style scoped>\n",
       "    .dataframe tbody tr th:only-of-type {\n",
       "        vertical-align: middle;\n",
       "    }\n",
       "\n",
       "    .dataframe tbody tr th {\n",
       "        vertical-align: top;\n",
       "    }\n",
       "\n",
       "    .dataframe thead th {\n",
       "        text-align: right;\n",
       "    }\n",
       "</style>\n",
       "<table border=\"1\" class=\"dataframe\">\n",
       "  <thead>\n",
       "    <tr style=\"text-align: right;\">\n",
       "      <th></th>\n",
       "      <th>Index</th>\n",
       "      <th>avg_price_per_kg</th>\n",
       "    </tr>\n",
       "  </thead>\n",
       "  <tbody>\n",
       "    <tr>\n",
       "      <th>680</th>\n",
       "      <td>681</td>\n",
       "      <td>3.502020</td>\n",
       "    </tr>\n",
       "    <tr>\n",
       "      <th>681</th>\n",
       "      <td>682</td>\n",
       "      <td>7.757859</td>\n",
       "    </tr>\n",
       "    <tr>\n",
       "      <th>682</th>\n",
       "      <td>683</td>\n",
       "      <td>5.380002</td>\n",
       "    </tr>\n",
       "    <tr>\n",
       "      <th>683</th>\n",
       "      <td>684</td>\n",
       "      <td>7.188753</td>\n",
       "    </tr>\n",
       "    <tr>\n",
       "      <th>684</th>\n",
       "      <td>685</td>\n",
       "      <td>7.225347</td>\n",
       "    </tr>\n",
       "  </tbody>\n",
       "</table>\n",
       "</div>"
      ],
      "text/plain": [
       "     Index  avg_price_per_kg\n",
       "680    681          3.502020\n",
       "681    682          7.757859\n",
       "682    683          5.380002\n",
       "683    684          7.188753\n",
       "684    685          7.225347"
      ]
     },
     "execution_count": 814,
     "metadata": {},
     "output_type": "execute_result"
    }
   ],
   "source": [
    "sub_rflog_kbest15.tail()"
   ]
  },
  {
   "cell_type": "code",
   "execution_count": 815,
   "metadata": {},
   "outputs": [],
   "source": [
    "sub_rflog_kbest15.to_csv('TS5_kbest15_rflog.csv',index=False)"
   ]
  },
  {
   "cell_type": "code",
   "execution_count": null,
   "metadata": {},
   "outputs": [],
   "source": []
  },
  {
   "cell_type": "code",
   "execution_count": 91,
   "metadata": {},
   "outputs": [],
   "source": [
    "sub_rf_kbest100 = pd.DataFrame({'Index': test_index,'avg_price_per_kg':predict_kb100_rf})"
   ]
  },
  {
   "cell_type": "code",
   "execution_count": 92,
   "metadata": {},
   "outputs": [
    {
     "data": {
      "text/html": [
       "<div>\n",
       "<style scoped>\n",
       "    .dataframe tbody tr th:only-of-type {\n",
       "        vertical-align: middle;\n",
       "    }\n",
       "\n",
       "    .dataframe tbody tr th {\n",
       "        vertical-align: top;\n",
       "    }\n",
       "\n",
       "    .dataframe thead th {\n",
       "        text-align: right;\n",
       "    }\n",
       "</style>\n",
       "<table border=\"1\" class=\"dataframe\">\n",
       "  <thead>\n",
       "    <tr style=\"text-align: right;\">\n",
       "      <th></th>\n",
       "      <th>Index</th>\n",
       "      <th>avg_price_per_kg</th>\n",
       "    </tr>\n",
       "  </thead>\n",
       "  <tbody>\n",
       "    <tr>\n",
       "      <th>680</th>\n",
       "      <td>681</td>\n",
       "      <td>3.494555</td>\n",
       "    </tr>\n",
       "    <tr>\n",
       "      <th>681</th>\n",
       "      <td>682</td>\n",
       "      <td>8.520330</td>\n",
       "    </tr>\n",
       "    <tr>\n",
       "      <th>682</th>\n",
       "      <td>683</td>\n",
       "      <td>6.099045</td>\n",
       "    </tr>\n",
       "    <tr>\n",
       "      <th>683</th>\n",
       "      <td>684</td>\n",
       "      <td>7.253306</td>\n",
       "    </tr>\n",
       "    <tr>\n",
       "      <th>684</th>\n",
       "      <td>685</td>\n",
       "      <td>7.354953</td>\n",
       "    </tr>\n",
       "  </tbody>\n",
       "</table>\n",
       "</div>"
      ],
      "text/plain": [
       "     Index  avg_price_per_kg\n",
       "680    681          3.494555\n",
       "681    682          8.520330\n",
       "682    683          6.099045\n",
       "683    684          7.253306\n",
       "684    685          7.354953"
      ]
     },
     "execution_count": 92,
     "metadata": {},
     "output_type": "execute_result"
    }
   ],
   "source": [
    "sub_rf_kbest100.tail()"
   ]
  },
  {
   "cell_type": "code",
   "execution_count": 93,
   "metadata": {},
   "outputs": [],
   "source": [
    "sub_rf_kbest100.to_csv('TS5_kbest100_rf.csv',index=False)"
   ]
  },
  {
   "cell_type": "code",
   "execution_count": 29,
   "metadata": {},
   "outputs": [],
   "source": [
    "import pickle\n",
    "\n",
    "model_save_path = \"lin_mod.pkl\"\n",
    "with open(model_save_path,'wb') as file:\n",
    "    pickle.dump(lm,file)"
   ]
  },
  {
   "cell_type": "code",
   "execution_count": null,
   "metadata": {},
   "outputs": [],
   "source": []
  },
  {
   "cell_type": "markdown",
   "metadata": {},
   "source": [
    "## Conclusion"
   ]
  },
  {
   "cell_type": "code",
   "execution_count": null,
   "metadata": {},
   "outputs": [],
   "source": []
  }
 ],
 "metadata": {
  "kernelspec": {
   "display_name": "Python 3",
   "language": "python",
   "name": "python3"
  },
  "language_info": {
   "codemirror_mode": {
    "name": "ipython",
    "version": 3
   },
   "file_extension": ".py",
   "mimetype": "text/x-python",
   "name": "python",
   "nbconvert_exporter": "python",
   "pygments_lexer": "ipython3",
   "version": "3.7.3"
  }
 },
 "nbformat": 4,
 "nbformat_minor": 2
}
